{
 "cells": [
  {
   "cell_type": "code",
   "execution_count": 8,
   "id": "952847d1",
   "metadata": {},
   "outputs": [],
   "source": [
    "# import mysql.connector\n",
    "# abc=mysql.connector.connect(\n",
    "#     host='localhost',\n",
    "#     username='root',\n",
    "#     password='Amol@2538',\n",
    "#     database='amol'\n",
    "# )\n",
    "# print(abc)\n",
    "\n",
    "# obj=abc.curser()\n",
    "\n",
    "# obj.execute('')\n",
    "# abc.close()"
   ]
  },
  {
   "cell_type": "code",
   "execution_count": null,
   "id": "9dd19312",
   "metadata": {},
   "outputs": [],
   "source": []
  }
 ],
 "metadata": {
  "kernelspec": {
   "display_name": "Python 3 (ipykernel)",
   "language": "python",
   "name": "python3"
  },
  "language_info": {
   "codemirror_mode": {
    "name": "ipython",
    "version": 3
   },
   "file_extension": ".py",
   "mimetype": "text/x-python",
   "name": "python",
   "nbconvert_exporter": "python",
   "pygments_lexer": "ipython3",
   "version": "3.10.5"
  }
 },
 "nbformat": 4,
 "nbformat_minor": 5
}
