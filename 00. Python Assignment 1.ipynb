{
 "cells": [
  {
   "cell_type": "code",
   "execution_count": 2,
   "id": "40dfbeb1",
   "metadata": {},
   "outputs": [
    {
     "name": "stdout",
     "output_type": "stream",
     "text": [
      "number :  5\n",
      "Factorial :  120\n",
      "Enter number:4\n",
      "Factorial of the number is: \n",
      "24\n"
     ]
    }
   ],
   "source": [
    "# 1. Python Program for factorial of a number with and without recursion\n",
    "\n",
    "# What is Recursion? :- The process in which a function calls itself directly or indirectly is called recursion and \n",
    "                     # the corresponding function is called a recursive function\n",
    "\n",
    "# n! = n*(n-1)*(n-2)*(n-3)*....*1\n",
    "\n",
    "# With\n",
    "\n",
    "def factorial(n): \n",
    "      \n",
    "    # Checking the number\n",
    "    # is 1 or 0 then\n",
    "    # return 1\n",
    "    # other wise return\n",
    "    # factorial\n",
    "    if (n==1 or n==0):\n",
    "          \n",
    "        return 1\n",
    "      \n",
    "    else:\n",
    "          \n",
    "        return (n * factorial(n - 1)) \n",
    "    \n",
    "#Driver Code \n",
    "num = 5;\n",
    "print(\"number : \",num)\n",
    "print(\"Factorial : \",factorial(num))\n",
    "\n",
    "#------------------------------------------------------------------------------------------------------------------------\n",
    "# Without\n",
    "\n",
    "n=int(input(\"Enter number:\"))\n",
    "fact=1\n",
    "while(n>0):\n",
    "    fact=fact*n     # A while loop is used to multiply the number to the factorial variable\n",
    "    n=n-1\n",
    "print(\"Factorial of the number is: \")\n",
    "print(fact)\n"
   ]
  },
  {
   "cell_type": "code",
   "execution_count": 1,
   "id": "37dd2f42",
   "metadata": {},
   "outputs": [
    {
     "name": "stdout",
     "output_type": "stream",
     "text": [
      "enter a number which you want to check if it is Armstrong:- 153\n",
      "[1, 125, 27]\n",
      "153\n",
      "The 153  is an armstrong number. \n"
     ]
    }
   ],
   "source": [
    "# Python Program to check Armstrong Number: Armstrong number is a number that is equal to the sum of cubes of its digits.\n",
    "\n",
    "n=int(input(\"enter a number which you want to check if it is Armstrong:- \"))\n",
    "x=list(map(int,str(n)))    #  Convert each digit of the number to a string variable and store in x variabale.\n",
    "y=list(map(lambda x:x**3,x))  # Then cube each of the digits and store in y variable.\n",
    "\n",
    "print(y)\n",
    "print(sum(y))\n",
    "\n",
    "if(sum(y)==n):\n",
    "    print(\"The\",n,\" is an armstrong number. \")\n",
    "else:\n",
    "    print(\"The\",n,\"isn't an armstrong number. \")"
   ]
  },
  {
   "cell_type": "code",
   "execution_count": null,
   "id": "5322cd42",
   "metadata": {},
   "outputs": [],
   "source": [
    "# Python Program to find Armstrong Number in range of 1000:\n",
    "\n",
    "for i in range(1001):                               # if i=153\n",
    "    num=i                                           # num=153\n",
    "    Arm_Num=0                                       # store the value one by one [27,125,1]\n",
    "    n=len(str(i))       # object of type 'int' has np len()     # n=3\n",
    "    while(i!=0):\n",
    "        reminder=i%10                              # if i=153, 153%10=3\n",
    "        Arm_Num=Arm_Num+reminder**n                # 0+3**3 = 27\n",
    "        i=i//10                                    # 153//10= 15, now i=15 so again iterate the loop\n",
    "\n",
    "    if num==Arm_Num:\n",
    "        print(num)"
   ]
  },
  {
   "cell_type": "code",
   "execution_count": 3,
   "id": "30747c00",
   "metadata": {},
   "outputs": [
    {
     "name": "stdout",
     "output_type": "stream",
     "text": [
      "29\n",
      "31\n",
      "37\n",
      "41\n",
      "43\n",
      "47\n"
     ]
    }
   ],
   "source": [
    "# prime number in an interval:-\n",
    " \n",
    "start = 25\n",
    "end = 50\n",
    "\n",
    "for i in range(start,end-1):\n",
    "    \n",
    "    if i>1:\n",
    "        for j in range(2,i):\n",
    "            if (i%j)==0:\n",
    "                break\n",
    "            \n",
    "        else:\n",
    "            print(i)"
   ]
  },
  {
   "cell_type": "code",
   "execution_count": 4,
   "id": "560ac78e",
   "metadata": {},
   "outputs": [
    {
     "name": "stdout",
     "output_type": "stream",
     "text": [
      "0 1 1 2 3 5 8 13 21 34 "
     ]
    }
   ],
   "source": [
    "# Display Fibonacci series up to 10 terms:\n",
    "\n",
    "num1,num2=0,1\n",
    "for i in range(1,11):\n",
    "    print(num1,end=\" \")\n",
    "    res=num1+num2\n",
    "    num1=num2\n",
    "    num2=res"
   ]
  },
  {
   "cell_type": "code",
   "execution_count": 10,
   "id": "b7099d65",
   "metadata": {},
   "outputs": [
    {
     "name": "stdout",
     "output_type": "stream",
     "text": [
      "Sum of the array is  34\n",
      "Sum of List:  225\n",
      "225\n",
      "Sum of List:  61\n"
     ]
    }
   ],
   "source": [
    "arr = {12, 3, 4, 15}\n",
    " \n",
    "# # sum() is an inbuilt function in python that adds\n",
    "# # all the elements in list,set and tuples and returns the value\n",
    "ans =sum(arr)\n",
    " \n",
    "# display sum\n",
    "print ('Sum of the array is ',ans)\n",
    "\n",
    "#------------------------------------------------------------------------------------------\n",
    "\n",
    "x = [5, 10, 15, 20, 25, 30, 35, 40, 45]\n",
    "# Calculate sum of list \n",
    "numsum=0\n",
    "for i in x:\n",
    "    numsum+=i\n",
    "print('Sum of List: ',numsum)\n",
    "\n",
    "# or\n",
    "\n",
    "from functools import reduce\n",
    "def add(x,y):\n",
    "    return x+y\n",
    "    \n",
    "z = [5, 10, 15, 20, 25, 30, 35, 40, 45]   \n",
    "\n",
    "print(reduce(add,z))\n",
    "\n",
    "#------------------------------------------------------------------------------------------\n",
    "\n",
    "# Sum of List Containing String Value   \n",
    "\n",
    "x = ['2','4','2','5','7','9','23','4','5']\n",
    "# Calculate sum of list\n",
    "numsum=0\n",
    "for i in x:\n",
    "    numsum+=int(i)\n",
    "print('Sum of List: ',numsum)"
   ]
  },
  {
   "cell_type": "code",
   "execution_count": 30,
   "id": "282e0a7a",
   "metadata": {},
   "outputs": [
    {
     "name": "stdout",
     "output_type": "stream",
     "text": [
      "[4, 10, 20, 45, 99]\n",
      "Second largest element is: [45, 99]\n",
      "[0, 1, 5, 6, 9]\n",
      "Second largest element is: [6, 9]\n"
     ]
    }
   ],
   "source": [
    "# Python program to find largest A in a list\n",
    " \n",
    "# List of As\n",
    "x = [10, 20, 20, 4, 45, 45, 45, 99, 99]\n",
    " \n",
    "# Removing duplicates from the list\n",
    "y = list(set(x))\n",
    " \n",
    "# Sorting the  list\n",
    "y.sort()\n",
    "print(y)\n",
    "\n",
    " \n",
    "# Printing the first & second last element\n",
    "print(\"Second largest element is:\",[y[-2],y[-1]])\n",
    "\n",
    "#--------------------------------------------------------------\n",
    "\n",
    "\n",
    "A=[1,5,6,9,0]\n",
    "for i in range(len(A)):\n",
    "    for j in range(i+1,len(A)):\n",
    "        if A[i] > A[j]:\n",
    "              A[i],A[j]=A[j],A[i]\n",
    "print(A)\n",
    "\n",
    "# Printing the first & second last element\n",
    "print(\"Second largest element is:\",[A[-2],A[-1]])\n"
   ]
  },
  {
   "cell_type": "code",
   "execution_count": 7,
   "id": "47967a8a",
   "metadata": {},
   "outputs": [
    {
     "name": "stdout",
     "output_type": "stream",
     "text": [
      "[1, 2, 7, 4, 5, 6]\n",
      "Rotated list is:-  [4, 5, 6, 1, 2, 7]\n"
     ]
    }
   ],
   "source": [
    "# Python Program for array rotation\n",
    "\n",
    "def rotateList(arr,d,n):\n",
    "    arr[:]=arr[d:n]+arr[0:d]\n",
    "    return arr\n",
    "\n",
    "# Driver function to test above function\n",
    "arr = [1, 2, 7, 4, 5, 6]\n",
    "print(\"Rotated list is:- \",rotateList(arr,3,len(arr))) \n",
    " "
   ]
  },
  {
   "cell_type": "code",
   "execution_count": 8,
   "id": "fe5a31b7",
   "metadata": {},
   "outputs": [],
   "source": [
    "# Python Program for Reversal algorithm for array rotation:-\n",
    "\n"
   ]
  },
  {
   "cell_type": "code",
   "execution_count": 9,
   "id": "eb247c08",
   "metadata": {
    "scrolled": true
   },
   "outputs": [
    {
     "name": "stdout",
     "output_type": "stream",
     "text": [
      "The reversed numbers are : 6 ,5 ,4 ,3 ,2 ,1 ,0 ,\n",
      "The reversed numbers are : 6 5 4 3 2 1 0 \n",
      "The reversed numbers are : 6 5 4 3 2 1 0 \n",
      "iterate backward on list:- 9 8 7 6 5 4 3 2 1 "
     ]
    }
   ],
   "source": [
    "# How to iterate backward? E.g to print upto 6.\n",
    "# Like 6,5,4,3,2,1.\n",
    "# Using reversed()\n",
    "\n",
    "N = 6\n",
    " \n",
    "# using reversed() to perform the back iteration\n",
    "print (\"The reversed numbers are : \", end = \"\")\n",
    "for i in reversed(range(N + 1)) :\n",
    "    print (i, end = \" ,\")\n",
    "#------------------------------------------------------------------------------------------\n",
    "\n",
    "# using range(N, -1, -1) to perform the back iteration\n",
    "print (\"\\nThe reversed numbers are : \", end = \"\")\n",
    "for i in range(N, -1, -1) :\n",
    "    print (i, end = \" \")\n",
    "    \n",
    "#------------------------------------------------------------------------------------------    \n",
    "\n",
    "# Using slice syntax perform the backward iteration\n",
    "k = range(N+1)[::-1]\n",
    "print(\"\\nThe reversed numbers are : \",end='')\n",
    "for i in k:\n",
    "    print(i, end=' ')\n",
    "\n",
    "# How we can iterate backward on list?\n",
    "\n",
    "a = [1,2,3,4,5,6,7,8,9]\n",
    "print(\"\\niterate backward on list:- \",end='')\n",
    "for i in range(len(a)-1,-1,-1):\n",
    "    \n",
    "    print(a[i],end=' ')"
   ]
  },
  {
   "cell_type": "code",
   "execution_count": 10,
   "id": "aa74754b",
   "metadata": {},
   "outputs": [],
   "source": [
    "# Python Program to Split the array and add the first part to the end "
   ]
  },
  {
   "cell_type": "code",
   "execution_count": 11,
   "id": "90d34b1f",
   "metadata": {},
   "outputs": [
    {
     "name": "stdout",
     "output_type": "stream",
     "text": [
      "9\n"
     ]
    }
   ],
   "source": [
    "# Python Program for Find reminder of array multiplication divided by n\n",
    "\n",
    "from functools import reduce\n",
    " \n",
    "\n",
    "def find_remainder(arr, n):\n",
    "    i= reduce(lambda x, y: x*y, arr)\n",
    "    remainder =i % n\n",
    "    print(remainder)\n",
    " \n",
    " \n",
    "arr = [100, 10, 5, 25, 35, 14]\n",
    "n = 11\n",
    "find_remainder(arr, n)"
   ]
  },
  {
   "cell_type": "code",
   "execution_count": 2,
   "id": "906242bb",
   "metadata": {},
   "outputs": [
    {
     "name": "stdout",
     "output_type": "stream",
     "text": [
      "[24, 35, 9, 56, 12]\n"
     ]
    }
   ],
   "source": [
    "# Python program to interchange first and last elements in a list\n",
    "\n",
    "# Swap function\n",
    "def swapList(newList):\n",
    "     \n",
    "    newList[0], newList[-1] = newList[-1], newList[0]\n",
    " \n",
    "    return newList\n",
    "     \n",
    "# Driver code\n",
    "newList = [12, 35, 9, 56, 24]\n",
    "print(swapList(newList))"
   ]
  },
  {
   "cell_type": "code",
   "execution_count": 13,
   "id": "17e243ab",
   "metadata": {},
   "outputs": [
    {
     "name": "stdout",
     "output_type": "stream",
     "text": [
      "[19, 65, 23, 90]\n"
     ]
    }
   ],
   "source": [
    "# Python3 program to swap elements at given positions\n",
    " \n",
    "# Swap function\n",
    "def swapPositions(list, pos1, pos2):\n",
    "     \n",
    "    list[pos1], list[pos2] = list[pos2], list[pos1]\n",
    "    return list\n",
    " \n",
    "# Driver function\n",
    "List1 = [23, 65, 19, 90]\n",
    "pos1, pos2  = 1, 3\n",
    " \n",
    "print(swapPositions(List1, pos1-1, pos2-1))"
   ]
  },
  {
   "cell_type": "code",
   "execution_count": 125,
   "id": "1e804a01",
   "metadata": {},
   "outputs": [
    {
     "name": "stdout",
     "output_type": "stream",
     "text": [
      "Item not Updated\n"
     ]
    }
   ],
   "source": [
    "# Python program to remove Ith occurrence of the given word:-\n",
    "\n",
    "# Function to remove Ith word\n",
    "def RemoveIthWord(list1, word, N):\n",
    "    count = 0\n",
    "     \n",
    "    for i in range(0, len(list)):\n",
    "        if (list1[i] == word):\n",
    "            count = count + 1\n",
    "             \n",
    "            if(count == N):\n",
    "                del(list1[i])\n",
    "                return True\n",
    "                 \n",
    "    return False\n",
    " \n",
    "# Driver code\n",
    "list1 = ['geeks', 'for', 'geeks']\n",
    "word = 'geeks'\n",
    "N = 2\n",
    " \n",
    "flag = RemoveIthWord(list1, word, N)\n",
    " \n",
    "if (flag == True):\n",
    "    print(\"Updated list is: \", list)\n",
    "else:\n",
    "    print(\"Item not Updated\")\n"
   ]
  },
  {
   "cell_type": "code",
   "execution_count": 15,
   "id": "1958c97d",
   "metadata": {},
   "outputs": [
    {
     "name": "stdout",
     "output_type": "stream",
     "text": [
      "14.625.498, 002\n"
     ]
    }
   ],
   "source": [
    "# # Python code to replace, with . and vice-versa:-\n",
    "\n",
    "def Replace(str1):\n",
    "    str1 = str1.replace(', ', 'third')\n",
    "    str1 = str1.replace('.', ', ')\n",
    "    str1 = str1.replace('third', '.')\n",
    "    return str1\n",
    "     \n",
    "string = \"14, 625, 498.002\"\n",
    "print(Replace(string))"
   ]
  },
  {
   "cell_type": "code",
   "execution_count": 17,
   "id": "b327c8c8",
   "metadata": {},
   "outputs": [
    {
     "name": "stdout",
     "output_type": "stream",
     "text": [
      "The list is : [1, 4, 5, 7, 8]\n",
      "Length of list using naive method is : 5\n",
      "Length of list using len method is:  4\n",
      "The length of list is:  3\n",
      "5\n",
      "5\n"
     ]
    }
   ],
   "source": [
    "# Python | Ways to find length of list:-\n",
    "\n",
    "# Method 1: Naive Method\n",
    "    \n",
    "# Initializing list\n",
    "x = [ 1, 4, 5, 7, 8 ]\n",
    " \n",
    "# Printing test_list\n",
    "print (\"The list is : \" + str(x))\n",
    " \n",
    "# Finding length of list using loop\n",
    "# Initializing counter\n",
    "counter = 0\n",
    "for i in x:\n",
    "     \n",
    "    # incrementing counter\n",
    "    counter = counter + 1\n",
    "\n",
    "# Printing length of list\n",
    "print (\"Length of list using naive method is : \" + str(counter))   \n",
    "\n",
    "# ------------------------------------------------------------------------------------------------------------\n",
    "\n",
    "# Method 2 : Using len():-\n",
    "\n",
    "a = []\n",
    "a.append(\"Hello\")\n",
    "a.append(\"Geeks\")\n",
    "a.append(\"For\")\n",
    "a.append(\"Geeks\")\n",
    "print(\"Length of list using len method is: \", len(a))\n",
    "\n",
    "#---------------------------------------------------------------------------------------------------------------\n",
    "\n",
    "n = len([10, 20, 30])\n",
    "print(\"The length of list is: \", n)\n",
    "\n",
    "#-------------------------------------------------------------------------------------------------\n",
    "\n",
    "n=[1,2,3,4,5]\n",
    "count=0\n",
    "for i in n:\n",
    "    count+=1\n",
    "print(count)\n",
    "\n",
    "#-------------------------------------------------------------------------------------------------\n",
    "\n",
    "n=[1,2,3,4,5]\n",
    "count=0\n",
    "for i in n:\n",
    "    while i in n:\n",
    "        n.pop()\n",
    "        count+=1\n",
    "print(count)    \n",
    "   \n",
    "    \n",
    "    \n",
    "    "
   ]
  },
  {
   "cell_type": "code",
   "execution_count": 20,
   "id": "e53ad815",
   "metadata": {},
   "outputs": [
    {
     "name": "stdout",
     "output_type": "stream",
     "text": [
      "not exist\n",
      "Checking if 4 exists in list ( using loop ) : \n",
      "Element Exists\n",
      "Checking if 4 exists in list ( using in ) : \n",
      "Element Exists\n"
     ]
    }
   ],
   "source": [
    "# Python | Ways to check if element exists in list\n",
    "\n",
    "lst=[ 1, 6, 3, 5, 3, 4 ]\n",
    "\n",
    "#checking if element 7 is present in the given list or not\n",
    "\n",
    "i=7\n",
    "\n",
    "# if element present then return exist otherwise not exist\n",
    "\n",
    "if i in lst:\n",
    "    print(\"exist\")\n",
    "else:\n",
    "    print(\"not exist\")\n",
    "\n",
    "#--------------------------------------------------------------------------------------------\n",
    "\n",
    "# Initializing list\n",
    "\n",
    "test_list = [ 1, 6, 3, 5, 3, 4 ]\n",
    "  \n",
    "# Checking if 4 exists in list using loop\n",
    "\n",
    "for i in test_list:\n",
    "    if(i == 4) :\n",
    "        print (\"Element Exists\")\n",
    "\n",
    "#-------------------------------------------------------------------------------------------------\n",
    "\n",
    "# Checking if 4 exists in list\n",
    "# using in\n",
    "if (4 in test_list):\n",
    "    print (\"Element Exists\")"
   ]
  },
  {
   "cell_type": "code",
   "execution_count": 24,
   "id": "de08f7cc",
   "metadata": {},
   "outputs": [
    {
     "name": "stdout",
     "output_type": "stream",
     "text": [
      "GEEK before clear: [6, 0, 4, 1]\n",
      "GEEK after clear: []\n",
      "List1 before deleting is : [1, 2, 3]\n",
      "List1 after clearing using *= 0: []\n"
     ]
    }
   ],
   "source": [
    "# Different ways to clear a list in Python\n",
    "\n",
    "# using clear() method \n",
    "  \n",
    "# Creating list\n",
    "GEEK = [6, 0, 4, 1]\n",
    "print('GEEK before clear:', GEEK) \n",
    "  \n",
    "# Clearing list \n",
    "GEEK.clear() \n",
    "print('GEEK after clear:', GEEK)\n",
    "\n",
    "#-------------------------------------------------------------------------------------\n",
    "\n",
    "# Initializing lists\n",
    "list1 = [1, 2, 3]\n",
    "  \n",
    "# Printing list1 before deleting \n",
    "print (\"List1 before deleting is : \" + str(list1))\n",
    "  \n",
    "# deleting list using *= 0\n",
    "list1 *= 0\n",
    "  \n",
    "# Printing list1 after *= 0\n",
    "print (\"List1 after clearing using *= 0: \" + str(list1))\n",
    "\n",
    "#-----------------------------------------------------------------------------------------\n",
    "\n",
    "# Initializing lists\n",
    "list1 = [1, 2, 3]\n",
    "  \n",
    "# Printing list1 before deleting \n",
    "print (\"List1 before deleting is : \" + str(list1))\n",
    "  \n",
    "# deleting list1 using del\n",
    "del list1[:]\n",
    "print (\"List1 after clearing using del : \" + str(list1))"
   ]
  },
  {
   "cell_type": "code",
   "execution_count": 38,
   "id": "b84187e6",
   "metadata": {},
   "outputs": [
    {
     "name": "stdout",
     "output_type": "stream",
     "text": [
      "[15, 14, 13, 12, 11, 10]\n",
      "[15, 14, 13, 12, 11, 10]\n",
      "[15, 14, 13, 12, 11, 10]\n"
     ]
    }
   ],
   "source": [
    "# Python | Reversing a List Python\n",
    "\n",
    "#input list\n",
    "lst=[10, 11, 12, 13, 14, 15]\n",
    "\n",
    "l=[] # empty list\n",
    "\n",
    "# # checking if elements present in the list or not\n",
    "\n",
    "for i in lst:\n",
    "  #reversing the list\n",
    "  l.insert(0,i)\n",
    "print(l)\n",
    "\n",
    "#----------------------------------------------------------------------------------------------\n",
    "\n",
    "# Reversing a list using reversed()\n",
    "lst = [10, 11, 12, 13, 14, 15]\n",
    "print(Reverse(lst))\n",
    "\n",
    "#-----------------------------------------------------------------------------------------------\n",
    "\n",
    "# Reversing a list using slicing technique\n",
    "def Rev(lst):\n",
    "    new_lst = lst[::-1]\n",
    "    return new_lst\n",
    "     \n",
    "lst = [10, 11, 12, 13, 14, 15]\n",
    "print(Rev(lst))"
   ]
  },
  {
   "cell_type": "code",
   "execution_count": 44,
   "id": "ca2ae9c5",
   "metadata": {},
   "outputs": [
    {
     "name": "stdout",
     "output_type": "stream",
     "text": [
      "Original List: [4, 8, 2, 10, 15, 18]\n",
      "After Cloning: [4, 8, 2, 10, 15, 18]\n",
      "Original List: [4, 8, 2, 10, 15, 18]\n",
      "After Cloning: [4, 8, 2, 10, 15, 18]\n",
      "[1, 2, [3, 5], 4]\n",
      "Original List: [4, 8, 2, 10, 15, 18]\n",
      "After Cloning: [4, 8, 2, 10, 15, 18]\n",
      "Original List: [4, 8, 2, 10, 15, 18]\n",
      "After Cloning: [4, 8, 2, 10, 15, 18]\n",
      "[1, 2, [3, 5], 4]\n"
     ]
    }
   ],
   "source": [
    "# Cloning or Copying a list Python\n",
    "\n",
    "# Using the slicing technique\n",
    "\n",
    "def Cloning(li1):\n",
    "    li_copy = li1[:]\n",
    "    return li_copy\n",
    " \n",
    "# Driver Code\n",
    "li1 = [4, 8, 2, 10, 15, 18]\n",
    "li2 = Cloning(li1)\n",
    "print(\"Original List:\", li1)\n",
    "print(\"After Cloning:\", li2)\n",
    "\n",
    "#-------------------------------------------------------------------------------------------------------------\n",
    "# Using the extend() method \n",
    "\n",
    "def Cloning(li1):\n",
    "    li_copy = []\n",
    "    li_copy.extend(li1)\n",
    "    return li_copy\n",
    "   \n",
    "# Driver Code\n",
    "li1 = [4, 8, 2, 10, 15, 18]\n",
    "li2 = Cloning(li1)\n",
    "print(\"Original List:\", li1)\n",
    "print(\"After Cloning:\", li2)\n",
    "\n",
    "#-------------------------------------------------------------------------------------------------------------\n",
    "# Using the method of Shallow Copy \n",
    "\n",
    "  # importing copy module\n",
    "import copy\n",
    "   \n",
    "# initializing list 1\n",
    "li1 = [1, 2, [3,5], 4]\n",
    "   \n",
    "# using copy for shallow copy \n",
    "li2 = copy.copy(li1)\n",
    " \n",
    "print(li2)\n",
    "#-------------------------------------------------------------------------------------------------------------\n",
    "# Using list comprehension \n",
    "\n",
    "def Cloning(li1):\n",
    "    li_copy = [i for i in li1]\n",
    "    return li_copy\n",
    "   \n",
    "# Driver Code\n",
    "li1 = [4, 8, 2, 10, 15, 18]\n",
    "li2 = Cloning(li1)\n",
    "print(\"Original List:\", li1)\n",
    "print(\"After Cloning:\", li2)\n",
    "\n",
    "#-------------------------------------------------------------------------------------------------------------\n",
    "# Using the append() method \n",
    "\n",
    "def Cloning(li1):\n",
    "    li_copy =[]\n",
    "    for item in li1: li_copy.append(item)\n",
    "    return li_copy\n",
    "   \n",
    "# Driver Code\n",
    "li1 = [4, 8, 2, 10, 15, 18]\n",
    "li2 = Cloning(li1)\n",
    "print(\"Original List:\", li1)\n",
    "print(\"After Cloning:\", li2)\n",
    "\n",
    "#-------------------------------------------------------------------------------------------------------------\n",
    "# Using the method of Deep Copy \n",
    "import copy\n",
    "   \n",
    "# initializing list 1\n",
    "li1 = [1, 2, [3,5], 4]\n",
    " \n",
    "# using deepcopy for deepcopy \n",
    "li3 = copy.deepcopy(li1)\n",
    "print(li3)\n"
   ]
  },
  {
   "cell_type": "code",
   "execution_count": 5,
   "id": "a26e6cfe",
   "metadata": {},
   "outputs": [
    {
     "name": "stdout",
     "output_type": "stream",
     "text": [
      "8 has occurred 5 times\n",
      "10 has occurred 2 times\n",
      "3 has occurred 2 times\n"
     ]
    }
   ],
   "source": [
    "# Count occurrences of an element in a list\n",
    "\n",
    "def countX(lst, x):\n",
    "    count = 0\n",
    "    for i in lst:\n",
    "        if (i == x):\n",
    "            count = count + 1\n",
    "    return count\n",
    " \n",
    "# Driver Code\n",
    "lst = [8, 6, 8, 10, 8, 20, 10, 8, 8]\n",
    "x = 8\n",
    "print('{} has occurred {} times'.format(x, countX(lst,x)))\n",
    "\n",
    "#----------------------------------------------------------------------------------------\n",
    "\n",
    "def countX(lst, x):\n",
    "    return lst.count(x)\n",
    " \n",
    "# Driver Code\n",
    "lst = [8, 6, 8, 10, 8, 20, 10, 8, 8]\n",
    "x = 10\n",
    "print('{} has occurred {} times'.format(x, countX(lst, x)))\n",
    "\n",
    "#-----------------------------------------------------------------------------------------------\n",
    "\n",
    "from collections import Counter\n",
    " \n",
    "# declaring the list\n",
    "l = [1, 1, 2, 2, 3, 3, 4, 4, 5, 5]\n",
    " \n",
    "# driver program\n",
    "x = 3\n",
    "d = Counter(l)\n",
    "print('{} has occurred {} times'.format(x, d[x]))\n"
   ]
  },
  {
   "cell_type": "code",
   "execution_count": 55,
   "id": "447e42c4",
   "metadata": {},
   "outputs": [
    {
     "name": "stdout",
     "output_type": "stream",
     "text": [
      "Sum of all elements in given list:  74\n",
      "Sum of all elements in given list:  74\n",
      "Sum of all elements in given list:  74\n",
      "40\n"
     ]
    }
   ],
   "source": [
    "# Python program to find sum of elements in list\n",
    "\n",
    "# Python program to find sum of elements in list\n",
    "total = 0\n",
    " \n",
    "# creating a list\n",
    "list1 = [11, 5, 17, 18, 23]\n",
    " \n",
    "# Iterate each element in list and add them in variable total\n",
    "for ele in range(0, len(list1)):\n",
    "    total = total + list1[ele]\n",
    "\n",
    "# printing total value\n",
    "print(\"Sum of all elements in given list: \", total)\n",
    "\n",
    "#-----------------------------------------------------------------------------------\n",
    "\n",
    "# Python program to find sum of elements in list\n",
    "total = 0\n",
    "ele = 0\n",
    " \n",
    "# creating a list\n",
    "list1 = [11, 5, 17, 18, 23]\n",
    " \n",
    "# Iterate each element in list and add them in variable total\n",
    "while(ele < len(list1)):\n",
    "    total = total + list1[ele]\n",
    "    ele += 1\n",
    "     \n",
    "# printing total value\n",
    "print(\"Sum of all elements in given list: \", total)\n",
    "\n",
    "#----------------------------------------------------------------------------\n",
    "\n",
    "# creating a list\n",
    "list1 = [11, 5, 17, 18, 23]\n",
    " \n",
    "# using sum() function\n",
    "total = sum(list1)\n",
    " \n",
    "# printing total value\n",
    "print(\"Sum of all elements in given list: \", total)\n",
    "\n",
    "#----------------------------------------------------------------------------\n",
    "from operator import*\n",
    "list1 = [12, 15, 3, 10]\n",
    "result = 0\n",
    "for i in list1:\n",
    "  # Adding elements in the list using add function of operator module\n",
    "    result = add(i, 0)+result\n",
    "# printing the result\n",
    "print(result)"
   ]
  },
  {
   "cell_type": "code",
   "execution_count": 71,
   "id": "f88e0f2a",
   "metadata": {},
   "outputs": [
    {
     "name": "stdout",
     "output_type": "stream",
     "text": [
      "6\n",
      "24\n",
      "6\n",
      "24\n",
      "6\n",
      "24\n",
      "6\n",
      "24\n",
      "6\n"
     ]
    }
   ],
   "source": [
    "# Python | Multiply all numbers in the list\n",
    "\n",
    "def multiplyList(myList) :\n",
    "     \n",
    "    # Multiply elements one by one\n",
    "    result = 1\n",
    "    for x in myList:\n",
    "         result = result * x\n",
    "    return result\n",
    "     \n",
    "# Driver code\n",
    "list1 = [1, 2, 3]\n",
    "list2 = [3, 2, 4]\n",
    "print(multiplyList(list1))\n",
    "print(multiplyList(list2))\n",
    "\n",
    "#----------------------------------------------------------\n",
    "\n",
    "import numpy\n",
    "list1 = [1, 2, 3]\n",
    "list2 = [3, 2, 4]\n",
    " \n",
    "# using numpy.prod() to get the multiplications\n",
    "result1 = numpy.prod(list1)\n",
    "result2 = numpy.prod(list2)\n",
    "print(result1)\n",
    "print(result2)\n",
    "\n",
    "#----------------------------------------------------------\n",
    "\n",
    "# list using lambda function and reduce()\n",
    " \n",
    "from functools import reduce\n",
    "list1 = [1, 2, 3]\n",
    "list2 = [3, 2, 4]\n",
    " \n",
    "result1 = reduce((lambda x, y: x * y), list1)\n",
    "result2 = reduce((lambda x, y: x * y), list2)\n",
    "print(result1)\n",
    "print(result2)\n",
    "\n",
    "#----------------------------------------------------------------------\n",
    "\n",
    "import math\n",
    "list1 = [1, 2, 3]\n",
    "list2 = [3, 2, 4]\n",
    " \n",
    "result1 = math.prod(list1)\n",
    "result2 = math.prod(list2)\n",
    "print(result1)\n",
    "print(result2)\n",
    "\n",
    "#------------------------------------------------------------------------------------------\n",
    "\n",
    "list1 = [1, 2, 3]\n",
    "m=0\n",
    "for i in list1:\n",
    "    m = mul(i, 1)+m      # using mul function of operator module\n",
    "# printing the result\n",
    "print(m)             \n"
   ]
  },
  {
   "cell_type": "code",
   "execution_count": 79,
   "id": "d03f15db",
   "metadata": {},
   "outputs": [
    {
     "name": "stdout",
     "output_type": "stream",
     "text": [
      "Smallest element is: 4\n",
      "Smallest element is: 4\n"
     ]
    }
   ],
   "source": [
    "# Python program to find smallest number in a list\n",
    "\n",
    "list1 = [10, 20, 4, 45, 99]\n",
    " \n",
    "# sorting the list\n",
    "list1.sort()\n",
    " \n",
    "# printing the first element\n",
    "print(\"Smallest element is:\", *list1[:1])\n",
    "\n",
    "# ----------------------------------------------------------------\n",
    "\n",
    "print(\"Smallest element is:\", min(list1))\n",
    "\n",
    "\n",
    "\n",
    "    "
   ]
  },
  {
   "cell_type": "code",
   "execution_count": 103,
   "id": "e2f9ccc4",
   "metadata": {},
   "outputs": [
    {
     "name": "stdout",
     "output_type": "stream",
     "text": [
      "Smallest element is: 99\n",
      "Smallest element is: 99\n"
     ]
    }
   ],
   "source": [
    "# Python program to find largest number in a list\n",
    "\n",
    "list1 = [10, 20, 4, 45, 99]\n",
    " \n",
    "# sorting the list\n",
    "list1.sort()\n",
    "# printing the first element\n",
    "print(\"Smallest element is:\", list1[-1])\n",
    "\n",
    "# ----------------------------------------------------------------\n",
    "\n",
    "print(\"Smallest element is:\", max(list1))"
   ]
  },
  {
   "cell_type": "code",
   "execution_count": 9,
   "id": "73d3e66e",
   "metadata": {},
   "outputs": [
    {
     "name": "stdout",
     "output_type": "stream",
     "text": [
      "Second largest element is: 45\n",
      "45\n",
      "45\n"
     ]
    }
   ],
   "source": [
    "# Python program to find second largest number in a list\n",
    "\n",
    "x = [10, 20, 20, 4, 45, 45, 45, 99, 99]\n",
    " \n",
    "# Removing duplicates from the list\n",
    "y=list(set(x))\n",
    "# Sorting the  list\n",
    "y.sort()\n",
    " \n",
    "# Printing the second last element\n",
    "print(\"Second largest element is:\", y[-2])\n",
    "\n",
    "#---------------------------------------------------------------------------------\n",
    "\n",
    "list1 = [10, 20, 4,4,45, 45, 99]\n",
    " \n",
    "# new_list is a set of list1\n",
    "new_list = set(list1)\n",
    " \n",
    "# Removing the largest element from temp list\n",
    "new_list.remove(max(new_list))\n",
    " \n",
    "print(max(new_list))\n",
    "\n",
    "#---------------------------------------------------------------------------\n",
    "\n",
    "def findLargest(arr):\n",
    "    secondLargest = arr[0]\n",
    "    largest = arr[0]\n",
    " \n",
    "    for i in range(len(arr)):\n",
    "        if arr[i] > largest:\n",
    "            largest = arr[i]\n",
    " \n",
    "    for i in range(len(arr)):\n",
    "        if arr[i] > secondLargest and arr[i] != largest:\n",
    "            secondLargest = arr[i]\n",
    " \n",
    "    # Returning second largest element\n",
    "    return secondLargest\n",
    " \n",
    "# Calling above method over this array set\n",
    "print(findLargest([10, 20, 4, 45, 99]))"
   ]
  },
  {
   "cell_type": "code",
   "execution_count": 18,
   "id": "3d7cb9e4",
   "metadata": {},
   "outputs": [
    {
     "name": "stdout",
     "output_type": "stream",
     "text": [
      "10 4 66 10\n",
      "24\n",
      "4\n",
      "66\n",
      "Even numbers in the list:  [10, 4, 66]\n",
      "Even numbers in the list:  [10, 4, 66]\n"
     ]
    }
   ],
   "source": [
    "# Python program to print even numbers in a list\n",
    "\n",
    "list1 = [10, 21, 4, 45, 66, 93]\n",
    " \n",
    "# iterating each number in list\n",
    "for num in list1:\n",
    " \n",
    "    # checking condition\n",
    "    if num % 2 == 0:\n",
    "        print(num, end=\" \")\n",
    "\n",
    "#-----------------------------------------------------------------------------------------\n",
    "        \n",
    "list1 = [10, 24, 4, 45, 66, 93]\n",
    "num = 0\n",
    " \n",
    "# using while loop\n",
    "while(num < len(list1)):\n",
    " \n",
    "    # checking condition\n",
    "    if list1[num] % 2 == 0:\n",
    "        print(list1[num], end=\"\\n\")\n",
    " \n",
    "    # increment num\n",
    "    num += 1\n",
    "\n",
    "#-----------------------------------------------------------------------------------------\n",
    "\n",
    "\n",
    "list1 = [10, 21, 4, 45, 66, 93]\n",
    " \n",
    "# using list comprehension\n",
    "even_nos = [num for num in list1 if num % 2 == 0]\n",
    " \n",
    "print(\"Even numbers in the list: \", even_nos)\n",
    "\n",
    "#-----------------------------------------------------------------------------------------\n",
    "\n",
    "list1 = [10, 21, 4, 45, 66, 93, 11]\n",
    " \n",
    "# we can also print even no's using lambda exp.\n",
    "even_nos = list(filter(lambda x: (x % 2 == 0), list1))\n",
    " \n",
    "print(\"Even numbers in the list: \", even_nos)"
   ]
  },
  {
   "cell_type": "code",
   "execution_count": 19,
   "id": "a02d6bf3",
   "metadata": {},
   "outputs": [
    {
     "name": "stdout",
     "output_type": "stream",
     "text": [
      "21 45 93 45\n",
      "93\n",
      "Even numbers in the list:  [21, 45, 93]\n",
      "Even numbers in the list:  [21, 45, 93, 11]\n"
     ]
    }
   ],
   "source": [
    "# Python program to print odd numbers in a List\n",
    "\n",
    "list1 = [10, 21, 4, 45, 66, 93]\n",
    " \n",
    "# iterating each number in list\n",
    "for num in list1:\n",
    " \n",
    "    # checking condition\n",
    "    if num % 2 != 0:\n",
    "        print(num, end=\" \")\n",
    "\n",
    "#-----------------------------------------------------------------------------------------\n",
    "        \n",
    "list1 = [10, 24, 4, 45, 66, 93]\n",
    "num = 0\n",
    " \n",
    "# using while loop\n",
    "while(num < len(list1)):\n",
    " \n",
    "    # checking condition\n",
    "    if list1[num] % 2 != 0:\n",
    "        print(list1[num], end=\"\\n\")\n",
    " \n",
    "    # increment num\n",
    "    num += 1\n",
    "\n",
    "#-----------------------------------------------------------------------------------------\n",
    "\n",
    "\n",
    "list1 = [10, 21, 4, 45, 66, 93]\n",
    " \n",
    "# using list comprehension\n",
    "even_nos = [num for num in list1 if num % 2 != 0]\n",
    " \n",
    "print(\"Even numbers in the list: \", even_nos)\n",
    "\n",
    "#-----------------------------------------------------------------------------------------\n",
    "\n",
    "list1 = [10, 21, 4, 45, 66, 93, 11]\n",
    " \n",
    "# we can also print even no's using lambda exp.\n",
    "even_nos = list(filter(lambda x: (x % 2 != 0), list1))\n",
    " \n",
    "print(\"Even numbers in the list: \", even_nos)"
   ]
  },
  {
   "cell_type": "code",
   "execution_count": 39,
   "id": "df7de1d0",
   "metadata": {
    "scrolled": true
   },
   "outputs": [
    {
     "name": "stdout",
     "output_type": "stream",
     "text": [
      "4 \n",
      "6 \n",
      "8 \n",
      "10 \n",
      "12 \n",
      "14 \n",
      "Enter the start of range: 12\n",
      "Enter the end of range: 34\n",
      "12 14 16 18 20 22 24 26 28 30 32 34 "
     ]
    }
   ],
   "source": [
    "# Python program to print all even numbers in a range:-\n",
    "\n",
    "for num in range(4,15,2):\n",
    "    print(num,end=\" \\n\")\n",
    "    \n",
    "#------------------------------------------------------------------------\n",
    "\n",
    "start = int(input(\"Enter the start of range: \"))\n",
    "end = int(input(\"Enter the end of range: \"))\n",
    " \n",
    "# iterating each number in list\n",
    "for num in range(start, end + 1):\n",
    "     \n",
    "    # checking condition\n",
    "    if num % 2 == 0:\n",
    "        print(num, end = \" \")         "
   ]
  },
  {
   "cell_type": "code",
   "execution_count": 5,
   "id": "005973c1",
   "metadata": {},
   "outputs": [
    {
     "name": "stdout",
     "output_type": "stream",
     "text": [
      "5 \n",
      "7 \n",
      "9 \n",
      "11 \n",
      "13 \n",
      "Enter the start of range: 4\n",
      "Enter the end of range: 15\n",
      "5 7 9 11 13 15 "
     ]
    }
   ],
   "source": [
    "# Python program to print all odd numbers in a range\n",
    "\n",
    "\n",
    "for num in range(4,15):\n",
    "    if num%2!=0:\n",
    "        print(num,end=\" \\n\")\n",
    "    \n",
    "#------------------------------------------------------------------------\n",
    "\n",
    "start = int(input(\"Enter the start of range: \"))\n",
    "end = int(input(\"Enter the end of range: \"))\n",
    " \n",
    "# iterating each number in list\n",
    "for num in range(start, end + 1):\n",
    "     \n",
    "    # checking condition\n",
    "    if num % 2!= 0:\n",
    "        print(num, end = \" \")         "
   ]
  },
  {
   "cell_type": "code",
   "execution_count": 8,
   "id": "b5bfe4d4",
   "metadata": {},
   "outputs": [
    {
     "name": "stdout",
     "output_type": "stream",
     "text": [
      "Even numbers in the list:  3\n",
      "Odd numbers in the list:  4\n",
      "Even numbers in the list:  3\n",
      "Odd numbers in the list:  4\n",
      "Even numbers in the list:  3\n",
      "Odd numbers in the list:  4\n",
      "Even numbers in the list:  3\n",
      "Odd numbers in the list:  4\n"
     ]
    }
   ],
   "source": [
    "# Python program to count Even and Odd numbers in a List\n",
    "\n",
    "list1 = [10, 21, 4, 45, 66, 93, 1]\n",
    "  \n",
    "even_count, odd_count = 0, 0\n",
    "  \n",
    "# iterating each number in list\n",
    "for num in list1:\n",
    "      \n",
    "    # checking condition\n",
    "    if num % 2 == 0:\n",
    "        even_count += 1\n",
    "  \n",
    "    else:\n",
    "        odd_count += 1\n",
    "          \n",
    "print(\"Even numbers in the list: \", even_count)\n",
    "print(\"Odd numbers in the list: \", odd_count)\n",
    "\n",
    "#--------------------------------------------------\n",
    "\n",
    "\n",
    "list1 = [10, 21, 4, 45, 66, 93, 11]\n",
    "  \n",
    "even_count, odd_count = 0, 0\n",
    "num = 0\n",
    "  \n",
    "# using while loop     \n",
    "while(num < len(list1)):\n",
    "      \n",
    "    # checking condition\n",
    "    if list1[num] % 2 == 0:\n",
    "        even_count += 1\n",
    "    else:\n",
    "        odd_count += 1\n",
    "      \n",
    "    # increment num \n",
    "    num += 1\n",
    "      \n",
    "print(\"Even numbers in the list: \", even_count)\n",
    "print(\"Odd numbers in the list: \", odd_count)\n",
    "\n",
    "#-----------------------------------------------------\n",
    "\n",
    "list1 = [10, 21, 4, 45, 66, 93, 11]\n",
    "  \n",
    "odd_count = len(list(filter(lambda x: (x%2 != 0) , list1)))\n",
    "  \n",
    "# we can also do len(list1) - odd_count\n",
    "even_count = len(list(filter(lambda x: (x%2 == 0) , list1)))\n",
    "  \n",
    "print(\"Even numbers in the list: \", even_count)\n",
    "print(\"Odd numbers in the list: \", odd_count)\n",
    "\n",
    "#--------------------------------------------------------------------\n",
    "\n",
    "list1 = [10, 21, 4, 45, 66, 93, 11]\n",
    "   \n",
    "only_odd = [num for num in list1 if num % 2 == 1]\n",
    "odd_count = len(only_odd)\n",
    "   \n",
    "print(\"Even numbers in the list: \", len(list1) - odd_count)\n",
    "print(\"Odd numbers in the list: \", odd_count)"
   ]
  },
  {
   "cell_type": "code",
   "execution_count": 4,
   "id": "e427054d",
   "metadata": {},
   "outputs": [
    {
     "name": "stdout",
     "output_type": "stream",
     "text": [
      "11\n",
      "0\n",
      "45\n",
      "66\n",
      "21\n",
      "93\n",
      "Positive numbers in the list:  45 93\n",
      "Positive numbers in the list:  21 4 93\n"
     ]
    }
   ],
   "source": [
    "# Python program to print positive numbers in a list\n",
    "\n",
    "list1 = [11, -21, 0, 45, 66, -93]\n",
    "  \n",
    "# iterating each number in list\n",
    "for num in list1:\n",
    "      \n",
    "    # checking condition\n",
    "    if num >= 0:\n",
    "        print(num, end = \"\\n\")       \n",
    "#----------------------------------------------------------------\n",
    "\n",
    "list1 = [-10, 21, -4, -45, -66, 93]\n",
    "num = 0\n",
    "  \n",
    "# using while loop     \n",
    "while(num < len(list1)):\n",
    "      \n",
    "    # checking condition\n",
    "    if list1[num] >= 0:\n",
    "        print(list1[num], end = \"\\n\")\n",
    "      \n",
    "    # increment num \n",
    "    num += 1\n",
    "    \n",
    "#-------------------------------------------------------------------------------------------\n",
    "\n",
    "list1 = [-10, -21, -4, 45, -66, 93]\n",
    "  \n",
    "# using list comprehension\n",
    "pos_nos = [num for num in list1 if num >= 0]\n",
    "  \n",
    "print(\"Positive numbers in the list: \", *pos_nos)\n",
    "\n",
    "#-------------------------------------------------------------------------------------------\n",
    "\n",
    "list1 = [-10, 21, 4, -45, -66, 93, -11] \n",
    "  \n",
    "# we can also print positive no's using lambda exp. \n",
    "pos_nos = list(filter(lambda x: (x >= 0), list1))\n",
    "  \n",
    "print(\"Positive numbers in the list: \", *pos_nos) "
   ]
  },
  {
   "cell_type": "code",
   "execution_count": 21,
   "id": "e1c3e69f",
   "metadata": {},
   "outputs": [
    {
     "name": "stdout",
     "output_type": "stream",
     "text": [
      "-21\n",
      "-93\n",
      "-10\n",
      "-4\n",
      "-45\n",
      "-66\n",
      "Positive numbers in the list:  -10 -21 -4 -66\n",
      "Positive numbers in the list:  -10 -45 -66 -11\n"
     ]
    }
   ],
   "source": [
    "# Python program to print negative numbers in a list\n",
    "\n",
    "list1 = [11, -21, 0, 45, 66, -93]\n",
    "  \n",
    "# iterating each number in list\n",
    "for num in list1:\n",
    "      \n",
    "    # checking condition\n",
    "    if num < 0:\n",
    "        print(num, end = \"\\n\")\n",
    "    \n",
    "#----------------------------------------------------------------\n",
    "\n",
    "list1 = [-10, 21, -4, -45, -66, 93]\n",
    "num = 0\n",
    "  \n",
    "# using while loop     \n",
    "while(num < len(list1)):\n",
    "      \n",
    "    # checking condition\n",
    "    if list1[num] < 0:\n",
    "        print(list1[num], end = \"\\n\")\n",
    "      \n",
    "    # increment num \n",
    "    num += 1\n",
    "    \n",
    "#-------------------------------------------------------------------------------------------\n",
    "\n",
    "list1 = [-10, -21, -4, 45, -66, 93]\n",
    "  \n",
    "# using list comprehension\n",
    "neg_nos = [num for num in list1 if num < 0]\n",
    "  \n",
    "print(\"Positive numbers in the list: \", *neg_nos)\n",
    "\n",
    "#-------------------------------------------------------------------------------------------\n",
    "\n",
    "list1 = [-10, 21, 4, -45, -66, 93, -11] \n",
    "  \n",
    "# we can also print positive no's using lambda exp. \n",
    "neg_nos = list(filter(lambda x: (x < 0), list1))\n",
    "  \n",
    "print(\"Positive numbers in the list: \", *neg_nos) "
   ]
  },
  {
   "cell_type": "code",
   "execution_count": 23,
   "id": "d81eb9e8",
   "metadata": {},
   "outputs": [
    {
     "name": "stdout",
     "output_type": "stream",
     "text": [
      "Enter the start of range: -200\n",
      "Enter the end of range: 3\n",
      "0 1 2 3 "
     ]
    }
   ],
   "source": [
    "# Python program to print all positive numbers in a range\n",
    "\n",
    "start = int(input(\"Enter the start of range: \"))\n",
    "end = int(input(\"Enter the end of range: \"))\n",
    "  \n",
    "# iterating each number in list\n",
    "for num in range(start, end + 1):\n",
    "      \n",
    "    # checking condition\n",
    "    if num >= 0:\n",
    "        print(num, end = \" \")"
   ]
  },
  {
   "cell_type": "code",
   "execution_count": 24,
   "id": "a1c398c6",
   "metadata": {},
   "outputs": [
    {
     "name": "stdout",
     "output_type": "stream",
     "text": [
      "pos numbers in the list:  4\n",
      "neg numbers in the list:  3\n",
      "pos numbers in the list:  3\n",
      "neg numbers in the list:  4\n",
      "pos numbers in the list:  6\n",
      "neg numbers in the list:  1\n",
      "pos numbers in the list:  7\n",
      "neg numbers in the list:  0\n"
     ]
    }
   ],
   "source": [
    "# Python program to count positive and negative numbers in a list\n",
    "\n",
    "list1 = [10, -21, 4, -45, 66, -293, 1]\n",
    "  \n",
    "pos_count, neg_count = 0, 0\n",
    "  \n",
    "# iterating each number in list\n",
    "for num in list1:\n",
    "      \n",
    "    # checking condition\n",
    "    if num >= 0:\n",
    "        pos_count += 1\n",
    "  \n",
    "    else:\n",
    "        neg_count += 1\n",
    "          \n",
    "print(\"pos numbers in the list: \", pos_count)\n",
    "print(\"neg numbers in the list: \", neg_count)\n",
    "\n",
    "#--------------------------------------------------\n",
    "\n",
    "\n",
    "list1 = [10, -21, 4, -45, 66, -93, -11]\n",
    "  \n",
    "pos_count, neg_count = 0, 0\n",
    "num = 0\n",
    "  \n",
    "# using while loop     \n",
    "while(num < len(list1)):\n",
    "      \n",
    "    # checking condition\n",
    "    if list1[num] >= 0:\n",
    "        pos_count += 1\n",
    "    else:\n",
    "        neg_count += 1\n",
    "      \n",
    "    # increment num \n",
    "    num += 1\n",
    "      \n",
    "print(\"pos numbers in the list: \", pos_count)\n",
    "print(\"neg numbers in the list: \", neg_count)\n",
    "\n",
    "#-----------------------------------------------------\n",
    "\n",
    "list1 = [-10, 21, 4, 45, 66, 93, 11]\n",
    "  \n",
    "neg_count = len(list(filter(lambda x: (x< 0) , list1)))\n",
    "  \n",
    "# we can also do len(list1) - neg_count\n",
    "pos_count = len(list(filter(lambda x: (x> 0) , list1)))\n",
    "  \n",
    "print(\"pos numbers in the list: \", pos_count)\n",
    "print(\"neg numbers in the list: \", neg_count)\n",
    "\n",
    "#--------------------------------------------------------------------\n",
    "\n",
    "list1 = [10, 21, 4, 45, 66, 93, 11]\n",
    "   \n",
    "only_neg = [num for num in list1 if num<0]\n",
    "neg_count = len(only_neg)\n",
    "   \n",
    "print(\"pos numbers in the list: \", len(list1) - neg_count)\n",
    "print(\"neg numbers in the list: \", neg_count)"
   ]
  },
  {
   "cell_type": "code",
   "execution_count": 32,
   "id": "d7542b3a",
   "metadata": {},
   "outputs": [
    {
     "name": "stdout",
     "output_type": "stream",
     "text": [
      "11 50\n",
      "New list after removing unwanted numbers:  [11, 5, 23, 50]\n"
     ]
    }
   ],
   "source": [
    "# Remove multiple elements from a list in Python\n",
    "\n",
    "list1 = [11, 5, 17, 18, 23, 50]\n",
    " \n",
    "# removes elements from index 1 to 4\n",
    "# i.e. 5, 17, 18, 23 will be deleted\n",
    "del list1[1:5]\n",
    " \n",
    "print(*list1)\n",
    "\n",
    "#---------------------------------------------\n",
    "\n",
    "list1 = [11, 5, 17, 18, 23, 50]\n",
    " \n",
    "# items to be removed\n",
    "l2=list1[2:4]\n",
    " \n",
    "list1 = [ele for ele in list1 if ele not in l2]\n",
    " \n",
    "# printing modified list\n",
    "print(\"New list after removing unwanted numbers: \", list1)"
   ]
  },
  {
   "cell_type": "code",
   "execution_count": null,
   "id": "1944d807",
   "metadata": {},
   "outputs": [],
   "source": []
  }
 ],
 "metadata": {
  "kernelspec": {
   "display_name": "Python 3 (ipykernel)",
   "language": "python",
   "name": "python3"
  },
  "language_info": {
   "codemirror_mode": {
    "name": "ipython",
    "version": 3
   },
   "file_extension": ".py",
   "mimetype": "text/x-python",
   "name": "python",
   "nbconvert_exporter": "python",
   "pygments_lexer": "ipython3",
   "version": "3.10.5"
  }
 },
 "nbformat": 4,
 "nbformat_minor": 5
}
