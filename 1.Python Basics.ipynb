{
 "cells": [
  {
   "cell_type": "code",
   "execution_count": 2,
   "id": "87cd118c",
   "metadata": {},
   "outputs": [
    {
     "name": "stdout",
     "output_type": "stream",
     "text": [
      "Hello, World!\n"
     ]
    }
   ],
   "source": [
    "# The way to run a python file in cmd:\n",
    "# C:\\C:\\Users\\AmolDaund\\AppData\\Local\\Programs\\Python Test.py\n",
    "# •\tWhere \"Test.py\" is the name of your python file. Note pad file of extension is .py\n",
    "# •\tWhenever you are done in the python command line, you can simply type the py\n",
    "# •\tpy – V (Python version)"
   ]
  },
  {
   "cell_type": "code",
   "execution_count": null,
   "id": "618bd6e2",
   "metadata": {},
   "outputs": [],
   "source": [
    "# Multi-Line Comments\n",
    "# You can assign a multiline string to a variable by using three quotes Or three single quotes.\n",
    "\"\"\"\n",
    "This is a comment\n",
    "written in\n",
    "more than just one line\n",
    "\"\"\"\n",
    "print(\"Hello, World!\")\n"
   ]
  },
  {
   "cell_type": "code",
   "execution_count": null,
   "id": "6d2fc19c",
   "metadata": {},
   "outputs": [],
   "source": [
    "# Mutable data types in Python are list, dictionary, set and user-defined classes.\n",
    "\n",
    "# On the other hand, immutable data types includes int, float, decimal, bool, string, tuple, and range."
   ]
  },
  {
   "cell_type": "code",
   "execution_count": 3,
   "id": "08cf4018",
   "metadata": {},
   "outputs": [
    {
     "name": "stdout",
     "output_type": "stream",
     "text": [
      "John\n",
      "John\n"
     ]
    }
   ],
   "source": [
    "# Single or Double Quotes?\n",
    "# String variables can be declared either by using single or double quotes:\n",
    "x = \"John\"\n",
    "print(x)\n",
    "#double quotes are the same as single quotes:\n",
    "x = 'John'\n",
    "print(x)\n"
   ]
  },
  {
   "cell_type": "code",
   "execution_count": 9,
   "id": "f16b8855",
   "metadata": {},
   "outputs": [
    {
     "name": "stdout",
     "output_type": "stream",
     "text": [
      "5\n",
      "John\n",
      "Sally\n",
      "<class 'str'>\n",
      "<class 'int'>\n",
      "<class 'float'>\n"
     ]
    }
   ],
   "source": [
    "# \tVariables\n",
    "# Variables are containers for storing data values. \n",
    "# Python has no command for declaring a variable.\n",
    "# Variable names are case-sensitive\n",
    "# Variable is container where you can put values\n",
    "# a = 4\n",
    "# A = \"Sally\"\n",
    "# A (Sally) will not overwrite a = 4 \n",
    "\n",
    "# Creating Variables :- Python has no command for declaring a variable.\n",
    "# A variable is created the moment you first assign a value to it.\n",
    "\n",
    "# Example\n",
    "x = 5\n",
    "y = \"John\"\n",
    "print(x)\n",
    "print(y)\n",
    "\n",
    "x = 4       # x is of type int\n",
    "x = \"Sally\" # x is now of type str\n",
    "print(x)\n",
    "\n",
    "\n",
    "# Casting:- If you want to specify the data type of a variable, this can be done with casting.\n",
    "\n",
    "# Example\n",
    "x = str(3)    # x will be '3'\n",
    "y = int(3)    # y will be 3\n",
    "z = float(3)  # z will be 3.0\n",
    "\n",
    "print(type(x))\n",
    "print(type(y)) \n",
    "print(type(z))\n"
   ]
  },
  {
   "cell_type": "code",
   "execution_count": null,
   "id": "dd09bbd0",
   "metadata": {},
   "outputs": [],
   "source": [
    "# Variable Names\n",
    "# A variable can have a short name (like x and y) or a more descriptive name (age, carname, total_volume). \n",
    "\n",
    "# Rules for Python variables:\n",
    "# •\tA variable name must start with a letter or the underscore character\n",
    "# •\tA variable name cannot start with a number\n",
    "# •\tA variable name can only contain alpha-numeric characters and underscores (A-z, 0-9, and _)\n",
    "# •\tVariable names are case-sensitive (age, Age and AGE are three different variables)\n",
    "# •\tWe can’t use reserved words. (e.g. True, List, if, else, Total 33 reserved words)\n",
    "\n",
    "    # •\tLegal variable names:\n",
    "    # myvar = \"John\"\n",
    "    # my_var = \"John\"\n",
    "    # _my_var = \"John\"\n",
    "    # myVar = \"John\"\n",
    "    # MYVAR = \"John\"\n",
    "    # myvar2 = \"John\"\n",
    "\n",
    "    # •\tIllegal variable names:\n",
    "    # 2myvar = \"John\"\n",
    "    # my-var = \"John\"\n",
    "    # my var = \"John\"\n"
   ]
  },
  {
   "cell_type": "code",
   "execution_count": null,
   "id": "4333a935",
   "metadata": {},
   "outputs": [],
   "source": [
    "# Multi Words Variable Names:-\n",
    "\n",
    "# Variable names with more than one word can be difficult to read.\n",
    "# There are several techniques you can use to make them more readable:\n",
    "\n",
    "# Camel Case\n",
    "# Each word starts with a capital letter except the first:\n",
    "# myVariableName = \"John\"\n",
    "\n",
    "# Pascal Case\n",
    "# Each word starts with a capital letter:\n",
    "# MyVariableName = \"John\"\n",
    "# ________________________________________\n",
    "# Snake Case\n",
    "# Each word is separated by an underscore character:\n",
    "# my_variable_name = \"John\"\n",
    "\n"
   ]
  },
  {
   "cell_type": "code",
   "execution_count": 1,
   "id": "965bbf3e",
   "metadata": {
    "scrolled": true
   },
   "outputs": [
    {
     "name": "stdout",
     "output_type": "stream",
     "text": [
      "Orange\n",
      "Banana\n",
      "Cherry\n",
      "Orange\n",
      "Orange\n",
      "Orange\n"
     ]
    }
   ],
   "source": [
    "# Assign Multiple Values\n",
    "# Many Values to Multiple Variables\n",
    "# Python allows you to assign values to multiple variables in one line:\n",
    "# Example\n",
    "x, y, z = \"Orange\", \"Banana\", \"Cherry\"\n",
    "print(x)\n",
    "print(y)\n",
    "print(z)\n",
    "\n",
    "            # Note: Make sure the number of variables matches the number of values, or else you will get an error.\n",
    "\n",
    "# One Value to Multiple Variables\n",
    "# And you can assign the same value to multiple variables in one line:\n",
    "# Example\n",
    "x = y = z = \"Orange\"\n",
    "print(x)\n",
    "print(y)\n",
    "print(z)\n",
    "\n"
   ]
  },
  {
   "cell_type": "code",
   "execution_count": 5,
   "id": "06a4b996",
   "metadata": {},
   "outputs": [
    {
     "name": "stdout",
     "output_type": "stream",
     "text": [
      "Python 3 awesome\n",
      "Python3awesome\n"
     ]
    }
   ],
   "source": [
    "# Output Variables:- In the print() function, you output multiple variables, separated by a comma:\n",
    "# Example\n",
    "x = \"Python\"\n",
    "y = \"3\"            # 3\n",
    "z = \"awesome\"\n",
    "print(x, y, z)\n",
    "print(x+y+z)\n",
    "\n",
    "# The best way to output multiple variables in the print() function is to separate them with commas,\n",
    "    # which even support different data types:"
   ]
  },
  {
   "cell_type": "code",
   "execution_count": null,
   "id": "de01d331",
   "metadata": {},
   "outputs": [],
   "source": []
  },
  {
   "cell_type": "code",
   "execution_count": 8,
   "id": "7884438c",
   "metadata": {},
   "outputs": [
    {
     "name": "stdout",
     "output_type": "stream",
     "text": [
      "Brain Works\n",
      "280\n",
      "280\n",
      "2022-07-11 19:11:53.921979\n"
     ]
    }
   ],
   "source": [
    "#P1 \n",
    "\n",
    "print('Brain Works') # Strings in python are surrounded by either single quotation marks, or double quotation marks.\n",
    "                       # 'Brain Works' is the same as \"Brain Works\".\n",
    "    \n",
    "addition = 10 + 20 + \\\n",
    "           30 + 40 + \\\n",
    "           50 + 60 + 70    # continuation character (\\)\n",
    "\n",
    "print(addition)\n",
    "\n",
    "addition = (10 + 20 +      \n",
    "           30 + 40 + \n",
    "           50 + 60 + 70)\n",
    "print(addition) \n",
    "\n",
    "# The import statement is used to import modules. We can also import individual classes from a module.\n",
    "import datetime\n",
    "\n",
    "# get current datetime\n",
    "x = datetime.datetime.now()\n",
    "print(x)"
   ]
  },
  {
   "cell_type": "code",
   "execution_count": 2,
   "id": "a542c480",
   "metadata": {},
   "outputs": [
    {
     "name": "stdout",
     "output_type": "stream",
     "text": [
      "Twenty is greter than Ten!\n"
     ]
    }
   ],
   "source": [
    "#P2 Indentation:-\n",
    "\n",
    "if 20>10:\n",
    "    print(\"Twenty is greter than Ten!\") # Indentation It is the thing which is used to tell your machine that we are\n",
    "                                          # inside the statement or inside the block."
   ]
  },
  {
   "cell_type": "code",
   "execution_count": 8,
   "id": "cc6dbf5e",
   "metadata": {},
   "outputs": [
    {
     "name": "stdout",
     "output_type": "stream",
     "text": [
      "0b1111\n",
      "0b1001\n",
      "0b10000\n",
      "0o17\n",
      "0o3\n",
      "0o20\n",
      "0xf\n",
      "0x3\n",
      "0x8\n"
     ]
    }
   ],
   "source": [
    "# Base Conversions:-\n",
    "\n",
    "# 1.bin(): We can use bin() to convert from any base to binary\n",
    "\n",
    "print(bin(15))\n",
    "print(bin(0o11))\n",
    "print(bin(0X10))\n",
    "\n",
    "# 2. oct(): We can use oct() to convert from any base to octal\n",
    "\n",
    "print(oct(15))\n",
    "print(oct(0B11))\n",
    "print(oct(0X10))\n",
    "\n",
    "# 3. hex(): We can use hex() to convert from any base to hexa decimal, 0 to 9, a-f (both lower and upper cases are allowed)\n",
    "\n",
    "print(hex(15))\n",
    "print(hex(0B11))\n",
    "print(hex(0o10))"
   ]
  },
  {
   "cell_type": "code",
   "execution_count": 11,
   "id": "e2e6f692",
   "metadata": {},
   "outputs": [
    {
     "name": "stdout",
     "output_type": "stream",
     "text": [
      "2518747841040\n",
      "2518747841040\n",
      "2518747841104\n",
      "<class 'NoneType'>\n"
     ]
    }
   ],
   "source": [
    "# 1. In Python the following data types are considered as Fundamental Data types\n",
    "#  int\n",
    "#  float\n",
    "#  complex\n",
    "#  bool\n",
    "#  str\n",
    "\n",
    "# All Fundamental Data types are immutable.i.e once we creates an object,we cannot perform any changes in that object. \n",
    "# If we are trying to change then with those changes a new object will be created. \n",
    "# This non-chageable behaviour is called immutability.\n",
    "\n",
    "a=10\n",
    "b=10\n",
    "print(id(a))   # 2470927991312\n",
    "print(id(b))   # 2470927991312\n",
    "b=12\n",
    "print(id(b))   # 2470927991376\n",
    "\n",
    "# range Data Type: range Data Type represents a sequence of numbers.\n",
    "        # The elements present in range Data type are not modifiable. i.e range Data type is immutable.\n",
    "\n",
    "# frozenset Data Type: It is exactly same as set except that it is immutable.\n",
    "        #Hence we cannot use add or remove functions.\n",
    "    \n",
    "# None Data Type: None means Nothing or No value associated.\n",
    "            # If the value is not available,then to handle such type of cases None introduced.   \n",
    "x=None\n",
    "print(type(x))\n"
   ]
  },
  {
   "cell_type": "code",
   "execution_count": 14,
   "id": "abf5900b",
   "metadata": {},
   "outputs": [
    {
     "name": "stdout",
     "output_type": "stream",
     "text": [
      "30\n",
      "Enter First Number:12\n",
      "Enter Second Number:13\n",
      "Enter Third Number:12\n",
      "Maximum Value: 13\n"
     ]
    }
   ],
   "source": [
    "# Ternary Operator:\n",
    "# Syntax:\n",
    "# x = firstValue if condition else secondValue\n",
    "# If condition is True then firstValue will be considered else secondValue will be considered.\n",
    "\n",
    "a,b=10,20\n",
    "x=30 if a<b else 40\n",
    "print(x)\n",
    "\n",
    "#----------------------------------------------\n",
    "\n",
    "a=int(input(\"Enter First Number:\"))\n",
    "b=int(input(\"Enter Second Number:\"))\n",
    "c=int(input(\"Enter Third Number:\"))\n",
    "max=a if a>b and a>c else b if b>c else c\n",
    "print(\"Maximum Value:\",max)"
   ]
  },
  {
   "cell_type": "code",
   "execution_count": null,
   "id": "66ecd063",
   "metadata": {},
   "outputs": [],
   "source": [
    "# P3 Python Operators (AA CL IMB):- \n",
    "\n",
    "# Operators are used to perform operations on variables and values.\n",
    "# Python divides the operators in the following groups:\n",
    "\n",
    "# Arithmetic operators :- used with numeric values to perform common mathematical operations:- (+, -, , /, %, //, *)\n",
    "# Assignment operators :- used to assign values to variables =, x += 3 (x=x+3) likewise for -,*,/,%, |,& >>,<<,^ etc\n",
    "# Comparison operators :- used to compare two values: (==, !=, >, <, >=, <=)\n",
    "# Logical operators :- used to combine conditional statements:- (and, or, not)\n",
    "# Identity operators :- used to compare the objects: (is , is not)\n",
    "# Membership operators :- used to testing if a sequence is presented in an object: (in, not in)\n",
    "# Bitwise operators :- used to comparing (binary) numbers( &, |, ^, ~ ) and or XOR\n",
    "print(2+2)\n",
    "print(4-2)\n",
    "print(62) \n",
    "print(9/2)         # \"/\" division always returns a floating point number \n",
    "print(9//2)        # \"//\"division always returns a Int point number print\n",
    "((4*2)**5)         # Power function = power raised to a power print\n",
    "((3+4j)-(2+7j))    # complex numbers, Complex (Real and Imaginary) numbers are written with a \"j\" as the imaginary part \n",
    "print(11%3)        # Modulus"
   ]
  },
  {
   "cell_type": "code",
   "execution_count": 13,
   "id": "1b864276",
   "metadata": {},
   "outputs": [
    {
     "name": "stdout",
     "output_type": "stream",
     "text": [
      "Select operation.\n",
      "+.Add\n",
      "-.Subtract\n",
      "*.Multiply\n",
      "/.Divide\n",
      "Enter choice(+,-,*,/): +\n",
      "Enter first number: 12\n",
      "Enter second number: 12\n",
      "12.0 + 12.0 = 24.0\n",
      "Let's do next calculation? (Y/N): no\n"
     ]
    }
   ],
   "source": [
    "#P3 Calculator Program\n",
    "# This function adds two numbers\n",
    "def add(x, y):\n",
    "    return x + y\n",
    "# This function subtracts two numbers\n",
    "def subtract(x, y):\n",
    "    return x - y\n",
    "# This function multiplies two numbers\n",
    "def multiply(x, y):\n",
    "    return x * y\n",
    "# This function divides two numbers\n",
    "def divide(x, y):\n",
    "    return x / y\n",
    "print(\"Select operation.\")\n",
    "print(\"+.Add\")\n",
    "print(\"-.Subtract\")\n",
    "print(\"*.Multiply\")\n",
    "print(\"/.Divide\")\n",
    "\n",
    "while True:\n",
    "    # take input from the user\n",
    "    Select = input(\"Enter choice(+,-,*,/): \")\n",
    "\n",
    "    # check if choice is one of the four options\n",
    "    if Select in ('+', '-', '*', '/'):\n",
    "        num1 = float(input(\"Enter first number: \"))\n",
    "        num2 = float(input(\"Enter second number: \"))\n",
    "\n",
    "        if Select == '+':\n",
    "            print(num1, \"+\", num2, \"=\", add(num1, num2))\n",
    "\n",
    "        elif Select == '-':\n",
    "            print(num1, \"-\", num2, \"=\", subtract(num1, num2))\n",
    "\n",
    "        elif Select == '*':\n",
    "            print(num1, \"*\", num2, \"=\", multiply(num1, num2))\n",
    "\n",
    "        elif Select == '/':\n",
    "            print(num1, \"/\", num2, \"=\", divide(num1, num2))\n",
    "\n",
    "        # check if user wants another calculation\n",
    "        # break the while loop if answer is no\n",
    "        next_calculation = input(\"Let's do next calculation? (Y/N): \")\n",
    "        if next_calculation == \"N\" or \"n\" or \"No\" or \"no\":\n",
    "            break\n",
    "    else:\n",
    "        print(\"Invalid Input\")\n"
   ]
  },
  {
   "cell_type": "code",
   "execution_count": 16,
   "id": "1c7599da",
   "metadata": {},
   "outputs": [
    {
     "name": "stdout",
     "output_type": "stream",
     "text": [
      "4.0\n",
      "3.141592653589793\n",
      "4.0\n",
      "3.141592653589793\n",
      "Enter 3 float numbers :1,2,3\n",
      "The Sum is : 6.0\n",
      "60\n",
      "Enter Expression12/13\n",
      "0.9230769230769231\n"
     ]
    }
   ],
   "source": [
    "# Mathematical Functions (math Module):- A Module is collection of functions, variables and classes etc.\n",
    "\n",
    "import math\n",
    "print(math.sqrt(16))\n",
    "print(math.pi)\n",
    "\n",
    "# We can create alias name by using as keyword.\n",
    "\n",
    "# import math as m\n",
    "\n",
    "# Once we create alias name, by using that we can access functions and variables of that module\n",
    "\n",
    "import math as m\n",
    "print(m.sqrt(16))    # 4.0\n",
    "print(m.pi)          # 3.14\n",
    "\n",
    "\n",
    "# important functions of math module:\n",
    "\n",
    "# ceil(x)\n",
    "# floor(x)\n",
    "# pow(x,y)\n",
    "# factorial(x)\n",
    "# trunc(x)\n",
    "# gcd(x,y)\n",
    "# sin(x)\n",
    "# cos(x)\n",
    "# tan(x)\n",
    "\n",
    "# important variables of math module:\n",
    "# pi===>3.14\n",
    "# e===>2.71\n",
    "# inf ==>infinity\n",
    "# nan ==>not a number\n",
    "\n",
    "# Write a program to read 3 float numbers from the keyboard with , seperator and print their sum.\n",
    "a,b,c= [float(x) for x in input(\"Enter 3 float numbers :\").split(',')]\n",
    "print(\"The Sum is :\", a+b+c)\n",
    "\n",
    "\n",
    "# eval():  eval Function take a String and evaluate the Result.\n",
    "\n",
    "x = eval('10+20+30')\n",
    "print(x)\n",
    "\n",
    "y = eval(input('Enter Expression'))\n",
    "print(y)\n"
   ]
  },
  {
   "cell_type": "code",
   "execution_count": 5,
   "id": "850b5a41",
   "metadata": {},
   "outputs": [
    {
     "name": "stdout",
     "output_type": "stream",
     "text": [
      "6\n",
      "Brain Works\n",
      "<class 'int'>\n",
      "<class 'str'>\n",
      "<class 'float'>\n",
      "Amol\n"
     ]
    }
   ],
   "source": [
    "#P4\n",
    "\n",
    "x=4              # Variables do not need to be declared with any particular type\n",
    "Y='Brain Works'  # Variable names are case-sensitive (y and Y are different variables)\n",
    "z=5.2\n",
    "x=6             # here is two value of x 4 & 6, but it will print the latest one x=6\n",
    "myName=\"Amol\"   # A variable can have a short name (like x and y) or a more descriptive name\n",
    "                # A variable name must start with a letter (A to z) or the underscore character(_)\n",
    "print(x)\n",
    "print(Y)\n",
    "print(type(x))\n",
    "print(type(Y))\n",
    "print(type(z))\n",
    "myVaName='Amol'  # camel case: Each word, except the first, starts with a capital letter (mVN), pascal (MVN), snake (m_v_n)\n",
    "print(myVaName)"
   ]
  },
  {
   "cell_type": "code",
   "execution_count": 6,
   "id": "42fa6169",
   "metadata": {},
   "outputs": [
    {
     "name": "stdout",
     "output_type": "stream",
     "text": [
      "Brain\n",
      "Works\n",
      "Class\n",
      "Brain\n",
      "Brain\n",
      "Brain\n"
     ]
    }
   ],
   "source": [
    "#P5\n",
    "\n",
    "x, y, z =('Brain','Works','Class') # Python allows you to assign values to multiple variables in one line.\n",
    "                                   # Make sure the number of variables matches the number of values\n",
    "print(x)\n",
    "print(y)\n",
    "print(z)\n",
    "\n",
    "x=y=z= ('Brain')                 # assign the same value to multiple variables in one line\n",
    "print(x)\n",
    "print(y)\n",
    "print(z)"
   ]
  },
  {
   "cell_type": "code",
   "execution_count": 3,
   "id": "006a32d6",
   "metadata": {},
   "outputs": [
    {
     "name": "stdout",
     "output_type": "stream",
     "text": [
      "Red\n",
      "Orange\n",
      "Green\n",
      "('Red', 'Orange', 'Green', True)\n"
     ]
    }
   ],
   "source": [
    "#P6 (Unpacking :- you have a collection of values in a list, tuple etc.\n",
    "                # Python allows you to extract the values into variables. This is called unpacking.\n",
    "\n",
    "Traffic_Signal = [\"Red\", \"Orange\", \"Green\"]\n",
    "R, O, G =Traffic_Signal\n",
    "print(R)\n",
    "print(O)\n",
    "print(G)\n",
    "\n",
    "# All variables extract into a list,tuple etc. is called as packing.\n",
    "R=\"Red\"\n",
    "O=\"Orange\"\n",
    "G=\"Green\"\n",
    "J=True\n",
    "Traffic_Signal=R,O,G,J\n",
    "print(Traffic_Signal)"
   ]
  },
  {
   "cell_type": "code",
   "execution_count": 6,
   "id": "4fd0198e",
   "metadata": {},
   "outputs": [
    {
     "name": "stdout",
     "output_type": "stream",
     "text": [
      "Python is Object Orieanted Programming 121\n",
      "Python is Object Orieanted Programming Language\n"
     ]
    }
   ],
   "source": [
    "#P7 # Concatenation (combining strings)\n",
    "                                      \n",
    "\n",
    "x=(\"Python is\")\n",
    "y=(\"Object Orieanted Programming\")\n",
    "z=121\n",
    "print(x,y,z)                           # output multiple variables, separated by a comma\n",
    "\n",
    "x=(\"Python is \")                      # space after \"is \" and \"Programming \", without them the result would be\n",
    "y=(\"Object Orieanted Programming \")   # \"Python isObject Orianted ProgrammingLanguage\"\n",
    "z=(\"Language\")\n",
    "print(x + y + z)                      # You can also use the + operator to output multiple variables\n",
    "          # Note: when you try to combine a string and a number with the + operator, Python will give you an error:\n",
    "                # The best way to output multiple variables in the print() function is to separate them with commas,\n",
    "                # which even support different data types\n"
   ]
  },
  {
   "cell_type": "code",
   "execution_count": 25,
   "id": "9551196e",
   "metadata": {},
   "outputs": [
    {
     "name": "stdout",
     "output_type": "stream",
     "text": [
      "a value is 10\n",
      "b value is 20 and c value is 30\n"
     ]
    }
   ],
   "source": [
    "# print(formatted string):- print(\"formatted string\" %(variable list))\n",
    "\n",
    "a=10\n",
    "b=20\n",
    "c=30\n",
    "print(\"a value is %i\" %a)\n",
    "print(\"b value is %d and c value is %d\" %(b,c))"
   ]
  },
  {
   "cell_type": "code",
   "execution_count": 9,
   "id": "66a814d0",
   "metadata": {},
   "outputs": [
    {
     "name": "stdout",
     "output_type": "stream",
     "text": [
      "I can talk Marathi\n",
      "I can talk English\n"
     ]
    }
   ],
   "source": [
    "#P8 Global Variables\n",
    "\n",
    "    # Variables that are created outside of a function are known as global variables.\n",
    "    # Global variables can be used by everyone, both inside of functions and outside.\n",
    "    \n",
    "    # \"global keyword\" allows you to modify the variable outside of the current scope.\n",
    "    \n",
    "    # If you create a variable with the same name inside a function, this variable will be local\n",
    "     # (scope of limited in function )\n",
    "\n",
    "k = 'English'\n",
    "def my_function():\n",
    "    k = \"Marathi\"\n",
    "    print(\"I can talk\", k)   # Local variable\n",
    "my_function()\n",
    "print(\"I can talk\", k)       # Global variable\n"
   ]
  },
  {
   "cell_type": "code",
   "execution_count": 11,
   "id": "43ed4941",
   "metadata": {},
   "outputs": [
    {
     "name": "stdout",
     "output_type": "stream",
     "text": [
      "<class 'str'>\n",
      "<class 'int'>\n",
      "<class 'float'>\n",
      "<class 'complex'>\n",
      "<class 'list'>\n",
      "<class 'tuple'>\n",
      "<class 'range'>\n",
      "<class 'dict'>\n",
      "<class 'set'>\n",
      "<class 'set'>\n",
      "<class 'bool'>\n"
     ]
    }
   ],
   "source": [
    "#P9 Python Data Types(TNS MSBB):- type() :- Variables can store data of different types, and different types \n",
    "                                        # can do different things. It tells the machine how to interpret given value.\n",
    "    \n",
    "a = \"Hello World\"           #str      # Text Type\n",
    "print(type(a))\n",
    "b=20                        #int      #Numeric Type\n",
    "print(type(b))\n",
    "c=23.4                      #Float    #Numeric Type  # it also scientific numbers with an \"e\" to indicate the power of 10.\n",
    "print(type(c))\n",
    "d=5+3j                      #complex  #Numeric Type,  cannot convert complex numbers into another number type\n",
    "print(type(d))\n",
    "e=[\"Fish, Dog, Cat, Lion\"]       #list      #Sequence Types\n",
    "print(type(e))\n",
    "f=(\"Fish\",\" Dog\",\"Cat\",\"Lion\")   #tuple     #Sequence Types\n",
    "print(type(f))\n",
    "g=range(6)                       #range     #Sequence Types\n",
    "print(type(g))\n",
    "h={\"name\" : \"John\", \"age\" : 36}  #dict      #Mapping Type\n",
    "print(type(h))\n",
    "i={\"Ram\", \"Sham\", \"Ganu\"}        #Set       #Set Type\n",
    "print(type(i))\n",
    "\n",
    "i=set()                             #empty set       #Set Type\n",
    "print(type(i))\n",
    "\n",
    "k=True                           # Bool    #Boolean Type\n",
    "print(type(k))"
   ]
  },
  {
   "cell_type": "code",
   "execution_count": 11,
   "id": "c8196a8e",
   "metadata": {},
   "outputs": [
    {
     "name": "stdout",
     "output_type": "stream",
     "text": [
      "5125\n",
      "2\n",
      "3\n",
      "2\n",
      "3\n",
      "16.0\n",
      "15\n",
      "15.0\n",
      "3.141592653589793\n",
      "2.718281828459045\n"
     ]
    }
   ],
   "source": [
    "#P10 Random Number:- Import the random module/ math module, and display a random number/ math value.\n",
    "\n",
    "import random\n",
    "print(random.randrange(1000,9999))        # OTP\n",
    "\n",
    "import math\n",
    "print(math.floor(2.9))        # Highest Int\n",
    "print(math.ceil(2.3))         # Lowest Int\n",
    "\n",
    "import math as m\n",
    "print(m.floor(2.1))\n",
    "print(m.ceil(2.8))\n",
    "print(m.pow(2,4))\n",
    "print(m.isqrt(225))\n",
    "print(m.sqrt(225))\n",
    "print(m.pi)                  # Constant Value\n",
    "print(math.e)                # Constant Value\n"
   ]
  },
  {
   "cell_type": "code",
   "execution_count": 12,
   "id": "ee58cd4e",
   "metadata": {},
   "outputs": [
    {
     "name": "stdout",
     "output_type": "stream",
     "text": [
      "B\n",
      "r\n",
      "!\n",
      "!\n",
      " \n",
      "n\n",
      "rain \n",
      "orks\n",
      "12\n"
     ]
    }
   ],
   "source": [
    "#P11  Strings are Arrays:- strings in Python are arrays of bytes representing unicode characters\n",
    "\n",
    "x='Brain Works!'\n",
    "print(x[0])\n",
    "print(x[1])        # Square brackets can be used to access elements of the string\n",
    "                     # 0 > 1 > 2 > 3 >4 > .... >n\n",
    "                     # -1 <-2 <-3 <-4 <- .... <-n\n",
    "print(x[11])\n",
    "print(x[-1])\n",
    "print(x[-7])       # Space also count for length\n",
    "print(x[-8])\n",
    "print(x[1:6])\n",
    "print(x[-5:-1])\n",
    "print(len(x))"
   ]
  },
  {
   "cell_type": "code",
   "execution_count": 17,
   "id": "9cba6511",
   "metadata": {},
   "outputs": [
    {
     "name": "stdout",
     "output_type": "stream",
     "text": [
      "Mynameisamol\n",
      "3\n"
     ]
    }
   ],
   "source": [
    "#P12 :- Find index of character without space\n",
    "str = \"My name is amol\"\n",
    "x=str.replace(\" \",\"\")          # replace() method replaces a string with another string\n",
    "print(x)\n",
    "y= x.index(\"a\")\n",
    "print(y)"
   ]
  },
  {
   "cell_type": "code",
   "execution_count": 14,
   "id": "1b524d4b",
   "metadata": {},
   "outputs": [
    {
     "name": "stdout",
     "output_type": "stream",
     "text": [
      "True\n",
      "Yes, India is present\n",
      "INDIA IS MY COUNTRY\n",
      "india is my country\n",
      "My Name is Amol\n",
      "['India', 'is', 'my', 'country']\n",
      "My Name is Amol 29\n",
      "I brought 3 boll and 7 apple for rupies 249.95\n",
      "I brought 7 apple for rupies 23.43 and 3 boll for rupies 34\n",
      "We are the so-called \"Vikings\" from the north.\n"
     ]
    }
   ],
   "source": [
    "# P13 Check String\n",
    "\n",
    "x= \"India is my country\"\n",
    "print(\"India\" in x)\n",
    "\n",
    "if \"India\" in x:\n",
    "    print(\"Yes, India is present\")\n",
    "else:\n",
    "    print(\"Sorry, Indian is not present\")\n",
    "\n",
    "print(x.upper())             # upper() method returns the string in upper case\n",
    "print(x.lower())             # lower() method returns the string in lower case\n",
    "\n",
    "y=\" My Name is Amol\"\n",
    "print(y.strip())             # strip() method removes any whitespace from the beginning or the end\n",
    "\n",
    "print(x.split(\" \"))          # split() method splits the string into substrings if it finds instances of the separator\n",
    "\n",
    "k=\"My Name is Amol {}\"\n",
    "Age=29                       # format() method takes unlimited number of arguments, and are placed into the\n",
    "print(k.format(Age))         # respective placeholders {}\n",
    "\n",
    "B = 3                    # index numbers {0} {1} {2}...{n} to be sure the arguments are placed in the correct placeholders\n",
    "A = 7\n",
    "R = 249.95\n",
    "r1=34\n",
    "r2=23.43\n",
    "order = \"I brought {} boll and {} apple for rupies {}\"\n",
    "print(order.format(B, A, R))\n",
    "\n",
    "order = \"I brought {1} apple for rupies {3} and {0} boll for rupies {2}\"\n",
    "print(order.format(B, A, r1, r2))\n",
    "\n",
    "txt = \"We are the so-called \\\"Vikings\\\" from the north.\"    # \\ is use for ignore the special meaning of \"\n",
    "print(txt)"
   ]
  },
  {
   "cell_type": "code",
   "execution_count": 1,
   "id": "a71d9076",
   "metadata": {},
   "outputs": [
    {
     "name": "stdout",
     "output_type": "stream",
     "text": [
      "1 2 3 4 5\n",
      "12345\n",
      "1\n",
      "2\n",
      "3\n",
      "4\n",
      "5\n"
     ]
    }
   ],
   "source": [
    "#P14\n",
    "\n",
    "x=(1,2,3,4,5)\n",
    "print(*x)                     # * Remove comma\n",
    "print(*x, sep=\"\")             # sep=\"\" Remove Space\n",
    "print(*x, sep=\"\\n\")           # \\n new line\n"
   ]
  },
  {
   "cell_type": "code",
   "execution_count": 22,
   "id": "362ef7e8",
   "metadata": {},
   "outputs": [
    {
     "name": "stdout",
     "output_type": "stream",
     "text": [
      "It's fine\n",
      "It's fine\n",
      "It's\t fine\n",
      "c:\\docs\n",
      "ew\n",
      "c:\\docs\\new\n",
      "It's \b fine\n",
      "It's\r",
      " fine\n"
     ]
    }
   ],
   "source": [
    "#P15\n",
    "\n",
    "x=('It\\'s fine')               # ' \\' ' (ignore the special meaning of ')\n",
    "print(x)\n",
    "y=(\"It's fine\")\n",
    "print(y)\n",
    "z=(\"It's\\t fine\")              # \\t Tab\n",
    "print(z)\n",
    "a=('c:\\docs\\new')              # \\n New Line\n",
    "print(a)\n",
    "b=(r'c:\\docs\\new')             # r (ignore the special meaning of \\n)\n",
    "print(b)\n",
    "c=(\"It's \\b fine\")             # \\b backspace\n",
    "print(c)\n",
    "d=(\"It's\\r fine\")              # \\r Form Feed\n",
    "print(d)"
   ]
  },
  {
   "cell_type": "code",
   "execution_count": 9,
   "id": "e69848d4",
   "metadata": {},
   "outputs": [
    {
     "name": "stdout",
     "output_type": "stream",
     "text": [
      "3\n",
      "7\n",
      "['amol', 6, 4, 2]\n",
      "[10, 2, 3, 4, 5, 6, 7, 'aha']\n",
      "[10, 2, 3, 4, 5, 6, 7, 'aha', 'sfaga']\n",
      "[10, 2, 3, 4, 5, 6, 7, 'aha', 10]\n",
      "[1, 2, 3, 4, 5, 7, 'amol']\n",
      "[10, 2, 3, 4, 5, 6, 7, 'aha', 10, 1, 2, 3, 4, 5, 7, 'amol']\n"
     ]
    }
   ],
   "source": [
    "#P17 Python String Accessing\n",
    "\n",
    "x=[10,2,3,4,5,6,7,\"amol\"]\n",
    "print(x[2])\n",
    "print(x[-2])\n",
    "print(x[::-2])  # ['amol', 6, 4, 2]\n",
    "\n",
    "x[7]='aha'\n",
    "print(x)\n",
    "\n",
    "y=[\"sfaga\"]\n",
    "print(x+y)\n",
    "\n",
    "x.append(10)\n",
    "print(x)\n",
    "\n",
    "z=[1,2,3,4,5,6,7,\"amol\"]\n",
    "del z[5]\n",
    "print(z)\n",
    "x.extend(z)\n",
    "print(x)\n"
   ]
  },
  {
   "cell_type": "code",
   "execution_count": 24,
   "id": "7dd7ab22",
   "metadata": {},
   "outputs": [
    {
     "name": "stdout",
     "output_type": "stream",
     "text": [
      "['Hello:', '', 'Python', 'Java', 'C++']\n"
     ]
    }
   ],
   "source": [
    "# Python String Methods\n",
    "a=\"brAin worKS AMol\" \n",
    "# print(a.capitalize())    (a.title())  # Converts the first character to upper case\n",
    "# print(a.casefold())               # Converts string into lower case\n",
    "# print(a.center(20,\"$\"))           # Returns a centered string\n",
    "# print(a.count(A))\t                # Returns the number of times a specified value occurs in a string\n",
    "\n",
    "# print(a.find(\"M\")) (a.index())  # Searches string for a specified value and returns the position of where it was found\n",
    "\n",
    "#print(a.join())\t    # Converts the elements of an iterable into a string\n",
    "\n",
    "# print(a.lower())\t# Converts a string into lower case\n",
    "\n",
    "# print(a.rsplit())\t# Splits the string at the specified separator, and returns a list\n",
    "# print(mystr.swapcase())  # Swaps cases, lower case becomes upper case and vice versa\n",
    "# print(a.split())\t# Splits the string at the specified separator, and returns a list\n",
    "# print(a.splitlines())\t# Splits the string at line breaks and returns a list\n",
    "mystr = \"Hello:\\n\\nPython\\r\\nJava\\nC++\\n\"\n",
    "print(mystr.splitlines())\n",
    "\n",
    "\n",
    "# print(a.upper())\t# Converts a string into upper case\n",
    "# print(a.zfill())\t# Fills the string with a specified number of 0 values at the beginning"
   ]
  },
  {
   "cell_type": "code",
   "execution_count": 25,
   "id": "ca0af12a",
   "metadata": {},
   "outputs": [
    {
     "name": "stdout",
     "output_type": "stream",
     "text": [
      "True\n",
      "True\n",
      "True\n",
      "False\n",
      "False\n",
      "False\n",
      "False\n",
      "False\n",
      "False\n",
      "False\n"
     ]
    }
   ],
   "source": [
    "print(bool(\"Hello\")) \n",
    "print(bool(15))\n",
    "print(bool([1,2,3]))\n",
    "\n",
    "print(bool(False))\n",
    "print(bool(None))\n",
    "print(bool(0))\n",
    "print(bool(\"\"))\n",
    "print(bool(()))\n",
    "print(bool([]))\n",
    "print(bool({}))\n",
    "\n",
    "\n",
    "## Most Values are True\n",
    "# Almost any value is evaluated to True if it has some sort of content.\n",
    "# Any string is True, except empty strings.\n",
    "# Any number is True, except 0.\n",
    "# Any list, tuple, set, and dictionary are True, except empty ones.\n"
   ]
  },
  {
   "cell_type": "code",
   "execution_count": 26,
   "id": "9e8bb1c2",
   "metadata": {
    "scrolled": true
   },
   "outputs": [
    {
     "name": "stdout",
     "output_type": "stream",
     "text": [
      "List with the use of Mixed Values: \n",
      "[1, 2, 'Brain', 4.3, 2, -6, 'Works', 6, 'Python']\n",
      "<class 'list'>\n",
      "9\n",
      "[1, 2, 'Brain', 4.3, 2, -6, 'Works', 6, 'Python', 7, 17, 'Amol']\n",
      "[1, 2, 'Brain', 4.3, 2, -6, 'Works', 6, 'Python', 7, 17, 'Amol', [12, -1, 'Sai']]\n",
      "[1, 'om', 2, 'Brain', 4.3, 2, -6, 'Works', 6, 'Python']\n",
      "[1, 'om', 2, [12, -1, 'Sai'], 'Brain', 4.3, 2, -6, 'Works', 6, 'Python']\n",
      "[1, 2, 'Brain', 4.3, 2, -6, 'Works', 6, 'Python', 12, -1, 'Sai']\n"
     ]
    }
   ],
   "source": [
    "## P18 LIST :- is a collection which is ordered and (Mutable) changeable. Allows duplicate members.\n",
    "             # Lists are used to store multiple items in a single variable\n",
    "             # Heterogeneous nature\n",
    "        \n",
    "## Creating a List\n",
    "\n",
    "L = [1, 2, 'Brain', 4.3, 2, -6,'Works', 6, 'Python']    # [mixed type of values int, boolean and strings & Duplicates]\n",
    "print(\"List with the use of Mixed Values: \")\n",
    "print(L)\n",
    "print(type(L))                     # Data type\n",
    "\n",
    "## Knowing the size of List\n",
    "\n",
    "L = [1, 2, 'Brain', 4.3, 2, -6,'Works', 6, 'Python']\n",
    "print(len(L))                      # [In list len consider only count of element, not consider space]\n",
    "\n",
    "## Adding Elements to a List:\n",
    "    # Using append() method:- To add only one item to the end of the list\n",
    "L = [1, 2, 'Brain', 4.3, 2, -6,'Works', 6, 'Python']\n",
    "L.append(7)\n",
    "L.append(17)\n",
    "L.append('Amol')\n",
    "print(L)\n",
    "L1=[12,-1,\"Sai\"]\n",
    "L.append(L1)\n",
    "print(L)\n",
    "\n",
    "    # Using insert() method:- The add of elements at the desired position\n",
    "L = [1, 2, 'Brain', 4.3, 2, -6,'Works', 6, 'Python']\n",
    "L.insert(1,\"om\")\n",
    "print(L)\n",
    "L1=[12,-1,\"Sai\"]\n",
    "L.insert(-7, L1)\n",
    "print(L)\n",
    "\n",
    "    # Using extend() method:- To append elements from another list to the current list\n",
    "L = [1, 2, 'Brain', 4.3, 2, -6,'Works', 6, 'Python']\n",
    "L1=[12,-1,\"Sai\"]\n",
    "L.extend(L1)\n",
    "print(L)\n",
    "\n"
   ]
  },
  {
   "cell_type": "code",
   "execution_count": 27,
   "id": "12d93f1b",
   "metadata": {},
   "outputs": [
    {
     "name": "stdout",
     "output_type": "stream",
     "text": [
      "2\n",
      "1\n",
      "Python\n",
      "Brain\n",
      "2\n",
      "[2, 'Brain', 4.3, 2, -6]\n",
      "[2, -6, 'Works', 6]\n",
      "[-6, 'Works', 6, 'Python']\n",
      "[1, 2, 'Brain', 4.3, 2, -6, 'Works', 6]\n",
      "[4.3, -6, 6]\n",
      "['Brain', 'Works']\n",
      "['Brain', 4.3, 2, -6, 'Works', 6, 'Python']\n",
      "[1, 'Brain', 2, 'Works', 'Python']\n",
      "['Python', 'Works', 2, 'Brain', 1]\n",
      "['Python', 6, 'Works', -6, 2, 4.3, 'Brain', 2, 1]\n",
      "['Python', 6, 'Works', -6, 2, 4.3, 'Brain', 2, 1]\n",
      "-1\n",
      "Brain\n",
      "['Brain', 4.3, 2, -6, 'Works']\n"
     ]
    }
   ],
   "source": [
    "## Accessing elements from the List:- In order to access the list items refer to the index number. [0,1,2,3..n]\n",
    "                                        # The index must be an integer.\n",
    "                                        # Nested lists are accessed using nested indexing.\n",
    "L = [1, 2, 'Brain', 4.3, 2, -6,'Works', 6, 'Python']\n",
    "print(L[1])\n",
    "print(L[0])          # Square brackets can be used to access elements\n",
    "                     # 0 > 1 > 2 > 3 >4 > .... >n\n",
    "                     # -1 <-2 <-3 <-4 <- .... <-n\n",
    "\n",
    "print(L[-1])\n",
    "print(L[-7])\n",
    "print(L[-8])\n",
    "print(L[1:6])\n",
    "print(L[-5:-1])\n",
    "print(L[5:])\n",
    "print(L[:-1])\n",
    "print(L[3::2])      # [3::2] start from index 3 and shift the +1 index\n",
    "print(L[2::4])      # [2::4] start from index 2 and shift the +3 index\n",
    "print(L[2::])      # [2::] start from index 2 and blank means shift the 0 index\n",
    "print(L[::2])      # [::2] start from index 0 and shift the +1 index from LHSl\n",
    "print(L[::-2])      # [::-2] start from index -n and shift the +1 index from RHS\n",
    "\n",
    "print(L[::-1])      # [::-1] or reverse() function for reverse print\n",
    "L.reverse()\n",
    "print(L)\n",
    "\n",
    "L=[[12,-1,\"Sai\"],[1, 2, 'Brain', 4.3, 2, -6,'Works', 6, 'Python']]\n",
    "print(L[0][1])     # -1               # Nested lists are accessed using nested indexing.\n",
    "print(L[1][-7])    # Brain\n",
    "print(L[1][-7:-2])  # ['Brain', 4.3, 2, -6, 'Works']\n",
    "\n"
   ]
  },
  {
   "cell_type": "code",
   "execution_count": 28,
   "id": "06860d10",
   "metadata": {},
   "outputs": [
    {
     "name": "stdout",
     "output_type": "stream",
     "text": [
      "[1, 'Brain', 4.3, 2, -6, 'Works', 6, 'Python']\n",
      "[7, 8, 9]\n",
      "[1, 2, 'Brain', 4.3, 2, -6, 'Works', 6]\n",
      "[1, 2, 4.3, 2, -6, 'Works', 6]\n",
      "[1, 2, 'Brain', 4.3, 2, -6, 'Works', 6, 'Python']\n",
      "['Brain', 4.3, 2, -6, 'Works', 6, 'Python']\n"
     ]
    }
   ],
   "source": [
    "## Removing Elements from the List\n",
    "                # Using remove() method:- removes the specified item\n",
    "L = [1, 2, 'Brain', 4.3, 2, -6,'Works', 6, 'Python']\n",
    "L.remove(2)                 # 1. Removing elements from List using Remove() method\n",
    "print(L)\n",
    "k=[1,2,3,4,5,6,7,8,9]\n",
    "for i in range(1, 7):       # 2. Removing elements(only value) from List using for loop method\n",
    "    k.remove(i)\n",
    "print(k)\n",
    "\n",
    "                # Using pop() method:- Removes the element at the specified position\n",
    "L = [1, 2, 'Brain', 4.3, 2, -6,'Works', 6, 'Python']\n",
    "L.pop()                   # Index number not specified means remove the last element\n",
    "print(L)\n",
    "L.pop(2)\n",
    "print(L)\n",
    "\n",
    "\n",
    "# # Slicing of a List\n",
    "k = [1, 2, 'Brain', 4.3, 2, -6,'Works', 6, 'Python']\n",
    "slice_List=k[:]             # Printing all elements using slice operation:\n",
    "print(slice_List)\n",
    "slice_List = k[2:]           #Print elements from a  pre-defined point to end\n",
    "print(slice_List)\n",
    "\n",
    "\n",
    "\n"
   ]
  },
  {
   "cell_type": "code",
   "execution_count": 29,
   "id": "98678c53",
   "metadata": {},
   "outputs": [
    {
     "name": "stdout",
     "output_type": "stream",
     "text": [
      "[1, 9, 25, 49, 81, 121, 169, 225, 289, 361]\n",
      "[4, 16, 36, 64, 100, 144, 196, 256, 324, 400]\n",
      "[2, 4, 8, 16, 32, 64, 128, 256, 512, 1024, 2048, 4096, 8192, 16384, 32768, 65536, 131072, 262144, 524288, 1048576]\n",
      "86.1\n",
      "3\n",
      "4\n",
      "44.3\n",
      "-5\n",
      "[-5, 1, 2, 5, 7, 7, 7, 8, 9.8, 44.3]\n",
      "[44.3, 9.8, 8, 7, 7, 7, 5, 2, 1, -5]\n",
      "[44.3, 9.8, 8, 7, 7, 5, 2, 1, -5]\n",
      "[44.3, 9.8, 8, 7, 7, 5, 2, 1, -5]\n",
      "[]\n",
      "[(6, 5), (3, 2), (91, 90), (25, 24), (12, 10)]\n",
      "[(5, 6), (2, 3), (90, 91), (24, 25), (10, 12)]\n",
      "[50, 65, 23, 82, 100]\n"
     ]
    }
   ],
   "source": [
    "## List Comprehension:- List comprehensions are used for creating new lists from other iterables\n",
    "                        # like tuples, strings, arrays, lists, etc.\n",
    "                        # newList = [ expression(element) for element in oldList if condition ]\n",
    "# below list contains square of all odd and even numbers from range 1 to 20\n",
    "odd_sqr=[x**2 for x in range(1, 21) if x%2==1]\n",
    "print(odd_sqr)\n",
    "\n",
    "even_sqr=[x**2 for x in range(1, 21) if x%2==0]\n",
    "print(even_sqr)\n",
    "\n",
    "Two_power=[2**x for x in range(1,21)]\n",
    "print(Two_power)\n",
    "\n",
    "\n",
    "# List Methods= sum(), count(), index(), min() and max() functions of List\n",
    "L = [1, 2,5,8,7, -5,9.8,7 ,44.3,7]\n",
    "print(sum(L))\n",
    "print(L.count(7))\n",
    "print(L.index(7,1,5))         #L.index(element[,start[,end]]) output is index number of element.\n",
    "print(max(L))\n",
    "print(min(L))\n",
    "\n",
    "print(sorted(L))          #For ascending order  # Keep in mind that lowercase and uppercase letters may affect the sort.\n",
    "                                                # It should be either int or str\n",
    "L.sort(reverse=True)      #For descending order\n",
    "print(L)\n",
    "\n",
    "del L[4]                   #del list.[index]\n",
    "print(L)\n",
    "L.copy()                  # Return copy of list\n",
    "print(L)\n",
    "L.clear()                    #Removes all the elements from the list\n",
    "print(L)\n",
    "\n",
    "\n",
    "## combing lists with the help of zip() function\n",
    "L1 = [5, 2, 90, 24, 10]\n",
    "L2 = [6, 3, 91, 25, 12]\n",
    "L3 = list(zip(L2,L1))\n",
    "L4= list(zip(L1,L2))\n",
    "print(L3)                         \n",
    "print(L4)\n",
    "\n",
    "\n",
    "# Customize Sort Function\n",
    "# You can also customize your own function by using the keyword argument key = function.\n",
    "\n",
    "# Sort the list based on how close the number is to 50:\n",
    "def myfunc(n):\n",
    "    return abs(n - 50)\n",
    "\n",
    "thislist = [100, 50, 65, 82, 23]\n",
    "thislist.sort(key = myfunc)\n",
    "print(thislist)\n"
   ]
  },
  {
   "cell_type": "code",
   "execution_count": 30,
   "id": "ff8015e6",
   "metadata": {},
   "outputs": [
    {
     "name": "stdout",
     "output_type": "stream",
     "text": [
      "<class 'tuple'>\n",
      "('Yellow', 20, 'Red')\n",
      "<class 'tuple'>\n",
      "Tuple with the use of Mixed Values: \n",
      "(1, 2, 'Brain', 4.3, True, 2, -6, 'Works', 6, 'Python')\n",
      "<class 'tuple'>\n",
      "[1, 2, 'Brain', 4.3, True, 2, -6, 'Works', 6, 'Python']\n",
      "(1, 2, 'Add Ele', 4.3, True, 2, -6, 'Works', 6, 'Python')\n",
      "[1, 2, 'Add Ele', True, 2, -6, 'Works', 6, 'Python', '55']\n",
      "(1, 2, 'Add Ele', True, 2, -6, 'Works', 6, 'Python', '55')\n",
      "(1, 2, 'Brain', 4.3, True, 2, -6, 'Works', 6, 'Python', 12)\n",
      "Red\n",
      "Green\n",
      "['yellow', 'White']\n"
     ]
    }
   ],
   "source": [
    "# P19 Tuple:-   # Tuples are used to store multiple items in a single variable.\n",
    "                # A tuple is a collection which is ordered and unchangeable.\n",
    "                # Tuples are written with round brackets. (parentheses)\n",
    "                # Since tuples are immutable, they do not have a build-in append() method,\n",
    "                   # but there are other ways to add items to a tuple.\n",
    "                # Heterogeneous nature.\n",
    "                \n",
    "                # A tuple can also be created without using parentheses. It is called tuple packing.\n",
    "X = \"Yellow\", 20, \"Red\"\n",
    "print(type(X))      # <class 'tuple'>\n",
    "print(X)            # ('Yellow', 20, 'Red')\n",
    "print(type(X))      # <class 'tuple'>\n",
    "\n",
    "\n",
    "x = (1, 2, 'Brain', 4.3, True, 2, -6,'Works', 6, 'Python')  # [mixed type of values int, boolean and strings & Duplicates]\n",
    "print(\"Tuple with the use of Mixed Values: \")\n",
    "print(x)\n",
    "print(type(x))                     # Data type        \n",
    "   \n",
    "# 1. Change Tuple Values:- # you cannot change its values. Tuples are unchangeable, or immutable\n",
    "                        # You can convert the tuple into a list, change the list, and convert the list back into a tuple.\n",
    "x = (1, 2, 'Brain', 4.3, True, 2, -6,'Works', 6, 'Python')\n",
    "y=list(x)\n",
    "print(y)   # [1, 2, 'Brain', 4.3, True, 2, -6, 'Works', 6, 'Python']\n",
    "\n",
    "\n",
    "\n",
    "y[2]=\"Add Ele\"  # [1, 2, 'Add Ele', True, 2, -6, 'Works', 6, 'Python', '55']\n",
    "\n",
    "x=tuple(y)\n",
    "print(x)     # (1, 2, 'Add Ele', True, 2, -6, 'Works', 6, 'Python', '55')\n",
    "\n",
    "        # or using append() , remove()\n",
    "\n",
    "y.append(\"55\")\n",
    "y.remove(4.3)\n",
    "print(y)\n",
    "x=tuple(y)\n",
    "print(x)     # (1, 2, 'Add Ele', True, 2, -6, 'Works', 6, 'Python', '55')\n",
    "\n",
    "# 2. Add tuple to a tuple:- You are allowed to add tuples to tuples\n",
    "\n",
    "x = (1, 2, 'Brain', 4.3, True, 2, -6,'Works', 6, 'Python')\n",
    "y=(12,)      # Note: When creating a tuple with only one item, remember to include a comma after the item, \n",
    "                   # otherwise it will not be identified as a tuple.\n",
    "x+=y\n",
    "print(x)\n",
    "\n",
    "# 3. Asterisk * Constructor:- If the number of variables is less than the number of values, you can add an * \n",
    "\n",
    "t=(\"Red\",\"Green\",\"yellow\",\"White\")\n",
    "(R,G,*Y)=t\n",
    "print(R)\n",
    "print(G)\n",
    "print(Y)\n",
    "\n"
   ]
  },
  {
   "cell_type": "code",
   "execution_count": 32,
   "id": "dddc18fc",
   "metadata": {},
   "outputs": [
    {
     "name": "stdout",
     "output_type": "stream",
     "text": [
      "2\n",
      "2\n",
      "<class 'tuple'>\n",
      "1 2 3 Hello [4, 8, 16] \n",
      "-6 -5 -4 -3 -2 -1 \n"
     ]
    }
   ],
   "source": [
    "# 4. Tuple Methods:- count() and index()\n",
    "x = (1, 2, 'Brain', 4.3, True, 2, -6,'Works', 6, 'Python')\n",
    "print(x.count(2))               # Returns the number of times a specified value occurs in a tuple\n",
    "print(x.index(\"Brain\"))\n",
    "\n",
    "\n",
    "# 5. Iterating a Tuple:- # We can iterate a tuple using a for loop.\n",
    "\n",
    "x = (1, 2, 3, \"Hello\", [4, 8, 16])\n",
    "print(type(x))\n",
    "for i in x:\n",
    "    print(i,end=\" \")\n",
    "print()\n",
    "              \n",
    "for i in range(-6, 0):        # iterate a tuple using negative indexing\n",
    "    print(i,end=\" \")   \n",
    "print()\n",
    "\n"
   ]
  },
  {
   "cell_type": "code",
   "execution_count": 37,
   "id": "457400f0",
   "metadata": {},
   "outputs": [
    {
     "name": "stdout",
     "output_type": "stream",
     "text": [
      "3\n",
      "(1, 2, 3, 4, 5, 6)\n",
      "(1, 2, 3, 4, 5, 6, 1, 2, 3, 4, 5, 6)\n"
     ]
    }
   ],
   "source": [
    "# 6. Accessing items of a Tuple:- \n",
    "            # Using indexing, we can access any item from a tuple using its index number.(x[1])\n",
    "            # Using slicing, we can access a range of items from a tuple.  (x[1:2:2])\n",
    "\n",
    "# 7. Find Element within a indexing range             \n",
    "k= (1, 2, 3, \"Hello\", [4, 8, 16])\n",
    "k=k.index(\"Hello\",0,4)\n",
    "print(k)\n",
    "\n",
    "# 8. Copying a tuple\n",
    "x=(1,2,3,4,5,6)\n",
    "y=x\n",
    "print(y)\n",
    "\n",
    "Z=(x+y)\n",
    "print(Z)\n",
    "\n",
    "   \n"
   ]
  },
  {
   "cell_type": "code",
   "execution_count": 41,
   "id": "44a8344d",
   "metadata": {},
   "outputs": [
    {
     "name": "stdout",
     "output_type": "stream",
     "text": [
      "P\n",
      "tuple (20, 40, 60) elements\n",
      "20, 40, 60, \n",
      "\n",
      "tuple (10, 30, 50) elements\n",
      "10, 30, 50, \n",
      "\n",
      "tuple Python elements\n",
      "P, y, t, h, o, n, \n",
      "\n",
      "zara\n",
      "abc\n",
      "22\n",
      "4\n",
      "(11, 22, 10, 4, 11, 22, 10, 4, 11, 22, 10, 4, 11, 22, 10, 4, 11, 22, 10, 4)\n"
     ]
    }
   ],
   "source": [
    "# 9. Nested tuples\n",
    "\n",
    "X= ((20, 40, 60), (10, 30, 50), \"Python\")\n",
    "\n",
    "# access the first item of the third tuple\n",
    "print(X[2][0])  # P\n",
    "\n",
    "# iterate a nested tuple\n",
    "for i in X:\n",
    "    print(\"tuple\", i, \"elements\")\n",
    "    for j in i:\n",
    "        print(j, end=\", \")\n",
    "    print(\"\\n\")\n",
    "    \n",
    "# 10. Use built-in functions with tuple: We can’t find the max() and min() for a heterogeneous tuple. \n",
    "                                         # It will throw Type Error\n",
    "\n",
    "tuple1 = ('xyz', 'zara', 'abc')\n",
    "# The Maximum value in a string tuple\n",
    "print(max(tuple1))  \n",
    "\n",
    "# The minimum value in a string tuple\n",
    "print(min(tuple1))\n",
    "\n",
    "tuple2 = (11, 22, 10, 4)\n",
    "# The Maximum value in a integer tuple\n",
    "print(max(tuple2))\n",
    "\n",
    "# The minimum value in a integer tuple\n",
    "print(min(tuple2))\n",
    "\n",
    "print(tuple2*5)\n"
   ]
  },
  {
   "cell_type": "code",
   "execution_count": 45,
   "id": "08bbfb1d",
   "metadata": {},
   "outputs": [
    {
     "name": "stdout",
     "output_type": "stream",
     "text": [
      "{True, 25, 'Jessa', 75.25, 'Mark'}\n",
      "<class 'set'>\n",
      "{50, 20, 30}\n",
      "{'apple', 'banana', 'cherry'}\n",
      "<class 'set'>\n"
     ]
    }
   ],
   "source": [
    "# Set:- Set is a collection of elements (Or objects) that contains no duplicate elements.\n",
    "        # A set is a collection which is unordered, mutable, and Hetrogenous nature.\n",
    "        # Sets are written with curly brackets.\n",
    "        \n",
    "#1. Creating a Set\n",
    "x = {'Mark',True,'Jessa', 25, 75.25}\n",
    "print(x)\n",
    "print(type(x))\n",
    "\n",
    "#2. Create a set from a list \n",
    "x = [20, 30, 20, 30, 50, 30]\n",
    "x=set(x)\n",
    "print(x)\n",
    "\n",
    "# The set() Constructor:- Using the set() constructor to make a set:\n",
    "\n",
    "thisset = set((\"apple\", \"banana\", \"cherry\")) # note the double round-brackets\n",
    "print(thisset)     # {'apple', 'cherry', 'banana'}\n",
    "print(type(thisset))\n",
    "\n"
   ]
  },
  {
   "cell_type": "code",
   "execution_count": 46,
   "id": "ab668c3c",
   "metadata": {},
   "outputs": [
    {
     "name": "stdout",
     "output_type": "stream",
     "text": [
      "Harry Potter\n",
      "Atlas Shrugged\n",
      "Angels and Demons\n",
      "Book exists in the x\n",
      "True\n",
      "False\n"
     ]
    }
   ],
   "source": [
    "#3. Accessing items of a set\n",
    "\n",
    "x = {\"Harry Potter\", \"Angels and Demons\", \"Atlas Shrugged\"}\n",
    "for i in x:\n",
    "    print(i)\n",
    "\n",
    "#4. Checking if an item exists in Set    \n",
    "x= {\"Harry Potter\", \"Angels and Demons\", \"Atlas Shrugged\"}\n",
    "if 'Harry Potter' in x:\n",
    "    print(\"Book exists in the x\")\n",
    "else:\n",
    "    print(\"Book doesn't exist in the x\")\n",
    "    \n",
    "print(\"amol\" not in x) \n",
    "print(\"amol\" in x) \n",
    "\n",
    "\n",
    "\n",
    "\n"
   ]
  },
  {
   "cell_type": "code",
   "execution_count": 47,
   "id": "aff3ecba",
   "metadata": {},
   "outputs": [
    {
     "name": "stdout",
     "output_type": "stream",
     "text": [
      "{False, True, 34.5, 'amol', 'BW', 444, 'Sagar'}\n",
      "{False, True, 'amol', 'Sap', 'BW', 'DJ', 34.5, 'Ganu', 444}\n",
      "{'white', 'black', 'orange', 'red'}\n",
      "{'white', 'black', 'orange', 'red'}\n",
      "{'white', 'black', 'orange'}\n",
      "{'black', 'orange'}\n",
      "set()\n"
     ]
    }
   ],
   "source": [
    "#5. Adding items to a Set:- Set can’t be modified. We can add new items to the set using the following two ways.\n",
    "\n",
    "                 # The add() method: The add() method is used to add one item to the set.\n",
    "                # Using update() Method: The update() method is used to multiple items to the Set.\n",
    "        \n",
    "x={\"amol\",True,1,34.5,444,False,\"BW\"}\n",
    "x.add(\"Sagar\")\n",
    "print(x)\n",
    "\n",
    "x={\"amol\",True,1,34.5,444,False,\"BW\"}\n",
    "x.update([\"Ganu\",\"Sap\",\"DJ\"])\n",
    "print(x)\n",
    "\n",
    "#6. Removing item(s) from a set\n",
    "        # remove()  To remove a single item from a set.\n",
    "        # discard() To remove a single item that may or may not be present in the set.\n",
    "        # pop()     To remove any random item from a set\n",
    "        # clear()   To remove all items from the Set. The output will be an empty set\n",
    "        # del set   Delete the entire set\n",
    "x = {'red', 'orange', 'yellow', 'white', 'black'}\n",
    "x.remove(\"yellow\")\n",
    "print(x)\n",
    "\n",
    "x.discard(\"Amol\")\n",
    "print(x)\n",
    "\n",
    "x.discard(\"red\")\n",
    "print(x)\n",
    "\n",
    "x.pop()\n",
    "print(x)\n",
    "\n",
    "x.clear()\n",
    "print(x)\n",
    "\n"
   ]
  },
  {
   "cell_type": "code",
   "execution_count": 52,
   "id": "21762eba",
   "metadata": {},
   "outputs": [
    {
     "name": "stdout",
     "output_type": "stream",
     "text": [
      "{1, 2, 3, 4, 5, 6, 7, 8, 9, 10}\n",
      "{4, 5, 6}\n",
      "{4, 5, 6}\n",
      "{1, 2, 3}\n",
      "{1, 2, 3, 7, 8, 9, 10}\n",
      "{1, 2, 3, 4, 5, 6}\n",
      "{1, 2, 3, 4, 5, 6}\n",
      "{1, 2, 3, 4, 5, 6}\n"
     ]
    }
   ],
   "source": [
    "#7. Set Operations:-\n",
    "\n",
    "        # Union() :- |         All the items of both Sets will be returned. Only the duplicate items will be dropped.\n",
    "        # Intersection() :- &  Only the items common in both sets will be returned.    \n",
    "        # Difference() :-   _  Return the unique elements in the first set which is not in the second set.\n",
    "        # Symmetric_Difference() :-  ^   Return the elements of both sets which is not common.\n",
    "    \n",
    "a={1,2,3,4,5,6}\n",
    "b={4,5,6,7,8,9,10}\n",
    "y=a|b      # y=a.union(b)    # Join Two Sets\n",
    "print(y)     # {1, 2, 3, 4, 5, 6, 7, 8, 9, 10}\n",
    "\n",
    "y=a&b      # y=a.intersection(b)  # intersection() will not update the original set\n",
    "print(y)         # {4,5,6}        #  but intersection_update() will update the original set with only the common elements.\n",
    "\n",
    "a.intersection_update(b)\n",
    "print(a)      # {4,5,6}\n",
    "\n",
    "a={1,2,3,4,5,6}\n",
    "b={4,5,6,7,8,9,10}\n",
    "print(a-b)      # print(a.difference(b))   # {1, 2, 3}\n",
    "\n",
    "y=a^b      # y=a.symmetric_difference(b)    \n",
    "print(y)  \n",
    "\n",
    "\n",
    "# 10. Copying a Set:-\n",
    "a={1,2,3,4,5,6}\n",
    "b=a.copy()\n",
    "c=set(a)\n",
    "e=a\n",
    "print(b)\n",
    "print(c)\n",
    "print(e)\n"
   ]
  },
  {
   "cell_type": "code",
   "execution_count": 53,
   "id": "46a95642",
   "metadata": {},
   "outputs": [
    {
     "name": "stdout",
     "output_type": "stream",
     "text": [
      "False\n",
      "True\n",
      "True\n",
      "False\n",
      "[4, 6, 8, 10, 15, 20]\n",
      "{4, 6, 8, 10, 15, 20}\n",
      "9\n",
      "Amol\n"
     ]
    }
   ],
   "source": [
    "#11. Subset and Superset\n",
    "                # In Python, we can find whether a set is a subset or superset of another set. \n",
    "                # We need to use the set methods issubset() and issuperset.\n",
    "a={1,2,3,4,5,6}\n",
    "b={4,5,6}\n",
    "print(a.issubset(b))\n",
    "print(b.issubset(a))\n",
    "print(a.issuperset(b))\n",
    "print(b.issuperset(a))\n",
    "        \n",
    "#12. Sort the set:-A set is an unordered collection of data items, so there is no point n sorting it. \n",
    "                  # If you still want to sort it using the sorted() method but this method will return the list\n",
    "x = {20, 4, 6, 10, 8, 15}\n",
    "y= sorted(x)\n",
    "print(y)\n",
    "z = set(y)\n",
    "print(z)\n",
    "\n",
    "\n",
    "#13. max() and min():-Sset with strings, it will compute the maximum/minimum value based on the ASCII Code. \n",
    "a={1,2,5,9,6,7,7.1}\n",
    "b={\"Amol\",\"Sagar\",\"zara\"}\n",
    "print(max(a))\n",
    "print(min(b))"
   ]
  },
  {
   "cell_type": "code",
   "execution_count": 54,
   "id": "4749545f",
   "metadata": {},
   "outputs": [
    {
     "name": "stdout",
     "output_type": "stream",
     "text": [
      "frozenset({'violet', 'orange', 'blue', 'indigo', 'green', 'yellow', 'red'})\n",
      "{16, 64, 4, 36}\n",
      "[4, 16, 36, 64, 100]\n",
      "[2, 4, 8, 16, 32, 64, 128, 256, 512, 1024, 2048]\n"
     ]
    }
   ],
   "source": [
    "#14. Frozen Set:- frozenset  is an immutable set. Frozen Set is thus an unordered collection of immutable unique items.\n",
    "x= ('violet', 'indigo', 'blue', 'green', 'yellow', 'orange', 'red')\n",
    "# create a frozenset\n",
    "f_set = frozenset(x)\n",
    "print(f_set)\n",
    "                    # All the mathematical operations performed in a set is possible with the frozenset. \n",
    "                    # We can use union(), intersection(), difference(), and symmetric_difference() on a frozenset as well.\n",
    "\n",
    "                    # But we can’t use the intersection_update(), difference_update(), and symmetric_difference_update() \n",
    "                    # on frozenset as it is immutable.\n",
    "\n",
    "# 15. Set comprehension:- Set comprehension is one way of creating a Set with iterables generated in a for loop \n",
    "                             # and also provides options to add only the items that satisfy a particular condition.\n",
    "    \n",
    "    # outputSet = {expression(variable) for variable in inputSet [if variable condition1][if variable condition2]..}\n",
    "    \n",
    "odd_sqr= {x**2 for x in range(1, 10) if x % 2 == 0}\n",
    "print(odd_sqr)\n",
    "\n",
    "even_sqr=[x**2 for x in range(1, 11) if x%2!=1]\n",
    "print(even_sqr)\n",
    "\n",
    "Two_power=[2**x for x in range(1,12)]\n",
    "print(Two_power)"
   ]
  },
  {
   "cell_type": "code",
   "execution_count": 57,
   "id": "b10e2d7d",
   "metadata": {
    "scrolled": true
   },
   "outputs": [
    {
     "name": "stdout",
     "output_type": "stream",
     "text": [
      "{'name': 'Amol', 'country': 'India', 'Mobile': 1178}\n",
      "{'name': 'Amol', 'country': 'India', 'Mobile': 1178}\n",
      "{'name': 'Mark', 'country': 'India', 'Mobile': 1178}\n",
      "{'name': 'Amol', 10: 'Mobile'}\n",
      "{'name': 'Amol', 'Mobiles': [1178, 2563, 4569]}\n"
     ]
    }
   ],
   "source": [
    "# Dictionaries in Python:- Dictionaries are unordered collections of unique values stored in (Key-Value) pairs.\n",
    "                      # Dictionaries are written with curly brackets, do not allow duplicates.\n",
    "                     # A dictionary value can be of any type, and duplicates are allowed in that.\n",
    "                    # Keys in the dictionary must be unique and of immutable types like string, numbers, or tuples.\n",
    "    \n",
    "# create a dictionary using {}\n",
    "x= {\"name\": \"Amol\", \"country\": \"India\", \"Mobile\": 1178}\n",
    "print(x)\n",
    "\n",
    "# create a dictionary using dict()\n",
    "x = dict({\"name\": \"Amol\", \"country\": \"India\", \"Mobile\": 1178})\n",
    "print(x)\n",
    "\n",
    "\n",
    "# create a dictionary from sequence having each item as a pair\n",
    "x = dict([(\"name\", \"Mark\"), (\"country\", \"India\"), (\"Mobile\", 1178)])\n",
    "print(x)\n",
    "\n",
    "# create dictionary with mixed keys keys\n",
    "# first key is string and second is an integer\n",
    "x = {\"name\": \"Amol\", 10: \"Mobile\"}\n",
    "print(x)\n",
    "\n",
    "# create dictionary with value as a list\n",
    "x = {\"name\": \"Amol\", \"Mobiles\": [1178, 2563, 4569]}\n",
    "print(x)\n"
   ]
  },
  {
   "cell_type": "code",
   "execution_count": 58,
   "id": "d223b11b",
   "metadata": {},
   "outputs": [
    {
     "name": "stdout",
     "output_type": "stream",
     "text": [
      "Amol\n",
      "1178\n",
      "dict_keys(['name', 'country', 'Mobile'])\n",
      "<class 'dict_keys'>\n",
      "dict_values(['Amol', 'India', 1178])\n",
      "<class 'dict_values'>\n",
      "dict_items([('name', 'Amol'), ('country', 'India'), ('Mobile', 1178)])\n",
      "<class 'dict_items'>\n"
     ]
    }
   ],
   "source": [
    "# 2. Accessing elements of a dictionary:- 1. Retrieve value using the key name inside the [] square brackets\n",
    "                                # 2. Retrieve value by passing key name as a parameter to the get() method of a dictionary.\n",
    "x= {\"name\": \"Amol\", \"country\": \"India\", \"Mobile\": 1178}\n",
    "print(x['name'])\n",
    "print(x.get('Mobile'))\n",
    "\n",
    "\n",
    "# 3. Get all keys and values:-\n",
    "\n",
    "x = {\"name\": \"Amol\", \"country\": \"India\", \"Mobile\": 1178}\n",
    "\n",
    "# Get all keys\n",
    "print(x.keys())\n",
    "print(type(x.keys()))\n",
    "\n",
    "# Get all values\n",
    "print(x.values())\n",
    "print(type(x.values()))  \n",
    "\n",
    "# Get all key-value pair\n",
    "print(x.items())\n",
    "print(type(x.items()))"
   ]
  },
  {
   "cell_type": "code",
   "execution_count": 59,
   "id": "29b30b5e",
   "metadata": {},
   "outputs": [
    {
     "name": "stdout",
     "output_type": "stream",
     "text": [
      "name : Amol\n",
      "country : India\n",
      "Mobile : 1178\n",
      "name Amol\n",
      "country India\n",
      "Mobile 1178\n",
      "3\n",
      "{'name': 'Amol', 'country': 'India', 'Mobile': 1178, 'weight': 71}\n",
      "{'name': 'AMOL', 'country': 'India', 'Mobile': 1178, 'weight': 71}\n",
      "{'name': 'AMOL', 'country': 'India', 'Mobile': 1178, 'weight': 71, 'height': 6.2}\n",
      "{'name': 'AMOL', 'country': 'INDIA', 'Mobile': 1178, 'weight': 71, 'height': 6.2}\n",
      "{'name': 'AMOL', 'country': 'INDIA', 'Mobile': 1178, 'weight': 71, 'height': 6.2}\n",
      "{'name': 'AMOL', 'country': 'INDIA', 'Mobile': 1178, 'weight': 71, 'height': 6.2, 'city': 'Pune', 'company': 'XYZ'}\n"
     ]
    }
   ],
   "source": [
    "#4. Iterating a dictionary:- We can iterate through a dictionary using a for-loop \n",
    "                            # and access the individual keys and their corresponding values.\n",
    "    \n",
    "x = {\"name\": \"Amol\", \"country\": \"India\", \"Mobile\": 1178}\n",
    "for key in x:\n",
    "    print(key, ':', x[key])\n",
    "\n",
    "# using items() method\n",
    "for key_value in x.items():\n",
    "    print(key_value[0], key_value[1])\n",
    "    \n",
    "print(len(x))        # length\n",
    "\n",
    "\n",
    "# 5. Adding items to the dictionary and modify the values of the existing dictionary keys:- \n",
    "\n",
    "x = {\"name\": \"Amol\", \"country\": \"India\", \"Mobile\": 1178}\n",
    "x[\"weight\"] = 71\n",
    "print(x)                  # {'name': 'Amol', 'country': 'India', 'Mobile': 1178, 'weight': 71}\n",
    "x[\"name\"]= \"AMOL\"     # modify\n",
    "print(x)              # {'name': 'AMOL', 'country': 'India', 'Mobile': 1178, 'weight': 71}\n",
    "\n",
    "x.update({\"height\": 6.2})\n",
    "print(x)              # {'name': 'AMOL', 'country': 'India', 'Mobile': 1178, 'weight': 71, 'height': 6.2}\n",
    "\n",
    "x.update({\"country\": \"INDIA\"})  # modify\n",
    "print(x)               # {'name': 'AMOL', 'country': 'INDIA', 'Mobile': 1178, 'weight': 71, 'height': 6.2}\n",
    "\n",
    "x.update({\"weight\": 71, \"height\": 6.2})\n",
    "print(x)                 # {'name': 'AMOL', 'country': 'INDIA', 'Mobile': 1178, 'weight': 71, 'height': 6.2}\n",
    "\n",
    "# pass new keys as as list of tuple\n",
    "x.update([(\"city\", \"Pune\"), (\"company\", \"XYZ\",)])\n",
    "print(x)  \n",
    "\n"
   ]
  },
  {
   "cell_type": "code",
   "execution_count": 60,
   "id": "f07e4a90",
   "metadata": {},
   "outputs": [
    {
     "name": "stdout",
     "output_type": "stream",
     "text": [
      "('Mobile', 1178)\n",
      "{'name': 'Amol', 'country': 'India'}\n",
      "{'country': 'India', 'Mobile': 1178}\n",
      "{}\n",
      "Mobile number is 1178\n"
     ]
    }
   ],
   "source": [
    "# 6. Removing items from the dictionary:- \n",
    "x = {\"name\": \"Amol\", \"country\": \"India\", \"Mobile\": 1178}\n",
    "deleted_item = x.popitem()\n",
    "print(deleted_item)\n",
    "print(x)\n",
    "\n",
    "x = {\"name\": \"Amol\", \"country\": \"India\", \"Mobile\": 1178}\n",
    "del x[\"name\"]\n",
    "print(x)\n",
    "\n",
    "x.clear()\n",
    "print(x)\n",
    "\n",
    "del x\n",
    "\n",
    "\n",
    "# 7. Checking if a key exists:-\n",
    "x = {\"name\": \"Amol\", \"country\": \"India\", \"Mobile\": 1178}\n",
    "key_name = 'Mobile'\n",
    "if key_name in x.keys():\n",
    "    print(\"Mobile number is\", x[key_name])\n",
    "else:\n",
    "    print(\"Key not found\")"
   ]
  },
  {
   "cell_type": "code",
   "execution_count": 61,
   "id": "d1aa5be4",
   "metadata": {},
   "outputs": [
    {
     "name": "stdout",
     "output_type": "stream",
     "text": [
      "{'Jessa': 70, 'Arul': 80, 'Emma': 55, 'Kelly': 68, 'Harry': 50, 'Olivia': 66}\n",
      "{'Aadya': 1, 'Arul': 2, 'Harry': 7, 'Olivia': 6, 'Perry': 9}\n",
      "{'Jessa': 70, 'Emma': 55}\n",
      "{'Jessa': 70, 'Emma': 55}\n",
      "{'Jessa': 70, 'Emma': 55}\n"
     ]
    }
   ],
   "source": [
    "# 8. Join two dictionary:-We can add two dictionaries using the update() method or unpacking arbitrary keywords operator **\n",
    "\n",
    "dict1 = {'Jessa': 70, 'Arul': 80, 'Emma': 55}\n",
    "dict2 = {'Kelly': 68, 'Harry': 50, 'Olivia': 66}\n",
    "dict1.update(dict2)\n",
    "print(dict1)\n",
    "\n",
    "K = {'Aadya': 1, 'Arul': 2, }\n",
    "L = {'Harry': 5, 'Olivia': 6}\n",
    "M = {'Harry': 7, 'Perry': 9}\n",
    "\n",
    "# join three dictionaries \n",
    "Z = {**K,**L,**M}\n",
    "print(Z)\n",
    "\n",
    "\n",
    "# 10. Copy a Dictionary :- # Using copy() method.\n",
    "                            # Using the dict() constructor\n",
    "dict1 = {'Jessa': 70, 'Emma': 55}\n",
    "\n",
    "# Copy dictionary using copy() method\n",
    "dict2 = dict1.copy()\n",
    "print(dict2)\n",
    "\n",
    "# Copy dictionary using dict() constructor\n",
    "dict3 = dict(dict1)\n",
    "print(dict3)\n",
    "\n",
    "# Copy dictionary using \"=\" operator\n",
    "dict4=dict1\n",
    "print(dict4)\n"
   ]
  },
  {
   "cell_type": "code",
   "execution_count": 62,
   "id": "22bb397c",
   "metadata": {},
   "outputs": [
    {
     "name": "stdout",
     "output_type": "stream",
     "text": [
      "{'child1': {'name': 'Emil', 'year': 2004}, 'child2': {'name': 'Tobias', 'year': 2007}, 'child3': {'name': 'Linus', 'year': 2011}}\n",
      "[('a', 35), ('b', 95), ('c', 45)]\n",
      "['a', 'b', 'c']\n",
      "[35, 45, 95]\n"
     ]
    }
   ],
   "source": [
    "# 11. Nested dictionary:-  It is a collection of many dictionaries in one dictionary.\n",
    "\n",
    "child1 = {\n",
    "  \"name\" : \"Emil\",\n",
    "  \"year\" : 2004\n",
    "}\n",
    "child2 = {\n",
    "  \"name\" : \"Tobias\",\n",
    "  \"year\" : 2007\n",
    "}\n",
    "child3 = {\n",
    "  \"name\" : \"Linus\",\n",
    "  \"year\" : 2011\n",
    "}\n",
    "myfamily = {\n",
    "  \"child1\" : child1,\n",
    "  \"child2\" : child2,\n",
    "  \"child3\" : child3\n",
    "}\n",
    "print(myfamily)      # {'child1': {'name': 'Emil', 'year': 2004}, 'child2': {'name': 'Tobias', 'year': 2007}, \n",
    "#                             'child3': {'name': 'Linus', 'year': 2011}}\n",
    "\n",
    "# 12. Sort dictionary:-\n",
    "\n",
    "dict1 = {'c': 45, 'b': 95, 'a': 35}\n",
    "# sorting dictionary by keys\n",
    "print(sorted(dict1.items()))\n",
    "\n",
    "# sort dict eys\n",
    "print(sorted(dict1))\n",
    "\n",
    "# sort dictionary values\n",
    "print(sorted(dict1.values()))\n",
    "\n"
   ]
  },
  {
   "cell_type": "code",
   "execution_count": 63,
   "id": "3342a55f",
   "metadata": {},
   "outputs": [
    {
     "name": "stdout",
     "output_type": "stream",
     "text": [
      "{2: 4, 8: 64}\n",
      "Maximum Key 3\n",
      "Minimum Key 1\n"
     ]
    }
   ],
   "source": [
    "# 13. Dictionary comprehension:-\n",
    "\n",
    "numbers = [1, 3, 5, 2, 8]\n",
    "even_squares = {x: x ** 2 for x in numbers if x % 2 == 0}\n",
    "print(even_squares)\n",
    "\n",
    "\n",
    "# 14. max() and min():-\n",
    "\n",
    "dict = {1:'aaa',2:'bbb',3:'AAA'}\n",
    "print('Maximum Key',max(dict))\n",
    "print('Minimum Key',min(dict))\n",
    "\n",
    "\n",
    "# Dictionary Methods\n",
    "# clear()\tRemoves all the elements from the dictionary\n",
    "# copy()\tReturns a copy of the dictionary\n",
    "# fromkeys()\tReturns a dictionary with the specified keys and value\n",
    "# get()\tReturns the value of the specified key\n",
    "# items()\tReturns a list containing a tuple for each key value pair\n",
    "# keys()\tReturns a list containing the dictionary's keys\n",
    "# pop()\t\tRemoves the element with the specified key\n",
    "# popitem()\tRemoves the last inserted key-value pair\n",
    "# update()\tUpdates the dictionary with the specified key-value pairs\n",
    "# values()\tReturns a list of all the values in the dictionary\n"
   ]
  },
  {
   "cell_type": "code",
   "execution_count": null,
   "id": "26c181ea",
   "metadata": {},
   "outputs": [],
   "source": [
    "# Python Control Flow Statements and Loops:-\n",
    "                # The flow control statements are divided into three categories\n",
    "       # Conditional statements:- (if, if-else,if-elif-else,nestedif-else):- In Python, condition statements act \n",
    "                # depending on whether a given condition is true or false.\n",
    "        \n",
    "        # Iterative statements:-    (for, while)  :- In Python, iterative statements allow us to \n",
    "                # execute a block of code repeatedly as long as the condition is True. We also call it a loop statements.\n",
    "            \n",
    "        # Transfer/ loop control statements:-(continue,break,pass):- transfer statements are used to alter the program’s \n",
    "                # way of execution in a certain manner.\n",
    "                 \n",
    "        # The break statement is used is used to terminate the loop\n",
    "              # Note: If the break statement is used inside a nested loop (loop inside another loop), \n",
    "                         #it will terminate the innermost loop.\n",
    "                \n",
    "        # The continue statement is used to skip the current iteration and continue with the next iteration\n",
    "        \n",
    "        # A pass statement is a Python null statement.Nothing happens when the pass statement is executed.\n",
    "        \n",
    "        \n",
    "# Elif:- The elif keyword is python way of saying \"if the previous conditions were not true, then try this condition\".    \n",
    "# Else:- The else keyword catches anything which isn't caught by the previous conditions.\n",
    "# Nested If:- You can have if statements inside if statements, this is called nested if statements.\n",
    "# Nested if-else statement:-\n",
    "                # In Python, the nested if-else statement is an if statement inside another if-else statement. \n",
    "                # It is allowed in Python to put any number of if statements in another if statement."
   ]
  },
  {
   "cell_type": "code",
   "execution_count": 64,
   "id": "41564bc9",
   "metadata": {
    "scrolled": true
   },
   "outputs": [
    {
     "name": "stdout",
     "output_type": "stream",
     "text": [
      "36\n",
      "7\n",
      "5.142857142857143\n"
     ]
    }
   ],
   "source": [
    "# Python for loop:- We use a for loop when we want to repeat a code block a fixed number of times.\n",
    "                    # such as a list, string, tuple, other iterable objects such as range.\n",
    "    \n",
    "        # As opposed to while loops that execute until a condition is true, for loops are executed a fixed number of times,\n",
    "                   #you need to know how many times to repeat the code.\n",
    "            \n",
    "        # An unknown number of times:_ For example, Ask the user to guess the lucky number. \n",
    "                   # You don’t know how many attempts the user will need to guess correctly. It can be 1, 20, or\n",
    "                   # maybe indefinite. In such cases, use a while loop.\n",
    "        # Fixed number of times:- Print the multiplication table of 2. In this case, you know how many iterations you need.\n",
    "                  # Here you need 10 iterations. In such a case use for loop.\n",
    "        \n",
    "        # Syntax of for loop:- \n",
    "    \n",
    "#             for i in range/sequencee:\n",
    "#                 statement 1\n",
    "#                 statement 2\n",
    "#                 statement n\n",
    "\n",
    "# Calculate the average of list of numbers:- \n",
    "\n",
    "sum=0\n",
    "x=[1,2,4,5,7,8,9]\n",
    "for i in x:\n",
    "    sum=sum+i\n",
    "print(sum)\n",
    "y=len(x)\n",
    "print(y)\n",
    "\n",
    "avrage=sum/y\n",
    "print(avrage)\n"
   ]
  },
  {
   "cell_type": "code",
   "execution_count": 66,
   "id": "655678a9",
   "metadata": {},
   "outputs": [
    {
     "name": "stdout",
     "output_type": "stream",
     "text": [
      "odd number 1\n",
      "even number 2\n",
      "odd number 3\n",
      "even number 4\n",
      "odd number 5\n",
      "even number 6\n",
      "odd number 7\n",
      "even number 8\n",
      "odd number 9\n",
      "even number 10\n",
      "40\n",
      "30\n",
      "20\n",
      "10\n",
      "5 4 3 2 1 0 "
     ]
    }
   ],
   "source": [
    "# If-else in for loop:- \n",
    "# Print all even and odd numbers:-\n",
    "for i in range(1,11):\n",
    "    if i%2==0:\n",
    "        print(\"even number\",i)\n",
    "    else:\n",
    "        print(\"odd number\",i)      \n",
    "        \n",
    "# Reverse for loop:-There are three ways to iterating the for loop backward\n",
    "                        # Reverse for loop using range()\n",
    "                        # Reverse for loop using the reversed() function        \n",
    "list1 = [10, 20, 30, 40]\n",
    "for num in reversed(list1):\n",
    "    print(num)\n",
    "\n",
    "x=5    \n",
    "for x in (range(x, -1, -1)):\n",
    "    print(x,end=\" \")    "
   ]
  },
  {
   "cell_type": "code",
   "execution_count": 67,
   "id": "efbbb9f2",
   "metadata": {},
   "outputs": [
    {
     "name": "stdout",
     "output_type": "stream",
     "text": [
      "Multiplication table of: 1\n",
      "1 2 3 4 5 6 7 8 9 10 \n",
      "\n",
      "Multiplication table of: 2\n",
      "2 4 6 8 10 12 14 16 18 20 \n",
      "\n",
      "Multiplication table of: 3\n",
      "3 6 9 12 15 18 21 24 27 30 \n",
      "\n",
      "Multiplication table of: 4\n",
      "4 8 12 16 20 24 28 32 36 40 \n",
      "\n",
      "Multiplication table of: 5\n",
      "5 10 15 20 25 30 35 40 45 50 \n",
      "\n",
      "Index: 0   Value: 1\n",
      "Index: 1   Value: 2\n",
      "Index: 2   Value: 4\n",
      "Index: 3   Value: 6\n",
      "Index: 4   Value: 8\n"
     ]
    }
   ],
   "source": [
    "# Print Multiplication table of a first 5 numbers\n",
    "\n",
    "for i in range(1, 6):\n",
    "    print('Multiplication table of:', i)\n",
    "    count = 1\n",
    "    # inner loop to print multiplication table of current number\n",
    "    while count <=10:\n",
    "        print(i * count, end=' ')\n",
    "        count = count + 1\n",
    "    print('\\n')    \n",
    "    \n",
    " #--------------------------------\n",
    "\n",
    "\n",
    "# Printing the elements of the list with its index number using the range() function:-\n",
    "\n",
    "numbers = [1, 2, 4, 6, 8]\n",
    "size = len(numbers)\n",
    "for i in range(size):\n",
    "    print('Index:', i, \" \", 'Value:', numbers[i])\n",
    "    "
   ]
  },
  {
   "cell_type": "code",
   "execution_count": 77,
   "id": "3ebca127",
   "metadata": {},
   "outputs": [
    {
     "name": "stdout",
     "output_type": "stream",
     "text": [
      "K a m a l \n",
      "K\n",
      "a\n",
      "m\n",
      "a\n",
      "l\n",
      "l a m a K \n",
      "\n",
      "lamaK \n"
     ]
    }
   ],
   "source": [
    "# Iterate String using for loop:-\n",
    "# Example 1: Access all characters of a string\n",
    "\n",
    "name = \"Kamal\"\n",
    "for i in name:\n",
    "    print(i, end=' ')\n",
    "print()\n",
    "\n",
    "[print(i) for i in name]    # comprehension\n",
    "    \n",
    "# Example 2: Iterate string in reverse order\n",
    "\n",
    "name = \"Kamal\"\n",
    "for i in name[::-1]:\n",
    "    print(i, end=' ')\n",
    "print(\"\\n\")    \n",
    "    \n",
    "#--------------------------------\n",
    "\n",
    "name =\"Kamal\"\n",
    "str=\" \"\n",
    "for i in name:\n",
    "    str=i+str\n",
    "print(str)\n",
    "    "
   ]
  },
  {
   "cell_type": "code",
   "execution_count": 1,
   "id": "08a3abfd",
   "metadata": {
    "scrolled": true
   },
   "outputs": [
    {
     "name": "stdout",
     "output_type": "stream",
     "text": [
      "1\n",
      "2\n",
      "Total iteration required 3\n",
      "Enter any number between 100 and 500 120\n",
      "Given Number is correct 120\n",
      "enter number12\n",
      "12 is even number\n",
      "11 is odd number\n",
      "10 is even number\n",
      "9 is odd number\n",
      "8 is even number\n",
      "7 is odd number\n",
      "6 is even number\n",
      "5 is odd number\n",
      "4 is even number\n",
      "3 is odd number\n",
      "2 is even number\n",
      "10 9 8 7 6 5 4 3 2 1 0 "
     ]
    }
   ],
   "source": [
    "# while loop:- The while loop statement repeatedly executes a code block while a particular condition is true.\n",
    "             # When the condition becomes false, execution comes out of the loop immediately, \n",
    "             # and the first statement after the while loop is executed.\n",
    "\n",
    "x = 1\n",
    "# condition: Run loop till x is less than 3\n",
    "while x < 3:\n",
    "    print(x)\n",
    "    x = x + 1   # Note: The loop with continuing forever if you forgot to increment the counter.\n",
    "    \n",
    "# Example 1: Check how many times a given number can be divided by 3 before it is less than or equal to 10.\n",
    "x=0\n",
    "number=180\n",
    "while number > 10:\n",
    "    number=number/3\n",
    "    x=x+1\n",
    "print(\"Total iteration required\",x)    \n",
    "\n",
    "\n",
    "# Example 2: Assure proper input from user\n",
    "    \n",
    "number = int(input('Enter any number between 100 and 500 '))\n",
    "# number greater than 100 and less than 500\n",
    "while number < 100 or number > 500:\n",
    "    print('Incorrect number, Please enter correct number:')\n",
    "    number = int(input('Enter a Number between 100 and 500 '))\n",
    "else:\n",
    "    print(\"Given Number is correct\", number)\n",
    "    \n",
    "\n",
    "# Example 3: Print even and odd numbers between 1 to the entered number.    \n",
    "n=int(input(\"enter number\"))\n",
    "while n>1:\n",
    "    if n%2==0:\n",
    "        print(n,\"is even number\")\n",
    "    else:\n",
    "        print(n,\"is odd number\")\n",
    "    n=n-1\n",
    "    \n",
    "# Reverse while loop:-\n",
    "\n",
    "i = 10\n",
    "while i >= 0:\n",
    "    print(i, end=' ')\n",
    "    i = i - 1"
   ]
  },
  {
   "cell_type": "code",
   "execution_count": 80,
   "id": "ee48c93c",
   "metadata": {
    "scrolled": true
   },
   "outputs": [
    {
     "name": "stdout",
     "output_type": "stream",
     "text": [
      "name:- Amol\n",
      "T v:- 2\n",
      "T v:- 2\n"
     ]
    }
   ],
   "source": [
    "# vowel and consonant\n",
    "\n",
    "a=input(\"name:- \")\n",
    "v=0\n",
    "c=0\n",
    "for i in a:\n",
    "    if (i=='a' or i=='e' or i=='i' or i=='o' or i=='u'or i=='A' or i=='E' or i=='I' or i=='O' or i=='U'):\n",
    "        v=v+1\n",
    "        \n",
    "    else:\n",
    "        c=c+1\n",
    "print('T v:-', v)\n",
    "print('T v:-', c)\n"
   ]
  },
  {
   "cell_type": "code",
   "execution_count": 84,
   "id": "9ae6c690",
   "metadata": {},
   "outputs": [
    {
     "name": "stdout",
     "output_type": "stream",
     "text": [
      "name:- Amol\n",
      "['A', 'o']\n",
      "['m', 'l']\n"
     ]
    }
   ],
   "source": [
    "# print the vowels only and print the albhabets of string without vowels\n",
    "\n",
    "a=input(\"name:- \")\n",
    "v=('a' , 'e' , 'i' , 'o' , 'u', 'A' , 'E' , 'I' , 'O' , 'U')\n",
    "\n",
    "print([i for i in a if i in v])\n",
    "print([i for i in a if i not in v])\n"
   ]
  },
  {
   "cell_type": "code",
   "execution_count": 6,
   "id": "7b69c226",
   "metadata": {
    "scrolled": true
   },
   "outputs": [
    {
     "name": "stdout",
     "output_type": "stream",
     "text": [
      "naman\n",
      "This string is palindrom\n"
     ]
    }
   ],
   "source": [
    "# string palindrom\n",
    "\n",
    "x=\"naman\"\n",
    "print(x[::-1])\n",
    "if (x==x[::-1]):\n",
    "    \n",
    "    print(\"This string is palindrom\")\n",
    "else:\n",
    "    print(\"This string is not palindrom\")"
   ]
  },
  {
   "cell_type": "code",
   "execution_count": 8,
   "id": "7938b696",
   "metadata": {},
   "outputs": [
    {
     "name": "stdout",
     "output_type": "stream",
     "text": [
      "A is equal to:- [1, 4, 9, 16, 25, 36, 49, 64, 81]\n",
      "B is equal to:- [1, 4, 9, 16, 25, 36, 49, 64, 81]\n"
     ]
    }
   ],
   "source": [
    "# Making numerical lists:- Squares\n",
    "A=[]\n",
    "for x in range(1,10):\n",
    "\n",
    "    A.append(x**2)\n",
    "print(\"A is equal to:-\", A)\n",
    "\n",
    "B=[]\n",
    "for x in range(1,10):\n",
    "\n",
    "    B.append(x**2)\n",
    "print(\"B is equal to:-\", B)\n",
    "   "
   ]
  },
  {
   "cell_type": "code",
   "execution_count": 12,
   "id": "164c90ab",
   "metadata": {},
   "outputs": [
    {
     "name": "stdout",
     "output_type": "stream",
     "text": [
      "1\n",
      "2\n",
      "3\n",
      "4\n",
      "5\n"
     ]
    }
   ],
   "source": [
    "# while loop repeats a block of code as long as a certain condition is true. \n",
    "i=1\n",
    "while i<=5:\n",
    "    print(i)\n",
    "    i=i+1"
   ]
  },
  {
   "cell_type": "code",
   "execution_count": 13,
   "id": "106102e1",
   "metadata": {},
   "outputs": [
    {
     "name": "stdout",
     "output_type": "stream",
     "text": [
      "[1, 4, 9, 16, 25, 36, 49, 64, 81, 100]\n"
     ]
    }
   ],
   "source": [
    "#Using a loop to generate a list of square numbers \n",
    "\n",
    "squares = []\n",
    "for x in range(1, 11): \n",
    "    i = x**2 \n",
    "    squares.append(i)\n",
    "print(squares)"
   ]
  },
  {
   "cell_type": "code",
   "execution_count": 24,
   "id": "5663a449",
   "metadata": {},
   "outputs": [
    {
     "name": "stdout",
     "output_type": "stream",
     "text": [
      "Enter low num5\n",
      "Enter up num15\n",
      "5\n",
      "7\n",
      "11\n",
      "13\n"
     ]
    }
   ],
   "source": [
    "# Prime Number:- Which divisibal by 1 and itself.\n",
    "\n",
    "low=int(input(\"Enter low num\"))\n",
    "up=int(input(\"Enter up num\"))\n",
    "for num in range(low,up):\n",
    "    if num>1:\n",
    "        for i in range(2,num):\n",
    "            if (num%i)==0:\n",
    "                break\n",
    "        else:\n",
    "            print(num)\n",
    "   \n",
    "            "
   ]
  },
  {
   "cell_type": "code",
   "execution_count": 26,
   "id": "fc12fc3e",
   "metadata": {},
   "outputs": [
    {
     "name": "stdout",
     "output_type": "stream",
     "text": [
      "[('sravan',), ('ojaswi',), ('bobby',), ('rohith',), ('gnanesh',)]\n"
     ]
    }
   ],
   "source": [
    "# Example: Python code to create a list of tuples by forming a list of tuples\n",
    "\n",
    "\n",
    "# create a list with name\n",
    "name = ['sravan', 'ojaswi', 'bobby', 'rohith', 'gnanesh']\n",
    "  \n",
    "# zip the two lists using iter() function\n",
    "data = [x for x in zip(*[iter(name)])]\n",
    "  \n",
    "# display data\n",
    "print(data)"
   ]
  },
  {
   "cell_type": "code",
   "execution_count": 28,
   "id": "c2211ee8",
   "metadata": {},
   "outputs": [
    {
     "name": "stdout",
     "output_type": "stream",
     "text": [
      "the string is binary\n"
     ]
    }
   ],
   "source": [
    "#Check weather the string is binary or not\n",
    "x=\"111\"\n",
    "y=set(x)\n",
    "count=0\n",
    "for i in y:\n",
    "    if i=='0' or i=='1':\n",
    "        count=count+1   \n",
    "    else:\n",
    "        print(\"String is not binary\")\n",
    "        break\n",
    "\n",
    "if count==len(y):\n",
    "    print(\"the string is binary\")\n",
    "    \n",
    "\n",
    "    \n",
    "        \n",
    "        \n",
    "\n"
   ]
  },
  {
   "cell_type": "code",
   "execution_count": 54,
   "id": "ca7827c5",
   "metadata": {},
   "outputs": [
    {
     "name": "stdout",
     "output_type": "stream",
     "text": [
      "  * * * * * * * * * \n",
      "    * * * * * * * \n",
      "      * * * * * \n",
      "        * * * \n",
      "          * \n"
     ]
    }
   ],
   "source": [
    "n=5\n",
    "\n",
    "for R in range(n):\n",
    "    for C in range(R+1):\n",
    "        print(\" \",end=\" \")\n",
    "    for C in range(n-R):\n",
    "        print(\"*\",end=\" \") \n",
    "    for C in range(n-R-1):\n",
    "        print(\"*\",end=\" \")    \n",
    "    print()\n"
   ]
  },
  {
   "cell_type": "code",
   "execution_count": null,
   "id": "b72c8ecc",
   "metadata": {},
   "outputs": [],
   "source": []
  }
 ],
 "metadata": {
  "kernelspec": {
   "display_name": "Python 3 (ipykernel)",
   "language": "python",
   "name": "python3"
  },
  "language_info": {
   "codemirror_mode": {
    "name": "ipython",
    "version": 3
   },
   "file_extension": ".py",
   "mimetype": "text/x-python",
   "name": "python",
   "nbconvert_exporter": "python",
   "pygments_lexer": "ipython3",
   "version": "3.10.4"
  }
 },
 "nbformat": 4,
 "nbformat_minor": 5
}
