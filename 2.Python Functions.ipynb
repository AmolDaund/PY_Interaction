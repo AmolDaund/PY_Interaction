{
 "cells": [
  {
   "cell_type": "code",
   "execution_count": null,
   "id": "b9a54434",
   "metadata": {},
   "outputs": [],
   "source": [
    "## Function:-\n",
    "\n",
    "\n",
    "# In Python, the function is a block of code defined with a name.\n",
    "\n",
    "# We use functions whenever we need to perform the same task multiple times without writing the same code again.\n",
    "\n",
    "# Python has a DRY principle like other programming languages. DRY stands for Don’t Repeat Yourself.\n",
    "\n",
    "# Function improves efficiency and reduces errors because of the reusability of a code.\n",
    "\n",
    "# Note: While defining a function, we use two keywords, def (mandatory) and return (optional).\n"
   ]
  },
  {
   "cell_type": "code",
   "execution_count": 1,
   "id": "2e4b5006",
   "metadata": {},
   "outputs": [
    {
     "name": "stdout",
     "output_type": "stream",
     "text": [
      "parameter1:-  10\n",
      "parameter2:-  20\n",
      "30\n"
     ]
    }
   ],
   "source": [
    "# 1. Types of Functions:-  Built-in function and User-defined function\n",
    "\n",
    "# Built-in function :- The functions which are come along with Python itself are called a built-in function\n",
    "                       # or predefined function. Some of them are listed below. range(), id(), type(), input(), eval() etc.\n",
    "# User-defined function:- Functions which are created by programmer explicitly according to the requirement \n",
    "                       # are called a user-defined function.\n",
    "    \n",
    "    \n",
    "def function_name(parameter1,parameter2):\n",
    "    \n",
    "    \n",
    "    print(\"parameter1:- \",parameter1)                    # \n",
    "    print(\"parameter2:- \",parameter2)                    #    Function\n",
    "    addition = parameter1+parameter2                     #            Body\n",
    "    return addition          # Return Value              #  \n",
    "\n",
    "\n",
    "res = function_name(10,20)   # function call\n",
    "print(res)\n",
    "    "
   ]
  },
  {
   "cell_type": "code",
   "execution_count": 3,
   "id": "60f21d05",
   "metadata": {},
   "outputs": [
    {
     "name": "stdout",
     "output_type": "stream",
     "text": [
      "Hello Amol\n"
     ]
    }
   ],
   "source": [
    "# Creating a function without any parameters:- \n",
    "\n",
    "def message():\n",
    "    print(\"Hello Amol\")\n",
    "    \n",
    "message()    "
   ]
  },
  {
   "cell_type": "code",
   "execution_count": 5,
   "id": "b6f62739",
   "metadata": {},
   "outputs": [
    {
     "name": "stdout",
     "output_type": "stream",
     "text": [
      "Hello Amol welcome to BW\n",
      "I'm 29 years old\n"
     ]
    }
   ],
   "source": [
    "# Creating a function with parameters:-\n",
    "\n",
    "def message(name,age):\n",
    "    print(\"Hello\", name,\"welcome to BW\")\n",
    "    print(\"I'm\",age,\"years old\")\n",
    "    \n",
    "message(\"Amol\",\"29\")       "
   ]
  },
  {
   "cell_type": "code",
   "execution_count": 51,
   "id": "91734a0d",
   "metadata": {},
   "outputs": [
    {
     "name": "stdout",
     "output_type": "stream",
     "text": [
      "(14, 24, 6.0, 10)\n"
     ]
    }
   ],
   "source": [
    "# Creating a function with parameters and return value:\n",
    "def calculator(a,b):\n",
    "    add=a+b\n",
    "    mul=a*b\n",
    "    sub=a-b\n",
    "    div=a/b\n",
    "    \n",
    "    return add,mul,div,sub\n",
    "\n",
    "res=calculator(12,2)\n",
    "print(res)"
   ]
  },
  {
   "cell_type": "code",
   "execution_count": 11,
   "id": "ad69e2e1",
   "metadata": {},
   "outputs": [
    {
     "name": "stdout",
     "output_type": "stream",
     "text": [
      "odd Num\n"
     ]
    }
   ],
   "source": [
    "# Calling a function:- Once we defined a function or finalized structure, we can call that function by using its name. \n",
    "                      # We can also call that function from another function or program by importing it.\n",
    "    \n",
    "def even_odd(n):\n",
    "    if n%2==0:\n",
    "        print(\"Even Num\")\n",
    "    else:\n",
    "        print(\"odd Num\")\n",
    "  \n",
    "even_odd(21)"
   ]
  },
  {
   "cell_type": "code",
   "execution_count": 14,
   "id": "8bf9883d",
   "metadata": {},
   "outputs": [
    {
     "name": "stdout",
     "output_type": "stream",
     "text": [
      "17\n"
     ]
    }
   ],
   "source": [
    "# Calling a function of a module:\n",
    "\n",
    "import random\n",
    "print(random.randrange(10,20))"
   ]
  },
  {
   "cell_type": "code",
   "execution_count": 17,
   "id": "f1b2e804",
   "metadata": {},
   "outputs": [
    {
     "name": "stdout",
     "output_type": "stream",
     "text": [
      "This function returns the factorial of a given number.\n"
     ]
    }
   ],
   "source": [
    "# Docstrings (__doc__):- In Python, the documentation string is also called a docstring. \n",
    "         # It is a descriptive text (like a comment) written by a programmer to let others know what block of code does.\n",
    "    \n",
    "def fact(x):\n",
    "    \"\"\"This function returns the factorial of a given number.\"\"\"\n",
    "    return x\n",
    "\n",
    "# access doc string\n",
    "print(fact.__doc__)    "
   ]
  },
  {
   "cell_type": "code",
   "execution_count": 26,
   "id": "e9749a5d",
   "metadata": {},
   "outputs": [
    {
     "name": "stdout",
     "output_type": "stream",
     "text": [
      "Even numbers are: [2, 42, 62, 70]\n"
     ]
    }
   ],
   "source": [
    "# # Pass list to the function:-\n",
    "\n",
    "def is_even(list1):\n",
    "\n",
    "    even_num = []\n",
    "    for n in list1:\n",
    "        if n % 2 == 0:\n",
    "            even_num.append(n)\n",
    "    # return a list\n",
    "    return even_num\n",
    "\n",
    "# Pass list to the function\n",
    "even_num = is_even([2, 3, 42, 51, 62, 70, 5, 9])\n",
    "print(\"Even numbers are:\", even_num)"
   ]
  },
  {
   "cell_type": "code",
   "execution_count": 59,
   "id": "c7e05ef6",
   "metadata": {},
   "outputs": [
    {
     "name": "stdout",
     "output_type": "stream",
     "text": [
      "Value in 1nd function : 888\n"
     ]
    }
   ],
   "source": [
    "# Local Variable in function:-\n",
    "\n",
    "# A local variable is a variable declared inside the function that is not accessible from outside of the function. \n",
    "# The scope of the local variable is limited to that function only where it is declared.\n",
    "# If we try to access the local variable from the outside of the function, we will get the error as NameError.  \n",
    "\n",
    "\n",
    "def function1():\n",
    "    local_var=888\n",
    "    print(\"Value in 1nd function :\",local_var)\n",
    "    \n",
    "def function2():\n",
    "    \n",
    "    print(\"Value in 2nd function :\",local_var)\n",
    "    \n",
    "function1()\n",
    "#function2()       # we will get the error as NameError, when we try to access the local var to from outside the function.\n",
    "    "
   ]
  },
  {
   "cell_type": "code",
   "execution_count": 57,
   "id": "e6ea440a",
   "metadata": {},
   "outputs": [
    {
     "name": "stdout",
     "output_type": "stream",
     "text": [
      "Value in 1nd function : 999\n",
      "Value in 2nd function : 999\n"
     ]
    }
   ],
   "source": [
    "# Global Variable in function:-\n",
    "\n",
    "      # A Global variable is a variable that declares outside of the function. \n",
    "      # The scope of a global variable is broad. It is accessible in all functions of the same module.\n",
    "        \n",
    "global_var = 999\n",
    "\n",
    "def function1():\n",
    "    print(\"Value in 1nd function :\", global_var)\n",
    "\n",
    "def function2():\n",
    "    print(\"Value in 2nd function :\", global_var)\n",
    "\n",
    "function1()\n",
    "function2()        "
   ]
  },
  {
   "cell_type": "code",
   "execution_count": 60,
   "id": "09bafbfb",
   "metadata": {},
   "outputs": [
    {
     "name": "stdout",
     "output_type": "stream",
     "text": [
      "Value in 1st function : 6\n",
      "Value in 2nd function : 77\n",
      "Value in 3rd function : 6\n"
     ]
    }
   ],
   "source": [
    "# Global Keyword in Function:- \n",
    "\n",
    "#In Python, global is the keyword used to access the actual global variable from outside the function. \n",
    " # we use the global keyword for two purposes:\n",
    "\n",
    "#1. To declare a global variable inside the function.\n",
    "#2. Declaring a variable as global, which makes it available to function to perform the modification.\n",
    "\n",
    "\n",
    "global_var = 6\n",
    "\n",
    "def function1():\n",
    "    print(\"Value in 1st function :\", global_var)\n",
    "\n",
    "def function2():\n",
    "    # Modify global variable\n",
    "    # function will treat it as a local variable\n",
    "    global_var = 77\n",
    "    print(\"Value in 2nd function :\", global_var)\n",
    "\n",
    "def function3():\n",
    "    print(\"Value in 3rd function :\", global_var)\n",
    "\n",
    "function1()\n",
    "function2()\n",
    "function3()"
   ]
  },
  {
   "cell_type": "code",
   "execution_count": 61,
   "id": "168f2491",
   "metadata": {},
   "outputs": [
    {
     "name": "stdout",
     "output_type": "stream",
     "text": [
      "Value in 1st function : 5\n",
      "Value in 2nd function : 555\n",
      "Value in 3rd function : 555\n"
     ]
    }
   ],
   "source": [
    "# Global variable\n",
    "x = 5\n",
    "\n",
    "# defining 1st function\n",
    "def function1():\n",
    "    print(\"Value in 1st function :\", x)\n",
    "\n",
    "# defining 2nd function\n",
    "def function2():\n",
    "    # Modify global variable using global keyword\n",
    "    global x\n",
    "    x = 555\n",
    "    print(\"Value in 2nd function :\", x)\n",
    "\n",
    "# defining 3rd function\n",
    "def function3():\n",
    "    print(\"Value in 3rd function :\", x)\n",
    "\n",
    "function1()\n",
    "function2()\n",
    "function3()"
   ]
  },
  {
   "cell_type": "code",
   "execution_count": 64,
   "id": "3b7902ea",
   "metadata": {},
   "outputs": [
    {
     "name": "stdout",
     "output_type": "stream",
     "text": [
      "value of x inside inner function is : 333\n",
      "value of x inside outer function is : 333\n"
     ]
    }
   ],
   "source": [
    "#.Nonlocal Variable in Function:-\n",
    " # n Python, nonlocal is the keyword used to declare a variable that acts as a global variable for a nested function \n",
    " # We can use a nonlocal keyword when we want to declare a variable in the local scope but act as a global scope.\n",
    "\n",
    "def outer_func():\n",
    "    x = 777\n",
    "\n",
    "    def inner_func():\n",
    "        # local variable now acts as global variable\n",
    "        nonlocal x\n",
    "        x = 333\n",
    "        print(\"value of x inside inner function is :\", x)\n",
    "\n",
    "    inner_func()\n",
    "    print(\"value of x inside outer function is :\", x)\n",
    "\n",
    "outer_func()"
   ]
  },
  {
   "cell_type": "code",
   "execution_count": null,
   "id": "50e305f7",
   "metadata": {},
   "outputs": [],
   "source": [
    "# Types of arguments\n",
    "def f1(a,b):\n",
    "------\n",
    "------\n",
    "------\n",
    "f1(10,20)\n",
    "# a,b are formal arguments where as 10,20 are actual arguments\n",
    "# There are 4 types are actual arguments are allowed in Python.\n",
    "# 1. positional arguments\n",
    "# 2. keyword arguments\n",
    "# 3. default arguments\n",
    "# 4. Variable length arguments"
   ]
  },
  {
   "cell_type": "code",
   "execution_count": 73,
   "id": "f0597e30",
   "metadata": {},
   "outputs": [
    {
     "name": "stdout",
     "output_type": "stream",
     "text": [
      "-9\n",
      "9\n",
      "Hello Amol Daund\n",
      "Hello John\n",
      "Hello Guest\n",
      "Sum is: 0\n",
      "Sum is: 26\n",
      "Sum is: 87.5\n"
     ]
    }
   ],
   "source": [
    "# Python Function Arguments:-\n",
    "\n",
    "# The argument is a value, a variable, or an object that we pass to a function. \n",
    "\n",
    "# In Python, there are four types of arguments allowed.\n",
    " \n",
    "# 1. Positional arguments :- proper positional order.\n",
    "\n",
    "def function(a,b):\n",
    "    print(b-a)\n",
    "    print(a-b)\n",
    "    \n",
    "function(12,3)   \n",
    "\n",
    "# 2. keyword arguments:- passed to function represent by the variable name and an equals sign.\n",
    "\n",
    "def function(name,surname):\n",
    "    print(\"Hello\", name,surname)\n",
    "    \n",
    "function(\"Amol\",\"Daund\")    \n",
    "\n",
    "\n",
    "# 3. Default arguments:- Default arguments take the default value during the function call if we do not pass them.\n",
    "\n",
    "# function with default argument\n",
    "def message(name=\"Guest\"):\n",
    "    print(\"Hello\", name)\n",
    "\n",
    "# calling function with argument\n",
    "message(\"John\")\n",
    "\n",
    "# calling function without argument\n",
    "message()\n",
    "\n",
    "\n",
    "# 4. Variable-length arguments:- In Python, sometimes, there is a situation where we need to pass multiple numbers \n",
    "            # of arguments to the function. Such types of arguments are called variable-length arguments.\n",
    "            # We can declare a variable-length argument with the * (asterisk) symbol.\n",
    "        \n",
    "def addition(*numbers):\n",
    "    sum = 0\n",
    "    for i in numbers:\n",
    "        sum = sum + i\n",
    "    print(\"Sum is:\", sum)\n",
    "\n",
    "\n",
    "# 0 arguments\n",
    "addition()\n",
    "\n",
    "# 5 arguments\n",
    "addition(10, 5, 2, 5, 4)\n",
    "\n",
    "\n",
    "# 3 arguments\n",
    "addition(78, 7, 2.5)       "
   ]
  },
  {
   "cell_type": "code",
   "execution_count": 19,
   "id": "0504f81f",
   "metadata": {},
   "outputs": [
    {
     "name": "stdout",
     "output_type": "stream",
     "text": [
      "factorial of a number is: 120\n"
     ]
    }
   ],
   "source": [
    "# Recursive Function:- A recursive function is a function that calls itself, again and again.\n",
    "    \n",
    "    # The advantages of the recursive function are:\n",
    "\n",
    "        # By using recursive, we can reduce the length of the code.\n",
    "        # The readability of code improves due to code reduction.\n",
    "        # Useful for solving a complex problem\n",
    "        \n",
    "    # The disadvantage of the recursive function:\n",
    "\n",
    "        # The recursive function takes more memory and time for execution.\n",
    "        # Debugging is not easy for the recursive function.\n",
    "\n",
    "def factorial(no):\n",
    "    if no == 0:\n",
    "        return 1\n",
    "    else:\n",
    "        return no * factorial(no - 1)\n",
    "\n",
    "print(\"factorial of a number is:\", factorial(5))  \n",
    "    \n"
   ]
  },
  {
   "cell_type": "code",
   "execution_count": 21,
   "id": "87b4e44d",
   "metadata": {},
   "outputs": [
    {
     "name": "stdout",
     "output_type": "stream",
     "text": [
      "Even numbers are: [10, 12, 78, 6]\n",
      "Even numbers are:  [10, 12, 78, 6]\n"
     ]
    }
   ],
   "source": [
    "# Python Anonymous/Lambda Function:-\n",
    "        # Sometimes we need to declare a function without any name.\n",
    "        # The nameless property function is called an anonymous function or lambda function.\n",
    "        \n",
    "                # The reason behind the using anonymous function is for instant use, that is, one-time usage. \n",
    "                # Normal function is declared using the def function. \n",
    "                # Whereas the anonymous function is declared using the lambda keyword.        \n",
    "                \n",
    "    # In opposite to a normal function, a Python lambda function is a single expression. \n",
    "    # But, in a lambda body, we can expand with expressions over multiple lines using parentheses or a multiline string.\n",
    "    # ex : lambda argument_list:expression   (lambda n:n+n)                \n",
    "    \n",
    "    \n",
    "# Example 1: Program for even numbers without lambda function:-\n",
    "\n",
    "def even_numbers(nums):\n",
    "    even_list = []\n",
    "    for n in nums:\n",
    "        if n % 2 == 0:\n",
    "            even_list.append(n)\n",
    "    return even_list\n",
    "\n",
    "num_list = [10, 5, 12, 78, 6, 1, 7, 9]\n",
    "ans = even_numbers(num_list)\n",
    "print(\"Even numbers are:\", ans)\n",
    "\n",
    "\n",
    "# Example 2: Program for even number with a lambda function\n",
    "\n",
    "l = [10, 5, 12, 78, 6, 1, 7, 9]\n",
    "even_nos = list(filter(lambda x: x % 2 == 0, l))\n",
    "print(\"Even numbers are: \", even_nos)\n",
    "    \n",
    "# We are not required to write explicitly return statements in the lambda function because the lambda \n",
    "#     internally returns expression value."
   ]
  },
  {
   "cell_type": "code",
   "execution_count": 22,
   "id": "523ec55c",
   "metadata": {},
   "outputs": [
    {
     "name": "stdout",
     "output_type": "stream",
     "text": [
      "Positive numbers are:  [5, 12, 6, 9]\n"
     ]
    }
   ],
   "source": [
    "# We can also use the lambda function with built-in functions such as filter, map, reduce \n",
    "\n",
    "# Note: We can pass function as argument to another function\n",
    "\n",
    "# filter() function:- is used to return the filtered value. We use this function to filter values based on True conditions.\n",
    "\n",
    "        # Syntax of filter() function:  filter(funtion, sequence)\n",
    "    \n",
    "# function – Function argument is responsible for performing condition checking.\n",
    "# sequence – Sequence argument can be anything like list, tuple, string\n",
    "\n",
    "\n",
    "# Example: lambda function with  filter()\n",
    "    \n",
    "\n",
    "l = [-10, 5, 12, -78, 6, -1, -7, 9]\n",
    "positive_nos = list(filter(lambda x: x > 0, l))\n",
    "print(\"Positive numbers are: \", positive_nos)"
   ]
  },
  {
   "cell_type": "code",
   "execution_count": 23,
   "id": "97da1657",
   "metadata": {},
   "outputs": [
    {
     "name": "stdout",
     "output_type": "stream",
     "text": [
      "Cube values are: [8, 27, 64, 512, 729]\n"
     ]
    }
   ],
   "source": [
    "# map() function in Python:- \n",
    "\n",
    "# map() function:- is used to apply some functionality for every element present in the given sequence and\n",
    "                    # generate a new series with a required modification.\n",
    "\n",
    "# Ex: for every element present in the sequence, perform cube operation and generate a new cube list.\n",
    "\n",
    "# Syntax of map() function: map(function,sequence)\n",
    " \n",
    "    # function – function argument responsible for applied on each element of the sequence\n",
    "    # sequence – Sequence argument can be anything like list, tuple, string\n",
    "    \n",
    "    \n",
    "# Example: lambda function with map() function\n",
    "\n",
    "list1 = [2, 3, 4, 8, 9]\n",
    "list2 = list(map(lambda x: x*x*x, list1))\n",
    "print(\"Cube values are:\", list2)"
   ]
  },
  {
   "cell_type": "code",
   "execution_count": 26,
   "id": "b1efefc4",
   "metadata": {},
   "outputs": [
    {
     "name": "stdout",
     "output_type": "stream",
     "text": [
      "Addition of all list elements is :  54\n"
     ]
    }
   ],
   "source": [
    "# reduce() function in Python:- \n",
    "\n",
    "# reduce() function:-  is used to minimize sequence elements into a single value by applying the specified condition.\n",
    "\n",
    "    # The reduce() function is present in the functools module; \n",
    "        # hence, we need to import it using the import statement before using it.\n",
    "\n",
    "# Syntax of reduce() function: reduce(function, sequence)\n",
    "\n",
    "# Example: lambda function with reduce()\n",
    "\n",
    "from functools import reduce\n",
    "list1 = [20, 13, 4, 8, 9]\n",
    "add = reduce(lambda x, y: x+y, list1)\n",
    "print(\"Addition of all list elements is : \", add)"
   ]
  },
  {
   "cell_type": "code",
   "execution_count": 3,
   "id": "dbf9dbe2",
   "metadata": {},
   "outputs": [
    {
     "name": "stdout",
     "output_type": "stream",
     "text": [
      "1942481002432\n",
      "1942481002432\n",
      "Good Morning: Durga\n"
     ]
    }
   ],
   "source": [
    "# Function Aliasing: For the existing function we can give another name, which is nothing but function aliasing.\n",
    "\n",
    "def wish(name):\n",
    "    print(\"Good Morning:\",name)\n",
    "\n",
    "x=wish\n",
    "print(id(wish))\n",
    "print(id(x))\n",
    "\n",
    "x('Durga')\n",
    "wish('Durga')\n",
    "\n",
    "# Note: In the above example only one func is available but we can call that function by using either wish name or x name.\n",
    "       # If we delete one name still we can access that function by using alias name\n"
   ]
  },
  {
   "cell_type": "code",
   "execution_count": null,
   "id": "d7c176ee",
   "metadata": {},
   "outputs": [],
   "source": []
  }
 ],
 "metadata": {
  "kernelspec": {
   "display_name": "Python 3 (ipykernel)",
   "language": "python",
   "name": "python3"
  },
  "language_info": {
   "codemirror_mode": {
    "name": "ipython",
    "version": 3
   },
   "file_extension": ".py",
   "mimetype": "text/x-python",
   "name": "python",
   "nbconvert_exporter": "python",
   "pygments_lexer": "ipython3",
   "version": "3.10.5"
  }
 },
 "nbformat": 4,
 "nbformat_minor": 5
}
