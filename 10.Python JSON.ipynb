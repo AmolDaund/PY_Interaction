{
 "cells": [
  {
   "cell_type": "code",
   "execution_count": null,
   "id": "f670afb5",
   "metadata": {},
   "outputs": [],
   "source": [
    "# What is JSON:-JSON (JavaScript Object Notation) is a data-interchange format and is most commonly \n",
    "                 # used for client-server communication. \n",
    "        \n",
    "    # A JSON is an unordered collection of key and value pairs, resembling Python's native dictionary.\n",
    "    # Keys are unique Strings that cannot be null.\n",
    "    # Values can be anything from a String, Boolean, Number, list, or even null.\n",
    "    # A JSONO can be represented by a String enclosed within curly braces with keys and values separated by a colon, \n",
    "         # and pairs separated by a comma.\n",
    "\n",
    "# Whenever the client needs information, it calls the server using a URL, and the server returns data to the client \n",
    " # in the form of JSON. \n",
    "# Later we can use this data in our application as per our requirement. \n",
    "\n",
    "# JSON is most commonly used for client-server communication because:\n",
    "\n",
    "        # It is human readable.\n",
    "        # It's both easy to read/write and JSON is language-independent.\n",
    "\n",
    "#URL Uniform Resource Locator\n",
    "# Data type of JSON is always a String(str)\n",
    "# Json op of key always comes in double qoute\n",
    "\n",
    "\n",
    "# difference between json and dictionary?\n",
    " # JSON is a serialization format. A dictionary is a data structure.\n"
   ]
  },
  {
   "cell_type": "code",
   "execution_count": null,
   "id": "67afda87",
   "metadata": {},
   "outputs": [],
   "source": [
    "# # Python JSON Encoding and serialization using dump and dumps:-\n",
    "\n",
    "# The json.dumps() method encodes any Python object to JSON formatted String.\n",
    "# The json.dump() method (without “s” in “dump”) used to write Python serialized object as JSON formatted data into a file.\n",
    "\n",
    "\n",
    "\n",
    "# mapping between JSON and Python data types:-\n",
    "\n",
    "# Python\t     JSON\n",
    "\n",
    "# dict\t         object\n",
    "# list, tuple\t array\n",
    "# str\t         string\n",
    "# int, float, int & float-derived Enums-\t   number\n",
    "# True\t         true\n",
    "# False\t         false\n",
    "# None\t         null"
   ]
  },
  {
   "cell_type": "code",
   "execution_count": 1,
   "id": "66ae990b",
   "metadata": {},
   "outputs": [
    {
     "name": "stdout",
     "output_type": "stream",
     "text": [
      "Converting Python primitive types into JSON\n",
      "Done converting Python primitive types into JSON\n",
      "{\"colorList\": [\"Red\", \"Green\", \"Blue\"], \"carTuple\": [\"BMW\", \"Audi\", \"range rover\"], \"sampleString\": \"This is the JSON chapter\", \"sampleInteger\": 457, \"sampleFloat\": 225.48, \"booleantrue\": true, \"booleanfalse\": false, \"nonevalue\": null}\n"
     ]
    }
   ],
   "source": [
    "import json\n",
    "\n",
    "sampleDict = {\n",
    "    'colorList': ['Red', 'Green', 'Blue'],\n",
    "    'carTuple': ('BMW', 'Audi', 'range rover'),\n",
    "    'sampleString': 'This is the JSON chapter',\n",
    "    'sampleInteger': 457,\n",
    "    'sampleFloat': 225.48,\n",
    "    'booleantrue': True,\n",
    "    'booleanfalse': False,\n",
    "    'nonevalue': None\n",
    "}\n",
    "print('Converting Python primitive types into JSON')\n",
    "resultJSON = json.dumps(sampleDict)\n",
    "print('Done converting Python primitive types into JSON')\n",
    "print(resultJSON)"
   ]
  },
  {
   "cell_type": "code",
   "execution_count": 2,
   "id": "fe19bc16",
   "metadata": {},
   "outputs": [
    {
     "name": "stdout",
     "output_type": "stream",
     "text": [
      "Convert Python dictionary into JSON formatted String\n",
      "{\"name\": \"Jane Doe\", \"salary\": 9000, \"skills\": [\"Python\", \"Machine Learning\", \"Web Development\"], \"email\": \"jane.doe@pynative.com\"}\n"
     ]
    }
   ],
   "source": [
    "# Convert Python dictionary into a JSON formatted String\n",
    "\n",
    "import json\n",
    "\n",
    "def SendJsonResponse(resultDict):\n",
    "    print(\"Convert Python dictionary into JSON formatted String\")\n",
    "    developer_str = json.dumps(resultDict)\n",
    "    print(developer_str)\n",
    "\n",
    "# sample developer dict\n",
    "developer_Dict = {\n",
    "    \"name\": \"Jane Doe\",\n",
    "    \"salary\": 9000,\n",
    "    \"skills\": [\"Python\", \"Machine Learning\", \"Web Development\"],\n",
    "    \"email\": \"jane.doe@pynative.com\"\n",
    "}\n",
    "SendJsonResponse(developer_Dict)"
   ]
  },
  {
   "cell_type": "code",
   "execution_count": 1,
   "id": "9b1fc7fe",
   "metadata": {},
   "outputs": [
    {
     "name": "stdout",
     "output_type": "stream",
     "text": [
      "Started writing JSON data into a file\n",
      "Done writing JSON data into .json file\n"
     ]
    }
   ],
   "source": [
    "# convert the Python dictionary into a JSON format and write it into a file:-\n",
    "\n",
    "import json\n",
    "\n",
    "# assume you have the following dictionary\n",
    "developer = {\n",
    "    'name': 'jane doe',\n",
    "    'salary': 9000,\n",
    "    'email': 'JaneDoe@pynative.com'\n",
    "}\n",
    "print('Started writing JSON data into a file')\n",
    "with open('developer.json', 'w') as write_file:\n",
    "    json.dump(developer, write_file) # encode dict into JSON\n",
    "print('Done writing JSON data into .json file')"
   ]
  },
  {
   "cell_type": "code",
   "execution_count": 2,
   "id": "289f6a1f",
   "metadata": {},
   "outputs": [
    {
     "name": "stdout",
     "output_type": "stream",
     "text": [
      "Done writing pretty printed JSON data into a file\n"
     ]
    }
   ],
   "source": [
    "# Write Indented and pretty printed JSON data into a file\n",
    "\n",
    "# If the user wants to read a JSON file so it must be readable and well organized, \n",
    "# so whoever consumes this will have a better understanding of a structure of a data. \n",
    "# The dump() method provides the following arguments to pretty-print JSON data.\n",
    "\n",
    "# The \"\"indent\"\" parameter specifies the spaces that are used at the beginning of a line.\n",
    "# The \"\"separator\"\" argument of a json.dump method you can specify any separator between key and value.\n",
    "# The \"\"sort_keys\"\" to sort JSON data by keys.\n",
    "\n",
    "import json\n",
    "\n",
    "developer = {\n",
    "    \"name\": \"jane doe\",\n",
    "    \"salary\": 9000,\n",
    "    \"skills\": [\"Raspberry pi\", \"Machine Learning\", \"Web Development\"],\n",
    "    \"email\": \"JaneDoe@pynative.com\"\n",
    "}\n",
    "\n",
    "with open(\"developerPrettyPrint.json\", \"w\") as write_file:\n",
    "    json.dump(developer, write_file, indent=4, separators=(\", \", \": \"), sort_keys=True)\n",
    "print(\"Done writing pretty printed JSON data into a file\")"
   ]
  },
  {
   "cell_type": "code",
   "execution_count": 26,
   "id": "0fe3c200",
   "metadata": {},
   "outputs": [
    {
     "name": "stdout",
     "output_type": "stream",
     "text": [
      "Started writing compact JSON data into a file\n",
      "Done writing compact JSON data into json file\n"
     ]
    }
   ],
   "source": [
    "# Compact encoding to save file space by changing JSON key-value separator:-\n",
    "\n",
    "import json\n",
    "\n",
    "developer_dict = {\n",
    "    \"name\": \"jane doe\",\n",
    "    \"salary\": 9000,\n",
    "    \"skills\": [\"Raspberry pi\", \"Machine Learning\", \"Web Development\"],\n",
    "    \"companies\": [\"Google\", \"Facebook\", \"IBM\"],\n",
    "    \"email\": \"JaneDoe@pynative.com\"\n",
    "}\n",
    "\n",
    "print(\"Started writing compact JSON data into a file\")\n",
    "with open(\"developerDetailCompact.json\", \"w\") as write_file:\n",
    "    json.dump(developer_dict, write_file, separators=(',', ':'))\n",
    "print(\"Done writing compact JSON data into json file\")\n"
   ]
  },
  {
   "cell_type": "code",
   "execution_count": 29,
   "id": "b69968fc",
   "metadata": {},
   "outputs": [
    {
     "name": "stdout",
     "output_type": "stream",
     "text": [
      "Writing JSON data into file by skipping non-basic types\n",
      "Done\n"
     ]
    }
   ],
   "source": [
    "# Skip nonbasic types while writing JSON into a file using skipkeys parameter:-\n",
    "\n",
    "# The built-in json module of Python can only handle Python primitives types that have a direct JSON equivalent \n",
    "# (e.g., dictionary, lists, strings, ints, None, etc.).\n",
    "\n",
    "# If the Python dictionary contains a custom Python object as one of the keys and if we try to convert it into a\n",
    "# JSON format, you will get a TypeError i.e., Object of type \"Your Class\" is not JSON serializable.\n",
    "\n",
    "# If this custom object isn’t required in JSON data, you can skip it using a skipkeys=true argument \n",
    "  # of the json.dump() method.\n",
    "    \n",
    "    \n",
    "import json\n",
    "\n",
    "class PersonalInfo:\n",
    "    def __init__(self, name, age):\n",
    "        self.name = name\n",
    "        self.age = age\n",
    "\n",
    "    def showInfo(self):\n",
    "        print(\"Developer name is \" + self.name, \"Age is \", self.age)\n",
    "\n",
    "dev = PersonalInfo(\"John\", 36)\n",
    "developer_Dict = {\n",
    "    PersonalInfo: dev,\n",
    "    \"salary\": 9000,\n",
    "    \"skills\": [\"Python\", \"Machine Learning\", \"Web Development\"],\n",
    "    \"email\": \"jane.doe@pynative.com\"\n",
    "}\n",
    "print(\"Writing JSON data into file by skipping non-basic types\")\n",
    "with open(\"developer1.json\", \"w\") as write_file:\n",
    "    json.dump(developer_Dict, write_file, skipkeys=True)\n",
    "print(\"Done\")    \n",
    "\n",
    "\n",
    "# As you can see in the JSON output the PersonalInfo object is skipped."
   ]
  },
  {
   "cell_type": "code",
   "execution_count": null,
   "id": "eecb3554",
   "metadata": {},
   "outputs": [],
   "source": [
    "# Python JSON Parsing:- When we convert JSON encoded/formatted data into Python Types we call it a JSON parsing.\n",
    "\n",
    "# The json.load() is used to read the JSON document from file and The json.\n",
    "# loads() is used to convert the JSON String document into the Python dictionary.\n"
   ]
  },
  {
   "cell_type": "code",
   "execution_count": 3,
   "id": "bd9c164e",
   "metadata": {},
   "outputs": [
    {
     "name": "stdout",
     "output_type": "stream",
     "text": [
      "Started Reading JSON file\n",
      "Converting JSON encoded data into Python dictionary\n",
      "Decoded JSON Data From File\n",
      "name : jane doe\n",
      "salary : 9000\n",
      "email : JaneDoe@pynative.com\n",
      "Done reading json file\n"
     ]
    }
   ],
   "source": [
    "# json.load() to read JSON data from a file and convert it into a dictionary\n",
    "\n",
    "   # Using a json.load() method, we can read JSON data from text, JSON, or binary file. The json.\n",
    "    # load() method returns data in the form of a Python dictionary.\n",
    "\n",
    "# Please refer to the following conversion table, which is used by the json.load() and json.loads() method \n",
    "#  for the translations in decoding.\n",
    "\n",
    "# JSON\tPython\n",
    "\n",
    "# object\tdict\n",
    "# array\tlist\n",
    "# string\tstr\n",
    "# number (int)\tint\n",
    "# number (real)\tfloat\n",
    "# true\tTrue\n",
    "# false\tFalse\n",
    "# null\tNone\n",
    "\n",
    "# Now, let’s see the example. For this example, I am reading the “developer.json” file present on my hard drive. \n",
    "  # This file contains the following JSON data.\n",
    "    \n",
    "import json\n",
    "\n",
    "print(\"Started Reading JSON file\")\n",
    "with open(\"developer.json\", \"r\") as read_file:\n",
    "    print(\"Converting JSON encoded data into Python dictionary\")\n",
    "    developer = json.load(read_file)\n",
    "\n",
    "    print(\"Decoded JSON Data From File\")\n",
    "    for key, value in developer.items():\n",
    "        print(key, \":\", value)\n",
    "    print(\"Done reading json file\")"
   ]
  },
  {
   "cell_type": "code",
   "execution_count": 6,
   "id": "972aecbf",
   "metadata": {},
   "outputs": [
    {
     "name": "stdout",
     "output_type": "stream",
     "text": [
      "Started Reading JSON file\n",
      "Converting JSON encoded data into Python dictionary\n",
      "Decoding JSON Data From File\n",
      "Printing JSON values using key\n",
      "jane doe\n",
      "9000\n",
      "JaneDoe@pynative.com\n",
      "Done reading json file\n"
     ]
    }
   ],
   "source": [
    "# Access JSON data directly using key name:-\n",
    "\n",
    "# Use the following code If you want to access the JSON key directly instead of iterating the entire JSON from a file\n",
    "\n",
    "import json\n",
    "\n",
    "print(\"Started Reading JSON file\")\n",
    "with open(\"developer.json\", \"r\") as read_file:\n",
    "    print(\"Converting JSON encoded data into Python dictionary\")\n",
    "    developer = json.load(read_file)\n",
    "\n",
    "    print(\"Decoding JSON Data From File\")\n",
    "    print(\"Printing JSON values using key\")\n",
    "    print(developer[\"name\"])\n",
    "    print(developer[\"salary\"])\n",
    "    print(developer[\"email\"])\n",
    "    print(\"Done reading json file\")"
   ]
  },
  {
   "cell_type": "code",
   "execution_count": 7,
   "id": "a86c52cb",
   "metadata": {},
   "outputs": [
    {
     "name": "stdout",
     "output_type": "stream",
     "text": [
      "Started converting JSON string document to Python dictionary\n",
      "Printing key and value\n",
      "jane doe\n",
      "9000\n",
      "['Raspberry pi', 'Machine Learning', 'Web Development']\n",
      "JaneDoe@pynative.com\n",
      "['Python Data Mining', 'Python Data Science']\n",
      "Done converting JSON string document to a dictionary\n"
     ]
    }
   ],
   "source": [
    "# json.loads() to convert JSON string to a dictionary:-\n",
    "\n",
    "import json\n",
    "\n",
    "developerJsonString = \"\"\"{\n",
    "    \"name\": \"jane doe\",\n",
    "    \"salary\": 9000,\n",
    "    \"skills\": [\n",
    "        \"Raspberry pi\",\n",
    "        \"Machine Learning\",\n",
    "        \"Web Development\"\n",
    "    ],\n",
    "    \"email\": \"JaneDoe@pynative.com\",\n",
    "    \"projects\": [\n",
    "        \"Python Data Mining\",\n",
    "        \"Python Data Science\"\n",
    "    ]\n",
    "}\n",
    "\"\"\"\n",
    "\n",
    "print(\"Started converting JSON string document to Python dictionary\")\n",
    "developerDict = json.loads(developerJsonString)\n",
    "\n",
    "print(\"Printing key and value\")\n",
    "print(developerDict[\"name\"])\n",
    "print(developerDict[\"salary\"])\n",
    "print(developerDict[\"skills\"])\n",
    "print(developerDict[\"email\"])\n",
    "print(developerDict[\"projects\"])\n",
    "\n",
    "print(\"Done converting JSON string document to a dictionary\")\n"
   ]
  },
  {
   "cell_type": "code",
   "execution_count": null,
   "id": "3d8f2485",
   "metadata": {},
   "outputs": [],
   "source": []
  }
 ],
 "metadata": {
  "kernelspec": {
   "display_name": "Python 3 (ipykernel)",
   "language": "python",
   "name": "python3"
  },
  "language_info": {
   "codemirror_mode": {
    "name": "ipython",
    "version": 3
   },
   "file_extension": ".py",
   "mimetype": "text/x-python",
   "name": "python",
   "nbconvert_exporter": "python",
   "pygments_lexer": "ipython3",
   "version": "3.10.5"
  }
 },
 "nbformat": 4,
 "nbformat_minor": 5
}
