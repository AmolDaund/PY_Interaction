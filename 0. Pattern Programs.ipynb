{
 "cells": [
  {
   "cell_type": "code",
   "execution_count": 1,
   "id": "ece9f74b",
   "metadata": {},
   "outputs": [
    {
     "name": "stdout",
     "output_type": "stream",
     "text": [
      "How many numbers of row you want print:- 2\n",
      "# # \n",
      "# # \n"
     ]
    }
   ],
   "source": [
    "n=int(input(\"How many numbers of row you want print:- \"))\n",
    "for R in range(n):                   # R represents the row\n",
    "    for C in range(n):             # C represents the column\n",
    "        print(\"# \", end=\"\")\n",
    "    print()"
   ]
  },
  {
   "cell_type": "code",
   "execution_count": 18,
   "id": "01de4d1d",
   "metadata": {},
   "outputs": [
    {
     "name": "stdout",
     "output_type": "stream",
     "text": [
      "How many numbers of row you want print:- 5\n",
      "#       # \n",
      "#       # \n",
      "#       # \n",
      "#       # \n",
      "#       # \n"
     ]
    }
   ],
   "source": [
    "n=int(input(\"How many numbers of row you want print:- \"))\n",
    "for R in range(n):                   # R represents the row\n",
    "    for C in range(n):             # C represents the column\n",
    "        if (C==0 or C==n-1):\n",
    "            print(\"#\",end=\" \")\n",
    "        else:\n",
    "            print(\" \",end=\" \")\n",
    "    print()"
   ]
  },
  {
   "cell_type": "code",
   "execution_count": 23,
   "id": "9a50b103",
   "metadata": {},
   "outputs": [
    {
     "name": "stdout",
     "output_type": "stream",
     "text": [
      "How many numbers of row you want print:- 5\n",
      "# # # # # \n",
      "          \n",
      "          \n",
      "          \n",
      "# # # # # \n"
     ]
    }
   ],
   "source": [
    "n=int(input(\"How many numbers of row you want print:- \"))\n",
    "for R in range(n):                   # R represents the row\n",
    "    for C in range(n):             # C represents the column\n",
    "        if (R==0 or R==n-1):\n",
    "            print(\"#\",end=\" \")\n",
    "        else:\n",
    "            print(\" \",end=\" \")\n",
    "    print()"
   ]
  },
  {
   "cell_type": "code",
   "execution_count": 17,
   "id": "22fc73cb",
   "metadata": {},
   "outputs": [
    {
     "name": "stdout",
     "output_type": "stream",
     "text": [
      "How many numbers of row you want print:- 5\n",
      "    #     \n",
      "    #     \n",
      "# # # # # \n",
      "    #     \n",
      "    #     \n"
     ]
    }
   ],
   "source": [
    "n=int(input(\"How many numbers of row you want print:- \"))\n",
    "for R in range(n):                   # R represents the row\n",
    "    for C in range(n):             # C represents the column\n",
    "        if (R==n//2 or C==n//2):\n",
    "            print(\"#\",end=\" \")\n",
    "        else:\n",
    "            print(\" \",end=\" \")\n",
    "    print()"
   ]
  },
  {
   "cell_type": "code",
   "execution_count": 19,
   "id": "1b4b8a99",
   "metadata": {},
   "outputs": [
    {
     "name": "stdout",
     "output_type": "stream",
     "text": [
      "How many numbers of row you want print:- 5\n",
      "#         \n",
      "  #       \n",
      "    #     \n",
      "      #   \n",
      "        # \n"
     ]
    }
   ],
   "source": [
    "n=int(input(\"How many numbers of row you want print:- \"))\n",
    "for R in range(n):                   # R represents the row\n",
    "    for C in range(n):             # C represents the column\n",
    "        if (R==C ):\n",
    "            print(\"#\",end=\" \")\n",
    "        else:\n",
    "            print(\" \",end=\" \")\n",
    "    print()"
   ]
  },
  {
   "cell_type": "code",
   "execution_count": 20,
   "id": "b6686879",
   "metadata": {},
   "outputs": [
    {
     "name": "stdout",
     "output_type": "stream",
     "text": [
      "How many numbers of row you want print:- 5\n",
      "        # \n",
      "      #   \n",
      "    #     \n",
      "  #       \n",
      "#         \n"
     ]
    }
   ],
   "source": [
    "n=int(input(\"How many numbers of row you want print:- \"))\n",
    "for R in range(n):                   # R represents the row\n",
    "    for C in range(n):             # C represents the column\n",
    "        if (R+C==n-1 ):\n",
    "            print(\"#\",end=\" \")\n",
    "        else:\n",
    "            print(\" \",end=\" \")\n",
    "    print()"
   ]
  },
  {
   "cell_type": "code",
   "execution_count": 21,
   "id": "ae4429cb",
   "metadata": {},
   "outputs": [
    {
     "name": "stdout",
     "output_type": "stream",
     "text": [
      "How many numbers of row you want print:- 5\n",
      "#       # \n",
      "  #   #   \n",
      "    #     \n",
      "  #   #   \n",
      "#       # \n"
     ]
    }
   ],
   "source": [
    "n=int(input(\"How many numbers of row you want print:- \"))\n",
    "for R in range(n):                   # R represents the row\n",
    "    for C in range(n):             # C represents the column\n",
    "        if (R+C==n-1 or R==C ):\n",
    "            print(\"#\",end=\" \")\n",
    "        else:\n",
    "            print(\" \",end=\" \")\n",
    "    print()"
   ]
  },
  {
   "cell_type": "code",
   "execution_count": 22,
   "id": "fa081534",
   "metadata": {},
   "outputs": [
    {
     "name": "stdout",
     "output_type": "stream",
     "text": [
      "How many numbers of row you want print:- 5\n",
      "# # # # # \n",
      "#       # \n",
      "#       # \n",
      "#       # \n",
      "# # # # # \n"
     ]
    }
   ],
   "source": [
    "n=int(input(\"How many numbers of row you want print:- \"))\n",
    "for R in range(n):                   # R represents the row\n",
    "    for C in range(n):             # C represents the column\n",
    "        if (R==0 or C==0 or R==n-1 or C==n-1):\n",
    "            print(\"#\",end=\" \")\n",
    "        else:\n",
    "            print(\" \",end=\" \")\n",
    "    print()"
   ]
  },
  {
   "cell_type": "code",
   "execution_count": 30,
   "id": "2162ebf1",
   "metadata": {},
   "outputs": [
    {
     "name": "stdout",
     "output_type": "stream",
     "text": [
      "How many numbers of row you want print:- 5\n",
      "#         \n",
      "# #       \n",
      "#   #     \n",
      "#     #   \n",
      "# # # # # \n"
     ]
    }
   ],
   "source": [
    "n=int(input(\"How many numbers of row you want print:- \"))\n",
    "for R in range(n):                   # R represents the row\n",
    "    for C in range(n):               # C represents the column\n",
    "        if (R==n-1 or C==0 or C==R):\n",
    "            print(\"#\",end=\" \")\n",
    "        else:\n",
    "            print(\" \",end=\" \")\n",
    "    print()"
   ]
  },
  {
   "cell_type": "code",
   "execution_count": 32,
   "id": "aaadefd2",
   "metadata": {},
   "outputs": [
    {
     "name": "stdout",
     "output_type": "stream",
     "text": [
      "How many numbers of row you want print:- 5\n",
      "        # \n",
      "      # # \n",
      "    #   # \n",
      "  #     # \n",
      "# # # # # \n"
     ]
    }
   ],
   "source": [
    "n=int(input(\"How many numbers of row you want print:- \"))\n",
    "for R in range(n):                   # R represents the row\n",
    "    for C in range(n):               # C represents the column\n",
    "        if (C==n-1 or R==n-1 or C+R==n-1):\n",
    "            print(\"#\",end=\" \")\n",
    "        else:\n",
    "            print(\" \",end=\" \")\n",
    "    print()"
   ]
  },
  {
   "cell_type": "code",
   "execution_count": 35,
   "id": "b8535b85",
   "metadata": {
    "scrolled": true
   },
   "outputs": [
    {
     "name": "stdout",
     "output_type": "stream",
     "text": [
      "How many numbers of row you want print:- 5\n",
      "# # # # # \n",
      "#     #   \n",
      "#   #     \n",
      "# #       \n",
      "#         \n"
     ]
    }
   ],
   "source": [
    "n=int(input(\"How many numbers of row you want print:- \"))\n",
    "for R in range(n):                   # R represents the row\n",
    "    for C in range(n):               # C represents the column\n",
    "        if (R==0 or C==0 or C+R==n-1):\n",
    "            print(\"#\",end=\" \")\n",
    "        else:\n",
    "            print(\" \",end=\" \")\n",
    "    print()"
   ]
  },
  {
   "cell_type": "code",
   "execution_count": 37,
   "id": "23c0e2b4",
   "metadata": {},
   "outputs": [
    {
     "name": "stdout",
     "output_type": "stream",
     "text": [
      "How many numbers of row you want print:- 5\n",
      "# # # # # \n",
      "  #     # \n",
      "    #   # \n",
      "      # # \n",
      "        # \n"
     ]
    }
   ],
   "source": [
    "n=int(input(\"How many numbers of row you want print:- \"))\n",
    "for R in range(n):                   # R represents the row\n",
    "    for C in range(n):               # C represents the column\n",
    "        if (R==0 or C==n-1 or C==R):\n",
    "            print(\"#\",end=\" \")\n",
    "        else:\n",
    "            print(\" \",end=\" \")\n",
    "    print()"
   ]
  },
  {
   "cell_type": "code",
   "execution_count": 36,
   "id": "00824d7a",
   "metadata": {},
   "outputs": [
    {
     "name": "stdout",
     "output_type": "stream",
     "text": [
      "How many numbers of row you want print:- 5\n",
      "# \n",
      "# # \n",
      "# # # \n",
      "# # # # \n",
      "# # # # # \n"
     ]
    }
   ],
   "source": [
    "# Simple pyramid pattern:-Increasing Triangle\n",
    " \n",
    "n=int(input(\"How many numbers of row you want print:- \"))\n",
    "for R in range(n):                   # R represents the row\n",
    "    for C in range(R+1):             # C represents the column\n",
    "        print(\"# \", end=\"\")\n",
    "    print()\n",
    "        "
   ]
  },
  {
   "cell_type": "code",
   "execution_count": 42,
   "id": "f4b27626",
   "metadata": {},
   "outputs": [
    {
     "name": "stdout",
     "output_type": "stream",
     "text": [
      "How many numbers of row you want print:- 5\n",
      "# # # # # \n",
      "# # # # \n",
      "# # # \n",
      "# # \n",
      "# \n"
     ]
    }
   ],
   "source": [
    "# Simple pyramid pattern:-Decreasing Triangle\n",
    "n=int(input(\"How many numbers of row you want print:- \"))\n",
    "for R in range(n):                   # R represents the row\n",
    "    for C in range(n-R):             # C represents the column\n",
    "        print(\"# \", end=\"\")\n",
    "    print()\n",
    "        "
   ]
  },
  {
   "cell_type": "code",
   "execution_count": 47,
   "id": "4710b2dc",
   "metadata": {},
   "outputs": [
    {
     "name": "stdout",
     "output_type": "stream",
     "text": [
      "How many numbers of row you want print:- 5\n",
      "          # \n",
      "        # # \n",
      "      # # # \n",
      "    # # # # \n",
      "  # # # # # \n"
     ]
    }
   ],
   "source": [
    "# Simple pyramid pattern:-Right Triangle\n",
    "\n",
    "n=int(input(\"How many numbers of row you want print:- \"))\n",
    "for R in range(n):                   # R represents the row\n",
    "    for C in range(n-R):             # C represents the column\n",
    "        print(\" \", end=\" \")\n",
    "    for C in range(R+1):\n",
    "        print(\"#\", end=\" \")\n",
    "    print()"
   ]
  },
  {
   "cell_type": "code",
   "execution_count": 52,
   "id": "caabb681",
   "metadata": {},
   "outputs": [
    {
     "name": "stdout",
     "output_type": "stream",
     "text": [
      "How many numbers of row you want print:- 5\n",
      "  # # # # # \n",
      "    # # # # \n",
      "      # # # \n",
      "        # # \n",
      "          # \n"
     ]
    }
   ],
   "source": [
    "#Simple pyramid pattern:-left Triangle\n",
    "\n",
    "n=int(input(\"How many numbers of row you want print:- \"))\n",
    "for R in range(n):                   # R represents the row\n",
    "    for C in range(R+1):             # C represents the column\n",
    "        print(\" \", end=\" \")\n",
    "    for C in range(n-R):\n",
    "        print(\"#\", end=\" \")\n",
    "    print()"
   ]
  },
  {
   "cell_type": "code",
   "execution_count": 57,
   "id": "37a8624e",
   "metadata": {},
   "outputs": [
    {
     "name": "stdout",
     "output_type": "stream",
     "text": [
      "How many rows you want to print:- 5\n",
      "          * \n",
      "        * * * \n",
      "      * * * * * \n",
      "    * * * * * * * \n",
      "  * * * * * * * * * \n"
     ]
    }
   ],
   "source": [
    "n=int(input(\"How many rows you want to print:- \"))\n",
    "     \n",
    "\n",
    "for R in range(n):\n",
    "    for C in range(n-R):\n",
    "        print(\" \",end=\" \")\n",
    "    for C in range(R):\n",
    "        print(\"*\", end=\" \")\n",
    "    for C in range(R+1):\n",
    "        print(\"*\", end=\" \")\n",
    "    print()    "
   ]
  },
  {
   "cell_type": "code",
   "execution_count": 58,
   "id": "bc36f291",
   "metadata": {},
   "outputs": [
    {
     "name": "stdout",
     "output_type": "stream",
     "text": [
      "How many rows you want to print:- 5\n",
      "  * * * * * * * * * \n",
      "    * * * * * * * \n",
      "      * * * * * \n",
      "        * * * \n",
      "          * \n"
     ]
    }
   ],
   "source": [
    "n=int(input(\"How many rows you want to print:- \"))\n",
    "     \n",
    "\n",
    "for R in range(n):\n",
    "    for C in range(R+1):\n",
    "        print(\" \",end=\" \")\n",
    "    for C in range(n-R):\n",
    "        print(\"*\", end=\" \")\n",
    "    for C in range(n-R-1):\n",
    "        print(\"*\", end=\" \")\n",
    "    print()"
   ]
  },
  {
   "cell_type": "code",
   "execution_count": 59,
   "id": "492bbf46",
   "metadata": {},
   "outputs": [
    {
     "name": "stdout",
     "output_type": "stream",
     "text": [
      "How many rows you want to print:- 5\n",
      "          * \n",
      "        * * * \n",
      "      * * * * * \n",
      "    * * * * * * * \n",
      "  * * * * * * * * * \n",
      "    * * * * * * * \n",
      "      * * * * * \n",
      "        * * * \n",
      "          * \n"
     ]
    }
   ],
   "source": [
    "n=int(input(\"How many rows you want to print:- \"))\n",
    "     \n",
    "\n",
    "for R in range(n):\n",
    "    for C in range(n-R):\n",
    "        print(\" \",end=\" \")\n",
    "    for C in range(R):\n",
    "        print(\"*\", end=\" \")\n",
    "    for C in range(R+1):\n",
    "        print(\"*\", end=\" \")\n",
    "    print()   \n",
    "for R in range(1,n):\n",
    "    for C in range(R+1):\n",
    "        print(\" \",end=\" \")\n",
    "    for C in range(n-R):\n",
    "        print(\"*\", end=\" \")\n",
    "    for C in range(n-R-1):\n",
    "        print(\"*\", end=\" \")\n",
    "    print()  "
   ]
  },
  {
   "cell_type": "code",
   "execution_count": null,
   "id": "4d55c5e9",
   "metadata": {},
   "outputs": [],
   "source": []
  }
 ],
 "metadata": {
  "kernelspec": {
   "display_name": "Python 3 (ipykernel)",
   "language": "python",
   "name": "python3"
  },
  "language_info": {
   "codemirror_mode": {
    "name": "ipython",
    "version": 3
   },
   "file_extension": ".py",
   "mimetype": "text/x-python",
   "name": "python",
   "nbconvert_exporter": "python",
   "pygments_lexer": "ipython3",
   "version": "3.10.5"
  }
 },
 "nbformat": 4,
 "nbformat_minor": 5
}
