{
 "cells": [
  {
   "cell_type": "code",
   "execution_count": null,
   "id": "c2c9f6cf",
   "metadata": {},
   "outputs": [],
   "source": [
    "# Python Object-Oriented Programming (OOP):-\n",
    "\n",
    "# 1. What is Object Oriented Programming in Python:- is a programming paradigm based on the concept of \"objects\".\n",
    "\n",
    "#  Major principles of object-oriented programming system are given below.\n",
    "\n",
    "# Class\n",
    "# Object\n",
    "# Method\n",
    "# Inheritance\n",
    "# Polymorphism\n",
    "# Data Abstraction\n",
    "# Encapsulation"
   ]
  },
  {
   "cell_type": "code",
   "execution_count": 4,
   "id": "8c7c68f8",
   "metadata": {},
   "outputs": [
    {
     "name": "stdout",
     "output_type": "stream",
     "text": [
      "15 12 38\n",
      "1111\n",
      "1111\n",
      "Amol 90\n"
     ]
    }
   ],
   "source": [
    "#1.# Class:;- The class can be defined as a collection of objects. \n",
    "            # It is a logical entity that has some specific attributes and methods. \n",
    "    # Object: An object is an instance of a class. It is a collection of attributes (variables) and methods.\n",
    "\n",
    "# For example: if you have an employee class, then it should contain an attribute and method, \n",
    "                # i.e. an email id, name, age, salary, etc.\n",
    "\n",
    "# Syntax\n",
    "\n",
    "# class ClassName:     \n",
    "#         <statement-1>     \n",
    "#         .     \n",
    "#         .      \n",
    "#         <statement-N>\n",
    "\n",
    "\n",
    "# Creating classes in Python:- In Python, a class can be created by using the keyword class, followed by the class name.\n",
    "   \n",
    "    # The class also contains a function display(), which is used to display the information of the Employee.\n",
    "    \n",
    "\n",
    "class Employee:    \n",
    "    id = 10   \n",
    "    name = \"Devansh\"    \n",
    "def display (self):    \n",
    "    print(self.id,self.name)\n",
    "    \n",
    "\n",
    "# Creating an instance of the class:-  <object-name> = <class-name>(<arguments>) \n",
    "\n",
    "# A class needs to be instantiated if we want to use the class attributes in another class or method. \n",
    "# A class can be instantiated by calling the class using the class name.\n",
    "\n",
    "# What is Reference Variable?\n",
    "        # The variable which can be used to refer object is called reference variable.\n",
    "        # By using reference variable, we can access properties and methods of object.\n",
    "\n",
    "class Employee:\n",
    "    def __init__(self,x,y,b):\n",
    "        # data members (instance variables)\n",
    "        self.x=x\n",
    "        self.y=y\n",
    "        self.b=b\n",
    "        print(x,y,x+y+b)\n",
    "        \n",
    "    # Behavior (instance methods)\n",
    "    def display(self,y):\n",
    "        self.y=y\n",
    "        print(self.y)\n",
    "        print(y)\n",
    "    \n",
    "    # Behavior (instance methods)\n",
    "    def tulip(self,q):\n",
    "        print(\"Amol\",q)\n",
    "    \n",
    "\n",
    "# Creating a emp instance of Employee class  \n",
    "emp = Employee(15,12,11) \n",
    "\n",
    "# call methods\n",
    "emp.display(1111)\n",
    "emp.tulip(90)\n",
    "    \n",
    "    \n",
    "    # Note:\n",
    "        # 1. self should be first parameter inside constructor\n",
    "        # def __init__(self):\n",
    "        # 2. self should be first parameter inside instance methods\n",
    "        # def display(self):"
   ]
  },
  {
   "cell_type": "code",
   "execution_count": 1,
   "id": "b276ce74",
   "metadata": {},
   "outputs": [
    {
     "name": "stdout",
     "output_type": "stream",
     "text": [
      "Student: Harry 12\n",
      "School name: ABC School\n",
      "Student: Jessa 14\n",
      "School name: XYZ School\n"
     ]
    }
   ],
   "source": [
    "# Class Attributes :- When we design a class, we use instance variables and class variables.\n",
    "\n",
    "# In Class, attributes can be defined into two parts:\n",
    "    \n",
    "#     Instance variables:- We define instance variables in the constructor\n",
    "#     Class Variables:- A class variable is a variable that is declared inside of class, but outside of \n",
    "                       # any instance method or __init__() method.\n",
    "\n",
    "class Student:\n",
    "    # class variables\n",
    "    school_name = 'ABC School'\n",
    "\n",
    "    # constructor\n",
    "    def __init__(self, name, age):\n",
    "        # instance variables\n",
    "        self.name = name\n",
    "        self.age = age\n",
    "\n",
    "s1 = Student(\"Harry\", 12)\n",
    "# access instance variables\n",
    "print('Student:', s1.name, s1.age)\n",
    "\n",
    "# access class variable\n",
    "print('School name:', Student.school_name)\n",
    "\n",
    "# Modify instance variables\n",
    "s1.name = 'Jessa'\n",
    "s1.age = 14\n",
    "print('Student:', s1.name, s1.age)\n",
    "\n",
    "# Modify class variables\n",
    "Student.school_name = 'XYZ School'\n",
    "print('School name:', Student.school_name)"
   ]
  },
  {
   "cell_type": "code",
   "execution_count": 3,
   "id": "9cdb6437",
   "metadata": {},
   "outputs": [
    {
     "name": "stdout",
     "output_type": "stream",
     "text": [
      "Student: Harry 12 ABC School\n",
      "Student: Harry 14 XYZ School\n"
     ]
    }
   ],
   "source": [
    "# Class Methods:-\n",
    "        # Instance method:- It can modifiy a object state\n",
    "                           # Can access and modify both clas and instance variable\n",
    "        # Class Method:- It can modifiy a class state\n",
    "                         # Can access and modify both clas variable\n",
    "        # Static Method:- It can't modifiy a object or class state\n",
    "                        # Can't access and modify both clas and instance variable\n",
    "            \n",
    "# Example: Define and call an instance method and class method            \n",
    "\n",
    "\n",
    "# class methods demo\n",
    "class Student:\n",
    "    # class variable\n",
    "    school_name = 'ABC School'\n",
    "\n",
    "    # constructor\n",
    "    def __init__(self, name, age):\n",
    "        # instance variables\n",
    "        self.name = name\n",
    "        self.age = age\n",
    "\n",
    "    # instance method\n",
    "    def show(self):\n",
    "        # access instance variables and class variables\n",
    "        print('Student:', self.name, self.age, Student.school_name)\n",
    "\n",
    "    # instance method\n",
    "    def change_age(self, new_age):\n",
    "        # modify instance variable\n",
    "        self.age = new_age\n",
    "\n",
    "    # class method\n",
    "    @classmethod\n",
    "    def modify_school_name(self, new_name):\n",
    "        # modify class variable\n",
    "        self.school_name = new_name\n",
    "\n",
    "s1 = Student(\"Harry\", 12)\n",
    "\n",
    "# call instance methods\n",
    "s1.show()\n",
    "s1.change_age(14)\n",
    "\n",
    "# call class method\n",
    "Student.modify_school_name('XYZ School')\n",
    "# call instance methods\n",
    "s1.show()"
   ]
  },
  {
   "cell_type": "code",
   "execution_count": 4,
   "id": "3af961a7",
   "metadata": {},
   "outputs": [],
   "source": [
    "# pass Statement in Class:-\n",
    "# The pass statement will results in no operation (NOP). Generally, we use it as a placeholder when we do not know \n",
    "     # what code to write or add code in a future release.\n",
    "    \n",
    "    \n",
    "class demo:\n",
    "    pass\n",
    "    \n",
    "    \n",
    "    # In the above example, we defined class without a body. To avoid errors while executing it, \n",
    "    # we added the pass statement in the class body.    "
   ]
  },
  {
   "cell_type": "code",
   "execution_count": 5,
   "id": "1b45542b",
   "metadata": {},
   "outputs": [
    {
     "name": "stdout",
     "output_type": "stream",
     "text": [
      "Fruit is strawberry and Color is red\n"
     ]
    }
   ],
   "source": [
    "# Modify Object Properties:- Every object has properties associated with them. \n",
    "              # We can set or modify the object’s properties after object initialization by calling the property\n",
    "             # directly using the dot operator.\n",
    "        \n",
    "class Fruit:\n",
    "    def __init__(self, name, color):\n",
    "        self.name = name\n",
    "        self.color = color\n",
    "\n",
    "    def show(self):\n",
    "        print(\"Fruit is\", self.name, \"and Color is\", self.color)\n",
    "\n",
    "# creating object of the class\n",
    "obj = Fruit(\"Apple\", \"red\")\n",
    "\n",
    "# Modifying Object Properties\n",
    "obj.name = \"strawberry\"\n",
    "\n",
    "# calling the instance method using the object obj\n",
    "obj.show()\n",
    "# Output Fruit is strawberry and Color is red        "
   ]
  },
  {
   "cell_type": "code",
   "execution_count": 9,
   "id": "a2faaa54",
   "metadata": {},
   "outputs": [],
   "source": [
    "# Python Destructors:- to Destroy the Object.   __del__() Method\n",
    "\n",
    "# Delete object properties:-We can delete the object property by using the del keyword. \n",
    "                           # After deleting it, if we try to access it, we will get an error.\n",
    "    \n",
    "class Fruit:\n",
    "    def __init__(self, name, color):\n",
    "        self.name = name\n",
    "        self.color = color\n",
    "\n",
    "    def show(self):\n",
    "        print(\"Fruit is\", self.name, \"and Color is\", self.color)\n",
    "\n",
    "# creating object of the class\n",
    "obj = Fruit(\"Apple\", \"red\")\n",
    "\n",
    "# Deleting Object Properties\n",
    "del obj.name\n",
    "\n",
    "# Accessing object properties after deleting\n",
    "print(obj.name)\n",
    "# Output: AttributeError: 'Fruit' object has no attribute 'name'\n",
    "\n",
    "\n",
    "# Delete Objects:- In Python, we can also delete the object by using a del keyword. \n",
    "                   # An object can be anything like, class object, list, tuple, set, etc.\n",
    "    \n",
    "class Employee:\n",
    "    depatment = \"IT\"\n",
    "\n",
    "    def show(self):\n",
    "        print(\"Department is \", self.depatment)\n",
    "\n",
    "emp = Employee()\n",
    "emp.show()\n",
    "\n",
    "# delete object\n",
    "del emp\n",
    "\n",
    "# Accessing after delete object\n",
    "emp.show()\n",
    "# Output : NameError: name 'emp' is not defined"
   ]
  },
  {
   "cell_type": "code",
   "execution_count": null,
   "id": "0ac82277",
   "metadata": {},
   "outputs": [],
   "source": [
    "# What is an Instance Variable in Python? \n",
    "      # If the value of a variable varies from object to object, then such variables are called instance variables."
   ]
  },
  {
   "cell_type": "code",
   "execution_count": 10,
   "id": "382a5c60",
   "metadata": {},
   "outputs": [
    {
     "name": "stdout",
     "output_type": "stream",
     "text": [
      "Constructor exeuction...\n",
      "Constructor exeuction...\n",
      "Constructor exeuction...\n",
      "Method execution...\n"
     ]
    }
   ],
   "source": [
    "# Constructor Concept:\n",
    "#  Constructor is a special method in python.\n",
    "#  The name of the constructor should be __init__(self)\n",
    "#  Constructor will be executed automatically at the time of object creation.\n",
    "#  The main purpose of constructor is to declare and initialize instance variables.\n",
    "#  Per object constructor will be exeucted only once.\n",
    "#  Constructor can take atleast one argument(atleast self)\n",
    "#  Constructor is optional and if we are not providing any constructor then python will provide default constructor.\n",
    "\n",
    "\n",
    "# Program to demonistrate constructor will execute only once per object:-\n",
    "\n",
    "class Test:\n",
    "\n",
    "    def __init__(self):\n",
    "        print(\"Constructor exeuction...\")\n",
    "\n",
    "    def m1(self):\n",
    "        print(\"Method execution...\")\n",
    "\n",
    "t1=Test()\n",
    "t2=Test()\n",
    "t3=Test()\n",
    "t1.m1()"
   ]
  },
  {
   "cell_type": "code",
   "execution_count": 20,
   "id": "5dd8e575",
   "metadata": {},
   "outputs": [
    {
     "name": "stdout",
     "output_type": "stream",
     "text": [
      "Student Information:- \n",
      "Name:Amol \n",
      "Rollno:5 \n",
      "Marks:35\n",
      "Student Information:- \n",
      "Name:Sagar \n",
      "Rollno:5 \n",
      "Marks:35\n"
     ]
    }
   ],
   "source": [
    "# create a Student class and Creates an object to it. Call the method Details() to display student details\n",
    "\n",
    "class Student:\n",
    "\n",
    "    def __init__(self,name,rollno,marks):\n",
    "        self.name=name\n",
    "        self.rollno=rollno\n",
    "        self.marks=marks\n",
    "\n",
    "    def Details(self):\n",
    "        print(\"Student Information:- \\nName:{} \\nRollno:{} \\nMarks:{}\".format(self.name,self.rollno,self.marks))\n",
    "              \n",
    "s1=Student(\"Amol\",5,35) \n",
    "s1.Details()\n",
    "  \n",
    "s2=Student(\"Sagar\",5,35) \n",
    "s2.Details()              \n",
    "              "
   ]
  },
  {
   "cell_type": "code",
   "execution_count": null,
   "id": "6c8ec2de",
   "metadata": {},
   "outputs": [],
   "source": [
    "# Differences between Methods and Constructors:\n",
    "\n",
    "\n",
    "#         Method Constructor                                     Constructor\n",
    "# 1. Name of method can be any name                  1. Constructor name should be always __init__\n",
    "\n",
    "# 2. Method will be executed if we call that         2. Constructor will be executed automatically at\n",
    "#    Method                                             the time of object creation\n",
    "\n"
   ]
  },
  {
   "cell_type": "code",
   "execution_count": 36,
   "id": "d76e6726",
   "metadata": {
    "scrolled": true
   },
   "outputs": [
    {
     "name": "stdout",
     "output_type": "stream",
     "text": [
      "{'eno': 100, 'ename': 'Durga', 'esal': 10000}\n",
      "{'a': 10, 'b': 20, 'c': 30}\n",
      "{'a': 10, 'b': 20, 'c': 30, 'd': 40}\n"
     ]
    }
   ],
   "source": [
    "# Types of Variables:\n",
    "    # Inside Python class 3 types of variables are allowed.\n",
    "    \n",
    "    # 1. Instance Variables (Object Level Variables) :- If the value of a variable is varied from object to object\n",
    "    # 2. Static Variables (Class Level Variables)\n",
    "    # 3. Local variables (Method Level Variables)\n",
    "\n",
    "    \n",
    "# Where we can declare Instance variables:\n",
    "#     1. Inside Constructor by using self variable:- Once we creates object, automatically these variables added to object.\n",
    "\n",
    "#     2. Inside Instance Method by using self variable:- If any instance variable declared inside instance method, \n",
    "#                                                          that instance variable will be added once we call taht method.\n",
    "\n",
    "#     3. Outside of the class by using object reference variable\n",
    "\n",
    "# Example: for 1:-\n",
    "\n",
    "class Employee:\n",
    "\n",
    "    def __init__(self):\n",
    "        self.eno=100\n",
    "        self.ename='Durga'\n",
    "        self.esal=10000\n",
    "\n",
    "e=Employee()\n",
    "print(e.__dict__)\n",
    "\n",
    "\n",
    "# Example: for 2:-\n",
    "\n",
    "class Test:\n",
    "\n",
    "    def __init__(self):\n",
    "        self.a=10\n",
    "        self.b=20\n",
    "\n",
    "    def m1(self):\n",
    "        self.c=30\n",
    "\n",
    "t=Test()\n",
    "t.m1()\n",
    "print(t.__dict__)\n",
    "\n",
    "# Example: for 3:-\n",
    "class Test:\n",
    "\n",
    "    def __init__(self):\n",
    "        self.a=10\n",
    "        self.b=20\n",
    "\n",
    "    def m1(self):\n",
    "        self.c=30\n",
    "\n",
    "t=Test()\n",
    "t.m1()\n",
    "t.d=40\n",
    "print(t.__dict__)"
   ]
  },
  {
   "cell_type": "code",
   "execution_count": 37,
   "id": "e3797a32",
   "metadata": {},
   "outputs": [
    {
     "name": "stdout",
     "output_type": "stream",
     "text": [
      "10\n",
      "20\n",
      "10 20\n"
     ]
    }
   ],
   "source": [
    "# How to access Instance variables::-\n",
    "\n",
    "# We can access instance variables with in the class by using self variable and outside of the class by using object \n",
    "  # reference.\n",
    "    \n",
    "    \n",
    "class Test:\n",
    "\n",
    "    def __init__(self):\n",
    "        self.a=10\n",
    "        self.b=20\n",
    "\n",
    "    def display(self):\n",
    "        print(self.a)\n",
    "        print(self.b)\n",
    "\n",
    "t=Test()\n",
    "t.display()\n",
    "print(t.a,t.b)"
   ]
  },
  {
   "cell_type": "code",
   "execution_count": 54,
   "id": "dad55892",
   "metadata": {},
   "outputs": [
    {
     "name": "stdout",
     "output_type": "stream",
     "text": [
      "{'a': 10, 'b': 20, 'c': 30, 'd': 40}\n",
      "{'a': 10, 'b': 20, 'c': 30}\n",
      "{'a': 10, 'b': 20}\n",
      "{'b': 20, 'c': 30, 'd': 40}\n",
      "{'a': 10, 'b': 20, 'c': 30, 'd': 40}\n"
     ]
    }
   ],
   "source": [
    "#  Delete the Object:- We can delete the object itself by using the del keyword. \n",
    "\n",
    "# 1. Within a class we can delete instance variable as follows\n",
    "# del self.variableName\n",
    "\n",
    "# 2. From outside of class we can delete instance variables as follows\n",
    "# del objectreference.variableName\n",
    "\n",
    "class Test:\n",
    "    def __init__(self):\n",
    "        self.a=10\n",
    "        self.b=20\n",
    "        self.c=30\n",
    "        self.d=40\n",
    "    def m1(self):\n",
    "        del self.d\n",
    "\n",
    "t=Test()\n",
    "print(t.__dict__)\n",
    "\n",
    "t.m1()\n",
    "print(t.__dict__)\n",
    "del t.c\n",
    "print(t.__dict__)\n",
    "\n",
    "\n",
    "# Note: The instance variables which are deleted from one object,will not be deleted from other objects.\n",
    "    \n",
    "class Test:\n",
    "    def __init__(self):\n",
    "        self.a=10\n",
    "        self.b=20\n",
    "        self.c=30\n",
    "        self.d=40\n",
    "\n",
    "\n",
    "t1=Test()\n",
    "t2=Test()\n",
    "del t1.a\n",
    "print(t1.__dict__)\n",
    "print(t2.__dict__)"
   ]
  },
  {
   "cell_type": "code",
   "execution_count": 57,
   "id": "1b03fa82",
   "metadata": {},
   "outputs": [
    {
     "name": "stdout",
     "output_type": "stream",
     "text": [
      "t1: 888 999\n",
      "t2: 10 20\n"
     ]
    }
   ],
   "source": [
    "# If we change the values of instance variables of one object then those changes won't be reflected to the remaining \n",
    "  # objects, because for every object we are separate copy of instance variables are available.\n",
    "    \n",
    "class Test:\n",
    "    def __init__(self):\n",
    "        self.a=10\n",
    "        self.b=20\n",
    "\n",
    "t1=Test()\n",
    "t1.a=888\n",
    "t1.b=999\n",
    "t2=Test()\n",
    "print('t1:',t1.a,t1.b)    \n",
    "print('t2:',t2.a,t2.b)"
   ]
  },
  {
   "cell_type": "code",
   "execution_count": null,
   "id": "e1a3c156",
   "metadata": {},
   "outputs": [],
   "source": [
    "#2. # Polymorphism:- Poly means many. Morphs means forms.\n",
    "        # Polymorphism means 'Many Forms'. polymorphism allows us to perform the same action in many different ways.\n",
    "\n",
    "# Eg1: Yourself is best example of polymorphism.In front of Your parents You will have one type of\n",
    "# behaviour and with friends another type of behaviour.Same person but different behaviours at\n",
    "# different places,which is nothing but polymorphism.    \n",
    "    \n",
    "    \n",
    "# Related to polymorphism the following 2 topics are important:-\n",
    "\n",
    "# 1. Overloading:- We can use same operator or methods for different purposes.\n",
    "#     1. Operator Overloading\n",
    "#     2. Method Overloading\n",
    "#     3. Constructor Overloading\n",
    "# 2. Overriding\n",
    "#     1. Method overriding\n",
    "#     2. constructor overriding\n"
   ]
  },
  {
   "cell_type": "code",
   "execution_count": 72,
   "id": "6e3c437d",
   "metadata": {},
   "outputs": [
    {
     "name": "stdout",
     "output_type": "stream",
     "text": [
      "30\n",
      "Enter 1st stringAmol]\n",
      "Enter 2nd stringAdh\n",
      "Amol]Adh\n",
      "Worked for 50 days\n",
      "salary is:  40000\n"
     ]
    }
   ],
   "source": [
    "#    1. Operator Overloading:- \n",
    "        # use the same operator(+ operator for addition of int and str(Concantination)) for multiple purposes, \n",
    "        #  which is nothing but operator overloading.\n",
    "\n",
    "\n",
    "# Overloading + operator for custom objects\n",
    "\n",
    "class Poly:\n",
    "    def __init__(self,x,y):\n",
    "        self.x=x\n",
    "        self.y=y\n",
    "        print(x+y)\n",
    "        \n",
    "        a=input(\"Enter 1st string\")\n",
    "        b=input(\"Enter 2nd string\")\n",
    "        print(a+b)\n",
    "\n",
    "obj=Poly(10,20)\n",
    "\n",
    "# Overloading the * Operator\n",
    "\n",
    "class Employee:\n",
    "    def __init__(self, name, salary):\n",
    "        self.name = name\n",
    "        self.salary = salary\n",
    "\n",
    "    def __mul__(self, timesheet):\n",
    "        print('Worked for', timesheet.days, 'days')\n",
    "        # calculate salary\n",
    "        return self.salary * timesheet.days\n",
    "\n",
    "\n",
    "class TimeSheet:\n",
    "    def __init__(self, name, days):\n",
    "        self.name = name\n",
    "        self.days = days\n",
    "        \n",
    "emp = Employee(\"Jessa\", 800)\n",
    "ts = TimeSheet(\"Jessa\", 50)\n",
    "print(\"salary is: \", emp * ts )\n",
    "\n",
    "\n",
    "# Operator Name---\tSymbol---\tMagic method\n",
    "# Addition\t+\t__add__(self, other)\n",
    "# Subtraction\t-\t__sub__(self, other)\n",
    "# Multiplication\t*\t__mul__(self, other)\n",
    "# Division\t/\t__div__(self, other)\n",
    "# Floor Division\t//\t__floordiv__(self,other)\n",
    "# Modulus\t%\t__mod__(self, other)\n",
    "# Power\t**\t__pow__(self, other)\n",
    "# Increment\t+=\t__iadd__(self, other)\n",
    "# Decrement\t-=\t__isub__(self, other)\n",
    "# Product\t*=\t__imul__(self, other)\n",
    "# Division\t/+\t__idiv__(self, other)\n",
    "# Modulus\t%=\t__imod__(self, other)\n",
    "# Power\t**=\t__ipow__(self, other)\n",
    "# Less than\t<\t__lt__(self, other)\n",
    "# Greater than\t>\t__gt__(self, other)\n",
    "# Less than or equal to\t<=\t__le__(self, other)\n",
    "# Greater than or equal to\t>=\t__ge__(self, other)\n",
    "# Equal to\t==\t__eq__(self, other)\n",
    "# Not equal\t!=\t__ne__(self, other)\n"
   ]
  },
  {
   "cell_type": "code",
   "execution_count": 109,
   "id": "10266f61",
   "metadata": {},
   "outputs": [
    {
     "name": "stdout",
     "output_type": "stream",
     "text": [
      "Third:-  -2\n",
      "First:-  12\n",
      "First:-  22\n",
      "First:-  18\n",
      "First:-  23\n"
     ]
    }
   ],
   "source": [
    "# 2. Method Overloading:- The process of calling the same method with different parameters is known as method overloading. \n",
    "# Python does not support method overloading. \n",
    "# Python considers only the latest defined method even if you overload the method. \n",
    "# Python will raise a TypeError if you overload the method.\n",
    "\n",
    "class poly():\n",
    "    def __init__(self):\n",
    "        pass\n",
    "    \n",
    "    def add(self):\n",
    "        print(\"First:- \")\n",
    "        \n",
    "    def add(self,x):\n",
    "        print(\"Second:- \",x)\n",
    "        \n",
    "    def add(self,x):\n",
    "        print(\"Second:- \",x+y)\n",
    "        \n",
    "    def add(self,x,y):\n",
    "        print(\"Third:- \",x-y)\n",
    "        \n",
    "a=poly()\n",
    "# a.add()\n",
    "# a.add(10)\n",
    "a.add(2,4)   # only the latest defined method taken\n",
    "\n",
    "\n",
    "# There is alternet way to do method overloading:-\n",
    "\n",
    "class poly():\n",
    "    def __init__(self):\n",
    "        pass\n",
    "    \n",
    "    def add(self,*y,a=12):           # a=12 Default argument    # *Variable lenth\n",
    "        print(\"First:- \",sum(y,a))\n",
    "        \n",
    "        \n",
    "a=poly()\n",
    "a.add()\n",
    "a.add(10)\n",
    "a.add(2,4)\n",
    "a.add(1,3,3,4)\n",
    "\n",
    "\n",
    "\n"
   ]
  },
  {
   "cell_type": "code",
   "execution_count": 125,
   "id": "43dc48ae",
   "metadata": {
    "scrolled": true
   },
   "outputs": [
    {
     "name": "stdout",
     "output_type": "stream",
     "text": [
      "Inside Constructor\n",
      "All variables initialized\n",
      "Hello, my name is Emma\n",
      "Inside Display\n",
      "Name: PYnative Address: ABC Street\n",
      "Emma 23 7500\n",
      "Kelly 25 8500\n"
     ]
    }
   ],
   "source": [
    "# what is constructor:- Constructor is a special method used to create an object of a class. \n",
    "                      # On the other hand, a destructor is used to destroy the object.\n",
    "\n",
    "# The constructor is executed automatically at the time of object creation.\n",
    "# In Python, Object creation is divided into two parts in Object Creation and Object initialization\n",
    "# Internally, the __new__ is the method that creates the object\n",
    "# And, using the __init__() method we can implement constructor to initialize the object.\n",
    "\n",
    "# Where,\n",
    "\n",
    "# def: The keyword is used to define function.\n",
    "# __init__() Method: It is a reserved method. This method gets called as soon as an object of a class is instantiated.\n",
    "# self: The first argument self refers to the current object. It binds the instance to the __init__() method. \n",
    "        \n",
    "class Student:\n",
    "\n",
    "    # constructor\n",
    "    # initialize instance variable\n",
    "    def __init__(self, name):\n",
    "        print('Inside Constructor')\n",
    "        self.name = name\n",
    "        print('All variables initialized')\n",
    "\n",
    "    # instance Method\n",
    "    def show(self):\n",
    "        print('Hello, my name is', self.name)\n",
    "\n",
    "\n",
    "# create object using constructor\n",
    "s1 = Student('Emma')    # s1 is the Object\n",
    "s1.show()\n",
    " \n",
    "\n",
    "    \n",
    "#     Note:\n",
    "\n",
    "# For every object, the constructor will be executed only once. \n",
    "# For example, if we create four objects, the constructor is called four times.\n",
    "# Every class has a constructor, but it’s not required to define it explicitly.constructors in class is optional.\n",
    "# Python will provide a default constructor if no constructor is defined.\n",
    "\n",
    "\n",
    "    # Types of Constructors\n",
    "    # Default Constructor:- Python will provide a default constructor if no constructor is defined. \n",
    "#            Python adds a default constructor when we do not include the constructor in the class or forget to declare it.\n",
    "\n",
    "    # Non-parametrized constructor:- A constructor without any arguments is called a non-parameterized constructor.\n",
    "    \n",
    "    # Parameterized constructor:- A constructor with defined parameters or arguments is called a parameterized constructor.\n",
    "        \n",
    "\n",
    "#  1\n",
    "\n",
    "class Employee:\n",
    "\n",
    "    def display(self):\n",
    "        print('Inside Display')\n",
    "\n",
    "emp = Employee()\n",
    "emp.display()\n",
    "        \n",
    "# 2 \n",
    "class Company:\n",
    "\n",
    "    # no-argument constructor\n",
    "    def __init__(self):\n",
    "        self.name = \"PYnative\"\n",
    "        self.address = \"ABC Street\"\n",
    "\n",
    "    # a method for printing data members\n",
    "    def show(self):\n",
    "        print('Name:', self.name, 'Address:', self.address)\n",
    "\n",
    "# creating object of the class  \n",
    "# cmp = Company()      we do not send any argument to a constructor while creating an object.\n",
    "\n",
    "# calling the instance method using the object\n",
    "cmp.show()\n",
    "\n",
    "# 3 \n",
    "\n",
    "class Employee:\n",
    "    # parameterized constructor\n",
    "    def __init__(self, name, age, salary):\n",
    "        self.name = name\n",
    "        self.age = age\n",
    "        self.salary = salary\n",
    "\n",
    "    # display object\n",
    "    def show(self):\n",
    "        print(self.name, self.age, self.salary)\n",
    "\n",
    "# creating object of the Employee class\n",
    "emma = Employee('Emma', 23, 7500)\n",
    "emma.show()\n",
    "\n",
    "kelly = Employee('Kelly', 25, 8500)\n",
    "kelly.show()\n",
    "     \n"
   ]
  },
  {
   "cell_type": "code",
   "execution_count": 126,
   "id": "de1e7196",
   "metadata": {},
   "outputs": [
    {
     "name": "stdout",
     "output_type": "stream",
     "text": [
      "Emma 12 7\n",
      "Kelly 13 7\n"
     ]
    }
   ],
   "source": [
    "# Constructor With Default Values:-\n",
    "#  The default value will be used if we do not pass arguments to the constructor at the time of object creation.\n",
    "\n",
    "class Student:\n",
    "    # constructor with default values age and classroom\n",
    "    def __init__(self, name, age=12, classroom=7):\n",
    "        self.name = name\n",
    "        self.age = age\n",
    "        self.classroom = classroom\n",
    "\n",
    "    # display Student\n",
    "    def show(self):\n",
    "        print(self.name, self.age, self.classroom)\n",
    "\n",
    "# creating object of the Student class\n",
    "emma = Student('Emma')\n",
    "emma.show()\n",
    "\n",
    "kelly = Student('Kelly', 13) \n",
    "kelly.show()"
   ]
  },
  {
   "cell_type": "code",
   "execution_count": 2,
   "id": "85868f5a",
   "metadata": {},
   "outputs": [
    {
     "name": "stdout",
     "output_type": "stream",
     "text": [
      "Emma 12\n",
      "Kelly 13\n"
     ]
    }
   ],
   "source": [
    "# Self Keyword in Python:-  Using self, we can access the instance variable and instance method of the object.\n",
    "\n",
    "class Student:\n",
    "    # constructor\n",
    "    def __init__(self, name, age):\n",
    "        self.name = name\n",
    "        self.age = age\n",
    "\n",
    "    # self points to the current object\n",
    "    def show(self):\n",
    "        # access instance variable using self\n",
    "        print(self.name, self.age)\n",
    "\n",
    "# creating first object\n",
    "emma = Student('Emma', 12)\n",
    "emma.show()\n",
    "\n",
    "# creating Second object\n",
    "kelly = Student('Kelly', 13)\n",
    "kelly.show()"
   ]
  },
  {
   "cell_type": "code",
   "execution_count": 12,
   "id": "086b749a",
   "metadata": {},
   "outputs": [
    {
     "name": "stdout",
     "output_type": "stream",
     "text": [
      "Two arguments constructor\n",
      "Two arguments constructor\n"
     ]
    }
   ],
   "source": [
    "# 3. Constructor Overloading:- Constructor overloading is a concept of having more than one constructor \n",
    "#                      with a different parameters list in such a way so that each constructor can perform different tasks.\n",
    " \n",
    "# Python does not support constructor overloading.\n",
    "#  If we define multiple constructors then, the interpreter will considers only the last constructor\n",
    "\n",
    "\n",
    "class Student:\n",
    "    # one argument constructor\n",
    "    def __init__(self, name):\n",
    "        print(\"One arguments constructor\")\n",
    "        self.name = name\n",
    "\n",
    "    # two argument constructor\n",
    "    def __init__(self, name, age):\n",
    "        print(\"Two arguments constructor\")\n",
    "        self.name = name\n",
    "        self.age = age\n",
    "\n",
    "# creating first object\n",
    "emma = Student('Emma',2)\n",
    "\n",
    "# creating Second object\n",
    "kelly = Student('Kelly', 13)\n",
    "\n",
    "# class poly():\n",
    "#     def __init__(self,*z):\n",
    "#         print(\"First Constructor\",sum(z))\n",
    "    \n",
    "   \n",
    "    \n",
    "# a=poly()\n",
    "# a=poly(10,20,14,23,56,78)"
   ]
  },
  {
   "cell_type": "code",
   "execution_count": 24,
   "id": "78d85f10",
   "metadata": {
    "scrolled": true
   },
   "outputs": [
    {
     "name": "stdout",
     "output_type": "stream",
     "text": [
      "Inside Vehicle Constructor\n",
      "Inside Car Constructor\n",
      "Inside Electric Car Constructor\n",
      "Engine=1500cc, Max Speed=240, Km range=750\n"
     ]
    }
   ],
   "source": [
    "# Constructor Chaining:- Constructor chaining is the process of calling one constructor from another constructor.\n",
    "\n",
    "class Vehicle:\n",
    "    # Constructor of Vehicle\n",
    "    def __init__(self, engine):\n",
    "        print('Inside Vehicle Constructor')\n",
    "        self.engine = engine\n",
    "\n",
    "class Car(Vehicle):\n",
    "    # Constructor of Car\n",
    "    def __init__(self, engine, max_speed):\n",
    "        super().__init__(engine)\n",
    "        print('Inside Car Constructor')\n",
    "        self.max_speed = max_speed\n",
    "\n",
    "class Electric_Car(Car):\n",
    "    # Constructor of Electric Car\n",
    "    def __init__(self, engine, max_speed, km_range):\n",
    "        super().__init__(engine, max_speed)\n",
    "        print('Inside Electric Car Constructor')\n",
    "        self.km_range = km_range\n",
    "\n",
    "# Object of electric car\n",
    "ev = Electric_Car('1500cc', 240, 750)\n",
    "print(f'Engine={ev.engine}, Max Speed={ev.max_speed}, Km range={ev.km_range}')"
   ]
  },
  {
   "cell_type": "code",
   "execution_count": 28,
   "id": "e99ca9a7",
   "metadata": {},
   "outputs": [
    {
     "name": "stdout",
     "output_type": "stream",
     "text": [
      "The number of Employee: 4\n"
     ]
    }
   ],
   "source": [
    "# Counting the Number of objects of a Class:- For every object, the constructor is called only once. \n",
    "  # So for counting the number of objects of a class, we can add a counter in the constructor, \n",
    "     # which increments by one after each object creation.\n",
    "\n",
    "class Employee:\n",
    "    count = 0\n",
    "    def __init__(self,*x):\n",
    "        Employee.count = Employee.count + 1\n",
    "\n",
    "\n",
    "# creating objects\n",
    "e1 = Employee()\n",
    "e2 = Employee()\n",
    "e2 = Employee()\n",
    "e2 = Employee()\n",
    "print(\"The number of Employee:\", Employee.count)"
   ]
  },
  {
   "cell_type": "code",
   "execution_count": 32,
   "id": "5f7b4c30",
   "metadata": {},
   "outputs": [
    {
     "name": "stdout",
     "output_type": "stream",
     "text": [
      "Greenland Society\n",
      "Rahatani\n",
      "SNBP International School\n"
     ]
    }
   ],
   "source": [
    "# Method overriding:- If the child class not satisfied with parent class implementation then child class is\n",
    "        # allowed to redefine that method in the child class based on its requirement. This concept is called overriding.\n",
    "        # Overriding concept applicable for both methods and constructors.\n",
    "class P:\n",
    "    def property(self):\n",
    "        print('Greenland Society')\n",
    "    def area(self):\n",
    "        print('Rahatani')\n",
    "class C(P):\n",
    "    def area(self):\n",
    "        super().area()\n",
    "        print('SNBP International School')\n",
    "\n",
    "c=C()\n",
    "c.property()\n",
    "c.area()\n",
    "\n",
    "\n",
    "# From Overriding method of child class,we can call parent class method also by using super() method."
   ]
  },
  {
   "cell_type": "code",
   "execution_count": 34,
   "id": "8b5a0aa5",
   "metadata": {},
   "outputs": [
    {
     "name": "stdout",
     "output_type": "stream",
     "text": [
      "Employee Name: Durga\n",
      "Employee Age: 48\n",
      "Employee Number: 8\n",
      "Employee Salary: 2600\n",
      "Employee Name: Sunny\n",
      "Employee Age: 39\n",
      "Employee Number: 5\n",
      "Employee Salary: 3600\n"
     ]
    }
   ],
   "source": [
    "# Constructor overriding::-\n",
    "   # From child class constuctor we can call parent class constructor by using super() method.\n",
    "    \n",
    "class Person:\n",
    "    def __init__(self,name,age):\n",
    "        self.name=name\n",
    "        self.age=age\n",
    "\n",
    "class Employee(Person):\n",
    "    def __init__(self,name,age,eno,esal):\n",
    "        super().__init__(name,age)\n",
    "        self.eno=eno\n",
    "        self.esal=esal\n",
    "\n",
    "    def display(self):\n",
    "        print('Employee Name:',self.name)\n",
    "        print('Employee Age:',self.age)\n",
    "        print('Employee Number:',self.eno)\n",
    "        print('Employee Salary:',self.esal)\n",
    "\n",
    "e1=Employee('Durga',48,8,2600)\n",
    "e1.display()\n",
    "e2=Employee('Sunny',39,5,3600)\n",
    "e2.display()   \n"
   ]
  },
  {
   "cell_type": "code",
   "execution_count": null,
   "id": "6c9c054e",
   "metadata": {},
   "outputs": [],
   "source": [
    "# 3. # Inheritance in Python:-\n",
    "   # The process of inheriting the properties of the parent class into a child class is called inheritance. \n",
    "   # The main purpose of inheritance is the reusability of code\n",
    "   # In inheritance, the child class acquires all the data members, properties, and functions from the parent class. \n",
    "    # Also, a child class can also provide its specific implementation to the methods of the parent class.\n",
    "\n",
    "# Types Of Inheritance:- \n",
    "\n",
    "# Single inheritance (p>>c)\n",
    "# Multiple Inheritance(p>>p>>c)\n",
    "# Multilevel inheritance (p>>c>>c)\n",
    "# Hierarchical Inheritance (p>> multiple child classes.)\n",
    "# Hybrid Inheritance  ()  "
   ]
  },
  {
   "cell_type": "code",
   "execution_count": 35,
   "id": "363843dd",
   "metadata": {},
   "outputs": [
    {
     "name": "stdout",
     "output_type": "stream",
     "text": [
      "Inside Vehicle class\n",
      "Inside Car class\n"
     ]
    }
   ],
   "source": [
    "# Single Inheritance:- a child class inherits from a single-parent class. Here is one child class and one parent class.\n",
    "\n",
    "# Base class\n",
    "class Vehicle:\n",
    "    def Vehicle_info(self):q\n",
    "        print('Inside Vehicle class')\n",
    "\n",
    "# Child class\n",
    "class Car(Vehicle):\n",
    "    def car_info(self):\n",
    "        print('Inside Car class')\n",
    "\n",
    "# Create object of Car\n",
    "c = Car()\n",
    "\n",
    "# access Vehicle's info using car object\n",
    "c.Vehicle_info()\n",
    "c.car_info()"
   ]
  },
  {
   "cell_type": "code",
   "execution_count": 36,
   "id": "d40a102a",
   "metadata": {},
   "outputs": [
    {
     "name": "stdout",
     "output_type": "stream",
     "text": [
      "Inside Person class\n",
      "Name: Jessa Age: 28\n",
      "Inside Company class\n",
      "Name: Google location: Atlanta\n",
      "Inside Employee class\n",
      "Salary: 12000 Skill: Machine Learning\n"
     ]
    }
   ],
   "source": [
    "# Multiple Inheritance (Diamond inheritance)\n",
    "  # In multiple inheritance, one child class can inherit from multiple parent classes.zx\n",
    "     # So here is one child class and multiple parent classes.\n",
    "\n",
    "# Parent class 1\n",
    "class Person:\n",
    "    def person_info(self, name, age):\n",
    "        print('Inside Person class')\n",
    "        print('Name:', name, 'Age:', age)\n",
    "\n",
    "# Parent class 2\n",
    "class Company:\n",
    "    def company_info(self, company_name, location):\n",
    "        print('Inside Company class')\n",
    "        print('Name:', company_name, 'location:', location)\n",
    "\n",
    "# Child class\n",
    "class Employee(Person, Company):\n",
    "    def Employee_info(self, salary, skill):\n",
    "        print('Inside Employee class')\n",
    "        print('Salary:', salary, 'Skill:', skill)\n",
    "\n",
    "# Create object of Employee\n",
    "emp = Employee()\n",
    "\n",
    "# access data\n",
    "emp.person_info('Jessa', 28)\n",
    "emp.company_info('Google', 'Atlanta')\n",
    "emp.Employee_info(12000, 'Machine Learning')"
   ]
  },
  {
   "cell_type": "code",
   "execution_count": 37,
   "id": "e5ef4db5",
   "metadata": {},
   "outputs": [
    {
     "name": "stdout",
     "output_type": "stream",
     "text": [
      "Inside Vehicle class\n",
      "Inside Car class\n",
      "Inside SportsCar class\n"
     ]
    }
   ],
   "source": [
    "# Multilevel inheritance:- chain of classes is called multilevel inheritance.\n",
    "\n",
    "# Base class\n",
    "class Vehicle:\n",
    "    def Vehicle_info(self):\n",
    "        print('Inside Vehicle class')\n",
    "\n",
    "# Child class\n",
    "class Car(Vehicle):\n",
    "    def car_info(self):\n",
    "        print('Inside Car class')\n",
    "\n",
    "# Child class\n",
    "class SportsCar(Car):\n",
    "    def sports_car_info(self):\n",
    "        print('Inside SportsCar class')\n",
    "\n",
    "# Create object of SportsCar\n",
    "s_car = SportsCar()\n",
    "\n",
    "# access Vehicle's and Car info using SportsCar object\n",
    "s_car.Vehicle_info()\n",
    "s_car.car_info()\n",
    "s_car.sports_car_info()\n"
   ]
  },
  {
   "cell_type": "code",
   "execution_count": 44,
   "id": "da1f72a9",
   "metadata": {},
   "outputs": [
    {
     "name": "stdout",
     "output_type": "stream",
     "text": [
      "This is Vehicle\n",
      "Car name is: BMW\n",
      "This is Vehicle\n",
      "Truck name is: Ford\n",
      "This is Vehicle\n",
      "This is Amol's Home\n"
     ]
    }
   ],
   "source": [
    "# Hierarchical Inheritance:-  parent class and multiple child classes.\n",
    "\n",
    "class Vehicle:\n",
    "    def info(self):\n",
    "        print(\"This is Vehicle\")\n",
    "\n",
    "class Car(Vehicle):\n",
    "    def car_info(self, name):\n",
    "        print(\"Car name is:\", name)\n",
    "\n",
    "class Truck(Vehicle):\n",
    "    def truck_info(self, name):\n",
    "        print(\"Truck name is:\", name)\n",
    "        \n",
    "class Home(Vehicle):\n",
    "    def home_info(self,name):\n",
    "        print(\"This is Amol's Home\")\n",
    "\n",
    "obj1 = Car()\n",
    "obj1.info()\n",
    "obj1.car_info('BMW')\n",
    "\n",
    "obj2 = Truck()\n",
    "obj2.info()\n",
    "obj2.truck_info('Ford')\n",
    "\n",
    "obj3=Home()\n",
    "obj3.info()\n",
    "obj3.home_info(\"A-604\")             "
   ]
  },
  {
   "cell_type": "code",
   "execution_count": 47,
   "id": "7ec3bb3e",
   "metadata": {},
   "outputs": [
    {
     "name": "stdout",
     "output_type": "stream",
     "text": [
      "Inside Vehicle class\n",
      "Inside Car class\n",
      "Inside SportsCar class\n"
     ]
    }
   ],
   "source": [
    "# Hybrid Inheritance:- When inheritance is consists of multiple types or a combination of different \n",
    "                     # inheritance is called hybrid inheritance.\n",
    "    \n",
    "class Vehicle:\n",
    "    def vehicle_info(self):\n",
    "        print(\"Inside Vehicle class\")\n",
    "\n",
    "class Car(Vehicle):\n",
    "    def car_info(self):\n",
    "        print(\"Inside Car class\")\n",
    "\n",
    "class Truck(Vehicle):\n",
    "    def truck_info(self):\n",
    "        print(\"Inside Truck class\")\n",
    "\n",
    "# Sports Car can inherits properties of Vehicle and Car\n",
    "class SportsCar(Car, Vehicle):\n",
    "    def sports_car_info(self):\n",
    "        print(\"Inside SportsCar class\")\n",
    "\n",
    "# create object\n",
    "s_car = SportsCar()\n",
    "\n",
    "s_car.vehicle_info()\n",
    "s_car.car_info()\n",
    "# s_car.truck_info()     'S_Car' object has no attribute 'truck_info'\n",
    "s_car.sports_car_info()    "
   ]
  },
  {
   "cell_type": "code",
   "execution_count": 49,
   "id": "4d2c4f0a",
   "metadata": {},
   "outputs": [
    {
     "name": "stdout",
     "output_type": "stream",
     "text": [
      "True\n",
      "False\n",
      "False\n",
      "True\n",
      "True\n"
     ]
    }
   ],
   "source": [
    "# # issubclass() \n",
    "# In Python, we can verify whether a particular class is a subclass of another class. \n",
    "# For this purpose, we can use Python built-in function issubclass(). \n",
    "# This function returns True if the given class is the subclass of the specified class. Otherwise, it returns False.\n",
    "\n",
    "\n",
    "# Syntax\n",
    "\n",
    "# issubclass(class, classinfo)\n",
    "\n",
    "        # Where,\n",
    "\n",
    "        # class: class to be checked.\n",
    "        # classinfo: a class, type, or a tuple of classes or data types.\n",
    "\n",
    "\n",
    "class Company:\n",
    "    def fun1(self):\n",
    "        print(\"Inside parent class\")\n",
    "\n",
    "class Employee(Company):\n",
    "    def fun2(self):\n",
    "        print(\"Inside child class.\")\n",
    "\n",
    "class Player:\n",
    "    def fun3(self):\n",
    "        print(\"Inside Player class.\")\n",
    "\n",
    "# Result True\n",
    "print(issubclass(Employee, Company))\n",
    "\n",
    "# Result False\n",
    "print(issubclass(Employee, list))\n",
    "\n",
    "# Result False\n",
    "print(issubclass(Player, Company))\n",
    "\n",
    "# Result True\n",
    "print(issubclass(Employee, (list, Company)))\n",
    "\n",
    "# Result True\n",
    "print(issubclass(Company, (list, Company)))"
   ]
  },
  {
   "cell_type": "code",
   "execution_count": 53,
   "id": "0ac0b636",
   "metadata": {},
   "outputs": [
    {
     "name": "stdout",
     "output_type": "stream",
     "text": [
      "Name:  Jessa Salary: 8000\n",
      "Jessa is working on NLP\n"
     ]
    }
   ],
   "source": [
    "# Encapsulation in Python:- It is a concept of bundling data and methods within a single unit. \n",
    "\n",
    "# Example:\n",
    "\n",
    "# In this example, we create an Employee class by defining employee attributes such as name and salary \n",
    "       # as an instance variable and implementing behavior using work() and show() instance methods.\n",
    "    \n",
    "class Employee:\n",
    "    # constructor\n",
    "    def __init__(self, name, salary, project):\n",
    "        # data members\n",
    "        self.name = name\n",
    "        self.salary = salary\n",
    "        self.project = project\n",
    "\n",
    "    # method\n",
    "    # to display employee's details\n",
    "    def show(self):\n",
    "        # accessing public data member\n",
    "        print(\"Name: \", self.name, 'Salary:', self.salary)\n",
    "\n",
    "    # method\n",
    "    def work(self):\n",
    "        print(self.name, 'is working on', self.project)\n",
    "\n",
    "# creating object of a class\n",
    "emp = Employee('Jessa', 8000, 'NLP')\n",
    "\n",
    "# calling public method of the class\n",
    "emp.show()\n",
    "emp.work()    "
   ]
  },
  {
   "cell_type": "code",
   "execution_count": null,
   "id": "2510bb49",
   "metadata": {},
   "outputs": [],
   "source": [
    "# Access Modifiers in Python:- Encapsulation can be achieved by declaring the data members and methods of a class either \n",
    "                                # as private or protected. \n",
    "# But In Python, we don’t have direct access modifiers like public, private, and protected. \n",
    "# We can achieve this by using single underscore and double underscores.\n",
    "\n",
    "# Public Member: Accessible anywhere from outside of class.\n",
    "# Private Member: Accessible within the class\n",
    "# Protected Member: Accessible within the class and its sub-classes"
   ]
  },
  {
   "cell_type": "code",
   "execution_count": 59,
   "id": "42833fd9",
   "metadata": {},
   "outputs": [
    {
     "name": "stdout",
     "output_type": "stream",
     "text": [
      "Name:  Jessa Salary: 10000\n",
      "Name:  Jessa Salary: 10000\n"
     ]
    }
   ],
   "source": [
    "# 1.Public Member:-\n",
    "\n",
    "class Employee:\n",
    "    # constructor\n",
    "    def __init__(self, name, salary):\n",
    "        # public data members\n",
    "        self.name = name\n",
    "        self.salary = salary\n",
    "\n",
    "    # public instance methods\n",
    "    def show(self):\n",
    "        # accessing public data member\n",
    "        print(\"Name: \", self.name, 'Salary:', self.salary)\n",
    "\n",
    "# creating object of a class\n",
    "emp = Employee('Jessa', 10000)\n",
    "\n",
    "# accessing public data members\n",
    "print(\"Name: \", emp.name, 'Salary:', emp.salary)\n",
    "\n",
    "# calling public method of the class\n",
    "emp.show()"
   ]
  },
  {
   "cell_type": "code",
   "execution_count": 61,
   "id": "d8db32e9",
   "metadata": {},
   "outputs": [
    {
     "name": "stdout",
     "output_type": "stream",
     "text": [
      "Name:  Jessa Salary: 10000\n"
     ]
    }
   ],
   "source": [
    "# 2. Private Member:-\n",
    "\n",
    "# class Employee:\n",
    "#     # constructor\n",
    "#     def __init__(self, name, salary):\n",
    "#         # public data member\n",
    "#         self.name = name\n",
    "#         # private member\n",
    "#         self.__salary = salary\n",
    "\n",
    "# # creating object of a class\n",
    "# emp = Employee('Jessa', 10000)\n",
    "\n",
    "# # accessing private data members\n",
    "# print('Salary:', emp.__salary)\n",
    "\n",
    "# Output :- AttributeError: 'Employee' object has no attribute '__salary'\n",
    "\n",
    "# Note:- In the above example, the salary is a private variable. As you know, we can’t access the private variable \n",
    "        # from the outside of that class.\n",
    "    \n",
    "# We can access private members from outside of a class using the following two approaches\n",
    "\n",
    "            # Create public method to access private members\n",
    "            # Use name mangling    \n",
    "# # Create public method to access private member:-\n",
    "\n",
    "\n",
    "class Employee:\n",
    "    # constructor\n",
    "    def __init__(self, name, salary):\n",
    "        # public data member\n",
    "        self.name = name\n",
    "        # private member\n",
    "        self.__salary = salary\n",
    "\n",
    "    # public instance methods\n",
    "    def show(self):\n",
    "        # private members are accessible from a class\n",
    "        print(\"Name: \", self.name, 'Salary:', self.__salary)\n",
    "\n",
    "# creating object of a class\n",
    "emp = Employee('Jessa', 10000)\n",
    "\n",
    "# calling public method of the class\n",
    "emp.show()    "
   ]
  },
  {
   "cell_type": "code",
   "execution_count": 64,
   "id": "e8e4c5cf",
   "metadata": {},
   "outputs": [
    {
     "name": "stdout",
     "output_type": "stream",
     "text": [
      "Name: Jessa\n",
      "Salary: 10000\n"
     ]
    }
   ],
   "source": [
    "# Use name mangling:-\n",
    "\n",
    "class Employee:\n",
    "    # constructor\n",
    "    def __init__(self, name, salary):\n",
    "        # public data member\n",
    "        self.name = name\n",
    "        # private member\n",
    "        self.__salary = salary\n",
    "\n",
    "# creating object of a class\n",
    "emp = Employee('Jessa', 10000)\n",
    "\n",
    "print('Name:', emp.name)\n",
    "# direct access to private member using name mangling\n",
    "print('Salary:', emp._Employee__salary)"
   ]
  },
  {
   "cell_type": "code",
   "execution_count": 65,
   "id": "b00a7e5a",
   "metadata": {},
   "outputs": [
    {
     "name": "stdout",
     "output_type": "stream",
     "text": [
      "Employee name : Jessa\n",
      "Working on project : NLP\n",
      "Project: NLP\n"
     ]
    }
   ],
   "source": [
    "# 3.Protected Member:-\n",
    "\n",
    "# base class\n",
    "class Company:\n",
    "    def __init__(self):\n",
    "        # Protected member\n",
    "        self._project = \"NLP\"\n",
    "\n",
    "# child class\n",
    "class Employee(Company):\n",
    "    def __init__(self, name):\n",
    "        self.name = name\n",
    "        Company.__init__(self)\n",
    "\n",
    "    def show(self):\n",
    "        print(\"Employee name :\", self.name)\n",
    "        # Accessing protected member in child class\n",
    "        print(\"Working on project :\", self._project)\n",
    "\n",
    "c = Employee(\"Jessa\")\n",
    "c.show()\n",
    "\n",
    "# Direct access protected data member\n",
    "print('Project:', c._project)\n"
   ]
  },
  {
   "cell_type": "code",
   "execution_count": null,
   "id": "9d0c39df",
   "metadata": {},
   "outputs": [],
   "source": [
    "# Advantages of Encapsulation:-\n",
    "# Security:- Encapsulation protects an object from unauthorized access. It allows private and protected access levels\n",
    "#            # to prevent accidental data modification.\n",
    "# Data Hiding\n",
    "# Simplicity:- keeping classes separated and preventing them from tightly coupling with each other. \n",
    "# Aesthetics:- Bundling data and methods within a class makes code more readable and maintainable\n",
    "    "
   ]
  },
  {
   "cell_type": "code",
   "execution_count": 66,
   "id": "585bb2dd",
   "metadata": {},
   "outputs": [
    {
     "name": "stdout",
     "output_type": "stream",
     "text": [
      "Name: Jessa 14\n",
      "Name: Jessa 16\n"
     ]
    }
   ],
   "source": [
    "# Getters and Setters in Python:- Use the getter method to access data members and the setter methods to \n",
    "                               # modify the data members.\n",
    "    \n",
    "class Student:\n",
    "    def __init__(self, name, age):\n",
    "        # private member\n",
    "        self.name = name\n",
    "        self.__age = age\n",
    "\n",
    "    # getter method\n",
    "    def get_age(self):\n",
    "        return self.__age\n",
    "\n",
    "    # setter method\n",
    "    def set_age(self, age):\n",
    "        self.__age = age\n",
    "\n",
    "stud = Student('Jessa', 14)\n",
    "\n",
    "# retrieving age using getter\n",
    "print('Name:', stud.name, stud.get_age())\n",
    "\n",
    "# changing age using setter\n",
    "stud.set_age(16)\n",
    "\n",
    "# retrieving age using getter\n",
    "print('Name:', stud.name, stud.get_age())    "
   ]
  },
  {
   "cell_type": "code",
   "execution_count": 15,
   "id": "53826b9c",
   "metadata": {},
   "outputs": [
    {
     "name": "stdout",
     "output_type": "stream",
     "text": [
      "In class C\n"
     ]
    }
   ],
   "source": [
    "# Method resolution order in Python Inheritance:- You can check MRO like: print(D.__mro__)\n",
    "    # it denotes the way a programming language resolves a method or attribute.\n",
    "# Python program showing\n",
    "# how MRO works\n",
    " \n",
    "class A:\n",
    "    def rk1(self):\n",
    "        print(\" In class A\")\n",
    "class B(A):\n",
    "    def rk(self):\n",
    "        print(\" In class B\")\n",
    "class C(A):\n",
    "    def rk(self):\n",
    "        print(\"In class C\")\n",
    " \n",
    "# classes ordering\n",
    "class D(C,B):\n",
    "    pass\n",
    "    \n",
    "r = D()\n",
    "r.rk()"
   ]
  },
  {
   "cell_type": "code",
   "execution_count": 18,
   "id": "dbf9e5ec",
   "metadata": {},
   "outputs": [
    {
     "name": "stdout",
     "output_type": "stream",
     "text": [
      "fly with wings\n",
      "fly with fuel\n"
     ]
    },
    {
     "ename": "AttributeError",
     "evalue": "'Fish' object has no attribute 'fly'",
     "output_type": "error",
     "traceback": [
      "\u001b[1;31m---------------------------------------------------------------------------\u001b[0m",
      "\u001b[1;31mAttributeError\u001b[0m                            Traceback (most recent call last)",
      "Input \u001b[1;32mIn [18]\u001b[0m, in \u001b[0;36m<cell line: 18>\u001b[1;34m()\u001b[0m\n\u001b[0;32m     16\u001b[0m \u001b[38;5;66;03m# Attributes having same name are\u001b[39;00m\n\u001b[0;32m     17\u001b[0m \u001b[38;5;66;03m# considered as duck typing\u001b[39;00m\n\u001b[0;32m     18\u001b[0m \u001b[38;5;28;01mfor\u001b[39;00m obj \u001b[38;5;129;01min\u001b[39;00m Bird(), Airplane(), Fish():\n\u001b[1;32m---> 19\u001b[0m     \u001b[43mobj\u001b[49m\u001b[38;5;241;43m.\u001b[39;49m\u001b[43mfly\u001b[49m()\n",
      "\u001b[1;31mAttributeError\u001b[0m: 'Fish' object has no attribute 'fly'"
     ]
    }
   ],
   "source": [
    "# Duck type\n",
    "\n",
    "\n",
    "class Bird:\n",
    "    def fly(self):\n",
    "        print(\"fly with wings\")\n",
    "\n",
    "class Airplane:\n",
    "    def fly(self):\n",
    "        print(\"fly with fuel\")\n",
    "\n",
    "class Fish:\n",
    "    def swim(self):\n",
    "        print(\"fish swim in sea\")\n",
    "\n",
    "# Attributes having same name are\n",
    "# considered as duck typing\n",
    "for obj in Bird(), Airplane(), Fish():\n",
    "    obj.fly()"
   ]
  },
  {
   "cell_type": "code",
   "execution_count": null,
   "id": "588c75bd",
   "metadata": {},
   "outputs": [],
   "source": []
  }
 ],
 "metadata": {
  "kernelspec": {
   "display_name": "Python 3 (ipykernel)",
   "language": "python",
   "name": "python3"
  },
  "language_info": {
   "codemirror_mode": {
    "name": "ipython",
    "version": 3
   },
   "file_extension": ".py",
   "mimetype": "text/x-python",
   "name": "python",
   "nbconvert_exporter": "python",
   "pygments_lexer": "ipython3",
   "version": "3.10.4"
  }
 },
 "nbformat": 4,
 "nbformat_minor": 5
}
