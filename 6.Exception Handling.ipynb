{
 "cells": [
  {
   "cell_type": "code",
   "execution_count": 11,
   "id": "b054d2d9",
   "metadata": {},
   "outputs": [
    {
     "name": "stdout",
     "output_type": "stream",
     "text": [
      "Hello\n",
      "Hello\n",
      "Enter Number:ten\n"
     ]
    },
    {
     "ename": "ValueError",
     "evalue": "invalid literal for int() with base 10: 'ten'",
     "output_type": "error",
     "traceback": [
      "\u001b[1;31m---------------------------------------------------------------------------\u001b[0m",
      "\u001b[1;31mValueError\u001b[0m                                Traceback (most recent call last)",
      "Input \u001b[1;32mIn [11]\u001b[0m, in \u001b[0;36m<cell line: 29>\u001b[1;34m()\u001b[0m\n\u001b[0;32m     17\u001b[0m \u001b[38;5;28mprint\u001b[39m (\u001b[38;5;124m\"\u001b[39m\u001b[38;5;124mHello\u001b[39m\u001b[38;5;124m\"\u001b[39m) \u001b[38;5;66;03m#SyntaxError: Missing parentheses in call to 'print'    \u001b[39;00m\n\u001b[0;32m     20\u001b[0m \u001b[38;5;66;03m# Note:\u001b[39;00m\n\u001b[0;32m     21\u001b[0m \u001b[38;5;66;03m# Programmer is responsible to correct these syntax errors. Once all syntax errors are corrected then only program \u001b[39;00m\n\u001b[0;32m     22\u001b[0m   \u001b[38;5;66;03m# execution will be started.\u001b[39;00m\n\u001b[1;32m   (...)\u001b[0m\n\u001b[0;32m     27\u001b[0m \u001b[38;5;66;03m# print(10/1) # ==>ZeroDivisionError: division by zero\u001b[39;00m\n\u001b[0;32m     28\u001b[0m \u001b[38;5;66;03m# print(10/\"ten\") # ==>TypeError: unsupported operand type(s) for /: 'int' and 'str'\u001b[39;00m\n\u001b[1;32m---> 29\u001b[0m x\u001b[38;5;241m=\u001b[39m\u001b[38;5;28;43mint\u001b[39;49m\u001b[43m(\u001b[49m\u001b[38;5;28;43minput\u001b[39;49m\u001b[43m(\u001b[49m\u001b[38;5;124;43m\"\u001b[39;49m\u001b[38;5;124;43mEnter Number:\u001b[39;49m\u001b[38;5;124;43m\"\u001b[39;49m\u001b[43m)\u001b[49m\u001b[43m)\u001b[49m   \u001b[38;5;66;03m# ten\u001b[39;00m\n\u001b[0;32m     30\u001b[0m \u001b[38;5;28mprint\u001b[39m(x)\n",
      "\u001b[1;31mValueError\u001b[0m: invalid literal for int() with base 10: 'ten'"
     ]
    }
   ],
   "source": [
    "# Exception Handling:-\n",
    "\n",
    "    # In any programming language there are 2 types of errors are possible.\n",
    "    \n",
    "    # 1. Syntax Errors:- The errors which occurs because of invalid syntax are called syntax errors.\n",
    "    # 2. Runtime Errors:- Also known as exceptions.\n",
    "            # While executing the program if something goes wrong because of end user input or programming logic or \n",
    "              # memory problems etc then we will get Runtime Errors.\n",
    "    \n",
    "    \n",
    "# Eg 1:\n",
    "x=10\n",
    "if x==10\n",
    "print(\"Hello\")      #SyntaxError: invalid syntax\n",
    "    \n",
    "    \n",
    "# Eg 2:\n",
    "print \"Hello\" #SyntaxError: Missing parentheses in call to 'print'    \n",
    "\n",
    "\n",
    "# Note:\n",
    "# Programmer is responsible to correct these syntax errors. Once all syntax errors are corrected then only program \n",
    "  # execution will be started.\n",
    "    \n",
    "    \n",
    "#Eg: \n",
    "\n",
    "print(10/0) # ==>ZeroDivisionError: division by zero\n",
    "\n",
    "print(10/\"ten\") # ==>TypeError: unsupported operand type(s) for /: 'int' and 'str'\n",
    "\n",
    "x=int(input(\"Enter Number:\"))  # ten\n",
    "print(x)\n",
    "\n",
    "# Note: Exception Handling concept applicable for Runtime Errors but not for syntax errors\n",
    "\n",
    "# What is Exception: An unwanted and unexpected event that disturbs normal flow of program is called exception.\n",
    "\n",
    "\n",
    "# Eg:\n",
    "            # ZeroDivisionError\n",
    "            # TypeError\n",
    "            # ValueError\n",
    "            # FileNotFoundError\n",
    "            # EOFError\n",
    "            # SleepingError\n",
    "            # TyrePuncturedError\n",
    "\n",
    " #Exception handling does not mean repairing exception. We have to define alternative way to continue rest of the \n",
    "   # program normally.  \n",
    "    \n",
    " # In Python, we can throw an exception in the try block and catch it in except block.   \n",
    "          \n"
   ]
  },
  {
   "cell_type": "code",
   "execution_count": null,
   "id": "113ecece",
   "metadata": {},
   "outputs": [],
   "source": [
    "# EOFError\tRaised when the input() function hits the end-of-file condition.\n",
    "# FloatingPointError\tRaised when a floating-point operation fails.\n",
    "# GeneratorExit----\tRaise when a generator’s close() method is called.\n",
    "# ImportError\tRaised when the imported module is not found.\n",
    "# IndexError\tRaised when the index of a sequence is out of range.\n",
    "# KeyError\tRaised when a key is not found in a dictionary.\n",
    "# KeyboardInterrupt\tRaised when the user hits the interrupt key (Ctrl+C or Delete)bb\n",
    "# MemoryError\tRaised when an operation runs out of memory.\n",
    "# NameError\tRaised when a variable is not found in the local or global scope.\n",
    "# OSError\tRaised when system operation causes system related error.\n",
    "# ReferenceError\tRaised when a weak reference proxy is used to access a garbage collected referent."
   ]
  },
  {
   "cell_type": "code",
   "execution_count": 3,
   "id": "36d5392e",
   "metadata": {},
   "outputs": [
    {
     "ename": "FileNotFoundError",
     "evalue": "[Errno 2] No such file or directory: 'abc1.txt'",
     "output_type": "error",
     "traceback": [
      "\u001b[1;31m---------------------------------------------------------------------------\u001b[0m",
      "\u001b[1;31mFileNotFoundError\u001b[0m                         Traceback (most recent call last)",
      "Input \u001b[1;32mIn [3]\u001b[0m, in \u001b[0;36m<cell line: 3>\u001b[1;34m()\u001b[0m\n\u001b[0;32m      1\u001b[0m \u001b[38;5;66;03m# Example: The FilenotfoundError is raised when a file in not present on the disk\u001b[39;00m\n\u001b[1;32m----> 3\u001b[0m fp \u001b[38;5;241m=\u001b[39m \u001b[38;5;28;43mopen\u001b[39;49m\u001b[43m(\u001b[49m\u001b[38;5;124;43m\"\u001b[39;49m\u001b[38;5;124;43mabc1.txt\u001b[39;49m\u001b[38;5;124;43m\"\u001b[39;49m\u001b[43m,\u001b[49m\u001b[43m \u001b[49m\u001b[38;5;124;43m\"\u001b[39;49m\u001b[38;5;124;43mr\u001b[39;49m\u001b[38;5;124;43m\"\u001b[39;49m\u001b[43m)\u001b[49m\n\u001b[0;32m      4\u001b[0m \u001b[38;5;28;01mif\u001b[39;00m fp:\n\u001b[0;32m      5\u001b[0m     \u001b[38;5;28mprint\u001b[39m(\u001b[38;5;124m\"\u001b[39m\u001b[38;5;124mfile is opened successfully\u001b[39m\u001b[38;5;124m\"\u001b[39m)\n",
      "\u001b[1;31mFileNotFoundError\u001b[0m: [Errno 2] No such file or directory: 'abc1.txt'"
     ]
    }
   ],
   "source": [
    "# Example: The FilenotfoundError is raised when a file in not present on the disk\n",
    "\n",
    "fp = open(\"abc1.txt\", \"r\")\n",
    "if fp:\n",
    "    print(\"file is opened successfully\")"
   ]
  },
  {
   "cell_type": "code",
   "execution_count": 4,
   "id": "2a3b8b13",
   "metadata": {},
   "outputs": [],
   "source": [
    "# The try and except Block to Handling Exceptions:-\n",
    "\n",
    "# Define risky code that can raise an exception inside the try block and corresponding handling code \n",
    "   # inside the except block.\n",
    "    \n",
    "# Try:- Detects and throws an exception \n",
    "# Except :- catches and handel the exception\n",
    "    \n",
    "## Syntax:- \n",
    "\n",
    "# try :\n",
    "     # statements in try block\n",
    "# except :\n",
    "     # executed when exception occured in try block\n",
    "    \n",
    "# For example, if we divide any number by zero, try block will throw ZeroDivisionError, \n",
    "       # so we should handle that exception in the except block.    \n",
    "    "
   ]
  },
  {
   "cell_type": "code",
   "execution_count": 5,
   "id": "731aebf7",
   "metadata": {},
   "outputs": [
    {
     "ename": "ZeroDivisionError",
     "evalue": "division by zero",
     "output_type": "error",
     "traceback": [
      "\u001b[1;31m---------------------------------------------------------------------------\u001b[0m",
      "\u001b[1;31mZeroDivisionError\u001b[0m                         Traceback (most recent call last)",
      "Input \u001b[1;32mIn [5]\u001b[0m, in \u001b[0;36m<cell line: 7>\u001b[1;34m()\u001b[0m\n\u001b[0;32m      5\u001b[0m a \u001b[38;5;241m=\u001b[39m \u001b[38;5;241m10\u001b[39m\n\u001b[0;32m      6\u001b[0m b \u001b[38;5;241m=\u001b[39m \u001b[38;5;241m0\u001b[39m\n\u001b[1;32m----> 7\u001b[0m c \u001b[38;5;241m=\u001b[39m \u001b[43ma\u001b[49m\u001b[43m \u001b[49m\u001b[38;5;241;43m/\u001b[39;49m\u001b[43m \u001b[49m\u001b[43mb\u001b[49m\n\u001b[0;32m      8\u001b[0m \u001b[38;5;28mprint\u001b[39m(\u001b[38;5;124m\"\u001b[39m\u001b[38;5;124ma/b = \u001b[39m\u001b[38;5;132;01m%d\u001b[39;00m\u001b[38;5;124m\"\u001b[39m \u001b[38;5;241m%\u001b[39m c)\n",
      "\u001b[1;31mZeroDivisionError\u001b[0m: division by zero"
     ]
    }
   ],
   "source": [
    "# Now let’s see the example when we do not use try…except block for handling exceptions.\n",
    "\n",
    "# Example:\n",
    "\n",
    "a = 10\n",
    "b = 0\n",
    "c = a / b\n",
    "print(\"a/b = %d\" % c)\n",
    "\n",
    "# We can see in the above code when we are divided by 0; Python throws an exception as ZeroDivisionError \n",
    "    # and the program terminated abnormally."
   ]
  },
  {
   "cell_type": "code",
   "execution_count": 6,
   "id": "3efd90da",
   "metadata": {},
   "outputs": [
    {
     "name": "stdout",
     "output_type": "stream",
     "text": [
      "Can't divide with zero. Provide different number\n"
     ]
    }
   ],
   "source": [
    "# We can handle the above exception using the try…except block. See the following code.\n",
    "\n",
    "# Example\n",
    "\n",
    "try:\n",
    "    a = 10\n",
    "    b = 0\n",
    "    c = a/b\n",
    "    print(\"The answer of a divide by b:\", c)\n",
    "except:\n",
    "    print(\"Can't divide with zero. Provide different number\")"
   ]
  },
  {
   "cell_type": "code",
   "execution_count": 12,
   "id": "a39b67c6",
   "metadata": {},
   "outputs": [
    {
     "name": "stdout",
     "output_type": "stream",
     "text": [
      "Enter value of a:12\n",
      "Enter value of b:er\n",
      "Entered value is wrong\n"
     ]
    }
   ],
   "source": [
    "# Catching Specific Exceptions:-  \n",
    "\n",
    "try:\n",
    "    a = int(input(\"Enter value of a:\"))\n",
    "    b = int(input(\"Enter value of b:\"))\n",
    "    c = a/b\n",
    "    print(\"The answer of a divide by b:\", c)\n",
    "except ValueError:\n",
    "    print(\"Entered value is wrong\")\n",
    "except ZeroDivisionError:\n",
    "    print(\"Can't divide by zero\")"
   ]
  },
  {
   "cell_type": "code",
   "execution_count": 14,
   "id": "98adcb68",
   "metadata": {},
   "outputs": [
    {
     "name": "stdout",
     "output_type": "stream",
     "text": [
      "Enter value of a:12\n",
      "Enter value of b:ten\n",
      "Please enter a valid value\n"
     ]
    }
   ],
   "source": [
    "# Handle multiple exceptions with a single except clause:-  For that, we can use an tuple\n",
    "\n",
    "try:\n",
    "    a = int(input(\"Enter value of a:\"))\n",
    "    b = int(input(\"Enter value of b:\"))\n",
    "    c = a / b\n",
    "    print(\"The answer of a divide by b:\", c)\n",
    "except(ValueError, ZeroDivisionError):\n",
    "    print(\"Please enter a valid value\")"
   ]
  },
  {
   "cell_type": "code",
   "execution_count": 5,
   "id": "48fa1774",
   "metadata": {},
   "outputs": [
    {
     "name": "stdout",
     "output_type": "stream",
     "text": [
      "Enter value of a:12\n",
      "Enter value of b:0\n",
      "Can't divide with zero\n",
      "Inside a finally block\n"
     ]
    }
   ],
   "source": [
    "# Using try with finally:- The finally block is used to write a block of code that must execute, \n",
    "                          #  whether the try block raises an error or not.\n",
    "\n",
    "# Clean-up actions using finally:-  Sometimes we want to execute some action at any cost, even if an error occurred in \n",
    "          # a program. In Python, we can perform such actions using a finally statement with a try and except statement.\n",
    "    \n",
    "#The block of code written in the finally block will always execute even there is an exception in the try and except block.\n",
    "\n",
    "\n",
    "try:\n",
    "    a = int(input(\"Enter value of a:\"))\n",
    "    b = int(input(\"Enter value of b:\"))\n",
    "    c = a / b\n",
    "    print(\"The answer of a divide by b:\", c)\n",
    "\n",
    "except ZeroDivisionError:\n",
    "    print(\"Can't divide with zero\")\n",
    "finally:\n",
    "    print(\"Inside a finally block\")"
   ]
  },
  {
   "cell_type": "code",
   "execution_count": 4,
   "id": "b52e8dcf",
   "metadata": {},
   "outputs": [
    {
     "name": "stdout",
     "output_type": "stream",
     "text": [
      "Enter value of a:12\n",
      "Enter value of b:2\n",
      "a/b = 6\n",
      "We are in else block \n"
     ]
    }
   ],
   "source": [
    "# Using try with else clause:-\n",
    "\n",
    "# try: The try block for risky code that can throw an exception.\n",
    "# except: The except block to handle error raised in a try block.\n",
    "# else: The else block is executed if there is no exception.\n",
    "\n",
    "try:\n",
    "    a = int(input(\"Enter value of a:\"))\n",
    "    b = int(input(\"Enter value of b:\"))\n",
    "    c = a / b\n",
    "    print(\"a/b = %d\" % c)\n",
    "\n",
    "except ZeroDivisionError:\n",
    "    print(\"Can't divide by zero\")\n",
    "else:\n",
    "    print(\"We are in else block \")"
   ]
  },
  {
   "cell_type": "code",
   "execution_count": 3,
   "id": "fa7e3209",
   "metadata": {},
   "outputs": [
    {
     "name": "stdout",
     "output_type": "stream",
     "text": [
      "Enter the age:20\n",
      "the age is valid\n"
     ]
    }
   ],
   "source": [
    "# Raising exceptions:-Its useful in that scenario where we need to raise an exception to stop the execution of the program.\n",
    "\n",
    "try:    \n",
    "    age = int(input(\"Enter the age:\"))    \n",
    "    if(age<18):    \n",
    "        raise ValueError   \n",
    "    else:    \n",
    "        print(\"the age is valid\")    \n",
    "except ValueError:    \n",
    "    print(\"The age is not valid\")  "
   ]
  },
  {
   "cell_type": "code",
   "execution_count": 8,
   "id": "452f3a2c",
   "metadata": {},
   "outputs": [
    {
     "name": "stdout",
     "output_type": "stream",
     "text": [
      "Enter a positive integer: 2\n"
     ]
    }
   ],
   "source": [
    "# Example 2 Raise the exception with message:-\n",
    "\n",
    "try:  \n",
    "    num = int(input(\"Enter a positive integer: \"))  \n",
    "    if(num <= 0):  \n",
    "# we can pass the message in the raise statement  \n",
    "         raise ValueError(\"That is  a negative number!\")  \n",
    "except ValueError as e:  \n",
    "     print(e)  "
   ]
  },
  {
   "cell_type": "code",
   "execution_count": 11,
   "id": "93c6a56c",
   "metadata": {},
   "outputs": [
    {
     "name": "stdout",
     "output_type": "stream",
     "text": [
      "Enter a:12\n",
      "Enter b:34\n",
      "a/b =  0.35294117647058826\n"
     ]
    }
   ],
   "source": [
    "# Example 3:- \n",
    "\n",
    "try:    \n",
    "    a = int(input(\"Enter a:\"))    \n",
    "    b = int(input(\"Enter b:\"))    \n",
    "    if b==0:    \n",
    "        raise ArithmeticError  \n",
    "    else:    \n",
    "        print(\"a/b = \",a/b)    \n",
    "except ArithmeticError:    \n",
    "    print(\"The value of b can't be 0\")  "
   ]
  },
  {
   "cell_type": "code",
   "execution_count": null,
   "id": "747ab803",
   "metadata": {},
   "outputs": [],
   "source": []
  }
 ],
 "metadata": {
  "kernelspec": {
   "display_name": "Python 3 (ipykernel)",
   "language": "python",
   "name": "python3"
  },
  "language_info": {
   "codemirror_mode": {
    "name": "ipython",
    "version": 3
   },
   "file_extension": ".py",
   "mimetype": "text/x-python",
   "name": "python",
   "nbconvert_exporter": "python",
   "pygments_lexer": "ipython3",
   "version": "3.10.4"
  }
 },
 "nbformat": 4,
 "nbformat_minor": 5
}
