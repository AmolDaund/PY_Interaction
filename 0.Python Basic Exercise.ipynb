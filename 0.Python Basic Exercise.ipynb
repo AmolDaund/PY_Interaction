{
 "cells": [
  {
   "cell_type": "code",
   "execution_count": 1,
   "id": "25e63401",
   "metadata": {},
   "outputs": [],
   "source": [
    "# Python Basic Exercise for Beginners\n"
   ]
  },
  {
   "cell_type": "code",
   "execution_count": 2,
   "id": "36609b50",
   "metadata": {},
   "outputs": [
    {
     "name": "stdout",
     "output_type": "stream",
     "text": [
      "The result is 80\n",
      "The result is 300\n"
     ]
    }
   ],
   "source": [
    "# Exercise 1: Calculate the multiplication and sum of two numbers\n",
    "   # Given two integer numbers return their product only if the product is greater than 1000, else return their sum\n",
    "def mul_or_sum(num1,num2):\n",
    "    product=(num1*num2)\n",
    "    if product<=1000:\n",
    "        return product\n",
    "    else:\n",
    "        return num1+num2\n",
    "\n",
    "# first condition\n",
    "x = mul_or_sum(50, 30)\n",
    "print(\"The result is\", x)\n",
    "\n",
    "# Second condition\n",
    "x = mul_or_sum(10, 30)\n",
    "print(\"The result is\", x)"
   ]
  },
  {
   "cell_type": "code",
   "execution_count": 3,
   "id": "d09c6d0f",
   "metadata": {},
   "outputs": [
    {
     "name": "stdout",
     "output_type": "stream",
     "text": [
      "Printing current and previous number and their sum in a range(10)\n",
      "current number 1 previous number 0 sum:- 1\n",
      "current number 2 previous number 1 sum:- 3\n",
      "current number 3 previous number 2 sum:- 5\n",
      "current number 4 previous number 3 sum:- 7\n",
      "current number 5 previous number 4 sum:- 9\n",
      "current number 6 previous number 5 sum:- 11\n",
      "current number 7 previous number 6 sum:- 13\n",
      "current number 8 previous number 7 sum:- 15\n",
      "current number 9 previous number 8 sum:- 17\n",
      "current number 10 previous number 9 sum:- 19\n"
     ]
    }
   ],
   "source": [
    "# Exercise 2: Print the sum of the current number and the previous number\n",
    "print(\"Printing current and previous number and their sum in a range(10)\")\n",
    "\n",
    "previous_num=0\n",
    "for i in range(1,11):\n",
    "    current_num=previous_num+i\n",
    "    print(\"current number\",i,\"previous number\",previous_num,\"sum:-\",i+previous_num)\n",
    "    previous_num=i"
   ]
  },
  {
   "cell_type": "code",
   "execution_count": 9,
   "id": "a9603530",
   "metadata": {},
   "outputs": [
    {
     "name": "stdout",
     "output_type": "stream",
     "text": [
      "printing only even char\n",
      "A\n",
      "o\n",
      " \n",
      "printing only odd char\n",
      "m\n",
      "l\n",
      "D\n"
     ]
    }
   ],
   "source": [
    "# Exercise 3: Print characters from a string that are present at an even index number\n",
    "word=\"Amol D\"\n",
    "size=len(word)\n",
    "\n",
    "print(\"printing only even char\")\n",
    "for i in range(0,size):\n",
    "    if i%2==0:\n",
    "        print(word[i])\n",
    "        \n",
    "print(\"printing only odd char\")\n",
    "for i in range(0,size):\n",
    "    if i%2!=0:\n",
    "        print(word[i])       "
   ]
  },
  {
   "cell_type": "code",
   "execution_count": 16,
   "id": "0fb41900",
   "metadata": {},
   "outputs": [
    {
     "name": "stdout",
     "output_type": "stream",
     "text": [
      "Enter n characters:- 4\n",
      "Original string: Amol-Daund\n",
      "-Daund\n"
     ]
    }
   ],
   "source": [
    "# Exercise 4: Remove first n characters from a string\n",
    "\n",
    "def remove_char(word,n):\n",
    "    print('Original string:', word)\n",
    "    x = word[n:]\n",
    "    return x\n",
    "\n",
    "word=\"Amol-Daund\"\n",
    "n=int(input(\"Enter n characters:- \"))\n",
    "print(remove_char(word,n))"
   ]
  },
  {
   "cell_type": "code",
   "execution_count": 15,
   "id": "3db2f279",
   "metadata": {},
   "outputs": [
    {
     "name": "stdout",
     "output_type": "stream",
     "text": [
      "first and last number of a list is same\n"
     ]
    }
   ],
   "source": [
    "# Exercise 5: Check if the first and last number of a list is the same\n",
    "x=[10,20,30,40,10]\n",
    "if x[0]==x[-1]:\n",
    "    print(\"first and last number of a list is same\")\n",
    "else:\n",
    "    print(\"first and last number of a list is not same\")"
   ]
  },
  {
   "cell_type": "code",
   "execution_count": 35,
   "id": "7bcbd67f",
   "metadata": {},
   "outputs": [
    {
     "name": "stdout",
     "output_type": "stream",
     "text": [
      "10\n",
      "45\n",
      "400\n"
     ]
    }
   ],
   "source": [
    "# Exercise 6: Display numbers divisible by 5 from a list\n",
    "x=[10,23,45,68,233,400]\n",
    "for i in x:\n",
    "    if i%5==0:\n",
    "        print(i)"
   ]
  },
  {
   "cell_type": "code",
   "execution_count": 38,
   "id": "113dad05",
   "metadata": {},
   "outputs": [
    {
     "name": "stdout",
     "output_type": "stream",
     "text": [
      "2\n",
      "['Emma', 'is', 'good', 'developer.', 'Emma', 'is', 'a', 'writer']\n",
      "Emma occoured 2 times\n",
      "a occoured 1 times\n",
      "good occoured 1 times\n",
      "developer. occoured 1 times\n",
      "is occoured 2 times\n",
      "writer occoured 1 times\n"
     ]
    }
   ],
   "source": [
    "# Exercise 7: Return the count of a given substring from a string\n",
    "x = \"Emma is good developer. Emma is a writer\"\n",
    "a=x.count(\"Emma\")\n",
    "print(a)\n",
    "\n",
    "#---------------------------------\n",
    "\n",
    "x = \"Emma is good developer. Emma is a writer\"\n",
    "y=x.split(\" \")\n",
    "z = set(y)\n",
    "print(y)\n",
    "\n",
    "for i in z:\n",
    "    c=0\n",
    "    for j in y:\n",
    "        if i==j:\n",
    "            c=c+1\n",
    "    print(i,\"occoured\",c,\"times\")\n"
   ]
  },
  {
   "cell_type": "code",
   "execution_count": 26,
   "id": "ab9a565d",
   "metadata": {},
   "outputs": [
    {
     "name": "stdout",
     "output_type": "stream",
     "text": [
      "\n",
      "1 \n",
      "2 2 \n",
      "3 3 3 \n",
      "4 4 4 4 \n",
      "5 5 5 5 5 \n"
     ]
    }
   ],
   "source": [
    "# Exercise 8: Print the following pattern\n",
    "#n=int(input(\"Enter how many rows you want to print\"))\n",
    "for R in range(6):\n",
    "    for C in range(R):\n",
    "        print(R,end=\" \")\n",
    "    print()"
   ]
  },
  {
   "cell_type": "code",
   "execution_count": 1,
   "id": "37db2a63",
   "metadata": {},
   "outputs": [
    {
     "name": "stdout",
     "output_type": "stream",
     "text": [
      "Enter number12\n",
      "12 number is not palindrome\n",
      "Given number is not palindrome\n",
      "Check Palindrome Number : 121\n",
      "Original Number: 121 \n",
      "Yes. Given Number is palindrome number.\n"
     ]
    }
   ],
   "source": [
    "# Exercise 9: Check Palindrome Number\n",
    "x=input(\"Enter number\")\n",
    "if (x==x[::-1]):\n",
    "    print(x, \"number is palindrome\")\n",
    "else:\n",
    "    print(x, \"number is not palindrome\")\n",
    "\n",
    "    # or\n",
    "x=121\n",
    "rev_num=0\n",
    "while x>0:\n",
    "    digit=x%10\n",
    "    rev_num = (rev_num * 10) + x\n",
    "    x=x//10\n",
    "if x == rev_num:\n",
    "    print(\"Given number palindrome\")\n",
    "else:\n",
    "    print(\"Given number is not palindrome\")\n",
    "\n",
    "    # or\n",
    "\n",
    "x=input(\"Check Palindrome Number : \")\n",
    "\n",
    "if x==x[::-1]:\n",
    "    print(\"Original Number: {0} \\nYes. Given Number is palindrome number.\".format(x))\n",
    "else:\n",
    "    print(\"Original Number: {0} \\nNo. Given Number is not palindrome number.\".format(x))"
   ]
  },
  {
   "cell_type": "code",
   "execution_count": null,
   "id": "b91bf0ca",
   "metadata": {},
   "outputs": [],
   "source": [
    "# Exercise 10: Create a new list from a two list using the following condition\n",
    " # the new list should contain odd numbers from the first list and even numbers from the second list.\n",
    "list1 = [10, 20, 25, 30, 35]\n",
    "list2 = [40, 45, 60, 75, 90]\n",
    "list=[]\n",
    "for k in list1:\n",
    "    if k%2!=0:\n",
    "        list.append(k)\n",
    "for k in list2:\n",
    "    if k%2==0:\n",
    "        list.append(k)\n",
    "print(list)"
   ]
  },
  {
   "cell_type": "code",
   "execution_count": 3,
   "id": "abc543d4",
   "metadata": {},
   "outputs": [
    {
     "name": "stdout",
     "output_type": "stream",
     "text": [
      "9 5 4 8 7 "
     ]
    }
   ],
   "source": [
    "# Exercise 11: Write a Program to extract each digit from an integer in the reverse order.\n",
    "a = 78459\n",
    "a = str(a)\n",
    "for i in range(len(a)-1,-1,-1):\n",
    "    print(a[i],end=' ')"
   ]
  },
  {
   "cell_type": "code",
   "execution_count": 24,
   "id": "643ed51e",
   "metadata": {},
   "outputs": [
    {
     "name": "stdout",
     "output_type": "stream",
     "text": [
      "1 2 3 4 5 6 7 8 9 10 \t\n",
      "2 4 6 8 10 12 14 16 18 20 \t\n",
      "3 6 9 12 15 18 21 24 27 30 \t\n",
      "4 8 12 16 20 24 28 32 36 40 \t\n",
      "5 10 15 20 25 30 35 40 45 50 \t\n",
      "6 12 18 24 30 36 42 48 54 60 \t\n",
      "7 14 21 28 35 42 49 56 63 70 \t\n",
      "8 16 24 32 40 48 56 64 72 80 \t\n",
      "9 18 27 36 45 54 63 72 81 90 \t\n",
      "10 20 30 40 50 60 70 80 90 100 \t\n"
     ]
    }
   ],
   "source": [
    "# Exercise 13: Print multiplication table form 1 to 10\n",
    "\n",
    "for i in range(1,11):\n",
    "    for j in range(1,11):\n",
    "        print(i*j,end=\" \")\n",
    "    print()    "
   ]
  },
  {
   "cell_type": "code",
   "execution_count": 25,
   "id": "31214d8d",
   "metadata": {},
   "outputs": [
    {
     "name": "stdout",
     "output_type": "stream",
     "text": [
      "Enter the base: 2\n",
      "Enter the exponent: 3\n",
      "The answer is 8\n"
     ]
    }
   ],
   "source": [
    "# Exercise 15: Write a function called exponent(base, exp) that returns an int value of base raises to the power of exp.\n",
    "\n",
    "def exponent(base, exp):\n",
    "    calculate = base**exp\n",
    "    return calculate\n",
    "\n",
    "base = int(input('Enter the base: '))\n",
    "exp = int(input('Enter the exponent: '))\n",
    "\n",
    "print('The answer is', exponent(base, exp))\n"
   ]
  },
  {
   "cell_type": "code",
   "execution_count": 31,
   "id": "47f872e8",
   "metadata": {},
   "outputs": [
    {
     "name": "stdout",
     "output_type": "stream",
     "text": [
      "* * * * * * \n",
      "* * * * * \n",
      "* * * * \n",
      "* * * \n",
      "* * \n",
      "* \n"
     ]
    }
   ],
   "source": [
    "# Exercise 14: Print downward Half-Pyramid Pattern with Star (asterisk)\n",
    "\n",
    "for i in range(6,0,-1):\n",
    "    print('* ' * i)"
   ]
  },
  {
   "cell_type": "code",
   "execution_count": 2,
   "id": "f2a581d6",
   "metadata": {},
   "outputs": [
    {
     "name": "stdout",
     "output_type": "stream",
     "text": [
      "Enter first number 12\n",
      "Enter second number 12\n",
      "Multiplication is 144\n"
     ]
    }
   ],
   "source": [
    "# Python Input and Output Exercise:-\n",
    "\n",
    "\n",
    "\n",
    "# Exercise 1: Accept numbers from a user:-\n",
    "num1 = int(input(\"Enter first number \"))\n",
    "num2 = int(input(\"Enter second number \"))\n",
    "\n",
    "res = num1 * num2\n",
    "print(\"Multiplication is\", res)"
   ]
  },
  {
   "cell_type": "code",
   "execution_count": 9,
   "id": "942bb1f0",
   "metadata": {},
   "outputs": [
    {
     "name": "stdout",
     "output_type": "stream",
     "text": [
      "My**Name**is**Amol\n"
     ]
    }
   ],
   "source": [
    "# Exercise 2: Display three string “Name”, “Is”, “James” as “Name**Is**James”\n",
    "x=\"My\",\"Name\",\"is\",\"Amol\"\n",
    "print(*x,sep=\"**\")"
   ]
  },
  {
   "cell_type": "code",
   "execution_count": 3,
   "id": "3fc5fe8d",
   "metadata": {},
   "outputs": [
    {
     "name": "stdout",
     "output_type": "stream",
     "text": [
      "34\n"
     ]
    }
   ],
   "source": [
    "# Exercise 3: Convert Decimal number to octal using print() output formatting\n",
    "x=28\n",
    "print('%o' % x)  # % o - octal number base"
   ]
  },
  {
   "cell_type": "code",
   "execution_count": 43,
   "id": "22986d8a",
   "metadata": {},
   "outputs": [
    {
     "name": "stdout",
     "output_type": "stream",
     "text": [
      "458.54\n"
     ]
    }
   ],
   "source": [
    "# Exercise 4: Display float number with 2 decimal places using print()\n",
    "\n",
    "num = 458.541315\n",
    "print('%.2f' % num)"
   ]
  },
  {
   "cell_type": "code",
   "execution_count": 25,
   "id": "7cf00476",
   "metadata": {
    "scrolled": true
   },
   "outputs": [
    {
     "name": "stdout",
     "output_type": "stream",
     "text": [
      "Enter number at location 0 :\n",
      "12.2\n",
      "Enter number at location 1 :\n",
      "13214.34\n",
      "Enter number at location 2 :\n",
      "3224.421\n",
      "Enter number at location 3 :\n",
      "12423.132\n",
      "Enter number at location 4 :\n",
      "321.3\n",
      "User List: [12.2, 13214.34, 3224.421, 12423.132, 321.3]\n"
     ]
    }
   ],
   "source": [
    "# Exercise 5: Accept a list of 5 float numbers as an input from the user\n",
    "\n",
    "number=[]\n",
    "# 5 is the list size\n",
    "# run loop 5 times\n",
    "for i in range(0, 5):\n",
    "    print(\"Enter number at location\", i, \":\")\n",
    "    # accept float number from user\n",
    "    item = float(input())\n",
    "    # add it to the list\n",
    "    number.append(item)\n",
    "\n",
    "print(\"User List:\", number)\n",
    "    "
   ]
  },
  {
   "cell_type": "code",
   "execution_count": 47,
   "id": "efce66d6",
   "metadata": {
    "scrolled": true
   },
   "outputs": [
    {
     "name": "stdout",
     "output_type": "stream",
     "text": [
      "Enter three strings by using space in between!akdhd hfhhf kfdhfHJ\n",
      "Name1: akdhd\n",
      "Name2: hfhhf\n",
      "Name3: kfdhfHJ\n"
     ]
    }
   ],
   "source": [
    "# Exercise 7: Accept any three string from one input() call\n",
    "\n",
    "x,y,z=input(\"Enter three strings by using space in between!\").split()\n",
    "print(\"Name1:\", x)\n",
    "print(\"Name2:\", y)\n",
    "print(\"Name3:\", z)"
   ]
  },
  {
   "cell_type": "code",
   "execution_count": 4,
   "id": "ca281175",
   "metadata": {},
   "outputs": [
    {
     "name": "stdout",
     "output_type": "stream",
     "text": [
      "1\n",
      "2\n",
      "3\n",
      "4\n",
      "5\n",
      "6\n",
      "7\n",
      "8\n",
      "9\n",
      "10\n"
     ]
    }
   ],
   "source": [
    "# if else, for loop, and range() Exercises with Solutions:-\n",
    "\n",
    "# Exercise 1: Print First 10 natural numbers using while loop:-\n",
    "i=1\n",
    "while i<=10:\n",
    "    print(i)\n",
    "    i=i+1\n",
    "    "
   ]
  },
  {
   "cell_type": "code",
   "execution_count": null,
   "id": "7979e844",
   "metadata": {},
   "outputs": [],
   "source": [
    "# Exercise 2: Print the following pattern:-\n",
    "n=int(input(\"Enter Number\"))\n",
    "for R in range(1,n+1):\n",
    "    for C in range(R+1):\n",
    "        print(C,end=\" \")\n",
    "    print()        \n"
   ]
  },
  {
   "cell_type": "code",
   "execution_count": 22,
   "id": "72d107cc",
   "metadata": {},
   "outputs": [
    {
     "name": "stdout",
     "output_type": "stream",
     "text": [
      "Enter Number10\n",
      "55\n"
     ]
    }
   ],
   "source": [
    "# Exercise 3: Calculate the sum of all numbers from 1 to a given number\n",
    "n=int(input(\"Enter Number\"))\n",
    "print(sum(range(1,n+1)))"
   ]
  },
  {
   "cell_type": "code",
   "execution_count": 26,
   "id": "582085fe",
   "metadata": {},
   "outputs": [
    {
     "name": "stdout",
     "output_type": "stream",
     "text": [
      "Enter Number2\n",
      "2\n",
      "4\n",
      "6\n",
      "8\n",
      "10\n",
      "12\n",
      "14\n",
      "16\n",
      "18\n",
      "20\n"
     ]
    }
   ],
   "source": [
    "# Exercise 4: Write a program to print multiplication table of a given number:-\n",
    "n=int(input(\"Enter Number\"))\n",
    "for i in range(1,11):\n",
    "    mul=n*i\n",
    "    print(mul)\n"
   ]
  },
  {
   "cell_type": "code",
   "execution_count": 38,
   "id": "6e69cbdd",
   "metadata": {},
   "outputs": [
    {
     "name": "stdout",
     "output_type": "stream",
     "text": [
      "75\n",
      "150\n",
      "145\n"
     ]
    }
   ],
   "source": [
    "# Exercise 5: Display numbers from a list using loop:-\n",
    "\n",
    "# The number must be divisible by five\n",
    "# If the number is greater than 150, then skip it and move to the next number\n",
    "# If the number is greater than 500, then stop the loop\n",
    "\n",
    "\n",
    "L=[12, 75, 150, 180, 145, 525, 50]\n",
    "for i in L:\n",
    "    if i>500:\n",
    "        break\n",
    "    elif i>150:\n",
    "        continue\n",
    "    elif i%5==0:\n",
    "        print(i)\n",
    "        \n",
    "        "
   ]
  },
  {
   "cell_type": "code",
   "execution_count": 42,
   "id": "e6f92019",
   "metadata": {},
   "outputs": [
    {
     "name": "stdout",
     "output_type": "stream",
     "text": [
      "Enter Number56\n",
      "3\n"
     ]
    }
   ],
   "source": [
    "# Exercise 6: Count the total number of digits in a number:-\n",
    "n=int(input(\"Enter Number\"))\n",
    "count=1\n",
    "while n!=0:\n",
    "    n=n//10\n",
    "    count=count+1\n",
    "print(count)"
   ]
  },
  {
   "cell_type": "code",
   "execution_count": 54,
   "id": "8818547c",
   "metadata": {},
   "outputs": [
    {
     "name": "stdout",
     "output_type": "stream",
     "text": [
      "Enter Number5\n",
      "5 4 3 2 1 \n",
      "4 3 2 1 \n",
      "3 2 1 \n",
      "2 1 \n",
      "1 \n",
      "\n"
     ]
    }
   ],
   "source": [
    "# Exercise 7: Print the following pattern\n",
    "n=int(input(\"Enter Number\"))\n",
    "for R in range(0,n+1):\n",
    "    for C in range(n-R,0,-1):\n",
    "        print(C,end=\" \")\n",
    "    print()\n",
    "      \n",
    "      "
   ]
  },
  {
   "cell_type": "code",
   "execution_count": 70,
   "id": "a3f1981b",
   "metadata": {
    "scrolled": true
   },
   "outputs": [
    {
     "name": "stdout",
     "output_type": "stream",
     "text": [
      "50\n",
      "40\n",
      "30\n",
      "20\n",
      "10\n",
      "100\n",
      "90\n",
      "80\n",
      "70\n",
      "60\n"
     ]
    }
   ],
   "source": [
    "# Exercise 8: Print list in reverse order using a loop:-\n",
    "L= [10, 20, 30, 40, 50]\n",
    "R=reversed(L)\n",
    "for i in R:\n",
    "    print(i)\n",
    "    \n",
    " # or\n",
    "\n",
    "L= [60, 70, 80, 90, 100]\n",
    "R=len(L)-1\n",
    "for i in range(R,-1,-1):\n",
    "    print(L[i])\n",
    "\n",
    "# get list size\n",
    "# len(list1) -1: because index start with 0\n",
    "# iterate list in reverse order\n",
    "# star from last item to first"
   ]
  },
  {
   "cell_type": "code",
   "execution_count": 101,
   "id": "53a0cc81",
   "metadata": {},
   "outputs": [
    {
     "name": "stdout",
     "output_type": "stream",
     "text": [
      "-10\n",
      "-9\n",
      "-8\n",
      "-7\n",
      "-6\n",
      "-5\n",
      "-4\n",
      "-3\n",
      "-2\n",
      "-1\n"
     ]
    }
   ],
   "source": [
    "# Exercise 9: Display numbers from -10 to -1 using for loop:-\n",
    "\n",
    "for i in range(-10,0,1):\n",
    "    print(i)"
   ]
  },
  {
   "cell_type": "code",
   "execution_count": 103,
   "id": "f2066b29",
   "metadata": {},
   "outputs": [
    {
     "name": "stdout",
     "output_type": "stream",
     "text": [
      "0\n",
      "1\n",
      "2\n",
      "3\n",
      "4\n",
      "Done\n"
     ]
    }
   ],
   "source": [
    "# Exercise 10: Use else block to display a message “Done” after successful execution of for loop\n",
    "for i in range(5):\n",
    "    print(i)\n",
    "else:\n",
    "    print(\"Done\")"
   ]
  },
  {
   "cell_type": "code",
   "execution_count": 108,
   "id": "ab16d10a",
   "metadata": {},
   "outputs": [
    {
     "name": "stdout",
     "output_type": "stream",
     "text": [
      "29\n",
      "31\n",
      "37\n",
      "41\n",
      "43\n",
      "47\n"
     ]
    }
   ],
   "source": [
    "# Exercise 11: Write a program to display all prime numbers within a range:-\n",
    "start = 25\n",
    "end = 50\n",
    "for i in range(start,end-1):\n",
    "    if i>1:\n",
    "        for j in range(2,i):\n",
    "            if (i%j)==0:\n",
    "                break\n",
    "        else:\n",
    "            print(i)"
   ]
  },
  {
   "cell_type": "code",
   "execution_count": 122,
   "id": "6e04a7c8",
   "metadata": {},
   "outputs": [
    {
     "name": "stdout",
     "output_type": "stream",
     "text": [
      "0 1 1 2 3 5 8 13 21 34 "
     ]
    }
   ],
   "source": [
    "# Exercise 12: Display Fibonacci series up to 10 terms:\n",
    "\n",
    "num1,num2=0,1\n",
    "for i in range(1,11):\n",
    "    print(num1,end=\" \")\n",
    "    res=num1+num2\n",
    "    num1=num2\n",
    "    num2=res"
   ]
  },
  {
   "cell_type": "code",
   "execution_count": 133,
   "id": "a54f885b",
   "metadata": {},
   "outputs": [
    {
     "name": "stdout",
     "output_type": "stream",
     "text": [
      "Enter number5\n",
      "120\n"
     ]
    }
   ],
   "source": [
    "# Exercise 13: Find the factorial of a given number: \n",
    "n=int(input(\"Enter number\"))\n",
    "facto=1\n",
    "if n < 0:\n",
    "    print(\"Factorial does not exist for negative numbers\")\n",
    "elif n == 0:\n",
    "    print(\"The factorial of 0 is 1\")\n",
    "else:\n",
    "    for i in range(1,n+1):\n",
    "        facto=facto*i\n",
    "    print(facto)\n",
    "    "
   ]
  },
  {
   "cell_type": "code",
   "execution_count": 16,
   "id": "e5d7de05",
   "metadata": {
    "scrolled": false
   },
   "outputs": [
    {
     "name": "stdout",
     "output_type": "stream",
     "text": [
      "8353725\n",
      "nohtyP\n",
      "['Learning', 'Python', 'is', 'very', 'Easy']\n",
      "Easy very is Python Learning\n",
      "agruD erawtfoS snoituloS\n",
      "Enter Some String:amol daund\n",
      "Characters at Even Position: ao an\n",
      "Characters at Odd Position: mldud\n"
     ]
    }
   ],
   "source": [
    "# Exercise 14: Reverse a given integer number\n",
    "n=5273538\n",
    "sn=str(n)\n",
    "print(sn[::-1])\n",
    "\n",
    "s=\"Python\"\n",
    "print(''.join(reversed(s)))\n",
    "\n",
    "\n",
    "# Exercise 14,1: Program to reverse order of words.\n",
    "\n",
    "\n",
    "s=\"Learning Python is very Easy\"\n",
    "x=s.split()\n",
    "print(x)\n",
    "l1=[]\n",
    "i=len(x)-1\n",
    "while i>=0:\n",
    "    l1.append(x[i])\n",
    "    i=i-1\n",
    "output=' '.join(l1)\n",
    "print(output)\n",
    "\n",
    "\n",
    "# Q3. Program to reverse internal content of each word.\n",
    "\n",
    "s=\"Durga Software Solutions\"\n",
    "l=s.split()\n",
    "l1=[]\n",
    "i=0\n",
    "while i<len(l):\n",
    "    l1.append(l[i][::-1])\n",
    "    i=i+1\n",
    "output=' '.join(l1)\n",
    "print(output)\n",
    "\n",
    "# Q4. Write a program to print characters at odd position and even position for the given String?\n",
    "\n",
    "s=input(\"Enter Some String:\")\n",
    "print(\"Characters at Even Position:\",s[0::2])\n",
    "print(\"Characters at Odd Position:\",s[1::2])"
   ]
  },
  {
   "cell_type": "code",
   "execution_count": 29,
   "id": "c467ea8a",
   "metadata": {},
   "outputs": [
    {
     "name": "stdout",
     "output_type": "stream",
     "text": [
      "Enter First String:asf\n",
      "Enter Second String:dsg\n",
      "adssfg\n",
      "ABDQJHFE\n"
     ]
    }
   ],
   "source": [
    "# Q1. Program to merge characters of 2 strings into a single string by taking characters alternatively.\n",
    "s1=input(\"Enter First String:\")\n",
    "s2=input(\"Enter Second String:\")\n",
    "output=''\n",
    "i,j=0,0\n",
    "while i<len(s1) or j<len(s2):\n",
    "    if i<len(s1):\n",
    "        output=output+s1[i]\n",
    "        i+=1\n",
    "    if j<len(s2):\n",
    "        output=output+s2[j]\n",
    "        j+=1\n",
    "print(output)\n",
    "\n",
    "\n",
    "\n",
    "# Q9. Write a program to remove duplicate characters from the given input string?:-\n",
    "\n",
    "x='ABDQJHFFEABD'\n",
    "l=[]\n",
    "for i in x:\n",
    "    if i not in l:\n",
    "        l.append(i)\n",
    "output=''.join(l)   \n",
    "print(output)    \n",
    "        "
   ]
  },
  {
   "cell_type": "code",
   "execution_count": 33,
   "id": "fd46fa68",
   "metadata": {},
   "outputs": [
    {
     "name": "stdout",
     "output_type": "stream",
     "text": [
      "durga 's salary is 10000 and his age is 48\n",
      "The intEger number is: 123\n",
      "The intEger number is: 123\n",
      "The intEger number is:   123\n",
      "The intEger number is: 00123\n",
      "The float number is: 123.4567\n",
      "The float number is: 123.456700\n",
      "The float number is:  123.457\n",
      "The float number is: 0123.457\n",
      "The float number is: 0123.450\n",
      "The float number is: 786786123.450\n"
     ]
    }
   ],
   "source": [
    "# Formatting the Strings:\n",
    "# Case- 1: Basic Formatting for default, positional and keyword arguments\n",
    "\n",
    "name='durga'\n",
    "salary=10000\n",
    "age=48\n",
    "print(\"{} 's salary is {} and his age is {}\".format(name,salary,age))\n",
    "\n",
    "# Case-2: Formatting Numbers:- \n",
    "\n",
    "# d--->Decimal IntEger\n",
    "# f----->Fixed point number(float).The default precision is 6\n",
    "# b-->Binary format\n",
    "# o--->Octal Format\n",
    "# x-->Hexa Decimal Format(Lower case)\n",
    "# X-->Hexa Decimal Format(Upper case)\n",
    "\n",
    "print(\"The intEger number is: {}\".format(123))     \n",
    "print(\"The intEger number is: {:d}\".format(123))\n",
    "print(\"The intEger number is: {:5d}\".format(123))\n",
    "print(\"The intEger number is: {:05d}\".format(123))\n",
    "\n",
    "print(\"The float number is: {}\".format(123.4567))\n",
    "print(\"The float number is: {:f}\".format(123.4567))\n",
    "print(\"The float number is: {:8.3f}\".format(123.4567))\n",
    "print(\"The float number is: {:08.3f}\".format(123.4567))\n",
    "print(\"The float number is: {:08.3f}\".format(123.45))\n",
    "print(\"The float number is: {:08.3f}\".format(786786123.45))\n",
    "\n",
    "# Eg-3: Print Decimal value in binary, octal and hexadecimal form\n",
    "\n",
    "print(\"Binary Form:{0:b}\".format(153))\n",
    "print(\"Octal Form:{0:o}\".format(153))\n",
    "print(\"Hexa decimal Form:{0:x}\".format(154))\n",
    "print(\"Hexa decimal Form:{0:X}\".format(154))"
   ]
  },
  {
   "cell_type": "code",
   "execution_count": 6,
   "id": "b7f264d2",
   "metadata": {},
   "outputs": [
    {
     "name": "stdout",
     "output_type": "stream",
     "text": [
      "20,40,60,80,"
     ]
    }
   ],
   "source": [
    "# Exercise 15: Use a loop to display elements from a given list present at odd index positions:\n",
    "L = [10, 20, 30, 40, 50, 60, 70, 80, 90, 100]\n",
    "for i in L[1:-1:2]:     # or [1::2]\n",
    "    print(i,end=\",\")"
   ]
  },
  {
   "cell_type": "code",
   "execution_count": 190,
   "id": "b6dc4714",
   "metadata": {},
   "outputs": [
    {
     "name": "stdout",
     "output_type": "stream",
     "text": [
      "Enter Number:- 5\n",
      "1\n",
      "8\n",
      "27\n",
      "64\n",
      "125\n"
     ]
    }
   ],
   "source": [
    "# Exercise 16: Calculate the cube of all numbers from 1 to a given number:-\n",
    "n=int(input(\"Enter Number:- \"))\n",
    "if n<1:\n",
    "    print(\"Invalid Number\")\n",
    "else:\n",
    "    for i in range(1,n+1):\n",
    "        print(i**3)\n",
    "        i+=1\n"
   ]
  },
  {
   "cell_type": "code",
   "execution_count": 248,
   "id": "aa7f8457",
   "metadata": {},
   "outputs": [
    {
     "name": "stdout",
     "output_type": "stream",
     "text": [
      "# \n",
      "# # \n",
      "# # # \n",
      "# # # # \n",
      "# # # # # \n",
      "# # # # \n",
      "# # # \n",
      "# # \n",
      "# \n"
     ]
    }
   ],
   "source": [
    "# Exercise 18: Print the following pattern:\n",
    "n=5\n",
    "for R in range(1,n+1):\n",
    "    for C in range(R):\n",
    "        print(\"#\",end=\" \")\n",
    "    print()   \n",
    "n=n-1    \n",
    "for R in range(n):\n",
    "    for C in range(n-R):\n",
    "        print(\"#\",end=\" \")\n",
    "    print()      "
   ]
  },
  {
   "cell_type": "code",
   "execution_count": null,
   "id": "b9a54434",
   "metadata": {},
   "outputs": [],
   "source": []
  }
 ],
 "metadata": {
  "kernelspec": {
   "display_name": "Python 3 (ipykernel)",
   "language": "python",
   "name": "python3"
  },
  "language_info": {
   "codemirror_mode": {
    "name": "ipython",
    "version": 3
   },
   "file_extension": ".py",
   "mimetype": "text/x-python",
   "name": "python",
   "nbconvert_exporter": "python",
   "pygments_lexer": "ipython3",
   "version": "3.10.5"
  }
 },
 "nbformat": 4,
 "nbformat_minor": 5
}
