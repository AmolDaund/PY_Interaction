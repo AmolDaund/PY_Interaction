{
 "cells": [
  {
   "cell_type": "code",
   "execution_count": 1,
   "id": "2226d068",
   "metadata": {},
   "outputs": [
    {
     "name": "stdout",
     "output_type": "stream",
     "text": [
      "BW\n"
     ]
    }
   ],
   "source": [
    "# Logging:- Logging means of tracking events that happen when some software runs. \n",
    "    # Logging is important for software developing, debugging, and running. \n",
    "    # If you don’t have any logging record and your program crashes, there are very few chances that you detect the cause \n",
    "    # of the problem.\n",
    "\n",
    "# The main advantages of logging are:\n",
    "# 1. We can use log files while performing debugging\n",
    "\n",
    "\n",
    "# logging levels: Depending on type of information, logging data is divided according to the following 6 levels in Python.\n",
    "\n",
    "\n",
    "# 1. CRITICAL==>50==>Represents a very serious problem that needs high attention\n",
    "# 2. ERROR===>40===>Represents a serious error\n",
    "# 3. WARNING==>30==>Represents a warning message, some caution needed. It is alert to the programmer\n",
    "# 4. INFO===>20===>Represents a message with some important information\n",
    "# 5. DEBUG===>10==>Represents a message with debugging information\n",
    "# 6. NOTSET==>0==>Rrepresents that the level is not set.\n",
    "\n",
    "\n",
    "# By default while executing Python program only WARNING and higher level messages will be displayed.\n",
    "\n",
    "\n",
    "# How to implement logging: To perform logging, first we required to create a file to store messages and we have to\n",
    "                        # specify which level messages we have to store.\n",
    "\n",
    "    # We can do this by using basicConfig() function of logging module.\n",
    "    \n",
    "# Q.Write a Python program to create a log file and write WARNING and higher level messages?    \n",
    "    \n",
    "# importing module\n",
    "import logging\n",
    " \n",
    "# Create and configure logger\n",
    "logging.basicConfig(filename=\"log.txt\", format='%(asctime)s %(message)s', filemode='w')\n",
    " \n",
    "# Creating an object\n",
    "logger = logging.getLogger()\n",
    " \n",
    "# Setting the threshold of logger to DEBUG\n",
    "logger.setLevel(logging.ERROR)\n",
    " \n",
    "# Test messages\n",
    "print(\"BW\")\n",
    "logger.debug(\"Harmless debug Message\")\n",
    "logger.info(\"Just an information\")\n",
    "logger.warning(\"Its a Warning\")\n",
    "logger.error(\"Did you try to divide by zero\")\n",
    "logger.critical(\"Internet is down\")"
   ]
  },
  {
   "cell_type": "code",
   "execution_count": null,
   "id": "17a2a868",
   "metadata": {},
   "outputs": [],
   "source": []
  },
  {
   "cell_type": "code",
   "execution_count": null,
   "id": "039b2257",
   "metadata": {},
   "outputs": [],
   "source": []
  }
 ],
 "metadata": {
  "kernelspec": {
   "display_name": "Python 3 (ipykernel)",
   "language": "python",
   "name": "python3"
  },
  "language_info": {
   "codemirror_mode": {
    "name": "ipython",
    "version": 3
   },
   "file_extension": ".py",
   "mimetype": "text/x-python",
   "name": "python",
   "nbconvert_exporter": "python",
   "pygments_lexer": "ipython3",
   "version": "3.10.5"
  }
 },
 "nbformat": 4,
 "nbformat_minor": 5
}
