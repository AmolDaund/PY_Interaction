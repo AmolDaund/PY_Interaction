{
 "cells": [
  {
   "cell_type": "code",
   "execution_count": 15,
   "id": "4f2b9cc0",
   "metadata": {},
   "outputs": [
    {
     "name": "stdout",
     "output_type": "stream",
     "text": [
      "[('ram', '15', '8'), ('laxman', 'sita'), ('krishna', 'akbar', '45'), ('', '')]\n",
      "[('ram', '15', '8'), ('laxman', 'sita'), ('krishna', 'akbar', '45'), ('', '')]\n"
     ]
    }
   ],
   "source": [
    "# Python | Remove empty tuples from a list\n",
    "\n",
    "def Remove(tuples):\n",
    "    tuples = [t for t in tuples if t]\n",
    "    return tuples\n",
    "  \n",
    "# Driver Code\n",
    "tuples = [(), ('ram','15','8'), (), ('laxman', 'sita'), \n",
    "          ('krishna', 'akbar', '45'), ('',''),()]\n",
    "print (Remove(tuples))\n",
    "\n",
    "#----------------------------------------------------------------------------\n",
    "\n",
    "tuples = [(), ('ram','15','8'), (), ('laxman', 'sita'), \n",
    "          ('krishna', 'akbar', '45'), ('',''),()]\n",
    "\n",
    "for i in tuples:\n",
    "    if len(i)==0:\n",
    "        tuples.remove(i)\n",
    "print(tuples)\n"
   ]
  },
  {
   "cell_type": "code",
   "execution_count": 46,
   "id": "4b4e544b",
   "metadata": {},
   "outputs": [
    {
     "name": "stdout",
     "output_type": "stream",
     "text": [
      "Counter({2: 3, 5: 2, 9: 2, 1: 1, 3: 1, 4: 1, 6: 1, 7: 1, 8: 1})\n",
      "[2, 5, 9]\n",
      "Counter({2: 3, 5: 2, 9: 2, 1: 1, 3: 1, 4: 1, 6: 1, 7: 1, 8: 1})\n",
      "Number 2 occured 3 times\n",
      "Number 5 occured 2 times\n",
      "Number 9 occured 2 times\n",
      "[1, 2, 3, 4, 5, 6, 7, 8, 9]\n",
      "duplicate value :  2\n",
      "duplicate value :  5\n",
      "duplicate value :  9\n"
     ]
    }
   ],
   "source": [
    "# Python | Program to print duplicates from a list of integers\n",
    "\n",
    "from collections import Counter\n",
    "\n",
    " \n",
    "l1 = [1,2,2,3,4,5,2,5,6,7,8,9,9]\n",
    "d = Counter(l1)\n",
    "print(d)\n",
    " \n",
    "new_list = list([i for i in d if d[i]>1])\n",
    "print(new_list)\n",
    "\n",
    "#-------------------------------------------------------------------------------------------------\n",
    "\n",
    "l1 = [1,2,2,3,4,5,2,5,6,7,8,9,9]\n",
    "d = Counter(l1)\n",
    "print(d)\n",
    "\n",
    "for i in d:\n",
    "    if d[i]>1:\n",
    "        print(\"Number {} occured {} times\".format(i,d[i])) \n",
    "        \n",
    "#----------------------------------------------------------------------------------------\n",
    "\n",
    "l1 = [1, 2, 2, 3, 4, 5, 2, 5, 6, 7, 8, 9, 9]\n",
    "l2=(set(l1))\n",
    "print(list(l2))\n",
    "\n",
    "for i in l2:\n",
    "    c=0\n",
    "    for j in l1:\n",
    "        if i==j:\n",
    "            c+=1\n",
    "    if c>1:\n",
    "        print(\"duplicate value : \",i)\n"
   ]
  },
  {
   "cell_type": "code",
   "execution_count": 59,
   "id": "f7ef444a",
   "metadata": {},
   "outputs": [
    {
     "name": "stdout",
     "output_type": "stream",
     "text": [
      "[10, 30, 60, 100]\n",
      "[array([10, 30]), array([ 60, 100])]\n"
     ]
    }
   ],
   "source": [
    "# Python program to find Cumulative sum of a list Break a list into chunks of size N in\n",
    "import numpy\n",
    "\n",
    "x=[10,20,30,40]\n",
    "l1=[]\n",
    "sum=0\n",
    "for i in x:\n",
    "    sum+=i\n",
    "    l1.append(sum)\n",
    "print(l1)\n",
    "\n",
    "n=2    # Break a list into chunk of size 2\n",
    "\n",
    "l2=numpy.array_split(l1,n)\n",
    "print(l2)"
   ]
  },
  {
   "cell_type": "code",
   "execution_count": 83,
   "id": "da6bd890",
   "metadata": {},
   "outputs": [
    {
     "name": "stdout",
     "output_type": "stream",
     "text": [
      "A = 3\n",
      "C = 4\n",
      "D = 5\n",
      "K = 6\n",
      "O = 1\n",
      "X = 2\n"
     ]
    }
   ],
   "source": [
    "# Python | Sort the values of first list using second list\n",
    "\n",
    "x = [\"O\",\"X\",\"A\",\"C\",\"D\",\"K\"]\n",
    "y = ['1','2','3','4','5','6']\n",
    "\n",
    "z = zip(x,y)\n",
    "\n",
    "for k,v in sorted(z):\n",
    "    print(k,\"=\",v)"
   ]
  },
  {
   "cell_type": "code",
   "execution_count": 51,
   "id": "88e1dd1a",
   "metadata": {},
   "outputs": [
    {
     "name": "stdout",
     "output_type": "stream",
     "text": [
      "Yes\n",
      "yes\n"
     ]
    }
   ],
   "source": [
    "# Python program to check if a string is palindrome or not Reverse words in a given String in\n",
    "\n",
    "def isPalindrome(s):\n",
    "    return s == s[::-1]\n",
    " \n",
    "# Driver code\n",
    "s = \"naman\"\n",
    "ans = isPalindrome(s)\n",
    " \n",
    "if ans:\n",
    "    print(\"Yes\")\n",
    "else:\n",
    "    print(\"No\")\n",
    "#----------------------------------------------------------------------------------------    \n",
    "x=\"naman\"\n",
    "y=\"\"\n",
    "for i in x:\n",
    "    y=i+y\n",
    "    \n",
    "if x==y:\n",
    "    print(\"yes\")\n",
    "else:\n",
    "    print(\"No\")"
   ]
  },
  {
   "cell_type": "code",
   "execution_count": 72,
   "id": "4208723c",
   "metadata": {},
   "outputs": [
    {
     "name": "stdout",
     "output_type": "stream",
     "text": [
      "The string after removal of i'th character : AmolDund\n",
      "The original string is :  GeeksForGeeks\n",
      "The string after removal of i'th character(works) : GksForGeks\n",
      "The string after removal of i'th character : GeesForGeeks\n"
     ]
    }
   ],
   "source": [
    "# Python Ways to remove i’th character from string\n",
    "\n",
    "x_str = \"AmolDaund\"\n",
    "new_str = \"\"\n",
    "  \n",
    "for i in range(len(x_str)):\n",
    "    if i != 5:\n",
    "        new_str = new_str + x_str[i]\n",
    "\n",
    "# Printing string after removal  \n",
    "print (\"The string after removal of i'th character : \" + new_str)\n",
    "\n",
    "#----------------------------------------------------------------------\n",
    "\n",
    "test_str = \"GeeksForGeeks\"\n",
    "  \n",
    "# Printing original string \n",
    "print (\"The original string is : \", test_str)  # insted of , you can also use +\n",
    "  \n",
    "# Removing 1st occurrence of s, i.e 5th pos. if we wish to remove it.\n",
    "new_str = test_str.replace('e', '', 3)       # 3 means remove first 3 of out of n mumber of e\n",
    "  \n",
    "# Printing string after removal  \n",
    "# removes first occurrences of s\n",
    "print (\"The string after removal of i'th character(works) : \" + new_str)\n",
    "\n",
    "#----------------------------------------------------------------------\n",
    "\n",
    "test_str = \"GeeksForGeeks\"\n",
    "  \n",
    "# Removing char at pos 3\n",
    "# using slice + concatenation\n",
    "new_str = test_str[:3] +  test_str[4:]\n",
    "  \n",
    "# Printing string after removal  \n",
    "# removes ele. at 3rd index\n",
    "print (\"The string after removal of i'th character : \" + new_str)"
   ]
  },
  {
   "cell_type": "code",
   "execution_count": 103,
   "id": "b7292f45",
   "metadata": {},
   "outputs": [
    {
     "name": "stdout",
     "output_type": "stream",
     "text": [
      "Yes! it is present in the string\n",
      "yes\n",
      "No\n",
      "Yes\n"
     ]
    },
    {
     "data": {
      "text/plain": [
       "16"
      ]
     },
     "execution_count": 103,
     "metadata": {},
     "output_type": "execute_result"
    }
   ],
   "source": [
    "# Python | Check if a Substring is Present in a Given String \n",
    "\n",
    "MyString1 = \"A geek in need is a geek indeed\"\n",
    " \n",
    "if \"need\" in MyString1:\n",
    "    print(\"Yes! it is present in the string\")\n",
    "else:\n",
    "    print(\"No! it is not present\")\n",
    "    \n",
    "#-------------------------------------------------------------------\n",
    "\n",
    "string = \"geeks for geeks\"  # or string=input() -> taking input from the user\n",
    "substring = \"geeks\"  # or substring=input()\n",
    " \n",
    "# splitting words in a given string\n",
    "s = string.split()\n",
    "\n",
    "if substring in s:\n",
    "    print(\"yes\")\n",
    "else:\n",
    "    print(\"no\")\n",
    "    \n",
    "    \n",
    "#----------------------------------------------------------------------------\n",
    "\n",
    "def checkString(string,sub_string):\n",
    "    if ((string.find(sub_string))==-1):\n",
    "        print(\"No\")\n",
    "    else:\n",
    "        print(\"Yes\")\n",
    "\n",
    "\n",
    "string=\"My name is Amol\"\n",
    "sub_string=\"Name\"\n",
    "checkString(string,sub_string)\n",
    "\n",
    "#------------------------------------------------------------\n",
    "\n",
    "def checkString(string,sub_string):\n",
    "    if (string.count(sub_string)>0):\n",
    "        print(\"Yes\")\n",
    "    else:\n",
    "        print(\"No\")\n",
    "\n",
    "\n",
    "string=\"My name is Amol\"\n",
    "sub_string=\"name\"\n",
    "checkString(string,sub_string)\n",
    "\n",
    "#---------------------------------------------------------------------\n",
    "any_string = \"Geeks for Geeks substring \"\n",
    "start = 0\n",
    "end = 1000\n",
    "any_string.index('substring', start, end)\n"
   ]
  },
  {
   "cell_type": "code",
   "execution_count": 108,
   "id": "938df987",
   "metadata": {},
   "outputs": [
    {
     "name": "stdout",
     "output_type": "stream",
     "text": [
      "5\n",
      "15\n",
      "9\n",
      "9\n"
     ]
    }
   ],
   "source": [
    "# Find length of a string in python (4 ways)\n",
    "\n",
    "str = \"geeks\"\n",
    "print(len(str))\n",
    "\n",
    "#--------------------------------\n",
    "\n",
    "str =\"My name is Amol\"\n",
    "count=0\n",
    "for i in str:\n",
    "    count+=1\n",
    "print(count)\n",
    "\n",
    "#--------------------------------\n",
    "\n",
    "def findlen(str):\n",
    "    c=0\n",
    "    for i in str:\n",
    "        c+=1\n",
    "    return c        \n",
    "str=\"RamLakhan\"\n",
    "print(findlen(str))\n",
    "\n",
    "#--------------------------------\n",
    "\n",
    "def findlen(str):\n",
    "    c=0\n",
    "    while str[c:]:\n",
    "        c+=1\n",
    "    return c        \n",
    "str=\"RamLakhan\"\n",
    "print(findlen(str))\n"
   ]
  },
  {
   "cell_type": "code",
   "execution_count": 125,
   "id": "cfffac26",
   "metadata": {},
   "outputs": [
    {
     "name": "stdout",
     "output_type": "stream",
     "text": [
      "This\n",
      "is\n",
      "python\n",
      "language\n",
      "Amol\n"
     ]
    }
   ],
   "source": [
    "# Python program to print even length words in a string\n",
    "n=\"This is a python language\"\n",
    "\n",
    "s=n.split(\" \")\n",
    "\n",
    "for i in s:\n",
    "  #checking the length of words\n",
    "  if len(i)%2==0:\n",
    "    print(i)\n",
    "    \n",
    "#--------------------------------------------\n",
    "\n",
    "def Peven(n):\n",
    "    s=n.split(' ')\n",
    "    for i in s:\n",
    "        if len(i)%2==0:\n",
    "            return i\n",
    "\n",
    "n=\"Hi, How are you Amo\n",
    "l\"\n",
    "print(Peven(n))"
   ]
  },
  {
   "cell_type": "code",
   "execution_count": 127,
   "id": "79d13e07",
   "metadata": {},
   "outputs": [
    {
     "name": "stdout",
     "output_type": "stream",
     "text": [
      "name:- hhhhhhh\n",
      "T v:- 0\n",
      "T v:- 7\n"
     ]
    }
   ],
   "source": [
    "# Python | Program to accept the strings which contains all vowels\n",
    "\n",
    "a=input(\"name:- \")\n",
    "v=0\n",
    "c=0\n",
    "for i in a:\n",
    "    if (i=='a' or i=='e' or i=='i' or i=='o' or i=='u'or i=='A' or i=='E' or i=='I' or i=='O' or i=='U'):\n",
    "        v=v+1\n",
    "    else:\n",
    "        c=c+1\n",
    "print('T v:-', v)\n",
    "print('T v:-', c)"
   ]
  },
  {
   "cell_type": "code",
   "execution_count": null,
   "id": "5e3d9a59",
   "metadata": {},
   "outputs": [],
   "source": [
    "# Python | Count the Number of matching characters in a pair of string\n",
    "\n"
   ]
  },
  {
   "cell_type": "code",
   "execution_count": 7,
   "id": "152a9c17",
   "metadata": {},
   "outputs": [
    {
     "name": "stdout",
     "output_type": "stream",
     "text": [
      "name:- Amol Dauns\n",
      "{' ', 's', 'A', 'a', 'u', 'D', 'm', 'n', 'o', 'l'}\n",
      "T v:- 4\n"
     ]
    }
   ],
   "source": [
    "# Python program to count number of vowels using sets in given string Remove all duplicates from a given string in Python\n",
    "\n",
    "a=input(\"name:- \")\n",
    "x=set(a)\n",
    "print(x)\n",
    "v=0\n",
    "for i in x:\n",
    "    if (i=='a' or i=='e' or i=='i' or i=='o' or i=='u'or i=='A' or i=='E' or i=='I' or i=='O' or i=='U'):\n",
    "        v=v+1\n",
    "print('T v:-', v)"
   ]
  },
  {
   "cell_type": "code",
   "execution_count": 132,
   "id": "dcff42d4",
   "metadata": {},
   "outputs": [],
   "source": [
    "# Python | Program to check if a string contains any special character Generating random strings\n",
    " # until a given string is generated Find words which are greater than given length k"
   ]
  },
  {
   "cell_type": "code",
   "execution_count": 156,
   "id": "4137c9e0",
   "metadata": {},
   "outputs": [
    {
     "name": "stdout",
     "output_type": "stream",
     "text": [
      "['Brain', 'works', 'python']\n",
      "Brain-works-python\n",
      "['Brain', 'works', 'python']\n",
      "Brain-works-python\n"
     ]
    }
   ],
   "source": [
    "# Python program to split and join a string\n",
    "\n",
    "s = 'Brain works python'\n",
    "# print the string after split method\n",
    "print(s.split(\" \"))\n",
    "\n",
    "# print the string after join method\n",
    "print(\"-\".join(s.split()))\n",
    "\n",
    "\n",
    "#--------------------------------------------------------------------------------\n",
    "\n",
    "def split_string(string):\n",
    " \n",
    "    # Split the string based on space delimiter\n",
    "    list_string = string.split(' ')\n",
    "     \n",
    "    return list_string\n",
    "def join_string(string):\n",
    " \n",
    "    # Join the string based on '-' delimiter\n",
    "    string = '-'.join(list_string)\n",
    "     \n",
    "    return string\n",
    "\n",
    "string = 'Brain works python'\n",
    "list_string=split_string(string)\n",
    "print(list_string)\n",
    "string=join_string(string)\n",
    "print(string)\n"
   ]
  },
  {
   "cell_type": "code",
   "execution_count": 12,
   "id": "300f6acd",
   "metadata": {},
   "outputs": [
    {
     "name": "stdout",
     "output_type": "stream",
     "text": [
      "Yes\n",
      "12\n",
      "Yes,The given string is binary\n",
      "Yes\n"
     ]
    }
   ],
   "source": [
    "# Python | Check if a given string is binary string or not\n",
    "\n",
    "string = \"01010101010\"\n",
    "if(string.count('0')+string.count('1')==len(string)):\n",
    "    print(\"Yes\")\n",
    "else:\n",
    "    print(\"No\")\n",
    "\n",
    "#------------------------------------------------------------------------------------------------\n",
    "    \n",
    "    \n",
    "x=\"01100\"\n",
    "try:\n",
    "    y=int(x,2)     # convert binary to decimal\n",
    "    print(y)\n",
    "    print(\"Yes,The given string is binary\")\n",
    "except ValueError:\n",
    "    print(\"The given string is not binary\")    \n",
    "    \n",
    "#------------------------------------------------------------------------------------------------\n",
    "# Using Set  \n",
    "# Insert the given string in a set\n",
    "# Check if the set characters consist of 1 and/or 0 only.\n",
    "\n",
    "def check(string):\n",
    "    p = set(string)\n",
    " \n",
    "    # declare set of '0', '1' .\n",
    "    s = {'0', '1'}\n",
    " \n",
    "    # check set p is same as set s\n",
    "    # or set p contains only '0'\n",
    "    # or set p contains only '1'\n",
    "    # or not, if any one condition\n",
    "    # is true then string is accepted\n",
    "    # otherwise not .\n",
    "    if s == p or p == {'0'} or p == {'1'}:\n",
    "        print(\"Yes\")\n",
    "    else:\n",
    "        print(\"No\")\n",
    "\n",
    "string = \"101010000111\"\n",
    " \n",
    "    # function calling\n",
    "check(string)"
   ]
  },
  {
   "cell_type": "code",
   "execution_count": 162,
   "id": "a7493910",
   "metadata": {},
   "outputs": [
    {
     "name": "stdout",
     "output_type": "stream",
     "text": [
      "['Learning', 'from']\n"
     ]
    }
   ],
   "source": [
    "# Python program to find uncommon words from two Strings\n",
    "\n",
    "# Python3 program to find a list of uncommon words\n",
    "  \n",
    "# Function to return all uncommon words\n",
    "def UncommonWords(A, B):\n",
    "  \n",
    "    # count will contain all the word counts\n",
    "    count = {}\n",
    "      \n",
    "    # insert words of string A to hash\n",
    "    for word in A.split():\n",
    "        count[word] = count.get(word, 0) + 1\n",
    "      \n",
    "    # insert words of string B to hash\n",
    "    for word in B.split():\n",
    "        count[word] = count.get(word, 0) + 1\n",
    "  \n",
    "    # return required list of words\n",
    "    return [word for word in count if count[word] == 1]\n",
    "  \n",
    "# Driver Code\n",
    "A = \"Geeks for Geeks\"\n",
    "B = \"Learning from Geeks for Geeks\"\n",
    "  \n",
    "# Print required answer\n",
    "print(UncommonWords(A, B))"
   ]
  },
  {
   "cell_type": "code",
   "execution_count": 164,
   "id": "4f3bc781",
   "metadata": {},
   "outputs": [
    {
     "name": "stdout",
     "output_type": "stream",
     "text": [
      "14.625.498, 002\n"
     ]
    }
   ],
   "source": [
    "# Python | Swap commas and dots in a String\n",
    "\n",
    "def Replace(str1):\n",
    "    str1 = str1.replace(', ', 'third')\n",
    "    str1 = str1.replace('.', ', ')\n",
    "    str1 = str1.replace('third', '.')\n",
    "    return str1\n",
    "     \n",
    "str1 = \"14, 625, 498.002\"\n",
    "print(Replace(str1))"
   ]
  },
  {
   "cell_type": "code",
   "execution_count": 168,
   "id": "fb1118ed",
   "metadata": {},
   "outputs": [
    {
     "name": "stdout",
     "output_type": "stream",
     "text": [
      "AOL\n",
      "ALO\n",
      "OAL\n",
      "OLA\n",
      "LAO\n",
      "LOA\n"
     ]
    }
   ],
   "source": [
    "# Python | Permutation of a given string using inbuilt function\n",
    "\n",
    "from itertools import permutations\n",
    "  \n",
    "def allPermutations(str):\n",
    "       \n",
    "     # Get all permutations of string 'ABC'\n",
    "     permList = permutations(str)\n",
    "  \n",
    "     # print all permutations\n",
    "     for perm in list(permList):\n",
    "            print (''.join(perm))\n",
    "        \n",
    "\n",
    "str = 'AOL'\n",
    "allPermutations(str)"
   ]
  },
  {
   "cell_type": "code",
   "execution_count": null,
   "id": "dc5d62db",
   "metadata": {},
   "outputs": [],
   "source": [
    "# Python | Check for URL in a String Execute a String of Code in\n",
    "\n"
   ]
  },
  {
   "cell_type": "code",
   "execution_count": 170,
   "id": "f3e28dc8",
   "metadata": {},
   "outputs": [
    {
     "name": "stdout",
     "output_type": "stream",
     "text": [
      "Left Rotation :  eksforGeeksGe\n",
      "Right Rotation :  ksGeeksforGee\n"
     ]
    }
   ],
   "source": [
    "# Python String slicing in Python to rotate a string\n",
    "\n",
    "def rotate(input,d):\n",
    " \n",
    "    # slice string in two parts for left and right\n",
    "    Lfirst = input[0 : d]\n",
    "    Lsecond = input[d :]\n",
    "    Rfirst = input[0 : len(input)-d]\n",
    "    Rsecond = input[len(input)-d : ]\n",
    " \n",
    "    # now concatenate two parts together\n",
    "    print (\"Left Rotation : \", (Lsecond + Lfirst) )\n",
    "    print (\"Right Rotation : \", (Rsecond + Rfirst))\n",
    "\n",
    "# Driver program\n",
    "input = 'GeeksforGeeks'\n",
    "d=2\n",
    "rotate(input,d)"
   ]
  },
  {
   "cell_type": "code",
   "execution_count": null,
   "id": "697fe245",
   "metadata": {},
   "outputs": [],
   "source": [
    "# String slicing in Python to check if a string can become empty by recursive deletion\n",
    " "
   ]
  },
  {
   "cell_type": "code",
   "execution_count": 174,
   "id": "2518e5d9",
   "metadata": {},
   "outputs": [
    {
     "name": "stdout",
     "output_type": "stream",
     "text": [
      "g\n",
      "e\n",
      "k\n",
      "s\n"
     ]
    }
   ],
   "source": [
    "# Python Counter| Find all duplicate characters in string Dictionary Programs:\n",
    "\n",
    "def find_dup_char(input):\n",
    " \n",
    "    WC = Counter(input)\n",
    " \n",
    "    # Finding no. of  occurrence of a character and get the index of it.\n",
    "    for letter, count in WC.items():\n",
    "        if (count > 1):\n",
    "            print(letter)\n",
    " \n",
    " \n",
    "# Driver program\n",
    "\n",
    "input = 'geeksforgeeks'\n",
    "find_dup_char(input)"
   ]
  },
  {
   "cell_type": "code",
   "execution_count": 4,
   "id": "bc3dff18",
   "metadata": {},
   "outputs": [
    {
     "name": "stdout",
     "output_type": "stream",
     "text": [
      "Nepal\n",
      "Not Found\n"
     ]
    }
   ],
   "source": [
    "# Python | Sort Python Dictionaries by Key or Value Handling missing keys in\n",
    "\n",
    "country_code = {'India' : '0091',\n",
    "                'Australia' : '0025',\n",
    "                'Nepal' : '00977'}\n",
    " \n",
    "# search dictionary for country code of India\n",
    "print(country_code.get('0091', 'Nepal'))\n",
    " \n",
    "# search dictionary for country code of Japan\n",
    "print(country_code.get('Japan', 'Not Found'))"
   ]
  },
  {
   "cell_type": "code",
   "execution_count": 189,
   "id": "029296c9",
   "metadata": {},
   "outputs": [
    {
     "name": "stdout",
     "output_type": "stream",
     "text": [
      "{(10, 20, 30): 0, (5, 2, 9): -2, (9, 8, 7, 6): 24}\n"
     ]
    }
   ],
   "source": [
    "# Python dictionaries Python dictionary with keys having multiple inputs\n",
    "\n",
    "# Insert first triplet in dictionary\n",
    "x, y, z = 10, 20, 30\n",
    "dict[x, y, z] = x + y - z;\n",
    " \n",
    "# Insert second triplet in dictionary\n",
    "x, y, z = 5, 2, 9\n",
    "dict[x, y, z] = x + y - z;\n",
    "\n",
    "a,b,c,d=9,8,7,6\n",
    "dict[a,b,c,d]=a+b+c\n",
    " \n",
    "# print the dictionary\n",
    "print(dict)"
   ]
  },
  {
   "cell_type": "code",
   "execution_count": 249,
   "id": "bb34ab51",
   "metadata": {},
   "outputs": [
    {
     "name": "stdout",
     "output_type": "stream",
     "text": [
      "Sum : 600\n",
      "Sum : 600\n"
     ]
    }
   ],
   "source": [
    "# Python program to find the sum of all items in a dictionary\n",
    "\n",
    "def returnSum(dict):\n",
    " \n",
    "    sum = 0\n",
    "    for i in dict.values():\n",
    "        sum += i\n",
    " \n",
    "    return sum\n",
    " \n",
    "dict1 = {'a': 100, 'b': 200, 'c': 300}\n",
    "print(\"Sum :\", returnSum(dict1))\n",
    "\n",
    "#--------------------------------------------------------------------\n",
    "\n",
    "def returnsum(dist):\n",
    "    return sum(dist.values())\n",
    "\n",
    "dict2 = {'a': 100, 'b': 200, 'c': 300}\n",
    "print(\"Sum :\", returnSum(dict2))\n",
    "    "
   ]
  },
  {
   "cell_type": "code",
   "execution_count": null,
   "id": "1fc5bca4",
   "metadata": {},
   "outputs": [],
   "source": [
    "# Python | Ways to remove a key from dictionary Ways to sort list of dictionaries by values in"
   ]
  },
  {
   "cell_type": "code",
   "execution_count": 199,
   "id": "ee2a6181",
   "metadata": {},
   "outputs": [
    {
     "name": "stdout",
     "output_type": "stream",
     "text": [
      "The list printed sorting by age: \n",
      "[{'name': 'Nikhil', 'age': 19}, {'name': 'Nandini', 'age': 20}, {'name': 'Manjeet', 'age': 20}]\n",
      "\r\n",
      "The list printed sorting by age and name: \n",
      "[{'name': 'Nikhil', 'age': 19}, {'name': 'Manjeet', 'age': 20}, {'name': 'Nandini', 'age': 20}]\n",
      "\r\n",
      "The list printed sorting by age in descending order: \n",
      "[{'name': 'Nandini', 'age': 20}, {'name': 'Manjeet', 'age': 20}, {'name': 'Nikhil', 'age': 19}]\n"
     ]
    }
   ],
   "source": [
    "# Python – Using itemgetter Ways to sort list of dictionaries by values in Python – Using lambda function\n",
    "\n",
    "lis = [{ \"name\" : \"Nandini\", \"age\" : 20},\n",
    "{ \"name\" : \"Manjeet\", \"age\" : 20 },\n",
    "{ \"name\" : \"Nikhil\" , \"age\" : 19 }]\n",
    " \n",
    "# using sorted and lambda to print list sorted by age\n",
    "print (\"The list printed sorting by age: \")\n",
    "print (sorted(lis, key = lambda i: i['age']))\n",
    "\n",
    "print (\"\\r\")\n",
    " \n",
    "# using sorted and lambda to print list sorted\n",
    "# by both age and name. Notice that \"Manjeet\"\n",
    "# now comes before \"Nandini\"\n",
    "print (\"The list printed sorting by age and name: \")\n",
    "print (sorted(lis, key = lambda i: (i['age'], i['name'])))\n",
    " \n",
    "print (\"\\r\")\n",
    " \n",
    "# using sorted and lambda to print list sorted\n",
    "# by age in descending order\n",
    "print (\"The list printed sorting by age in descending order: \")\n",
    "print (sorted(lis, key = lambda i: i['age'],reverse=True))"
   ]
  },
  {
   "cell_type": "code",
   "execution_count": 215,
   "id": "fd118ae7",
   "metadata": {},
   "outputs": [
    {
     "name": "stdout",
     "output_type": "stream",
     "text": [
      "{'a': 10, 'b': 8, 'd': 6, 'c': 4}\n"
     ]
    }
   ],
   "source": [
    "# Python | Merging two Dictionaries Program to create grade calculator in Python\n",
    "\n",
    "def Merge(dict1, dict2):\n",
    "    res = {**dict1, **dict2}     # res = dict1 | dict2\n",
    "    return res\n",
    "     \n",
    "# Driver code\n",
    "dict1 = {'a': 10, 'b': 8}\n",
    "dict2 = {'d': 6, 'c': 4}\n",
    "dict3 = Merge(dict1, dict2)\n",
    "print(dict3)"
   ]
  },
  {
   "cell_type": "code",
   "execution_count": null,
   "id": "2dbdc72e",
   "metadata": {},
   "outputs": [],
   "source": [
    "# Python | Check order of character in string using OrderedDict( )\n",
    " "
   ]
  },
  {
   "cell_type": "code",
   "execution_count": null,
   "id": "91a2a5d0",
   "metadata": {},
   "outputs": [],
   "source": [
    "# Python Counter to find the size of largest subset of anagram words"
   ]
  },
  {
   "cell_type": "code",
   "execution_count": 227,
   "id": "bf3e9505",
   "metadata": {},
   "outputs": [
    {
     "name": "stdout",
     "output_type": "stream",
     "text": [
      "Python is great and Java also\n"
     ]
    }
   ],
   "source": [
    "# Python | Remove all duplicates words from a given sentence\n",
    "\n",
    "string = 'Python is great and Java is also great'\n",
    "  \n",
    "print(' '.join(dict.fromkeys(string.split())))\n"
   ]
  },
  {
   "cell_type": "code",
   "execution_count": 223,
   "id": "9ac9de98",
   "metadata": {},
   "outputs": [],
   "source": [
    "# Python Dictionary to find mirror characters in a string Counting the frequencies in a list using\n",
    "# dictionary in Python"
   ]
  },
  {
   "cell_type": "code",
   "execution_count": 5,
   "id": "f081fa3f",
   "metadata": {
    "scrolled": false
   },
   "outputs": [
    {
     "name": "stdout",
     "output_type": "stream",
     "text": [
      "{'Key 1': 1, 'Key 2': 2, 'Key 3': 3, 'Key 4': 4, 'Key 5': 5}\n",
      "{'Key 1': 1, 'Key 2': 2, 'Key 3': 3, 'Key 4': 4, 'Key 5': 5}\n"
     ]
    }
   ],
   "source": [
    "# Python | Convert a list of Tuples into Dictionary\n",
    "\n",
    "x = [('Key 1', 1), ('Key 2', 2), ('Key 3', 3), ('Key 4', 4), ('Key 5', 5)]\n",
    "print(dict(x))\n",
    "\n",
    "#----------------------------------------------------------------------------------\n",
    "\n",
    "def converdi(x):\n",
    "    di=dict(x)\n",
    "    return di\n",
    "    \n",
    "x = [('Key 1', 1), ('Key 2', 2), ('Key 3', 3), ('Key 4', 4), ('Key 5', 5)] \n",
    "a=converdi(x)\n",
    "print(a)"
   ]
  },
  {
   "cell_type": "code",
   "execution_count": 254,
   "id": "dfce5581",
   "metadata": {},
   "outputs": [],
   "source": [
    "# Python counter and dictionary intersection example (Make a string using deletion and rearrangement)\n"
   ]
  },
  {
   "cell_type": "code",
   "execution_count": 255,
   "id": "91cb75bd",
   "metadata": {},
   "outputs": [],
   "source": [
    "# Python dictionary, set and counter to check if frequencies can become same Scraping And\n",
    "# Finding Ordered Words In A Dictionary using Python Possible Words using given characters in Python"
   ]
  },
  {
   "cell_type": "code",
   "execution_count": 6,
   "id": "72d63334",
   "metadata": {},
   "outputs": [
    {
     "name": "stdout",
     "output_type": "stream",
     "text": [
      "[1, 2, 4, 6]\n",
      "[4, 6, 7, 8]\n"
     ]
    }
   ],
   "source": [
    "# Remove the items that are duplicated in two lists\n",
    "list_1 = [1, 2, 1, 4, 6]\n",
    "list_2 = [7, 8, 2, 1]\n",
    "print(list(set(list_1)))\n",
    "print(list(set(list_1) ^ set(list_2)))"
   ]
  },
  {
   "cell_type": "code",
   "execution_count": 11,
   "id": "fb780660",
   "metadata": {},
   "outputs": [
    {
     "name": "stdout",
     "output_type": "stream",
     "text": [
      "iad loma\n"
     ]
    }
   ],
   "source": [
    "# Reverse the string\n",
    "\n",
    "x='amol dai'\n",
    "str=''\n",
    "for i in x:\n",
    "    str=i+str\n",
    "print(str)\n",
    "\n",
    "\n",
    "#----------------------\n",
    "#Reverse the list element\n",
    "\n",
    "\n",
    "x = [1, 2, 3, 4, 5]\n",
    "l=[]\n",
    "for i in x:\n",
    "    l.insert(0,i)\n",
    "print(l)"
   ]
  },
  {
   "cell_type": "code",
   "execution_count": 13,
   "id": "675777be",
   "metadata": {},
   "outputs": [
    {
     "name": "stdout",
     "output_type": "stream",
     "text": [
      "[1, 4, 27, 256, 3125]\n"
     ]
    }
   ],
   "source": [
    "# sqr of list element\n",
    "\n",
    "x=[1,2,3,4,5]\n",
    "s=list(map(lambda i:i**i,x))\n",
    "print(s)"
   ]
  },
  {
   "cell_type": "code",
   "execution_count": 29,
   "id": "efc09a8e",
   "metadata": {},
   "outputs": [
    {
     "name": "stdout",
     "output_type": "stream",
     "text": [
      "55\n"
     ]
    }
   ],
   "source": [
    "# add all list of element\n",
    "\n",
    "from functools import reduce\n",
    "\n",
    "def add(x,y):\n",
    "    return x + y\n",
    "list1=[1,2,3,4,5,6,7,8,9,10]\n",
    "print(reduce(add,list1))"
   ]
  },
  {
   "cell_type": "code",
   "execution_count": 21,
   "id": "0d438f61",
   "metadata": {},
   "outputs": [
    {
     "name": "stdout",
     "output_type": "stream",
     "text": [
      "{1: 'a', 2: 'b', 3: 'c', 4: 'd'}\n",
      "{'a': 1, 'b': 2}\n"
     ]
    }
   ],
   "source": [
    "# convert 2 list in dict form\n",
    "\n",
    "x=[1,2,3,4,5]\n",
    "y=[\"a\",\"b\",\"c\",\"d\"]\n",
    "\n",
    "z={k:v for (k,v) in zip(x,y)}\n",
    "print(z)\n",
    "\n",
    "#-----------------------------\n",
    "\n",
    "my_list = [('a', 1), ('b', 2)]\n",
    "a=dict(my_list)\n",
    "print(a)"
   ]
  },
  {
   "cell_type": "code",
   "execution_count": 8,
   "id": "7ae6ceee",
   "metadata": {},
   "outputs": [
    {
     "name": "stdout",
     "output_type": "stream",
     "text": [
      "dict_keys([1, 2])\n",
      "dict_values(['a', 's'])\n",
      "<class 'dict_keys'>\n"
     ]
    }
   ],
   "source": [
    "# access the key and values\n",
    "\n",
    "x={1:\"a\",2:\"s\"}\n",
    "print(x.keys())\n",
    "print(x.values())\n",
    "print(type(x.keys()))\n"
   ]
  },
  {
   "cell_type": "code",
   "execution_count": 9,
   "id": "2186a6d3",
   "metadata": {},
   "outputs": [
    {
     "name": "stdout",
     "output_type": "stream",
     "text": [
      "[1, 2, 3, 4, 5]\n"
     ]
    }
   ],
   "source": [
    "# remove duplicate from list\n",
    "\n",
    "x=[1,2,3,4,4,5]\n",
    "x=set(x)\n",
    "x=list(x)\n",
    "print(x)"
   ]
  },
  {
   "cell_type": "code",
   "execution_count": 45,
   "id": "04919d89",
   "metadata": {},
   "outputs": [
    {
     "name": "stdout",
     "output_type": "stream",
     "text": [
      "[1, 2, 3, 4, 5, 6, 7, 8, 9]\n",
      "duplicate value :  2\n",
      "duplicate value :  5\n",
      "duplicate value :  9\n"
     ]
    }
   ],
   "source": [
    "#print the count of each element\n",
    "\n",
    "from collections import Counter\n",
    "\n",
    "l1 = [1, 2, 2, 3, 4, 5, 2, 5, 6, 7, 8, 9, 9]\n",
    "d = Counter(l1)\n",
    "print(d)\n",
    "\n",
    "new_list = list([i for i in d if d[i] > 1])\n",
    "print(new_list)\n",
    "\n",
    "#-----------------------------------------------\n",
    "\n",
    "l1 = [1, 2, 2, 3, 4, 5, 2, 5, 6, 7, 8, 9, 9]\n",
    "l2=(set(l1))\n",
    "print(list(l2))\n",
    "\n",
    "for i in l2:\n",
    "    c=0\n",
    "    for j in l1:\n",
    "        if i==j:\n",
    "            c+=1\n",
    "    if c>1:\n",
    "        print(\"duplicate value : \",i)\n",
    "    \n",
    "    \n"
   ]
  },
  {
   "cell_type": "code",
   "execution_count": 17,
   "id": "17efed11",
   "metadata": {},
   "outputs": [
    {
     "name": "stdout",
     "output_type": "stream",
     "text": [
      "[10, 20, 30, 40, 50, 60, 70, 80, 90]\n"
     ]
    }
   ],
   "source": [
    "# Flattening a multi-dimensional list\n",
    "\n",
    "\n",
    "my_list = [[10,20,30],[40,50,60],[70,80,90]]\n",
    "flattened = [x for i in my_list for x in i]\n",
    "print(flattened)"
   ]
  },
  {
   "cell_type": "code",
   "execution_count": 20,
   "id": "de6f2f52",
   "metadata": {},
   "outputs": [
    {
     "name": "stdout",
     "output_type": "stream",
     "text": [
      "[8, 10, 12]\n",
      "[(1, 7), (1, 8), (1, 9), (2, 7), (2, 8), (2, 9), (3, 7), (3, 8), (3, 9)]\n"
     ]
    }
   ],
   "source": [
    "# Combining multiple lists into one\n",
    " \n",
    "\n",
    "a = [1, 2, 3]\n",
    "b = [7, 8, 9]\n",
    "y= [(x + y) for (x,y) in zip(a,b)]  # parallel iterators\n",
    "print(y)\n",
    "\n",
    "z=[(x,y) for x in a for y in b]    # nested iterators\n",
    "print(z)"
   ]
  },
  {
   "cell_type": "code",
   "execution_count": 1,
   "id": "b66f36cd",
   "metadata": {},
   "outputs": [
    {
     "name": "stdout",
     "output_type": "stream",
     "text": [
      "Multiplication table of: 1\n",
      "1 2 3 4 5 6 7 8 9 10 \n",
      "\n",
      "Multiplication table of: 2\n",
      "2 4 6 8 10 12 14 16 18 20 \n",
      "\n",
      "Multiplication table of: 3\n",
      "3 6 9 12 15 18 21 24 27 30 \n",
      "\n",
      "Multiplication table of: 4\n",
      "4 8 12 16 20 24 28 32 36 40 \n",
      "\n",
      "Multiplication table of: 5\n",
      "5 10 15 20 25 30 35 40 45 50 \n",
      "\n"
     ]
    }
   ],
   "source": [
    "# Print Multiplication table of a first 5 numbers\n",
    "\n",
    "for i in range(1, 6):\n",
    "    print('Multiplication table of:', i)\n",
    "    count = 1\n",
    "    # inner loop to print multiplication table of current number\n",
    "    while count <=10:\n",
    "        print(i * count, end=' ')\n",
    "        count = count + 1\n",
    "    print('\\n')    "
   ]
  },
  {
   "cell_type": "code",
   "execution_count": 2,
   "id": "875db747",
   "metadata": {},
   "outputs": [
    {
     "name": "stdout",
     "output_type": "stream",
     "text": [
      "Index: 0   Value: 1\n",
      "Index: 1   Value: 2\n",
      "Index: 2   Value: 4\n",
      "Index: 3   Value: 6\n",
      "Index: 4   Value: 8\n"
     ]
    }
   ],
   "source": [
    "# Printing the elements of the list with its index number using the range() function:-\n",
    "\n",
    "numbers = [1, 2, 4, 6, 8]\n",
    "size = len(numbers)\n",
    "for i in range(size):\n",
    "    print('Index:', i, \" \", 'Value:', numbers[i])"
   ]
  },
  {
   "cell_type": "code",
   "execution_count": 3,
   "id": "c0e3cf83",
   "metadata": {},
   "outputs": [
    {
     "name": "stdout",
     "output_type": "stream",
     "text": [
      "Total iteration required 3\n"
     ]
    }
   ],
   "source": [
    "# Example 1: Check how many times a given number can be divided by 3 before it is less than or equal to 10.\n",
    "x=0\n",
    "number=180\n",
    "while number > 10:\n",
    "    number=number/3\n",
    "    x=x+1\n",
    "print(\"Total iteration required\",x)    \n"
   ]
  },
  {
   "cell_type": "code",
   "execution_count": 4,
   "id": "544c3cf3",
   "metadata": {},
   "outputs": [
    {
     "name": "stdout",
     "output_type": "stream",
     "text": [
      "enter number12\n",
      "12 is even number\n",
      "11 is odd number\n",
      "10 is even number\n",
      "9 is odd number\n",
      "8 is even number\n",
      "7 is odd number\n",
      "6 is even number\n",
      "5 is odd number\n",
      "4 is even number\n",
      "3 is odd number\n",
      "2 is even number\n",
      "10 9 8 7 6 5 4 3 2 1 0 "
     ]
    }
   ],
   "source": [
    "# Example 3: Print even and odd numbers between 1 to the entered number.    \n",
    "n=int(input(\"enter number\"))\n",
    "while n>1:\n",
    "    if n%2==0:\n",
    "        print(n,\"is even number\")\n",
    "    else:\n",
    "        print(n,\"is odd number\")\n",
    "    n=n-1\n",
    "    \n"
   ]
  },
  {
   "cell_type": "code",
   "execution_count": 5,
   "id": "ac22c2a0",
   "metadata": {},
   "outputs": [
    {
     "name": "stdout",
     "output_type": "stream",
     "text": [
      "10 9 8 7 6 5 4 3 2 1 0 "
     ]
    }
   ],
   "source": [
    "# Reverse while loop:-A\n",
    "\n",
    "i = 10\n",
    "while i >= 0:\n",
    "    print(i, end=' ')\n",
    "    i = i - 1"
   ]
  },
  {
   "cell_type": "code",
   "execution_count": null,
   "id": "67e4a767",
   "metadata": {},
   "outputs": [],
   "source": []
  }
 ],
 "metadata": {
  "kernelspec": {
   "display_name": "Python 3 (ipykernel)",
   "language": "python",
   "name": "python3"
  },
  "language_info": {
   "codemirror_mode": {
    "name": "ipython",
    "version": 3
   },
   "file_extension": ".py",
   "mimetype": "text/x-python",
   "name": "python",
   "nbconvert_exporter": "python",
   "pygments_lexer": "ipython3",
   "version": "3.10.4"
  }
 },
 "nbformat": 4,
 "nbformat_minor": 5
}
