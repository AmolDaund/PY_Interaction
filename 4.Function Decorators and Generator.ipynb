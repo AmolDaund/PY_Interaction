{
 "cells": [
  {
   "cell_type": "code",
   "execution_count": 33,
   "id": "3e5af565",
   "metadata": {},
   "outputs": [
    {
     "name": "stdout",
     "output_type": "stream",
     "text": [
      "Hi Soma how are you?\n",
      "Hello Amol Good morning\n"
     ]
    }
   ],
   "source": [
    "# Function Decorators:\n",
    "\n",
    "# Decorator is a function which can take a function as argument and extend its functionality\n",
    "# and returns modified function with extended functionality.\n",
    "\n",
    "# The main objective of decorator func is we can extend the functionality of existing func without modifies that funct.  \n",
    "\n",
    "\n",
    "# def wish(name):\n",
    "#     print(\"Hello\",name,\"Good Morning\") # This function can always print same output for any name\n",
    "# wish(\"Amol\")\n",
    "# wish('Daund')\n",
    "\n",
    "# But we want to modify this function to provide different message if name is Sunny.\n",
    "# We can do this without touching wish() function by using decorator.\n",
    "\n",
    "def decorator(wishOfParameter):\n",
    "    def inner(parameter):\n",
    "        if parameter=='Soma':\n",
    "            print('Hi',parameter,'how are you?')\n",
    "        else:\n",
    "            wishOfParameter(parameter)\n",
    "    return inner\n",
    "\n",
    "@decorator\n",
    "def wish(parameter):\n",
    "    print(\"Hello\", parameter, 'Good morning')\n",
    "    \n",
    "\n",
    "wish(\"Soma\")\n",
    "wish(\"Amol\")\n",
    "\n",
    "    # In the above program whenever we call wish() function automatically decor function will be executed."
   ]
  },
  {
   "cell_type": "code",
   "execution_count": 2,
   "id": "ee5d14dd",
   "metadata": {},
   "outputs": [
    {
     "name": "stdout",
     "output_type": "stream",
     "text": [
      "Hello Soma Good morning\n",
      "Hello Amol Good morning\n"
     ]
    }
   ],
   "source": [
    "# How to call same function with decorator and without decorator:  We should not use @decor\n",
    " \n",
    "def decorator(wishOfParameter):\n",
    "    def inner(parameter):\n",
    "        if parameter=='Soma':\n",
    "            print('Hi',parameter,'how are you?')\n",
    "        else:\n",
    "            wishOfParameter(parameter)\n",
    "    return inner\n",
    "\n",
    "\n",
    "def wish(parameter):\n",
    "    print(\"Hello\", parameter, 'Good morning')\n",
    "x=decorator(wish)    \n",
    "\n",
    "wish(\"Soma\")\n",
    "wish(\"Amol\")"
   ]
  },
  {
   "cell_type": "code",
   "execution_count": null,
   "id": "7e14372a",
   "metadata": {},
   "outputs": [],
   "source": [
    "def smart_division(func):\n",
    "    def inner(a,b):\n",
    "        print(\"We are dividing\",a,\"with\",b)\n",
    "        if b==0:\n",
    "            print(\"OOPS...cannot divide\")\n",
    "            return\n",
    "        else:\n",
    "            return func(a,b)\n",
    "    return inner\n",
    "\n",
    "@smart_division\n",
    "def division(a,b):\n",
    "    return a/b\n",
    "\n",
    "print(division(20,2))\n",
    "print(division(20,0))\n"
   ]
  },
  {
   "cell_type": "code",
   "execution_count": 7,
   "id": "be477793",
   "metadata": {},
   "outputs": [
    {
     "name": "stdout",
     "output_type": "stream",
     "text": [
      "200\n"
     ]
    }
   ],
   "source": [
    "#  Decorator Chaining: -We can define multiple decorators for the same function and all these decorators will\n",
    "                       # form Decorator Chaining.\n",
    "    \n",
    "#     Eg:\n",
    "#     @decor1\n",
    "#     @decor\n",
    "#     def num():\n",
    "\n",
    "\n",
    "# For num() function we are applying 2 decorator functions. First inner decorator will work and then outer decorator.  \n",
    "\n",
    "\n",
    "def decor1(func):\n",
    "    def inner():\n",
    "        x=func()\n",
    "        return x*x\n",
    "    return inner\n",
    "\n",
    "def decor2(func):\n",
    "    def inner():\n",
    "        x=func()\n",
    "        return 2*x\n",
    "    return inner\n",
    "\n",
    "\n",
    "@decor2\n",
    "@decor1\n",
    "def num():\n",
    "    return 10\n",
    "print(num())"
   ]
  },
  {
   "cell_type": "code",
   "execution_count": 9,
   "id": "b6b25ec0",
   "metadata": {},
   "outputs": [
    {
     "name": "stdout",
     "output_type": "stream",
     "text": [
      "First Decor(decor) Function Execution\n",
      "Second Decor(decor1) Execution\n",
      "Hello Durga Good Morning\n"
     ]
    }
   ],
   "source": [
    "def decor1(func):\n",
    "    def inner(name):\n",
    "        print(\"First Decor(decor) Function Execution\")\n",
    "        func(name)\n",
    "    return inner\n",
    "\n",
    "def decor2(func):\n",
    "    def inner(name):\n",
    "        print(\"Second Decor(decor1) Execution\")\n",
    "        func(name)\n",
    "    return inner\n",
    "\n",
    "@decor1\n",
    "@decor2\n",
    "def wish(name):\n",
    "    print(\"Hello\",name,\"Good Morning\")\n",
    "\n",
    "wish(\"Durga\")"
   ]
  },
  {
   "cell_type": "code",
   "execution_count": 8,
   "id": "925e1840",
   "metadata": {},
   "outputs": [
    {
     "name": "stdout",
     "output_type": "stream",
     "text": [
      "<class 'generator'>\n",
      "A\n",
      "B\n",
      "C\n"
     ]
    }
   ],
   "source": [
    "# Generators:-Generator is a function which is responsible to generate a sequence of values.\n",
    "\n",
    "# We can write generator functions just like ordinary functions, but it uses yield keyword to return values.\n",
    "\n",
    "def mygen():\n",
    "    yield 'A'\n",
    "    yield 'B'\n",
    "    yield 'C'\n",
    "\n",
    "g=mygen()\n",
    "print(type(g))\n",
    "print(next(g))\n",
    "print(next(g))\n",
    "print(next(g))\n",
    "# print(next(g))\n"
   ]
  },
  {
   "cell_type": "code",
   "execution_count": 11,
   "id": "2268a791",
   "metadata": {},
   "outputs": [
    {
     "name": "stdout",
     "output_type": "stream",
     "text": [
      "Start Countdown\n",
      "5\n",
      "4\n",
      "3\n",
      "2\n",
      "1\n"
     ]
    }
   ],
   "source": [
    "def countdown(num):\n",
    "    print(\"Start Countdown\")\n",
    "    while(num>0):\n",
    "        yield num\n",
    "        num=num-1\n",
    "\n",
    "values=countdown(5)\n",
    "for x in values:\n",
    "    print(x)"
   ]
  },
  {
   "cell_type": "code",
   "execution_count": 29,
   "id": "d454b2b6",
   "metadata": {},
   "outputs": [
    {
     "name": "stdout",
     "output_type": "stream",
     "text": [
      "[1, 2, 3, 4, 5]\n"
     ]
    }
   ],
   "source": [
    "# Eg 3: To generate first n numbers:\n",
    "\n",
    "def firstn(num):\n",
    "    n=1\n",
    "    while n<=num:\n",
    "        yield n\n",
    "        n=n+1\n",
    "        \n",
    "values=firstn(5)    \n",
    "l1=list(values)\n",
    "print(l1)    "
   ]
  },
  {
   "cell_type": "code",
   "execution_count": 35,
   "id": "fafb41d7",
   "metadata": {},
   "outputs": [
    {
     "name": "stdout",
     "output_type": "stream",
     "text": [
      "0\n",
      "1\n",
      "1\n",
      "2\n",
      "3\n",
      "5\n",
      "8\n"
     ]
    }
   ],
   "source": [
    "# Eg 4: To generate Fibonacci Numbers:- The next is the sum of previous 2 numbers\n",
    "\n",
    "def fib():\n",
    "    a,b=0,1\n",
    "    while True:\n",
    "        yield a\n",
    "        a,b=b,a+b\n",
    "        \n",
    "        \n",
    "for f in fib():\n",
    "    if f>10:\n",
    "        break\n",
    "    print(f)\n",
    "    \n",
    "    \n",
    "# Advantages of Generator Functions:\n",
    "# 1. when compared with class level iterators, generators are very easy to use\n",
    "# 2. Improves memory utilization and performance.\n",
    "# 3. Generators are best suitable for reading data from large number of large files\n",
    "# 4. Generators work great for web scraping and crawling.    "
   ]
  },
  {
   "cell_type": "code",
   "execution_count": 11,
   "id": "8e2c3361",
   "metadata": {},
   "outputs": [
    {
     "name": "stdout",
     "output_type": "stream",
     "text": [
      "0\n",
      "2\n",
      "4\n",
      "6\n",
      "8\n"
     ]
    }
   ],
   "source": [
    "# Python Generators:-\n",
    "# What is Python Generator?\n",
    "# Python Generators are the functions that return the traversal object and used to create iterators. \n",
    "           # It traverses the entire items at once.\n",
    "    \n",
    "# It is similar to the normal function defined by the def keyword and uses a yield keyword instead of return.  \n",
    "\n",
    "def simple():  \n",
    "    for i in range(10):  \n",
    "        if(i%2==0):  \n",
    "            yield i  \n",
    "    \n",
    "for i in simple():  \n",
    "    print(i)  "
   ]
  },
  {
   "cell_type": "code",
   "execution_count": 14,
   "id": "926cef88",
   "metadata": {},
   "outputs": [
    {
     "name": "stdout",
     "output_type": "stream",
     "text": [
      "First String\n",
      "Second string\n",
      "Third String\n"
     ]
    }
   ],
   "source": [
    "# yield vs. return :- \n",
    "\n",
    "    # The yield statement is responsible for controlling the flow of the generator function.\n",
    "    # The return statement returns a value and terminates the whole function and \n",
    "    #     only one return statement can be used in the function.\n",
    "    \n",
    "def multiple_yield():  \n",
    "    str1 = \"First String\"  \n",
    "    yield str1  \n",
    "  \n",
    "    str2 = \"Second string\"  \n",
    "    yield str2  \n",
    "  \n",
    "    str3 = \"Third String\"  \n",
    "    yield str3  \n",
    "obj = multiple_yield()  \n",
    "print(next(obj))  \n",
    "print(next(obj))  \n",
    "print(next(obj))  "
   ]
  },
  {
   "cell_type": "code",
   "execution_count": 16,
   "id": "ee04883a",
   "metadata": {},
   "outputs": [
    {
     "name": "stdout",
     "output_type": "stream",
     "text": [
      "<generator object <genexpr> at 0x00000237E29EA960>\n",
      "[1, 8, 27, 64, 125, 216, 343]\n",
      "1\n",
      "8\n",
      "27\n",
      "64\n"
     ]
    }
   ],
   "source": [
    "# Difference between Generator function and Normal function:-\n",
    "\n",
    "# Normal function contains only one return statement whereas generator function can contain one or more yield statement.\n",
    "\n",
    "# When the generator functions are called, the normal function is paused immediately and control transferred to the caller.\n",
    "\n",
    "\n",
    "\n",
    "# Generator Expression:-\n",
    "\n",
    "# The representation of generator expression is similar to the Python list comprehension. \n",
    "  # The only difference is that square bracket is replaced by round parentheses. \n",
    "    # The list comprehension calculates the entire list, whereas the generator expression calculates one item at a time.\n",
    "    \n",
    "list = [1,2,3,4,5,6,7]  \n",
    "  \n",
    "# List Comprehension  \n",
    "z = [x**3 for x in list]  \n",
    "  \n",
    "# Generator expression  \n",
    "a = (x**3 for x in list)  \n",
    "  \n",
    "print(a)  \n",
    "print(z)      \n",
    "\n",
    "        # Instead of applying a for loop, we can also call next() on the generator object.\n",
    "    \n",
    "list = [1,2,3,4,5,6]  \n",
    "  \n",
    "z = (x**3 for x in list)  \n",
    "  \n",
    "print(next(z))  \n",
    "  \n",
    "print(next(z))  \n",
    "  \n",
    "print(next(z))  \n",
    "  \n",
    "print(next(z))      "
   ]
  },
  {
   "cell_type": "code",
   "execution_count": null,
   "id": "46e809d9",
   "metadata": {},
   "outputs": [],
   "source": [
    "# Example: Write a program to print the table of the given number using the generator:-\n",
    "\n",
    "def table(n):  \n",
    "    for i in range(1,11):  \n",
    "        yield n*i  \n",
    "        i = i+1  \n",
    "            \n",
    "for i in table(15):  \n",
    "    print(i)  "
   ]
  },
  {
   "cell_type": "code",
   "execution_count": null,
   "id": "f8c92309",
   "metadata": {},
   "outputs": [],
   "source": [
    "# Advantages of Generators:-\n",
    "\n",
    "# 1. Easy to implement\n",
    "# 2. Memory efficient:- Generators are memory efficient for a large number of sequences.\n",
    "# 3. Generate Infinite Sequence\n",
    "\n"
   ]
  },
  {
   "cell_type": "code",
   "execution_count": null,
   "id": "e4403db2",
   "metadata": {},
   "outputs": [],
   "source": []
  }
 ],
 "metadata": {
  "kernelspec": {
   "display_name": "Python 3 (ipykernel)",
   "language": "python",
   "name": "python3"
  },
  "language_info": {
   "codemirror_mode": {
    "name": "ipython",
    "version": 3
   },
   "file_extension": ".py",
   "mimetype": "text/x-python",
   "name": "python",
   "nbconvert_exporter": "python",
   "pygments_lexer": "ipython3",
   "version": "3.10.4"
  }
 },
 "nbformat": 4,
 "nbformat_minor": 5
}
