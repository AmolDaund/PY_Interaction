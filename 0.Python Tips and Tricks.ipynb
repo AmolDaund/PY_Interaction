{
 "cells": [
  {
   "cell_type": "code",
   "execution_count": 1,
   "id": "84da9d1a",
   "metadata": {},
   "outputs": [
    {
     "name": "stdout",
     "output_type": "stream",
     "text": [
      "Total time required to execute code is=  0.0\n"
     ]
    }
   ],
   "source": [
    "# Tip and Trick 1: How to measure the time elapsed to execute your code in Python:-\n",
    " \n",
    "import time\n",
    "startTime = time.time()\n",
    "\n",
    "endTime = time.time()\n",
    "\n",
    "totalTime = endTime - startTime\n",
    "\n",
    "print(\"Total time required to execute code is= \", totalTime)    "
   ]
  },
  {
   "cell_type": "code",
   "execution_count": 6,
   "id": "1de41675",
   "metadata": {},
   "outputs": [
    {
     "name": "stdout",
     "output_type": "stream",
     "text": [
      "['Smith', 'Emma']\n"
     ]
    }
   ],
   "source": [
    "# Tip and Trick 2: Get the difference between the two Lists:-\n",
    "\n",
    "list1 = ['Scott', 'Eric', 'Kelly', 'Emma', 'Smith']\n",
    "list2 = ['Scott', 'Eric', 'Kelly']\n",
    "\n",
    "set1 = set(list1)\n",
    "set2 = set(list2)\n",
    "\n",
    "list3 = list(set1.symmetric_difference(set2))\n",
    "print(list3)"
   ]
  },
  {
   "cell_type": "code",
   "execution_count": 11,
   "id": "b0601713",
   "metadata": {},
   "outputs": [
    {
     "name": "stdout",
     "output_type": "stream",
     "text": [
      "size of list =  120\n",
      "size of name =  61\n"
     ]
    }
   ],
   "source": [
    "# Tip and Trick 3: Calculate memory is being used by an object in Python:-\n",
    "\n",
    "import sys\n",
    "\n",
    "list1 = ['Scott', 'Eric', 'Kelly', 'Emma', 'Smith']\n",
    "print(\"size of list = \",sys.getsizeof(list1))\n",
    "\n",
    "name = 'pynative.com'\n",
    "print(\"size of name = \",sys.getsizeof(name))"
   ]
  },
  {
   "cell_type": "code",
   "execution_count": 17,
   "id": "e4995835",
   "metadata": {},
   "outputs": [
    {
     "name": "stdout",
     "output_type": "stream",
     "text": [
      "All element are duplicate in listOne True\n",
      "All element are duplicate in listOne False\n"
     ]
    }
   ],
   "source": [
    "# Tip and Trick 5: Find if all elements in a list are identical:-\n",
    "\n",
    "A = [20, 20, 20, 20]\n",
    "print(\"All element are duplicate in listOne\", A.count(A[0]) == len(A))\n",
    "\n",
    "\n",
    "A = [20, 20, 20, 40]\n",
    "print(\"All element are duplicate in listOne\", A.count(A[0]) == len(A))"
   ]
  },
  {
   "cell_type": "code",
   "execution_count": 20,
   "id": "77cca140",
   "metadata": {},
   "outputs": [
    {
     "name": "stdout",
     "output_type": "stream",
     "text": [
      "is two list are b equal True\n"
     ]
    }
   ],
   "source": [
    "# Tip and Trick 6: How to efficiently compare two unordered lists:-\n",
    "\n",
    "from collections import Counter\n",
    "\n",
    "one = [33, 22, 11, 44, 55]\n",
    "two = [22, 11, 44, 55, 33]\n",
    "\n",
    "print(\"is two list are b equal\", Counter(one) == Counter(two))"
   ]
  },
  {
   "cell_type": "code",
   "execution_count": 34,
   "id": "10c51f53",
   "metadata": {
    "scrolled": true
   },
   "outputs": [
    {
     "name": "stdout",
     "output_type": "stream",
     "text": [
      "Using enumerate\n",
      "Index [ 0 ] Value 123\n",
      "Index [ 1 ] Value 345\n",
      "Index [ 2 ] Value 456\n",
      "Index [ 3 ] Value 23\n"
     ]
    }
   ],
   "source": [
    "# Tip and Trick 8: Use enumerate:-\n",
    "\n",
    "listOne = [123, 345, 456, 23]\n",
    "print(\"Using enumerate\")\n",
    "for index, element in enumerate(listOne): \n",
    "    print(\"Index [\", index,\"] Value\", element)"
   ]
  },
  {
   "cell_type": "code",
   "execution_count": 37,
   "id": "fbc0bdd0",
   "metadata": {},
   "outputs": [
    {
     "name": "stdout",
     "output_type": "stream",
     "text": [
      "{1: 'Scott', 2: 'Eric', 3: 'Kelly', 4: 'Emma'}\n"
     ]
    }
   ],
   "source": [
    "# Tip and Trick 9: Merge two dictionaries in a single expression:-\n",
    "\n",
    "currentEmployee = {1: 'Scott', 2: \"Eric\", 3:\"Kelly\"}\n",
    "formerEmployee  = {2: 'Eric', 4: \"Emma\"}\n",
    "\n",
    "allEmployee = {**currentEmployee, **formerEmployee}\n",
    "print(allEmployee)"
   ]
  },
  {
   "cell_type": "code",
   "execution_count": 45,
   "id": "10d21963",
   "metadata": {},
   "outputs": [
    {
     "name": "stdout",
     "output_type": "stream",
     "text": [
      "{'Hard Disk': 54, 'Laptop': 65, 'RAM': 76}\n"
     ]
    }
   ],
   "source": [
    "# Tip and Trick 10: Convert two lists into a dictionary:- \n",
    "\n",
    "x= [54, 65, 76]\n",
    "y = [\"Hard Disk\", \"Laptop\", \"RAM\"]\n",
    "\n",
    "itemDictionary = dict(zip(y,x))\n",
    "\n",
    "print(itemDictionary)"
   ]
  },
  {
   "cell_type": "code",
   "execution_count": 57,
   "id": "a9bba1c2",
   "metadata": {},
   "outputs": [
    {
     "name": "stdout",
     "output_type": "stream",
     "text": [
      "Hext to int 4059\n",
      "String to int 34\n"
     ]
    }
   ],
   "source": [
    "# Tip and Trick 11: Convert hex string, String to int:-\n",
    "\n",
    "hexNumber = \"0xfdb\"\n",
    "stringNumber=\"34\"\n",
    "\n",
    "print(\"Hext to int\", int(hexNumber,0))\n",
    "print(\"String to int\", int(stringNumber))"
   ]
  },
  {
   "cell_type": "code",
   "execution_count": 66,
   "id": "0f80e276",
   "metadata": {},
   "outputs": [
    {
     "name": "stdout",
     "output_type": "stream",
     "text": [
      "88.23\n"
     ]
    }
   ],
   "source": [
    "# Tip and Trick 12: Format a decimal to always show 2 decimal places:-\n",
    "\n",
    "number= 88.2345\n",
    "print('{:.2f}'.format(number))\n"
   ]
  },
  {
   "cell_type": "code",
   "execution_count": 84,
   "id": "790f877a",
   "metadata": {},
   "outputs": [
    {
     "name": "stdout",
     "output_type": "stream",
     "text": [
      "mul:- 200 Div:- 0.5 Divisi 2\n"
     ]
    }
   ],
   "source": [
    "# Tip and Trick 13: Return multiple values from a function:-\n",
    "\n",
    "def multiplication_Division(num1,num2):\n",
    "    return num1*num2, num1/num2, num2//num1\n",
    "\n",
    "x,y,z=multiplication_Division(10,20)\n",
    "print(\"mul:-\",x, \"Div:-\", y,\"Divisi\",z)"
   ]
  },
  {
   "cell_type": "code",
   "execution_count": null,
   "id": "ba70d702",
   "metadata": {},
   "outputs": [],
   "source": [
    "# Tip and Trick 14: The efficient way to check if a value exists in a NumPy array:-\n",
    "\n",
    "import numpy\n",
    "\n",
    "arraySample = numpy.array([[1, 2], [3, 4], [4, 6], [7, 8]])\n",
    "\n",
    "if i in arraySample[:, col_num]:\n",
    "    print(i)"
   ]
  },
  {
   "cell_type": "code",
   "execution_count": 11,
   "id": "0a883d7f",
   "metadata": {},
   "outputs": [
    {
     "name": "stdout",
     "output_type": "stream",
     "text": [
      "[122, 64, 34, 25, 23, 22, 12, 11, 3, 2, 1, -44]\n"
     ]
    }
   ],
   "source": [
    "# # Tip and Trick 14:  order a list of numbers without built-in sort, min, max function\n",
    "\n",
    "number = [64, 25, 12, 22, 11, 1,2,-44,3,122, 23, 34] \n",
    " \n",
    "for i in range(len(number)): \n",
    "    for j in range(i + 1, len(number)): \n",
    " \n",
    "        if number[i] < number[j]: \n",
    "           number[i], number[j] = number[j], number[i] \n",
    "print (number)"
   ]
  },
  {
   "cell_type": "code",
   "execution_count": 15,
   "id": "a60d8038",
   "metadata": {},
   "outputs": [
    {
     "name": "stdout",
     "output_type": "stream",
     "text": [
      "1654925812.3437731\n"
     ]
    }
   ],
   "source": [
    "# Python Date and time:- In Python, the date is not a data type, but we can work with the date objects by \n",
    "                        # importing the module named with datetime, time, and calendar.\n",
    "    \n",
    "    # The datetime classes are classified in the six main classes:- date,time,datetime,timedelta,tzinfo,timezone\n",
    "    \n",
    "import time;  #prints the number of ticks spent since 12 AM, 1st January 1970  \n",
    "print(time.time())"
   ]
  },
  {
   "cell_type": "code",
   "execution_count": 16,
   "id": "ff3ecdbc",
   "metadata": {},
   "outputs": [
    {
     "name": "stdout",
     "output_type": "stream",
     "text": [
      "time.struct_time(tm_year=2022, tm_mon=6, tm_mday=11, tm_hour=11, tm_min=7, tm_sec=50, tm_wday=5, tm_yday=162, tm_isdst=0)\n"
     ]
    }
   ],
   "source": [
    "# How to get the current time?\n",
    "\n",
    "import time;    \n",
    "    \n",
    "#returns a time tuple     \n",
    "    \n",
    "print(time.localtime(time.time()))  "
   ]
  },
  {
   "cell_type": "code",
   "execution_count": 17,
   "id": "5462c0f1",
   "metadata": {},
   "outputs": [
    {
     "name": "stdout",
     "output_type": "stream",
     "text": [
      "Sat Jun 11 11:09:14 2022\n"
     ]
    }
   ],
   "source": [
    "# Getting formatted time:-\n",
    "\n",
    "import time    \n",
    "  #returns the formatted time      \n",
    "\n",
    "print(time.asctime(time.localtime(time.time())))  "
   ]
  },
  {
   "cell_type": "code",
   "execution_count": 19,
   "id": "a621196d",
   "metadata": {},
   "outputs": [
    {
     "name": "stdout",
     "output_type": "stream",
     "text": [
      "0\n",
      "1\n",
      "2\n",
      "3\n",
      "4\n"
     ]
    }
   ],
   "source": [
    "# Python sleep time \n",
    "                # The sleep() method of time module is used to stop the execution of the script for a given amount of time.\n",
    "                # The output will be delayed for the number of  seconds provided as the float.\n",
    "        \n",
    "import time  \n",
    "for i in range(0,5):  \n",
    "    print(i)  \n",
    "    #Each element will be printed after 1 second  \n",
    "    time.sleep(3)          \n",
    "        "
   ]
  },
  {
   "cell_type": "code",
   "execution_count": 20,
   "id": "1e874836",
   "metadata": {},
   "outputs": [
    {
     "name": "stdout",
     "output_type": "stream",
     "text": [
      "2022-06-11 11:17:33.001340\n"
     ]
    }
   ],
   "source": [
    "# The datetime Module:-\n",
    "\n",
    "import datetime  \n",
    "#returns the current datetime object     \n",
    "print(datetime.datetime.now())   "
   ]
  },
  {
   "cell_type": "code",
   "execution_count": 3,
   "id": "cda98296",
   "metadata": {},
   "outputs": [
    {
     "name": "stdout",
     "output_type": "stream",
     "text": [
      "2020-04-04 00:00:00\n",
      "2020-04-04 01:26:40\n"
     ]
    }
   ],
   "source": [
    "# Creating date objects:- We can create the date objects bypassing the desired date in the datetime constructor for which \n",
    "                         # the date objects are to be created.\n",
    "\n",
    "import datetime    \n",
    "#returns the datetime object for the specified date    \n",
    "print(datetime.datetime(2020,4,4))\n",
    "\n",
    "import datetime  \n",
    "    \n",
    "#returns the datetime object for the specified time      \n",
    "    \n",
    "print(datetime.datetime(2020,4,4,1,26,40))   "
   ]
  },
  {
   "cell_type": "code",
   "execution_count": 7,
   "id": "b9966c73",
   "metadata": {},
   "outputs": [
    {
     "name": "stdout",
     "output_type": "stream",
     "text": [
      "fun hours\n"
     ]
    }
   ],
   "source": [
    "# Comparison of two dates:- We can compare two dates by using the comparison operators like >, >=, <, and <=.\n",
    "\n",
    "from datetime import datetime as dt    \n",
    "#Compares the time. If the time is in between 8AM and 4PM, then it prints working hours otherwise it prints fun hours    \n",
    "if dt(dt.now().year, dt.now().month, dt.now().day, 8) < dt.now() < dt(dt.now().year,dt.now().month,dt.now().day, 16):    \n",
    "    print(\"Working hours....\")    \n",
    "else:    \n",
    "    print(\"fun hours\") "
   ]
  },
  {
   "cell_type": "code",
   "execution_count": 16,
   "id": "f60ae577",
   "metadata": {},
   "outputs": [
    {
     "name": "stdout",
     "output_type": "stream",
     "text": [
      "     March 2018\n",
      "Mo Tu We Th Fr Sa Su\n",
      "          1  2  3  4\n",
      " 5  6  7  8  9 10 11\n",
      "12 13 14 15 16 17 18\n",
      "19 20 21 22 23 24 25\n",
      "26 27 28 29 30 31\n",
      "\n"
     ]
    }
   ],
   "source": [
    "# The calendar module :- Python provides a calendar object that contains various methods to work with the calendars.\n",
    "  # Consider the following example to print the calendar for the last month of 2018.\n",
    "    \n",
    "import calendar;    \n",
    "cal = calendar.month(2018,3)    \n",
    "#printing the calendar of December 2018    \n",
    "print(cal)    "
   ]
  },
  {
   "cell_type": "code",
   "execution_count": 18,
   "id": "49ee5afc",
   "metadata": {},
   "outputs": [
    {
     "name": "stdout",
     "output_type": "stream",
     "text": [
      "                                  2020\n",
      "\n",
      "      January                   February                   March\n",
      "Mo Tu We Th Fr Sa Su      Mo Tu We Th Fr Sa Su      Mo Tu We Th Fr Sa Su\n",
      "       1  2  3  4  5                      1  2                         1\n",
      " 6  7  8  9 10 11 12       3  4  5  6  7  8  9       2  3  4  5  6  7  8\n",
      "13 14 15 16 17 18 19      10 11 12 13 14 15 16       9 10 11 12 13 14 15\n",
      "20 21 22 23 24 25 26      17 18 19 20 21 22 23      16 17 18 19 20 21 22\n",
      "27 28 29 30 31            24 25 26 27 28 29         23 24 25 26 27 28 29\n",
      "                                                    30 31\n",
      "\n",
      "       April                      May                       June\n",
      "Mo Tu We Th Fr Sa Su      Mo Tu We Th Fr Sa Su      Mo Tu We Th Fr Sa Su\n",
      "       1  2  3  4  5                   1  2  3       1  2  3  4  5  6  7\n",
      " 6  7  8  9 10 11 12       4  5  6  7  8  9 10       8  9 10 11 12 13 14\n",
      "13 14 15 16 17 18 19      11 12 13 14 15 16 17      15 16 17 18 19 20 21\n",
      "20 21 22 23 24 25 26      18 19 20 21 22 23 24      22 23 24 25 26 27 28\n",
      "27 28 29 30               25 26 27 28 29 30 31      29 30\n",
      "\n",
      "        July                     August                  September\n",
      "Mo Tu We Th Fr Sa Su      Mo Tu We Th Fr Sa Su      Mo Tu We Th Fr Sa Su\n",
      "       1  2  3  4  5                      1  2          1  2  3  4  5  6\n",
      " 6  7  8  9 10 11 12       3  4  5  6  7  8  9       7  8  9 10 11 12 13\n",
      "13 14 15 16 17 18 19      10 11 12 13 14 15 16      14 15 16 17 18 19 20\n",
      "20 21 22 23 24 25 26      17 18 19 20 21 22 23      21 22 23 24 25 26 27\n",
      "27 28 29 30 31            24 25 26 27 28 29 30      28 29 30\n",
      "                          31\n",
      "\n",
      "      October                   November                  December\n",
      "Mo Tu We Th Fr Sa Su      Mo Tu We Th Fr Sa Su      Mo Tu We Th Fr Sa Su\n",
      "          1  2  3  4                         1          1  2  3  4  5  6\n",
      " 5  6  7  8  9 10 11       2  3  4  5  6  7  8       7  8  9 10 11 12 13\n",
      "12 13 14 15 16 17 18       9 10 11 12 13 14 15      14 15 16 17 18 19 20\n",
      "19 20 21 22 23 24 25      16 17 18 19 20 21 22      21 22 23 24 25 26 27\n",
      "26 27 28 29 30 31         23 24 25 26 27 28 29      28 29 30 31\n",
      "                          30\n"
     ]
    }
   ],
   "source": [
    "# Printing the calendar of whole year:- prcal() method of calendar module is used to print the calendar of the entire year.\n",
    "\n",
    "import calendar    \n",
    "#printing the calendar of the year 2020   \n",
    "s = calendar.prcal(2020)  \n"
   ]
  },
  {
   "cell_type": "code",
   "execution_count": 2,
   "id": "9e029b65",
   "metadata": {},
   "outputs": [
    {
     "name": "stdout",
     "output_type": "stream",
     "text": [
      "yM emaN si asseJ\n"
     ]
    }
   ],
   "source": [
    "# Exercise 1: Reverse each word of a string\n",
    "\n",
    "# Exercise to reverse each word  of a string\n",
    "def reverse_words(Sentence):\n",
    "    # Split string on whitespace\n",
    "    words = Sentence.split(\" \")\n",
    "\n",
    "    # iterate list and reverse each word using ::-1\n",
    "    new_word_list = [word[::-1] for word in words]\n",
    "    \n",
    "    # Joining the new list of words\n",
    "    res_str = \" \".join(new_word_list)\n",
    "    return res_str\n",
    "\n",
    "# Given String\n",
    "str1 = \"My Name is Jessa\"\n",
    "print(reverse_words(str1))"
   ]
  },
  {
   "cell_type": "code",
   "execution_count": 4,
   "id": "8347ec9e",
   "metadata": {},
   "outputs": [],
   "source": [
    "# Exercise 2: Read text file into a variable and replace all newlines with space:-\n",
    "\n",
    "# Given: Assume you have a following text file (sample.txt).\n",
    "\n",
    "# Line1\n",
    "# line2\n",
    "# line3\n",
    "# line4\n",
    "# line5\n",
    "\n",
    "with open('sample.txt', 'r') as file:\n",
    "    data = file.read().replace('\\n', ' ')\n",
    "    print(data)"
   ]
  },
  {
   "cell_type": "code",
   "execution_count": 5,
   "id": "9c012a51",
   "metadata": {},
   "outputs": [
    {
     "name": "stdout",
     "output_type": "stream",
     "text": [
      "[10, 20, 30, 40, 50]\n"
     ]
    }
   ],
   "source": [
    "# Exercise 3: Remove items from a list while iterating\n",
    "\n",
    "# Solution 1: Using while loop:-\n",
    "\n",
    "number_list = [10, 20, 30, 40, 50, 60, 70, 80, 90, 100]\n",
    "i = 0\n",
    "# get list's size\n",
    "n = len(number_list)\n",
    "# iterate list till i is smaller than n\n",
    "while i < n:\n",
    "    # check if number is greater than 50\n",
    "    if number_list[i] > 50:\n",
    "        # delete current index from list\n",
    "        del number_list[i]\n",
    "        # reduce the list size\n",
    "        n = n - 1\n",
    "    else:\n",
    "        # move to next item\n",
    "        i = i + 1\n",
    "print(number_list)\n",
    "\n",
    "\n",
    "# Solution 2: Using for loop and range()\n",
    "\n",
    "number_list = [10, 20, 30, 40, 50, 60, 70, 80, 90, 100]\n",
    "for i in range(len(number_list) - 1, -1, -1):\n",
    "    if number_list[i] > 50:\n",
    "        del number_list[i]\n",
    "print(number_list)"
   ]
  },
  {
   "cell_type": "code",
   "execution_count": 6,
   "id": "50ed7d94",
   "metadata": {},
   "outputs": [
    {
     "name": "stdout",
     "output_type": "stream",
     "text": [
      "{65: 'A', 66: 'B', 67: 'C', 68: 'D'}\n"
     ]
    }
   ],
   "source": [
    "# Exercise 4: Reverse Dictionary mapping\n",
    "\n",
    "ascii_dict = {'A': 65, 'B': 66, 'C': 67, 'D': 68}\n",
    "# Reverse mapping\n",
    "new_dict = {value: key for key, value in ascii_dict.items()}\n",
    "print(new_dict)"
   ]
  },
  {
   "cell_type": "code",
   "execution_count": 9,
   "id": "272a1b89",
   "metadata": {},
   "outputs": [
    {
     "name": "stdout",
     "output_type": "stream",
     "text": [
      "[20, 60, 30]\n",
      "[20, 30, 60]\n"
     ]
    }
   ],
   "source": [
    "# Exercise 5: Display all duplicate items from a list:-\n",
    "\n",
    "# # Solution 1: -\n",
    "\n",
    "import collections\n",
    "\n",
    "sample_list = [10, 20, 60, 30, 20, 40, 30, 60, 70, 80]\n",
    "\n",
    "duplicates = []\n",
    "for item, count in collections.Counter(sample_list).items():\n",
    "    if count > 1:\n",
    "        duplicates.append(item)\n",
    "print(duplicates)\n",
    "\n",
    "\n",
    "# Solution 2: -\n",
    "\n",
    "sample_list = [10, 20, 60, 30, 20, 40, 30, 60, 70, 80]\n",
    "exist = {}\n",
    "duplicates = []\n",
    "\n",
    "for x in sample_list:\n",
    "    if x not in exist:\n",
    "        exist[x] = 1\n",
    "    else:\n",
    "        duplicates.append(x)\n",
    "print(duplicates)"
   ]
  },
  {
   "cell_type": "code",
   "execution_count": 10,
   "id": "fc37f631",
   "metadata": {},
   "outputs": [
    {
     "name": "stdout",
     "output_type": "stream",
     "text": [
      "{'A': 65, 'C': 67, 'F': 70}\n"
     ]
    }
   ],
   "source": [
    "# Exercise 6: Filter dictionary to contain keys present in the given list\n",
    "\n",
    "# Dictionary\n",
    "d1 = {'A': 65, 'B': 66, 'C': 67, 'D': 68, 'E': 69, 'F': 70}\n",
    "\n",
    "# Filter dict using following keys\n",
    "l1 = ['A', 'C', 'F']\n",
    "\n",
    "# Dictionary\n",
    "d1 = {'A': 65, 'B': 66, 'C': 67, 'D': 68, 'E': 69, 'F': 70}\n",
    "# Filter dict using following keys\n",
    "l1 = ['A', 'C', 'F']\n",
    "new_dict = {key: d1[key] for key in l1}\n",
    "print(new_dict)"
   ]
  },
  {
   "cell_type": "code",
   "execution_count": null,
   "id": "45b2864a",
   "metadata": {},
   "outputs": [],
   "source": [
    "# Exercise 8: Create an inner function\n",
    "\n",
    "# Question description: -\n",
    "\n",
    "# Create an outer function that will accept two strings, x and y. (x= 'Emma' and y = 'Kelly'.\n",
    "# Create an inner function inside an outer function that will concatenate x and y.\n",
    "# At last, an outer function will join the word 'developer' to it.\n",
    "\n",
    "\n",
    "def manipulate(x, y):\n",
    "    # concatenate two strings\n",
    "    def inner_fun(x, y):\n",
    "        return x + y\n",
    "\n",
    "    z = inner_fun(x, y)\n",
    "    return z + 'Developers'\n",
    "\n",
    "result = manipulate('Emma', 'Kelly')\n",
    "print(result)"
   ]
  },
  {
   "cell_type": "code",
   "execution_count": 14,
   "id": "46100bc1",
   "metadata": {},
   "outputs": [
    {
     "name": "stdout",
     "output_type": "stream",
     "text": [
      "[10, 15, [20, 25, [30, 400], 40], 45]\n"
     ]
    }
   ],
   "source": [
    "# Exercise 9: Modify the element of a nested list inside the following list\n",
    "# Change the element 35 to 400\n",
    "\n",
    "list1 = [5, [10, 15, [20, 25, [30, 35], 40], 45], 50]\n",
    "# modify item\n",
    "list1[1][2][2][1] = 400\n",
    "# print final result\n",
    "print(list1[1])\n",
    "\n",
    "# print(list1[1]) = [10, 15, [20, 25, [30, 400], 40], 45]\n",
    "# print(list1[1][2]) = [20, 25, [30, 400], 40]\n",
    "# print(list1[1][2][2]) = [30, 40]\n",
    "# print(list1[1][2][2][1]) = 40"
   ]
  },
  {
   "cell_type": "code",
   "execution_count": null,
   "id": "ebb49eca",
   "metadata": {},
   "outputs": [],
   "source": []
  }
 ],
 "metadata": {
  "kernelspec": {
   "display_name": "Python 3 (ipykernel)",
   "language": "python",
   "name": "python3"
  },
  "language_info": {
   "codemirror_mode": {
    "name": "ipython",
    "version": 3
   },
   "file_extension": ".py",
   "mimetype": "text/x-python",
   "name": "python",
   "nbconvert_exporter": "python",
   "pygments_lexer": "ipython3",
   "version": "3.10.5"
  }
 },
 "nbformat": 4,
 "nbformat_minor": 5
}
