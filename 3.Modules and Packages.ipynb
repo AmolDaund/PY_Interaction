{
 "cells": [
  {
   "cell_type": "code",
   "execution_count": 7,
   "id": "4b9d11a4",
   "metadata": {},
   "outputs": [
    {
     "name": "stdout",
     "output_type": "stream",
     "text": [
      "2.23606797749979\n"
     ]
    }
   ],
   "source": [
    "# How to import modules?\n",
    "# In Python, the import statement is used to import the whole module. \n",
    "    # Also, we can import specific classes and functions from a module.\n",
    "    \n",
    " # To import modules in Python, we use the Python 'import' keyword. \n",
    "   # With the help of the import keyword, both the built-in and user-defined modules are imported.\n",
    "    \n",
    "# import math\n",
    "\n",
    "# use math module functions\n",
    "print(math.sqrt(5))    "
   ]
  },
  {
   "cell_type": "code",
   "execution_count": null,
   "id": "263b4d20",
   "metadata": {},
   "outputs": [],
   "source": [
    "# Various possibilties of import:\n",
    "# import modulename\n",
    "# import module1,module2,module3\n",
    "# import module1 as m\n",
    "# import module1 as m1,module2 as m2,module3\n",
    "# from module import member\n",
    "# from module import member1,member2,memebr3\n",
    "# from module import memeber1 as x\n",
    "# from module import *"
   ]
  },
  {
   "cell_type": "code",
   "execution_count": 14,
   "id": "fad2fae6",
   "metadata": {},
   "outputs": [
    {
     "name": "stdout",
     "output_type": "stream",
     "text": [
      "120\n",
      "13\n",
      "Addition of all list elements is :  54\n"
     ]
    }
   ],
   "source": [
    "# Import multiple modules:- \n",
    "\n",
    "import math, random\n",
    "\n",
    "print(math.factorial(5))\n",
    "print(random.randrange(10, 20))\n",
    "\n",
    "\n"
   ]
  },
  {
   "cell_type": "code",
   "execution_count": 17,
   "id": "cc3dabee",
   "metadata": {},
   "outputs": [
    {
     "name": "stdout",
     "output_type": "stream",
     "text": [
      "2.0\n",
      "Addition of all list elements is :  128\n"
     ]
    }
   ],
   "source": [
    "# Import only specific classes or functions from a module\n",
    "                # To import particular classes or functions, we can use the form...import statement.\n",
    "                # By using this form, we can import individual attributes and methods directly into the program.\n",
    "        \n",
    "# Syntax of from...import  statement:  from <module_name> import <name(s)> \n",
    "\n",
    "# import only factorial function from math module\n",
    "from math import sqrt\n",
    "\n",
    "print(sqrt(4))\n",
    "\n",
    "\n",
    "from functools import reduce\n",
    "list1 = [20, 13, 4, 82, 9]\n",
    "add = reduce(lambda x, y: x+y, list1)\n",
    "print(\"Addition of all list elements is : \", add)\n"
   ]
  },
  {
   "cell_type": "code",
   "execution_count": 23,
   "id": "bd7686ac",
   "metadata": {},
   "outputs": [
    {
     "name": "stdout",
     "output_type": "stream",
     "text": [
      "18\n"
     ]
    }
   ],
   "source": [
    "# Import with renaming a module:-\n",
    "\n",
    "  # if we want to use the module with a different name, we can use from..import…as statement.\n",
    "    \n",
    "# from <module_name> import <name> as <alternative_name>\n",
    "\n",
    "import random as rand\n",
    "\n",
    "print(rand.randrange(12,23))"
   ]
  },
  {
   "cell_type": "code",
   "execution_count": 25,
   "id": "073728e8",
   "metadata": {},
   "outputs": [
    {
     "name": "stdout",
     "output_type": "stream",
     "text": [
      "16.0\n",
      "3.141592653589793\n"
     ]
    }
   ],
   "source": [
    "# Import all names\n",
    "    # If we need to import all functions and attributes of a specific module, \n",
    "      # then instead of writing all function names and attribute names, we can import all using an asterisk *.\n",
    "        \n",
    "from math import*\n",
    "print(pow(4,2))\n",
    "print(pi)"
   ]
  },
  {
   "cell_type": "code",
   "execution_count": 28,
   "id": "e6c75bcc",
   "metadata": {},
   "outputs": [
    {
     "name": "stdout",
     "output_type": "stream",
     "text": [
      "Accessing 1st city: Delhi\n",
      "Accessing All cities : ['Mumbai', 'Delhi', 'Bangalore', 'Karnataka', 'Hyderabad']\n"
     ]
    }
   ],
   "source": [
    "# Create Module:-\n",
    "\n",
    "\n",
    "#  In Python, to create a module, write Python code in the file, and save that file with the.py extension. \n",
    "   #  Here our module is created\n",
    "    \n",
    "# Variables in Module\n",
    "    \n",
    "#  In Python, the module contains Python code like classes, functions, methods, but it also has variables. \n",
    "    #   A variable can list, tuple, dict, etc.\n",
    "\n",
    "# Let’s see this with an example:\n",
    "\n",
    "# First, create a Python module with the name test_module.py and write the below code in that file.\n",
    "\n",
    "# Example\n",
    "\n",
    "# cities_list = ['Mumbai', 'Delhi', 'Bangalore', 'Karnataka', 'Hyderabad']\n",
    "\n",
    "# Now, create a Python file with the name test_file.py, write the below code and import the above module test_module.py \n",
    "    # in that file. See the following code.\n",
    "    \n",
    "import test_module\n",
    "\n",
    "# access first city\n",
    "city = test_module.cities_list[1]\n",
    "print(\"Accessing 1st city:\", city)\n",
    "\n",
    "# Get all cities\n",
    "cities = test_module.cities_list\n",
    "print(\"Accessing All cities :\", cities)\n"
   ]
  },
  {
   "cell_type": "code",
   "execution_count": 30,
   "id": "1dacbafb",
   "metadata": {},
   "outputs": [],
   "source": [
    "# Reloading a module\n",
    "        # In Python, when we import a module in our program using the import statement, the module is loaded. \n",
    "        # By default, the module loaded only once, even if we import it multiple times.\n",
    "        \n",
    "# Now, create a Python file with the name, test_file.py and write the below code in it and  \n",
    "           # import the module test_module.py. See the following code.\n",
    "\n",
    "# import time\n",
    "# from importlib import reload\n",
    "\n",
    "# # load 1st time\n",
    "# import test_module\n",
    "# time.sleep(20)\n",
    "# # reload \n",
    "# reload(test_module)\n",
    "# time.sleep(20) \n",
    "\n",
    "#  # reload again  \n",
    "# reload(test_module)\n",
    "# print(\"This is test file..\")        "
   ]
  },
  {
   "cell_type": "code",
   "execution_count": 31,
   "id": "82ee29f3",
   "metadata": {},
   "outputs": [
    {
     "name": "stdout",
     "output_type": "stream",
     "text": [
      "['__doc__', '__loader__', '__name__', '__package__', '__spec__', 'acos', 'acosh', 'asin', 'asinh', 'atan', 'atan2', 'atanh', 'ceil', 'comb', 'copysign', 'cos', 'cosh', 'degrees', 'dist', 'e', 'erf', 'erfc', 'exp', 'expm1', 'fabs', 'factorial', 'floor', 'fmod', 'frexp', 'fsum', 'gamma', 'gcd', 'hypot', 'inf', 'isclose', 'isfinite', 'isinf', 'isnan', 'isqrt', 'lcm', 'ldexp', 'lgamma', 'log', 'log10', 'log1p', 'log2', 'modf', 'nan', 'nextafter', 'perm', 'pi', 'pow', 'prod', 'radians', 'remainder', 'sin', 'sinh', 'sqrt', 'tan', 'tanh', 'tau', 'trunc', 'ulp']\n"
     ]
    }
   ],
   "source": [
    "# The dir() function:-\n",
    "\n",
    "# In Python, dir() is a built-in function. This function is used to list all members of the current module.\n",
    "\n",
    "import math\n",
    "\n",
    "print(dir(math))"
   ]
  },
  {
   "cell_type": "code",
   "execution_count": 1,
   "id": "5f3edae0",
   "metadata": {},
   "outputs": [
    {
     "name": "stdout",
     "output_type": "stream",
     "text": [
      "['GenericAlias', 'RLock', 'WRAPPER_ASSIGNMENTS', 'WRAPPER_UPDATES', '_CacheInfo', '_HashedSeq', '_NOT_FOUND', '__all__', '__builtins__', '__cached__', '__doc__', '__file__', '__loader__', '__name__', '__package__', '__spec__', '_c3_merge', '_c3_mro', '_compose_mro', '_convert', '_find_impl', '_ge_from_gt', '_ge_from_le', '_ge_from_lt', '_gt_from_ge', '_gt_from_le', '_gt_from_lt', '_initial_missing', '_le_from_ge', '_le_from_gt', '_le_from_lt', '_lru_cache_wrapper', '_lt_from_ge', '_lt_from_gt', '_lt_from_le', '_make_key', '_unwrap_partial', 'cache', 'cached_property', 'cmp_to_key', 'get_cache_token', 'lru_cache', 'namedtuple', 'partial', 'partialmethod', 'recursive_repr', 'reduce', 'singledispatch', 'singledispatchmethod', 'total_ordering', 'update_wrapper', 'wraps']\n"
     ]
    }
   ],
   "source": [
    "import functools\n",
    "\n",
    "print(dir(functools))"
   ]
  },
  {
   "cell_type": "code",
   "execution_count": 5,
   "id": "1a567d1f",
   "metadata": {
    "scrolled": true
   },
   "outputs": [
    {
     "name": "stdout",
     "output_type": "stream",
     "text": [
      "['False', 'None', 'True', 'and', 'as', 'assert', 'async', 'await', 'break', 'class', 'continue', 'def', 'del', 'elif', 'else', 'except', 'finally', 'for', 'from', 'global', 'if', 'import', 'in', 'is', 'lambda', 'nonlocal', 'not', 'or', 'pass', 'raise', 'return', 'try', 'while', 'with', 'yield']\n"
     ]
    }
   ],
   "source": [
    "import keyword\n",
    "\n",
    "print(keyword.kwlist)"
   ]
  },
  {
   "cell_type": "code",
   "execution_count": 11,
   "id": "05deb101",
   "metadata": {},
   "outputs": [
    {
     "name": "stdout",
     "output_type": "stream",
     "text": [
      "0.15267329209108293\n",
      "0.391044290597929\n",
      "10\n",
      "14\n",
      "2.8077323657607787\n",
      "7.4282289462372315\n",
      "4.1822971789040535\n",
      "1\n",
      "2\n",
      "3\n",
      "2\n",
      "4\n",
      "5\n",
      "9\n",
      "8\n",
      "1\n",
      "9\n",
      "3\n",
      "9\n"
     ]
    }
   ],
   "source": [
    "# Working with random module: This module defines several functions to generate random numbers.Use for OTP\n",
    "\n",
    "# 1. random() function:  0<x<1\n",
    "\n",
    "from random import *\n",
    "for i in range(2):\n",
    "    print(random())\n",
    "    \n",
    "# 2. randint() function: To generate random integer beween two given numbers(inclusive)\n",
    "\n",
    "from random import *\n",
    "for i in range(2):\n",
    "    print(randint(1,20))\n",
    "    \n",
    "    \n",
    "# 3. uniform(): It returns random float values between 2 given numbers(not inclusive) \n",
    "\n",
    "from random import *\n",
    "for i in range(3):\n",
    "    print(uniform(1,10))\n",
    "    \n",
    "# random() ===>in between 0 and 1 (not inclusive)\n",
    "# randint(x,y) ==>in between x and y ( inclusive)\n",
    "# uniform(x,y) ==> in between x and y ( not inclusive)    \n",
    "\n",
    "   "
   ]
  },
  {
   "cell_type": "code",
   "execution_count": 13,
   "id": "490c7574",
   "metadata": {},
   "outputs": [
    {
     "name": "stdout",
     "output_type": "stream",
     "text": [
      "2\n",
      "9\n",
      "3\n",
      "7\n",
      "5\n",
      "5\n",
      "2\n",
      "4\n",
      "7\n",
      "6\n",
      "3\n",
      "9\n",
      "Vinny\n",
      "pinny\n",
      "Vinny\n"
     ]
    }
   ],
   "source": [
    "#  4. randrange([start],stop,[step]):-\n",
    "\n",
    "# returns a random number from range\n",
    "# start<= x < stop\n",
    "# start argument is optional and default value is 0\n",
    "# step argument is optional and default value is 1\n",
    "# randrange(10)-->generates a number from 0 to 9\n",
    "# randrange(1,11)-->generates a number from 1 to 10\n",
    "# randrange(1,11,2)-->generates a number from 1,3,5,7,9\n",
    "\n",
    "from random import *\n",
    "for i in range(4):\n",
    "    print(randrange(10))\n",
    "    print(randrange(1,11))\n",
    "    print(randrange(1,11,2))\n",
    "    \n",
    "    \n",
    "# 5. choice() function: It wont return random number.\n",
    "        # It will return a random object from the given list or tuple.\n",
    "    \n",
    "from random import *\n",
    "list=[\"Sunny\",\"Bunny\",\"Chinny\",\"Vinny\",\"pinny\"]\n",
    "for i in range(3):\n",
    "    print(choice(list))   "
   ]
  },
  {
   "cell_type": "code",
   "execution_count": null,
   "id": "3b69ca90",
   "metadata": {},
   "outputs": [],
   "source": [
    "# package is nothing but folder or directory which represents collection of Python modules.\n",
    "    # Any folder or directory contains __init__.py file,is considered as a Python package.This file can be empty.\n",
    "    # A package can contains sub packages also.\n",
    "    \n",
    "# Library=Group of Packages  \n",
    "# Package=Group of modules\n",
    "# module= Group of Functions\n",
    "\n",
    "# The main advantages of package statement are:- \n",
    "\n",
    "# 1. We can resolve naming conflicts\n",
    "# 2. We can identify our components uniquely\n",
    "# 3. It improves modularity of the application"
   ]
  }
 ],
 "metadata": {
  "kernelspec": {
   "display_name": "Python 3 (ipykernel)",
   "language": "python",
   "name": "python3"
  },
  "language_info": {
   "codemirror_mode": {
    "name": "ipython",
    "version": 3
   },
   "file_extension": ".py",
   "mimetype": "text/x-python",
   "name": "python",
   "nbconvert_exporter": "python",
   "pygments_lexer": "ipython3",
   "version": "3.10.4"
  }
 },
 "nbformat": 4,
 "nbformat_minor": 5
}
