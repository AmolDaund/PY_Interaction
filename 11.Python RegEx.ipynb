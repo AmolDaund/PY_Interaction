{
 "cells": [
  {
   "cell_type": "code",
   "execution_count": null,
   "id": "539a9ac3",
   "metadata": {},
   "outputs": [],
   "source": [
    "# The Regex or Regular Expression is a way to define a pattern for searching or manipulating strings. \n",
    "   # We can use a regular expression to match, search, replace, and manipulate inside textual data.\n",
    "\n",
    "# Also, you can write a regex pattern to validate a password with some predefined constraints, \n",
    "  # such as the password must contain at least one special character, digit, and one upper case letter.\n",
    "    \n",
    "# RegEx Module:- Python has a built-in package called re\n",
    "\n",
    "# For example, Below are some of the cases where regular expressions can help you to save a lot of time.\n",
    "\n",
    "# Searching and replacing text in files\n",
    "# Validating text input, such as password and email address\n",
    "# Rename a hundred files at a time. For example, You can change the extension of all files using a regex pattern"
   ]
  },
  {
   "cell_type": "code",
   "execution_count": 2,
   "id": "310c5d24",
   "metadata": {},
   "outputs": [
    {
     "name": "stdout",
     "output_type": "stream",
     "text": [
      "['2', '5']\n"
     ]
    }
   ],
   "source": [
    "# Example 1: Write a regular expression to search digit inside a string\n",
    "\n",
    "# import RE module\n",
    "import re\n",
    "\n",
    "target_str = \"My roll number is 25\"\n",
    "res = re.findall(r\"\\d\", target_str)   #  \\d  is a special sequence that matches any digit between 0 to 9.\n",
    "                                      # Note: I have used a raw string to define a pattern like this r\"\\d\"\n",
    "# extract mathing value\n",
    "print(res) \n",
    "# Output [2, 5]"
   ]
  },
  {
   "cell_type": "code",
   "execution_count": null,
   "id": "6e7a2795",
   "metadata": {},
   "outputs": [],
   "source": [
    "# RegEx Functions:-\n",
    "\n",
    "# Function\tDescription\n",
    "\n",
    "# findall\tReturns a list containing all matches\n",
    "# search\tReturns a Match object if there is a match anywhere in the string\n",
    "# split \tReturns a list where the string has been split at each match\n",
    "# sub\tReplaces one or many matches with a string"
   ]
  },
  {
   "cell_type": "code",
   "execution_count": 5,
   "id": "34cdb244",
   "metadata": {},
   "outputs": [
    {
     "name": "stdout",
     "output_type": "stream",
     "text": [
      "['h', 'e', 'a', 'i', 'i', 'a', 'i']\n",
      "['5', '9']\n"
     ]
    }
   ],
   "source": [
    "# Metacharacters:- Metacharacters are characters with a special meaning:\n",
    "\n",
    "# Character\tDescription\tExample\tTry it\n",
    "\n",
    "# []\tA set of characters\t\"[a-m]\"\n",
    "import re\n",
    "\n",
    "txt = \"The rain in Spain\"\n",
    "\n",
    "#Find all lower case characters alphabetically between \"a\" and \"m\":\n",
    "\n",
    "x = re.findall(\"[a-m]\", txt)\n",
    "print(x)\n",
    "# ------------------------------------------------------------------------------------------------\n",
    "\n",
    "# \\\tSignals a special sequence (can also be used to escape special characters)\t\"\\d\"\n",
    "import re\n",
    "\n",
    "txt = \"That will be 59 dollars\"\n",
    "\n",
    "#Find all digit characters:\n",
    "\n",
    "x = re.findall(\"\\d\", txt)\n",
    "print(x)\n",
    "\n",
    "# ------------------------------------------------------------------------------------------------\n",
    "\n",
    "# .\tAny character (except newline character)\t\"he..o\"\tTry it »\n",
    "\n",
    "# ------------------------------------------------------------------------------------------------\n",
    "\n",
    "# ^\tStarts with\t\"^hello\"\tTry it »\n",
    "\n",
    "# ------------------------------------------------------------------------------------------------\n",
    "\n",
    "# $\tEnds with\t\"planet$\"\tTry it »\n",
    "\n",
    "# ------------------------------------------------------------------------------------------------\n",
    "\n",
    "# *\tZero or more occurrences\t\"he.*o\"\tTry it »\n",
    "\n",
    "# ------------------------------------------------------------------------------------------------\n",
    "\n",
    "# +\tOne or more occurrences\t\"he.+o\"\tTry it »\n",
    "\n",
    "# ------------------------------------------------------------------------------------------------\n",
    "\n",
    "# ?\tZero or one occurrences\t\"he.?o\"\tTry it »\n",
    "\n",
    "# ------------------------------------------------------------------------------------------------\n",
    "\n",
    "# {}\tExactly the specified number of occurrences\t\"he.{2}o\"\tTry it »\n",
    "\n",
    "# ------------------------------------------------------------------------------------------------\n",
    "\n",
    "# |\tEither or\t\"falls|stays\"\tTry it »\n",
    "\n",
    "# ------------------------------------------------------------------------------------------------\n",
    "\n",
    "# ()\tCapture and group"
   ]
  },
  {
   "cell_type": "code",
   "execution_count": null,
   "id": "4ae74009",
   "metadata": {},
   "outputs": [],
   "source": []
  }
 ],
 "metadata": {
  "kernelspec": {
   "display_name": "Python 3 (ipykernel)",
   "language": "python",
   "name": "python3"
  },
  "language_info": {
   "codemirror_mode": {
    "name": "ipython",
    "version": 3
   },
   "file_extension": ".py",
   "mimetype": "text/x-python",
   "name": "python",
   "nbconvert_exporter": "python",
   "pygments_lexer": "ipython3",
   "version": "3.10.4"
  }
 },
 "nbformat": 4,
 "nbformat_minor": 5
}
